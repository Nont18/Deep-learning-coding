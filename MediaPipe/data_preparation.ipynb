{
 "cells": [
  {
   "cell_type": "markdown",
   "metadata": {},
   "source": [
    "### Video Sequences data preparation"
   ]
  },
  {
   "cell_type": "code",
   "execution_count": 158,
   "metadata": {},
   "outputs": [],
   "source": [
    "import os\n",
    "import torch\n",
    "from torch.utils.data import Dataset, DataLoader\n",
    "from PIL import Image\n",
    "from torchvision import transforms\n",
    "import re"
   ]
  },
  {
   "cell_type": "markdown",
   "metadata": {},
   "source": [
    "### Padded with lastet frame"
   ]
  },
  {
   "cell_type": "code",
   "execution_count": 159,
   "metadata": {},
   "outputs": [],
   "source": [
    "# class VideoSequenceDataset(Dataset):\n",
    "#     def __init__(self, root_dir, transform=None, sequence_length=160):\n",
    "#         self.root_dir = root_dir\n",
    "#         self.transform = transform\n",
    "#         self.sequence_length = sequence_length  # Set target sequence length\n",
    "#         self.classes = os.listdir(root_dir)\n",
    "#         self.data = self.load_sequences()\n",
    "\n",
    "#     def load_sequences(self):\n",
    "#         data = []\n",
    "#         for class_idx, class_folder in enumerate(self.classes):\n",
    "#             class_path = os.path.join(self.root_dir, class_folder)\n",
    "\n",
    "#             # List and sort frames numerically\n",
    "#             image_sequences = sorted(os.listdir(class_path), key=self.natural_sort_key)\n",
    "#             frames = [os.path.join(class_path, img) for img in image_sequences]\n",
    "\n",
    "#             data.append((frames, class_idx))\n",
    "#         return data\n",
    "\n",
    "#     def natural_sort_key(self, string):\n",
    "#         # Extract numbers from the filename to ensure numeric sorting\n",
    "#         return [int(text) if text.isdigit() else text for text in re.split(r'(\\d+)', string)]\n",
    "\n",
    "#     def __len__(self):\n",
    "#         return len(self.data)\n",
    "\n",
    "#     def __getitem__(self, idx):\n",
    "#         image_paths, label = self.data[idx]\n",
    "#         images = [Image.open(img_path).convert('RGB') for img_path in image_paths]\n",
    "\n",
    "#         # Pad the sequence to the target length (self.sequence_length)\n",
    "#         if len(images) < self.sequence_length:\n",
    "#             pad_size = self.sequence_length - len(images)\n",
    "#             # Repeat the last frame or pad with black frames\n",
    "#             last_image = images[-1]\n",
    "#             pad_images = [last_image] * pad_size\n",
    "#             images.extend(pad_images)\n",
    "#         elif len(images) > self.sequence_length:\n",
    "#             # Truncate the sequence if it exceeds the target length\n",
    "#             images = images[:self.sequence_length]\n",
    "\n",
    "#         if self.transform:\n",
    "#             images = [self.transform(img) for img in images]\n",
    "\n",
    "#         images = torch.stack(images, dim=0)  # Stack into a tensor\n",
    "\n",
    "#         return images, label"
   ]
  },
  {
   "cell_type": "markdown",
   "metadata": {},
   "source": [
    "### Padded with zeros"
   ]
  },
  {
   "cell_type": "code",
   "execution_count": 160,
   "metadata": {},
   "outputs": [],
   "source": [
    "class VideoSequenceDataset(Dataset):\n",
    "    def __init__(self, root_dir, transform, sequence_length=160):\n",
    "        self.root_dir = root_dir\n",
    "        self.transform = transform\n",
    "        self.sequence_length = sequence_length  # Set target sequence length\n",
    "        self.classes = os.listdir(root_dir)\n",
    "        self.data = self.load_sequences()\n",
    "\n",
    "    def load_sequences(self):\n",
    "        data = []\n",
    "        for class_idx, class_folder in enumerate(self.classes):\n",
    "            class_path = os.path.join(self.root_dir, class_folder)\n",
    "\n",
    "            # List and sort frames numerically\n",
    "            image_sequences = sorted(os.listdir(class_path), key=self.natural_sort_key)\n",
    "            frames = [os.path.join(class_path, img) for img in image_sequences]\n",
    "\n",
    "            data.append((frames, class_idx))\n",
    "        return data\n",
    "\n",
    "    def natural_sort_key(self, string):\n",
    "        # Extract numbers from the filename to ensure numeric sorting\n",
    "        return [int(text) if text.isdigit() else text for text in re.split(r'(\\d+)', string)]\n",
    "\n",
    "    def __len__(self):\n",
    "        return len(self.data)\n",
    "\n",
    "    def __getitem__(self, idx):\n",
    "        image_paths, label = self.data[idx]\n",
    "        images = [Image.open(img_path).convert('RGB') for img_path in image_paths]\n",
    "        # print(image_paths)\n",
    "        # print(images)\n",
    "        # print(labels)\n",
    "\n",
    "        # If there are fewer images than the sequence length, pad with zeros\n",
    "        if len(images) < self.sequence_length:\n",
    "            pad_size = self.sequence_length - len(images)\n",
    "            # Create a black (zero) image of the same size as the input (e.g., 224x224)\n",
    "            zero_image = Image.new('RGB', (224, 224), (0, 0, 0))  # Black image\n",
    "            pad_images = [zero_image] * pad_size\n",
    "            images.extend(pad_images)\n",
    "        elif len(images) > self.sequence_length:\n",
    "            # Truncate the sequence if it exceeds the target length\n",
    "            images = images[:self.sequence_length]\n",
    "\n",
    "        if self.transform:\n",
    "            images = [self.transform(img) for img in images]\n",
    "\n",
    "        images = torch.stack(images, dim=0)  # Stack into a tensor\n",
    "\n",
    "        return torch.tensor(images, dtype=torch.float32), label"
   ]
  },
  {
   "cell_type": "code",
   "execution_count": 161,
   "metadata": {},
   "outputs": [],
   "source": [
    "transform = transforms.Compose([\n",
    "    transforms.Resize((224, 224)),  # Resize to a fixed size\n",
    "    transforms.ToTensor(),  # Convert image to PyTorch tensor\n",
    "    transforms.Normalize(mean=[0.485, 0.456, 0.406], std=[0.229, 0.224, 0.225])  # Normalize using ImageNet stats\n",
    "])"
   ]
  },
  {
   "cell_type": "code",
   "execution_count": null,
   "metadata": {},
   "outputs": [],
   "source": [
    "# Set parameters\n",
    "test_dir = 'C:/Users/araya/Desktop/frame/train'\n",
    "sequence_length = 160  # Set how many frames per sequence\n",
    "\n",
    "# Initialize dataset and dataloader\n",
    "dataset = VideoSequenceDataset(root_dir=test_dir, transform=transform)\n",
    "dataloader = DataLoader(dataset, batch_size=4, shuffle=True)\n",
    "\n",
    "# Example of accessing the data\n",
    "for batch_idx, (frames, labels) in enumerate(dataloader):\n",
    "    print(f\"Batch {batch_idx+1}\")\n",
    "    print(\"Frames shape:\", frames.shape)  # Should be [batch_size, sequence_length, C, H, W]\n",
    "    print(\"Labels:\", labels)\n",
    "    break  # Process just the first batch"
   ]
  },
  {
   "cell_type": "code",
   "execution_count": null,
   "metadata": {},
   "outputs": [],
   "source": [
    "dataloader"
   ]
  },
  {
   "cell_type": "code",
   "execution_count": null,
   "metadata": {},
   "outputs": [],
   "source": [
    "dataset"
   ]
  },
  {
   "cell_type": "code",
   "execution_count": null,
   "metadata": {},
   "outputs": [],
   "source": [
    "len(dataloader.dataset[0][0])"
   ]
  },
  {
   "cell_type": "code",
   "execution_count": null,
   "metadata": {},
   "outputs": [],
   "source": [
    "dataloader.dataset[0][0][0]"
   ]
  },
  {
   "cell_type": "code",
   "execution_count": null,
   "metadata": {},
   "outputs": [],
   "source": [
    "import matplotlib.pyplot as plt \n",
    "\n",
    "plt.imshow(dataloader.dataset[0][0][141][0]) # [จำนวน class][][เฟรมที่][เปลี่ยนสี]"
   ]
  },
  {
   "cell_type": "code",
   "execution_count": null,
   "metadata": {},
   "outputs": [],
   "source": [
    "dataloader.dataset.classes"
   ]
  },
  {
   "cell_type": "code",
   "execution_count": null,
   "metadata": {},
   "outputs": [],
   "source": [
    "print(len(dataloader.dataset[0][0]))  \n",
    "print(len(dataloader.dataset[1][0]))  \n",
    "print(len(dataloader.dataset[2][0]))  \n",
    "print(len(dataloader.dataset[3][0]))  \n",
    "print(\"เราต้อง padded lenght ให้เท่ากัน ก่อนเข้า model\")"
   ]
  },
  {
   "cell_type": "code",
   "execution_count": null,
   "metadata": {},
   "outputs": [],
   "source": [
    "for batch_idx, (frames, labels) in enumerate(dataloader):\n",
    "    print(f\"Batch {batch_idx+1}\")\n",
    "    print(\"Frames shape:\", frames)  # Should be [batch_size, sequence_length, C, H, W]\n",
    "    print(\"Labels:\", labels)\n",
    "    break  # Process just the first batch"
   ]
  },
  {
   "cell_type": "markdown",
   "metadata": {},
   "source": [
    "### -------------------------------------------------------------------------------------------------------------------------\n",
    "### cuda or cpu ?"
   ]
  },
  {
   "cell_type": "code",
   "execution_count": null,
   "metadata": {},
   "outputs": [],
   "source": [
    "device = torch.device('cpu')\n",
    "device"
   ]
  },
  {
   "cell_type": "code",
   "execution_count": null,
   "metadata": {},
   "outputs": [],
   "source": [
    "len(dataloader.dataset[0][0])"
   ]
  },
  {
   "cell_type": "markdown",
   "metadata": {},
   "source": [
    "### Model"
   ]
  },
  {
   "cell_type": "code",
   "execution_count": 173,
   "metadata": {},
   "outputs": [],
   "source": [
    "import torch\n",
    "import torch.nn as nn \n",
    "import torch.nn.functional as F \n",
    "import torch.optim as optim \n",
    "import numpy as np \n",
    "from torchvision import models"
   ]
  },
  {
   "cell_type": "code",
   "execution_count": 174,
   "metadata": {},
   "outputs": [],
   "source": [
    "import torch\n",
    "import torch.nn as nn\n",
    "import torch.optim as optim\n",
    "from sklearn.metrics import f1_score\n",
    "\n",
    "class AttentionLayer(nn.Module):\n",
    "    def __init__(self, hidden_size):\n",
    "        super(AttentionLayer, self).__init__()\n",
    "        self.attention_weights = nn.Linear(hidden_size, 1, bias=False)\n",
    "\n",
    "    def forward(self, lstm_output):\n",
    "        # lstm_output: (batch_size, sequence_length, hidden_size)\n",
    "        attention_scores = self.attention_weights(lstm_output)  # (batch_size, sequence_length, 1)\n",
    "        attention_weights = torch.softmax(attention_scores, dim=1)  # (batch_size, sequence_length, 1)\n",
    "        weighted_output = torch.sum(lstm_output * attention_weights, dim=1)  # (batch_size, hidden_size)\n",
    "        return weighted_output, attention_weights"
   ]
  },
  {
   "cell_type": "code",
   "execution_count": 175,
   "metadata": {},
   "outputs": [],
   "source": [
    "import torch\n",
    "import torch.nn as nn\n",
    "import torch.optim as optim\n",
    "from sklearn.metrics import f1_score\n",
    "\n",
    "class LSTMModel(nn.Module):\n",
    "    def __init__(self, input_size, hidden_size, num_layers, num_classes,dropout):\n",
    "        super(LSTMModel, self).__init__()\n",
    "        self.hidden_size = hidden_size\n",
    "        self.num_layers = num_layers\n",
    "        self.pool = nn.MaxPool2d(kernel_size=(2,1), stride=1)\n",
    "        self.lstm = nn.LSTM(input_size, hidden_size, num_layers, batch_first=True)\n",
    "        self.attention = AttentionLayer(hidden_size)\n",
    "        self.fc1 = nn.Linear(hidden_size, 256)\n",
    "        self.fc2 = nn.Linear(256, num_classes)\n",
    "        self.dropout = nn.Dropout(dropout)\n",
    "    \n",
    "    def forward(self, x):\n",
    "        # h0 = torch.zeros(self.num_layers, x.size(0), self.hidden_size).to(x.device)\n",
    "        # c0 = torch.zeros(self.num_layers, x.size(0), self.hidden_size).to(x.device)\n",
    "        \n",
    "        # Apply pooling before LSTM\n",
    "        x = self.pool(x)\n",
    "\n",
    "        # Forward propagate the LSTM\n",
    "        lstm_output, _ = self.lstm(self.dropout(x))\n",
    "\n",
    "        # Apply attention to the LSTM output\n",
    "        attention_output, attention_weights = self.attention(lstm_output)\n",
    "\n",
    "        # Classification based on attention output\n",
    "        out = self.fc1(attention_output)\n",
    "        out = self.fc2(out)\n",
    "        return out"
   ]
  },
  {
   "cell_type": "code",
   "execution_count": 176,
   "metadata": {},
   "outputs": [],
   "source": [
    "# model = CNNModel(in_channels=3, num_classes=9, dropout=0.5).to(device)\n",
    "# model = SignLanguageCNN()\n",
    "# model = LSTMModel(input_size=224, hidden_size=256, num_layers=2, num_classes=9, dropout=0.5).to(device)\n",
    "model = LSTMModel(input_size=224, hidden_size=256, num_layers=2, num_classes=10, dropout=0.5).to(device)"
   ]
  },
  {
   "cell_type": "code",
   "execution_count": 177,
   "metadata": {},
   "outputs": [],
   "source": [
    "# spatial_features = model(dataloader.dataset[0][0])\n",
    "# spatial_features"
   ]
  },
  {
   "cell_type": "code",
   "execution_count": 178,
   "metadata": {},
   "outputs": [],
   "source": [
    "# spatial_features.shape"
   ]
  },
  {
   "cell_type": "code",
   "execution_count": 179,
   "metadata": {},
   "outputs": [],
   "source": [
    "# plt.imshow(spatial_features.detach().numpy())"
   ]
  },
  {
   "cell_type": "code",
   "execution_count": 180,
   "metadata": {},
   "outputs": [],
   "source": [
    "criterion = nn.CrossEntropyLoss() \n",
    "\n",
    "optimizer = optim.Adam(model.parameters(), lr=0.001)"
   ]
  },
  {
   "cell_type": "code",
   "execution_count": 181,
   "metadata": {},
   "outputs": [],
   "source": [
    "# x = dataloader.dataset[0][0]\n",
    "# x = x[:, 0, :, :]  # Select the first channel (0 for R in RGB)\n",
    "# x.shape"
   ]
  },
  {
   "cell_type": "code",
   "execution_count": 182,
   "metadata": {},
   "outputs": [],
   "source": [
    "batch_size = 4"
   ]
  },
  {
   "cell_type": "code",
   "execution_count": null,
   "metadata": {},
   "outputs": [],
   "source": [
    "# Training loop\n",
    "# References : https://saturncloud.io/blog/calculating-the-accuracy-of-pytorch-models-every-epoch/#:~:text=In%20order%20to%20calculate%20the,tensor%20along%20a%20specified%20dimension\n",
    "\n",
    "num_epochs = 900\n",
    "loss_logger = []\n",
    "accuracy_logger = []\n",
    "# n_epochs = []\n",
    "for epoch in range(num_epochs):\n",
    "    total_correct = 0\n",
    "    total_samples = 0\n",
    "    model.train()\n",
    "    for i, (sequences, labels) in enumerate(dataloader):\n",
    "        # Move data to the device\n",
    "        # labels = labels.type(torch.LongTensor)   # casting to long\n",
    "        sequences = sequences.to(device)\n",
    "        sequences = sequences[0,:,:,:,:]\n",
    "        labels = labels.to(device)\n",
    "        \n",
    "        # Forward pass\n",
    "        outputs = model(sequences)\n",
    "        _, predicted = torch.max(outputs, 1)\n",
    "        loss = criterion(outputs, labels)\n",
    "\n",
    "        total_correct += (predicted == labels).sum().item()\n",
    "        total_samples += labels.size(0)\n",
    "        \n",
    "        # Backward pass and optimization\n",
    "        optimizer.zero_grad()\n",
    "        loss.backward()\n",
    "        optimizer.step()\n",
    "\n",
    "        # loss_logger.append(loss.item())\n",
    "    loss_logger.append(loss.item())\n",
    "    accuracy = 100 * total_correct /total_samples\n",
    "\n",
    "\n",
    "    print(f'Epoch [{epoch+1}/{num_epochs}], Loss: {loss.item():.4f}')\n",
    "    accuracy_logger.append(accuracy)\n",
    "    # n_epochs.append(epoch)"
   ]
  },
  {
   "cell_type": "code",
   "execution_count": null,
   "metadata": {},
   "outputs": [],
   "source": [
    "# num_epochs = 100\n",
    "\n",
    "# loss_logger = []\n",
    "\n",
    "# for epoch in range(num_epochs):\n",
    "#     for i, (data, targets) in enumerate(dataloader.dataset):\n",
    "#         # print(data)\n",
    "#         # print(targets)\n",
    "\n",
    "#         data = data.to(device)\n",
    "#         targets = targets\n",
    "\n",
    "#         outputs = model(data)\n",
    "#         loss = criterion(outputs, targets)\n",
    "\n",
    "#         optimizer.zero_grad()\n",
    "#         loss.backward()\n",
    "\n",
    "#         optimizer.step()\n",
    "\n",
    "#     loss_logger.append(loss.item())\n",
    "#     print(f'Epoch [{epoch+1}/{num_epochs}], Loss: {loss.item():.4f}')"
   ]
  },
  {
   "cell_type": "code",
   "execution_count": 17,
   "metadata": {},
   "outputs": [],
   "source": [
    "import torch\n",
    "torch.cuda.empty_cache()"
   ]
  }
 ],
 "metadata": {
  "kernelspec": {
   "display_name": "Python 3",
   "language": "python",
   "name": "python3"
  },
  "language_info": {
   "codemirror_mode": {
    "name": "ipython",
    "version": 3
   },
   "file_extension": ".py",
   "mimetype": "text/x-python",
   "name": "python",
   "nbconvert_exporter": "python",
   "pygments_lexer": "ipython3",
   "version": "3.12.4"
  }
 },
 "nbformat": 4,
 "nbformat_minor": 2
}
