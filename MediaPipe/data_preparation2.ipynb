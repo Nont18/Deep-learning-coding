{
 "cells": [
  {
   "cell_type": "markdown",
   "metadata": {},
   "source": [
    "### Video Sequences data preparation"
   ]
  },
  {
   "cell_type": "code",
   "execution_count": 1,
   "metadata": {},
   "outputs": [],
   "source": [
    "import os\n",
    "import torch\n",
    "from torch.utils.data import Dataset, DataLoader\n",
    "from PIL import Image\n",
    "from torchvision import transforms\n",
    "import re"
   ]
  },
  {
   "cell_type": "markdown",
   "metadata": {},
   "source": [
    "### Padded with lastet frame"
   ]
  },
  {
   "cell_type": "code",
   "execution_count": 2,
   "metadata": {},
   "outputs": [],
   "source": [
    "# class VideoSequenceDataset(Dataset):\n",
    "#     def __init__(self, root_dir, transform=None, sequence_length=160):\n",
    "#         self.root_dir = root_dir\n",
    "#         self.transform = transform\n",
    "#         self.sequence_length = sequence_length  # Set target sequence length\n",
    "#         self.classes = os.listdir(root_dir)\n",
    "#         self.data = self.load_sequences()\n",
    "\n",
    "#     def load_sequences(self):\n",
    "#         data = []\n",
    "#         for class_idx, class_folder in enumerate(self.classes):\n",
    "#             class_path = os.path.join(self.root_dir, class_folder)\n",
    "\n",
    "#             # List and sort frames numerically\n",
    "#             image_sequences = sorted(os.listdir(class_path), key=self.natural_sort_key)\n",
    "#             frames = [os.path.join(class_path, img) for img in image_sequences]\n",
    "\n",
    "#             data.append((frames, class_idx))\n",
    "#         return data\n",
    "\n",
    "#     def natural_sort_key(self, string):\n",
    "#         # Extract numbers from the filename to ensure numeric sorting\n",
    "#         return [int(text) if text.isdigit() else text for text in re.split(r'(\\d+)', string)]\n",
    "\n",
    "#     def __len__(self):\n",
    "#         return len(self.data)\n",
    "\n",
    "#     def __getitem__(self, idx):\n",
    "#         image_paths, label = self.data[idx]\n",
    "#         images = [Image.open(img_path).convert('RGB') for img_path in image_paths]\n",
    "\n",
    "#         # Pad the sequence to the target length (self.sequence_length)\n",
    "#         if len(images) < self.sequence_length:\n",
    "#             pad_size = self.sequence_length - len(images)\n",
    "#             # Repeat the last frame or pad with black frames\n",
    "#             last_image = images[-1]\n",
    "#             pad_images = [last_image] * pad_size\n",
    "#             images.extend(pad_images)\n",
    "#         elif len(images) > self.sequence_length:\n",
    "#             # Truncate the sequence if it exceeds the target length\n",
    "#             images = images[:self.sequence_length]\n",
    "\n",
    "#         if self.transform:\n",
    "#             images = [self.transform(img) for img in images]\n",
    "\n",
    "#         images = torch.stack(images, dim=0)  # Stack into a tensor\n",
    "\n",
    "#         return images, label"
   ]
  },
  {
   "cell_type": "markdown",
   "metadata": {},
   "source": [
    "### Padded with zeros"
   ]
  },
  {
   "cell_type": "code",
   "execution_count": 3,
   "metadata": {},
   "outputs": [],
   "source": [
    "class VideoSequenceDataset(Dataset):\n",
    "    def __init__(self, root_dir, transform, sequence_length=160):\n",
    "        self.root_dir = root_dir\n",
    "        self.transform = transform\n",
    "        self.sequence_length = sequence_length  # Set target sequence length\n",
    "        self.classes = os.listdir(root_dir)\n",
    "        self.data = self.load_sequences()\n",
    "\n",
    "    def load_sequences(self):\n",
    "        data = []\n",
    "        for class_idx, class_folder in enumerate(self.classes):\n",
    "            class_path = os.path.join(self.root_dir, class_folder)\n",
    "\n",
    "            # List and sort frames numerically\n",
    "            image_sequences = sorted(os.listdir(class_path), key=self.natural_sort_key)\n",
    "            frames = [os.path.join(class_path, img) for img in image_sequences]\n",
    "\n",
    "            data.append((frames, class_idx))\n",
    "        return data\n",
    "\n",
    "    def natural_sort_key(self, string):\n",
    "        # Extract numbers from the filename to ensure numeric sorting\n",
    "        return [int(text) if text.isdigit() else text for text in re.split(r'(\\d+)', string)]\n",
    "\n",
    "    def __len__(self):\n",
    "        return len(self.data)\n",
    "\n",
    "    def __getitem__(self, idx):\n",
    "        image_paths, label = self.data[idx]\n",
    "        images = [Image.open(img_path).convert('RGB') for img_path in image_paths]\n",
    "\n",
    "        # If there are fewer images than the sequence length, pad with zeros\n",
    "        if len(images) < self.sequence_length:\n",
    "            pad_size = self.sequence_length - len(images)\n",
    "            # Create a black (zero) image of the same size as the input (e.g., 224x224)\n",
    "            zero_image = Image.new('RGB', (224, 224), (0, 0, 0))  # Black image\n",
    "            pad_images = [zero_image] * pad_size\n",
    "            images.extend(pad_images)\n",
    "        elif len(images) > self.sequence_length:\n",
    "            # Truncate the sequence if it exceeds the target length\n",
    "            images = images[:self.sequence_length]\n",
    "\n",
    "        if self.transform:\n",
    "            images = [self.transform(img) for img in images]\n",
    "\n",
    "        images = torch.stack(images, dim=0)  # Stack into a tensor\n",
    "\n",
    "        return torch.tensor(images, dtype=torch.float32), label"
   ]
  },
  {
   "cell_type": "code",
   "execution_count": 4,
   "metadata": {},
   "outputs": [],
   "source": [
    "transform = transforms.Compose([\n",
    "    transforms.Resize((224, 224)),  # Resize to a fixed size\n",
    "    transforms.ToTensor(),  # Convert image to PyTorch tensor\n",
    "    transforms.Normalize(mean=[0.485, 0.456, 0.406], std=[0.229, 0.224, 0.225])  # Normalize using ImageNet stats\n",
    "])"
   ]
  },
  {
   "cell_type": "code",
   "execution_count": 5,
   "metadata": {},
   "outputs": [
    {
     "name": "stderr",
     "output_type": "stream",
     "text": [
      "C:\\Users\\araya\\AppData\\Local\\Temp\\ipykernel_9740\\4150219448.py:48: UserWarning: To copy construct from a tensor, it is recommended to use sourceTensor.clone().detach() or sourceTensor.clone().detach().requires_grad_(True), rather than torch.tensor(sourceTensor).\n",
      "  return torch.tensor(images, dtype=torch.float32), label\n"
     ]
    },
    {
     "name": "stdout",
     "output_type": "stream",
     "text": [
      "Batch 1\n",
      "Frames shape: torch.Size([3, 160, 3, 224, 224])\n",
      "Labels: tensor([5, 4, 3])\n"
     ]
    }
   ],
   "source": [
    "# Set parameters\n",
    "test_dir = 'C:/Users/araya/Desktop/frame/train'\n",
    "sequence_length = 160  # Set how many frames per sequence\n",
    "\n",
    "# Initialize dataset and dataloader\n",
    "dataset = VideoSequenceDataset(root_dir=test_dir, transform=transform)\n",
    "dataloader = DataLoader(dataset, batch_size=3, shuffle=True)\n",
    "\n",
    "# Example of accessing the data\n",
    "for batch_idx, (frames, labels) in enumerate(dataloader):\n",
    "    print(f\"Batch {batch_idx+1}\")\n",
    "    print(\"Frames shape:\", frames.shape)  # Should be [batch_size, sequence_length, C, H, W]\n",
    "    print(\"Labels:\", labels)\n",
    "    break  # Process just the first batch"
   ]
  },
  {
   "cell_type": "code",
   "execution_count": 6,
   "metadata": {},
   "outputs": [
    {
     "data": {
      "text/plain": [
       "<torch.utils.data.dataloader.DataLoader at 0x26bbc43d7c0>"
      ]
     },
     "execution_count": 6,
     "metadata": {},
     "output_type": "execute_result"
    }
   ],
   "source": [
    "dataloader"
   ]
  },
  {
   "cell_type": "code",
   "execution_count": 7,
   "metadata": {},
   "outputs": [
    {
     "data": {
      "text/plain": [
       "<__main__.VideoSequenceDataset at 0x26bbc2ff7a0>"
      ]
     },
     "execution_count": 7,
     "metadata": {},
     "output_type": "execute_result"
    }
   ],
   "source": [
    "dataset"
   ]
  },
  {
   "cell_type": "code",
   "execution_count": 8,
   "metadata": {},
   "outputs": [
    {
     "name": "stderr",
     "output_type": "stream",
     "text": [
      "C:\\Users\\araya\\AppData\\Local\\Temp\\ipykernel_9740\\4150219448.py:48: UserWarning: To copy construct from a tensor, it is recommended to use sourceTensor.clone().detach() or sourceTensor.clone().detach().requires_grad_(True), rather than torch.tensor(sourceTensor).\n",
      "  return torch.tensor(images, dtype=torch.float32), label\n"
     ]
    },
    {
     "data": {
      "text/plain": [
       "160"
      ]
     },
     "execution_count": 8,
     "metadata": {},
     "output_type": "execute_result"
    }
   ],
   "source": [
    "len(dataloader.dataset[0][0])"
   ]
  },
  {
   "cell_type": "code",
   "execution_count": 9,
   "metadata": {},
   "outputs": [
    {
     "name": "stderr",
     "output_type": "stream",
     "text": [
      "C:\\Users\\araya\\AppData\\Local\\Temp\\ipykernel_9740\\4150219448.py:48: UserWarning: To copy construct from a tensor, it is recommended to use sourceTensor.clone().detach() or sourceTensor.clone().detach().requires_grad_(True), rather than torch.tensor(sourceTensor).\n",
      "  return torch.tensor(images, dtype=torch.float32), label\n"
     ]
    },
    {
     "data": {
      "text/plain": [
       "tensor([[[ 0.2796,  0.2624,  0.2624,  ...,  0.2453,  0.2453,  0.2453],\n",
       "         [ 0.2796,  0.2624,  0.2624,  ...,  0.2453,  0.2453,  0.2453],\n",
       "         [ 0.2796,  0.2624,  0.2624,  ...,  0.2453,  0.2453,  0.2453],\n",
       "         ...,\n",
       "         [-0.4397, -0.4397, -0.4397,  ..., -0.4911, -0.4911, -0.4911],\n",
       "         [-0.4397, -0.4397, -0.4397,  ..., -0.4911, -0.4911, -0.4911],\n",
       "         [-0.4397, -0.4397, -0.4397,  ..., -0.4911, -0.4911, -0.4911]],\n",
       "\n",
       "        [[ 0.3978,  0.3803,  0.3803,  ...,  0.3978,  0.3978,  0.3978],\n",
       "         [ 0.3978,  0.3803,  0.3803,  ...,  0.3978,  0.3978,  0.3978],\n",
       "         [ 0.3978,  0.3803,  0.3803,  ...,  0.3978,  0.3978,  0.3978],\n",
       "         ...,\n",
       "         [-0.3025, -0.3025, -0.3025,  ..., -0.3550, -0.3550, -0.3550],\n",
       "         [-0.3025, -0.3025, -0.3025,  ..., -0.3550, -0.3550, -0.3550],\n",
       "         [-0.3025, -0.3025, -0.3025,  ..., -0.3550, -0.3550, -0.3550]],\n",
       "\n",
       "        [[ 0.7576,  0.7402,  0.7402,  ...,  0.7054,  0.7054,  0.7054],\n",
       "         [ 0.7576,  0.7402,  0.7402,  ...,  0.7054,  0.7054,  0.7054],\n",
       "         [ 0.7576,  0.7402,  0.7402,  ...,  0.7054,  0.7054,  0.7054],\n",
       "         ...,\n",
       "         [-0.0092, -0.0092, -0.0092,  ..., -0.2184, -0.2184, -0.2184],\n",
       "         [-0.0092, -0.0092, -0.0092,  ..., -0.2184, -0.2184, -0.2184],\n",
       "         [-0.0092, -0.0092, -0.0092,  ..., -0.2184, -0.2184, -0.2184]]])"
      ]
     },
     "execution_count": 9,
     "metadata": {},
     "output_type": "execute_result"
    }
   ],
   "source": [
    "dataloader.dataset[0][0][0]"
   ]
  },
  {
   "cell_type": "code",
   "execution_count": 10,
   "metadata": {},
   "outputs": [
    {
     "name": "stderr",
     "output_type": "stream",
     "text": [
      "C:\\Users\\araya\\AppData\\Local\\Temp\\ipykernel_9740\\4150219448.py:48: UserWarning: To copy construct from a tensor, it is recommended to use sourceTensor.clone().detach() or sourceTensor.clone().detach().requires_grad_(True), rather than torch.tensor(sourceTensor).\n",
      "  return torch.tensor(images, dtype=torch.float32), label\n"
     ]
    },
    {
     "data": {
      "text/plain": [
       "<matplotlib.image.AxesImage at 0x26be0abd970>"
      ]
     },
     "execution_count": 10,
     "metadata": {},
     "output_type": "execute_result"
    },
    {
     "data": {
      "image/png": "[encoded data removed]",
      "text/plain": [
       "<Figure size 640x480 with 1 Axes>"
      ]
     },
     "metadata": {},
     "output_type": "display_data"
    }
   ],
   "source": [
    "import matplotlib.pyplot as plt \n",
    "\n",
    "plt.imshow(dataloader.dataset[0][0][141][0]) # [จำนวน class][][เฟรมที่][เปลี่ยนสี]"
   ]
  },
  {
   "cell_type": "code",
   "execution_count": 11,
   "metadata": {},
   "outputs": [
    {
     "data": {
      "text/plain": [
       "['กฎกระทรวง',\n",
       " 'กฎหมายรัฐธรรมนูญ',\n",
       " 'กรมอนามัย',\n",
       " 'กรรม',\n",
       " 'กรรมสิทธิ์',\n",
       " 'กระโดด',\n",
       " 'กล้วยบวชชี',\n",
       " 'กล้วยเชื่อม',\n",
       " 'กังวล',\n",
       " 'กีฬา']"
      ]
     },
     "execution_count": 11,
     "metadata": {},
     "output_type": "execute_result"
    }
   ],
   "source": [
    "dataloader.dataset.classes"
   ]
  },
  {
   "cell_type": "code",
   "execution_count": 12,
   "metadata": {},
   "outputs": [
    {
     "name": "stderr",
     "output_type": "stream",
     "text": [
      "C:\\Users\\araya\\AppData\\Local\\Temp\\ipykernel_9740\\4150219448.py:48: UserWarning: To copy construct from a tensor, it is recommended to use sourceTensor.clone().detach() or sourceTensor.clone().detach().requires_grad_(True), rather than torch.tensor(sourceTensor).\n",
      "  return torch.tensor(images, dtype=torch.float32), label\n"
     ]
    },
    {
     "name": "stdout",
     "output_type": "stream",
     "text": [
      "160\n",
      "160\n",
      "160\n",
      "160\n",
      "เราต้อง padded lenght ให้เท่ากัน ก่อนเข้า model\n"
     ]
    }
   ],
   "source": [
    "print(len(dataloader.dataset[0][0]))  \n",
    "print(len(dataloader.dataset[1][0]))  \n",
    "print(len(dataloader.dataset[2][0]))  \n",
    "print(len(dataloader.dataset[3][0]))  \n",
    "print(\"เราต้อง padded lenght ให้เท่ากัน ก่อนเข้า model\")"
   ]
  },
  {
   "cell_type": "markdown",
   "metadata": {},
   "source": [
    "### -------------------------------------------------------------------------------------------------------------------------\n",
    "### cuda or cpu ?"
   ]
  },
  {
   "cell_type": "code",
   "execution_count": 13,
   "metadata": {},
   "outputs": [
    {
     "data": {
      "text/plain": [
       "device(type='cuda')"
      ]
     },
     "execution_count": 13,
     "metadata": {},
     "output_type": "execute_result"
    }
   ],
   "source": [
    "device = torch.device('cuda' if torch.cuda.is_available() else 'cpu')\n",
    "device"
   ]
  },
  {
   "cell_type": "code",
   "execution_count": 14,
   "metadata": {},
   "outputs": [],
   "source": [
    "# import torch \n",
    "# import torch.nn as nn \n",
    "# import torch.nn.functional as F\n",
    "# import torchvision\n",
    "# from torchvision import models\n",
    "# from torchvision.models import resnet18\n",
    "\n",
    "# class Model(nn.Module):\n",
    "#     def __init__(self, num_classes=9):\n",
    "#         super(Model, self).__init__()\n",
    "#         self.resnet = models.mobilenet_v2(pretrained=True)\n",
    "#         self.resnet.fc = nn.Sequential(nn.Linear(self.resnet.fc.in_features, 512))\n",
    "#         self.fc1 = nn.Linear(512, 128)\n",
    "#         self.fc2 = nn.Linear(128, num_classes)\n",
    "\n",
    "#     def forward(self, x_3d):\n",
    "#         # (bs, C, T, H, W)\n",
    "#         x_3d = x_3d.permute(0, 2, 1, 3, 4)\n",
    "\n",
    "#         logits = []\n",
    "#         for t in range(x_3d.size(1)):\n",
    "#             out = self.resnet(x_3d[:, t, :, :, :])\n",
    "\n",
    "#             x = self.fc1(out)\n",
    "#             x = F.relu(x)\n",
    "#             x = self.fc2(x)\n",
    "\n",
    "#             logits.append(x)\n",
    "\n",
    "#         # Mean Pooling \n",
    "#         logits = torch.stack(logits, dim=0)\n",
    "#         logits = torch.mean(logits, dim=0)\n",
    "#         return logits"
   ]
  },
  {
   "cell_type": "markdown",
   "metadata": {},
   "source": [
    "### Grain Module"
   ]
  },
  {
   "cell_type": "code",
   "execution_count": 15,
   "metadata": {},
   "outputs": [],
   "source": [
    "import torch\n",
    "import torch.nn as nn\n",
    "from torchvision import models\n",
    "\n",
    "class GELUBatchNorm(nn.Module):\n",
    "    def __init__(self, out_channels):\n",
    "        super(GELUBatchNorm, self).__init__()\n",
    "        self.gelu = nn.GELU()\n",
    "        self.batch_norm = nn.BatchNorm2d(out_channels)\n",
    "\n",
    "    def forward(self, x):\n",
    "        x = self.gelu(x)\n",
    "        x = self.batch_norm(x)\n",
    "        return x\n",
    "\n",
    "# Define the Grain Module\n",
    "class GrainModule(nn.Module):\n",
    "    def __init__(self, in_channels):\n",
    "        super(GrainModule, self).__init__()\n",
    "        # First convolution with stride=2 and 3x3 kernel\n",
    "        self.conv1 = nn.Conv2d(in_channels, 64, kernel_size=3, stride=2, padding=1)\n",
    "        self.gb1 = GELUBatchNorm(64)  # GB after Conv\n",
    "        \n",
    "        # Second convolution layer\n",
    "        self.conv2 = nn.Conv2d(64, 128, kernel_size=3, stride=2, padding=1)\n",
    "        self.gb2 = GELUBatchNorm(128)  # GB after Conv\n",
    "\n",
    "        # Third convolution layer\n",
    "        self.conv3 = nn.Conv2d(128, 256, kernel_size=3, stride=2, padding=1)\n",
    "        self.gb3 = GELUBatchNorm(256)  # GB after Conv\n",
    "\n",
    "    def forward(self, x):\n",
    "        # Pass through the first conv + GB\n",
    "        x = self.conv1(x)\n",
    "        x = self.gb1(x)\n",
    "\n",
    "        # Pass through the second conv + GB\n",
    "        x = self.conv2(x)\n",
    "        x = self.gb2(x)\n",
    "\n",
    "        # Pass through the third conv + GB\n",
    "        x = self.conv3(x)\n",
    "        x = self.gb3(x)\n",
    "\n",
    "        return x"
   ]
  },
  {
   "cell_type": "code",
   "execution_count": 16,
   "metadata": {},
   "outputs": [],
   "source": [
    "# model = Model(num_classes=9)\n",
    "grain_module = GrainModule(in_channels=3)"
   ]
  },
  {
   "cell_type": "code",
   "execution_count": 17,
   "metadata": {},
   "outputs": [
    {
     "name": "stdout",
     "output_type": "stream",
     "text": [
      "Model has 371712 parameters\n"
     ]
    }
   ],
   "source": [
    "param = sum(p.numel() for p in grain_module.parameters() if p.requires_grad)\n",
    "print(f\"Model has {param} parameters\")"
   ]
  },
  {
   "cell_type": "code",
   "execution_count": 18,
   "metadata": {},
   "outputs": [
    {
     "name": "stderr",
     "output_type": "stream",
     "text": [
      "C:\\Users\\araya\\AppData\\Local\\Temp\\ipykernel_9740\\4150219448.py:48: UserWarning: To copy construct from a tensor, it is recommended to use sourceTensor.clone().detach() or sourceTensor.clone().detach().requires_grad_(True), rather than torch.tensor(sourceTensor).\n",
      "  return torch.tensor(images, dtype=torch.float32), label\n"
     ]
    },
    {
     "data": {
      "text/plain": [
       "torch.Size([160, 3, 224, 224])"
      ]
     },
     "execution_count": 18,
     "metadata": {},
     "output_type": "execute_result"
    }
   ],
   "source": [
    "dataloader.dataset[0][0].shape"
   ]
  },
  {
   "cell_type": "code",
   "execution_count": 19,
   "metadata": {},
   "outputs": [
    {
     "name": "stderr",
     "output_type": "stream",
     "text": [
      "C:\\Users\\araya\\AppData\\Local\\Temp\\ipykernel_9740\\4150219448.py:48: UserWarning: To copy construct from a tensor, it is recommended to use sourceTensor.clone().detach() or sourceTensor.clone().detach().requires_grad_(True), rather than torch.tensor(sourceTensor).\n",
      "  return torch.tensor(images, dtype=torch.float32), label\n"
     ]
    }
   ],
   "source": [
    "input = dataloader.dataset[5][0]"
   ]
  },
  {
   "cell_type": "code",
   "execution_count": 20,
   "metadata": {},
   "outputs": [
    {
     "data": {
      "text/plain": [
       "torch.Size([160, 3, 224, 224])"
      ]
     },
     "execution_count": 20,
     "metadata": {},
     "output_type": "execute_result"
    }
   ],
   "source": [
    "input.shape"
   ]
  },
  {
   "cell_type": "code",
   "execution_count": 21,
   "metadata": {},
   "outputs": [],
   "source": [
    "output = grain_module(input)"
   ]
  },
  {
   "cell_type": "code",
   "execution_count": 22,
   "metadata": {},
   "outputs": [
    {
     "data": {
      "text/plain": [
       "tensor([[[[-8.5321e-01, -1.0256e+00, -1.0272e+00,  ..., -1.0275e+00,\n",
       "           -1.0146e+00, -1.0228e+00],\n",
       "          [-7.0263e-01, -1.0455e+00, -1.0412e+00,  ..., -1.0526e+00,\n",
       "           -1.0581e+00, -1.0609e+00],\n",
       "          [-7.1836e-01, -1.0235e+00, -1.0272e+00,  ..., -1.0518e+00,\n",
       "           -1.0719e+00, -1.0620e+00],\n",
       "          ...,\n",
       "          [-2.4703e-01, -2.4357e-01, -2.2588e-01,  ..., -2.9170e-01,\n",
       "           -1.8197e-01, -2.7971e-01],\n",
       "          [-2.9155e-01, -2.0534e-01, -1.2204e-01,  ..., -3.5022e-02,\n",
       "           -2.3516e-01, -2.9908e-01],\n",
       "          [-2.3877e-01, -8.2628e-02, -2.1303e-01,  ..., -6.1736e-02,\n",
       "           -2.5342e-02, -2.2832e-01]],\n",
       "\n",
       "         [[-1.7021e-01,  7.8317e-01,  8.3226e-01,  ...,  1.3390e+00,\n",
       "            1.3696e+00,  1.3705e+00],\n",
       "          [-3.9372e-01,  4.8119e-01,  4.9467e-01,  ...,  5.2229e-01,\n",
       "            4.9708e-01,  5.4499e-01],\n",
       "          [-3.9886e-01,  6.3203e-01,  4.9596e-01,  ...,  4.1458e-01,\n",
       "            4.8800e-01,  3.8937e-01],\n",
       "          ...,\n",
       "          [-3.2202e-01,  2.4556e-01,  1.8845e-01,  ...,  4.6103e-01,\n",
       "            5.0641e-01,  4.2545e-01],\n",
       "          [-2.7374e-01,  1.6840e-01,  2.4383e-01,  ...,  3.0584e-01,\n",
       "            6.6096e-01,  5.4945e-01],\n",
       "          [-2.6987e-01,  1.1176e-01,  1.0585e-01,  ...,  4.2662e-01,\n",
       "            2.7227e-01,  4.1080e-01]],\n",
       "\n",
       "         [[ 5.6180e-01, -3.7870e-02, -5.6474e-02,  ..., -3.5457e-01,\n",
       "           -3.5469e-01, -3.6556e-01],\n",
       "          [ 3.6869e-01, -2.7645e-01, -3.0017e-01,  ..., -6.1230e-01,\n",
       "           -6.0059e-01, -6.5060e-01],\n",
       "          [ 3.8001e-01, -1.9667e-01, -2.8328e-01,  ..., -5.8713e-01,\n",
       "           -5.7610e-01, -6.2787e-01],\n",
       "          ...,\n",
       "          [-4.3390e-01,  3.6935e-02,  5.5717e-02,  ..., -9.0261e-02,\n",
       "           -1.9978e-01, -1.6384e-01],\n",
       "          [-3.7903e-01,  1.6047e-01,  1.5797e-01,  ..., -3.7714e-01,\n",
       "           -1.4523e-01, -7.0178e-02],\n",
       "          [-3.7339e-01,  9.1567e-02,  1.5629e-02,  ..., -3.5615e-01,\n",
       "           -2.5325e-01, -1.8404e-01]],\n",
       "\n",
       "         ...,\n",
       "\n",
       "         [[-5.9869e-01, -5.6732e-01, -5.6067e-01,  ..., -5.8601e-01,\n",
       "           -5.9611e-01, -5.9528e-01],\n",
       "          [-6.5994e-01, -5.5619e-01, -5.4458e-01,  ..., -2.1444e-01,\n",
       "           -2.0717e-01, -1.7904e-01],\n",
       "          [-6.5828e-01, -5.6683e-01, -5.4570e-01,  ..., -1.9166e-01,\n",
       "           -2.1915e-01, -1.8716e-01],\n",
       "          ...,\n",
       "          [-3.8860e-01, -7.1655e-01, -7.0621e-01,  ..., -7.3037e-01,\n",
       "           -7.2332e-01, -7.1527e-01],\n",
       "          [-3.8435e-01, -6.9882e-01, -7.1937e-01,  ..., -6.9077e-01,\n",
       "           -7.3014e-01, -7.3247e-01],\n",
       "          [-3.9360e-01, -7.1229e-01, -6.9615e-01,  ..., -7.1258e-01,\n",
       "           -7.2620e-01, -7.2267e-01]],\n",
       "\n",
       "         [[-8.5719e-01, -1.8660e-01, -1.7199e-01,  ..., -3.1430e-01,\n",
       "           -3.2835e-01, -3.3543e-01],\n",
       "          [-8.7332e-01, -7.2417e-01, -6.6241e-01,  ..., -4.9257e-01,\n",
       "           -4.6460e-01, -4.1578e-01],\n",
       "          [-8.9700e-01, -7.5442e-01, -7.6357e-01,  ..., -4.7489e-01,\n",
       "           -4.0867e-01, -5.0369e-01],\n",
       "          ...,\n",
       "          [-1.9486e-01, -7.2858e-01, -8.3269e-01,  ..., -8.2857e-01,\n",
       "           -8.7470e-01, -9.4389e-01],\n",
       "          [-5.8168e-02, -7.9402e-01, -7.1583e-01,  ..., -9.0690e-01,\n",
       "           -8.6738e-01, -9.5317e-01],\n",
       "          [-5.3502e-02, -7.9265e-01, -7.5108e-01,  ..., -8.7654e-01,\n",
       "           -8.2845e-01, -8.1391e-01]],\n",
       "\n",
       "         [[ 1.7711e+00, -2.4606e-01, -2.3984e-01,  ..., -1.4266e-01,\n",
       "           -1.1211e-01, -1.1075e-01],\n",
       "          [ 6.2330e-01, -2.6375e-01, -2.7492e-01,  ..., -2.7307e-01,\n",
       "           -2.5183e-01, -3.2368e-01],\n",
       "          [ 6.1275e-01, -2.6780e-01, -2.2291e-01,  ..., -2.8897e-01,\n",
       "           -3.1573e-01, -2.8487e-01],\n",
       "          ...,\n",
       "          [ 5.0119e-01, -2.3144e-01, -2.0463e-01,  ..., -1.7607e-01,\n",
       "           -2.6519e-01, -2.3830e-01],\n",
       "          [ 5.2870e-01, -2.1702e-01, -2.3713e-01,  ..., -2.8644e-01,\n",
       "           -3.0585e-01, -2.9823e-01],\n",
       "          [ 4.4238e-01, -1.9401e-01, -1.5789e-01,  ..., -1.5798e-01,\n",
       "           -3.1352e-01, -2.3378e-01]]],\n",
       "\n",
       "\n",
       "        [[[-8.5321e-01, -1.0256e+00, -1.0272e+00,  ..., -1.0275e+00,\n",
       "           -1.0146e+00, -1.0228e+00],\n",
       "          [-7.0263e-01, -1.0416e+00, -1.0425e+00,  ..., -1.0526e+00,\n",
       "           -1.0581e+00, -1.0610e+00],\n",
       "          [-7.1128e-01, -1.0247e+00, -1.0308e+00,  ..., -1.0440e+00,\n",
       "           -1.0743e+00, -1.0622e+00],\n",
       "          ...,\n",
       "          [-2.5883e-01, -2.1593e-01, -2.2193e-01,  ..., -3.7790e-01,\n",
       "           -3.6236e-01, -3.1495e-01],\n",
       "          [-3.2875e-01, -2.1368e-01, -1.2163e-01,  ..., -2.6032e-01,\n",
       "           -2.9739e-01, -3.4050e-01],\n",
       "          [-2.4620e-01, -2.5010e-02, -1.9455e-01,  ..., -1.9302e-01,\n",
       "           -5.5501e-02, -1.9277e-01]],\n",
       "\n",
       "         [[-1.7021e-01,  7.8317e-01,  8.3226e-01,  ...,  1.3390e+00,\n",
       "            1.3696e+00,  1.3705e+00],\n",
       "          [-3.9372e-01,  4.9527e-01,  5.1661e-01,  ...,  5.2229e-01,\n",
       "            4.9708e-01,  5.4620e-01],\n",
       "          [-3.9580e-01,  6.0186e-01,  5.0465e-01,  ...,  4.1251e-01,\n",
       "            4.8958e-01,  3.8444e-01],\n",
       "          ...,\n",
       "          [-2.8801e-01,  2.4945e-01,  2.1589e-01,  ...,  4.7770e-01,\n",
       "            5.1582e-01,  4.4738e-01],\n",
       "          [-2.7365e-01,  1.4617e-01,  2.3139e-01,  ...,  3.8934e-01,\n",
       "            4.8140e-01,  5.2915e-01],\n",
       "          [-2.6926e-01,  1.1488e-01,  1.2754e-01,  ...,  3.3269e-01,\n",
       "            3.2099e-01,  4.2229e-01]],\n",
       "\n",
       "         [[ 5.6180e-01, -3.7870e-02, -5.6474e-02,  ..., -3.5457e-01,\n",
       "           -3.5469e-01, -3.6556e-01],\n",
       "          [ 3.6869e-01, -2.8660e-01, -2.9406e-01,  ..., -6.1230e-01,\n",
       "           -6.0059e-01, -6.4467e-01],\n",
       "          [ 3.8354e-01, -2.2016e-01, -3.2236e-01,  ..., -5.9067e-01,\n",
       "           -5.7706e-01, -6.2533e-01],\n",
       "          ...,\n",
       "          [-4.3870e-01,  1.9756e-02,  3.6034e-02,  ...,  5.8415e-02,\n",
       "           -6.0332e-03, -7.8282e-02],\n",
       "          [-4.1170e-01,  1.2720e-01,  1.4784e-01,  ..., -1.2685e-01,\n",
       "           -4.0913e-02, -7.7905e-02],\n",
       "          [-4.1307e-01, -5.4550e-04,  1.2391e-02,  ..., -2.7026e-01,\n",
       "           -2.4846e-01, -1.7525e-01]],\n",
       "\n",
       "         ...,\n",
       "\n",
       "         [[-5.9869e-01, -5.6732e-01, -5.6067e-01,  ..., -5.8601e-01,\n",
       "           -5.9611e-01, -5.9528e-01],\n",
       "          [-6.5994e-01, -5.5947e-01, -5.3693e-01,  ..., -2.1444e-01,\n",
       "           -2.0717e-01, -1.8042e-01],\n",
       "          [-6.5705e-01, -5.5423e-01, -5.3197e-01,  ..., -1.9960e-01,\n",
       "           -2.1990e-01, -1.7551e-01],\n",
       "          ...,\n",
       "          [-3.6857e-01, -7.1873e-01, -7.1100e-01,  ..., -7.2844e-01,\n",
       "           -7.2107e-01, -7.1600e-01],\n",
       "          [-3.7882e-01, -7.0076e-01, -7.1911e-01,  ..., -7.1291e-01,\n",
       "           -7.2306e-01, -7.2536e-01],\n",
       "          [-3.9132e-01, -7.1688e-01, -7.0574e-01,  ..., -7.1841e-01,\n",
       "           -7.2112e-01, -7.2718e-01]],\n",
       "\n",
       "         [[-8.5719e-01, -1.8660e-01, -1.7199e-01,  ..., -3.1430e-01,\n",
       "           -3.2835e-01, -3.3543e-01],\n",
       "          [-8.7332e-01, -7.5216e-01, -6.9126e-01,  ..., -4.9257e-01,\n",
       "           -4.6460e-01, -4.1224e-01],\n",
       "          [-8.5936e-01, -8.2839e-01, -7.3300e-01,  ..., -4.8807e-01,\n",
       "           -4.0097e-01, -4.9033e-01],\n",
       "          ...,\n",
       "          [-1.9479e-01, -7.8614e-01, -8.3748e-01,  ..., -8.5699e-01,\n",
       "           -9.4584e-01, -9.2035e-01],\n",
       "          [-5.8867e-02, -8.0461e-01, -7.1716e-01,  ..., -9.5296e-01,\n",
       "           -8.9917e-01, -9.2708e-01],\n",
       "          [-5.0459e-02, -8.3182e-01, -7.5539e-01,  ..., -8.6655e-01,\n",
       "           -8.2414e-01, -8.4232e-01]],\n",
       "\n",
       "         [[ 1.7711e+00, -2.4606e-01, -2.3984e-01,  ..., -1.4266e-01,\n",
       "           -1.1211e-01, -1.1075e-01],\n",
       "          [ 6.2330e-01, -2.4535e-01, -2.7723e-01,  ..., -2.7307e-01,\n",
       "           -2.5183e-01, -3.2032e-01],\n",
       "          [ 5.8280e-01, -2.7379e-01, -2.4544e-01,  ..., -2.9251e-01,\n",
       "           -3.0820e-01, -2.7667e-01],\n",
       "          ...,\n",
       "          [ 4.7921e-01, -2.1416e-01, -1.9425e-01,  ..., -2.0133e-01,\n",
       "           -2.2810e-01, -1.8399e-01],\n",
       "          [ 5.1001e-01, -2.0809e-01, -2.4762e-01,  ..., -2.4511e-01,\n",
       "           -2.9041e-01, -2.5769e-01],\n",
       "          [ 4.4828e-01, -2.6603e-01, -1.9298e-01,  ..., -1.2714e-01,\n",
       "           -2.9558e-01, -2.2971e-01]]],\n",
       "\n",
       "\n",
       "        [[[-8.5321e-01, -1.0256e+00, -1.0272e+00,  ..., -1.0275e+00,\n",
       "           -1.0146e+00, -1.0211e+00],\n",
       "          [-7.0263e-01, -1.0416e+00, -1.0425e+00,  ..., -1.0526e+00,\n",
       "           -1.0581e+00, -1.0556e+00],\n",
       "          [-7.1128e-01, -1.0247e+00, -1.0308e+00,  ..., -1.0440e+00,\n",
       "           -1.0743e+00, -1.0621e+00],\n",
       "          ...,\n",
       "          [-2.5697e-01, -2.2991e-01, -2.2280e-01,  ..., -3.8249e-01,\n",
       "           -4.2839e-01, -3.7209e-01],\n",
       "          [-3.1815e-01, -2.0234e-01, -1.2308e-01,  ..., -2.5030e-01,\n",
       "           -2.6666e-01, -3.6089e-01],\n",
       "          [-2.2735e-01,  1.3092e-02, -1.3583e-01,  ..., -1.2414e-01,\n",
       "           -8.0350e-02, -1.8297e-01]],\n",
       "\n",
       "         [[-1.7021e-01,  7.8317e-01,  8.3226e-01,  ...,  1.3390e+00,\n",
       "            1.3696e+00,  1.3626e+00],\n",
       "          [-3.9372e-01,  4.9527e-01,  5.1661e-01,  ...,  5.2229e-01,\n",
       "            4.9708e-01,  5.3025e-01],\n",
       "          [-3.9580e-01,  6.0186e-01,  5.0465e-01,  ...,  4.1251e-01,\n",
       "            4.8958e-01,  3.7603e-01],\n",
       "          ...,\n",
       "          [-2.9719e-01,  2.6569e-01,  2.2250e-01,  ...,  4.8372e-01,\n",
       "            5.0196e-01,  4.4215e-01],\n",
       "          [-2.7959e-01,  1.5476e-01,  2.4060e-01,  ...,  4.6786e-01,\n",
       "            4.9704e-01,  5.6025e-01],\n",
       "          [-2.7766e-01,  1.0769e-01,  1.3961e-01,  ...,  3.1519e-01,\n",
       "            3.5715e-01,  4.3690e-01]],\n",
       "\n",
       "         [[ 5.6180e-01, -3.7870e-02, -5.6474e-02,  ..., -3.5457e-01,\n",
       "           -3.5469e-01, -3.6230e-01],\n",
       "          [ 3.6869e-01, -2.8660e-01, -2.9406e-01,  ..., -6.1230e-01,\n",
       "           -6.0059e-01, -6.3925e-01],\n",
       "          [ 3.8354e-01, -2.2016e-01, -3.2236e-01,  ..., -5.9067e-01,\n",
       "           -5.7706e-01, -6.2405e-01],\n",
       "          ...,\n",
       "          [-4.3637e-01, -1.7588e-03,  3.9577e-02,  ...,  3.7426e-02,\n",
       "           -4.3843e-02, -1.2440e-01],\n",
       "          [-4.1505e-01,  9.7956e-02,  1.1622e-01,  ..., -2.1077e-01,\n",
       "           -1.3001e-01, -9.6027e-02],\n",
       "          [-4.7872e-01, -8.3992e-02,  5.6035e-02,  ..., -3.1045e-01,\n",
       "           -2.8381e-01, -1.9243e-01]],\n",
       "\n",
       "         ...,\n",
       "\n",
       "         [[-5.9869e-01, -5.6732e-01, -5.6067e-01,  ..., -5.8601e-01,\n",
       "           -5.9611e-01, -5.9765e-01],\n",
       "          [-6.5994e-01, -5.5947e-01, -5.3693e-01,  ..., -2.1444e-01,\n",
       "           -2.0717e-01, -1.8796e-01],\n",
       "          [-6.5705e-01, -5.5423e-01, -5.3197e-01,  ..., -1.9960e-01,\n",
       "           -2.1990e-01, -1.7192e-01],\n",
       "          ...,\n",
       "          [-3.6126e-01, -7.1597e-01, -7.1100e-01,  ..., -7.2313e-01,\n",
       "           -7.1683e-01, -7.1606e-01],\n",
       "          [-3.8162e-01, -6.9768e-01, -7.1149e-01,  ..., -7.3047e-01,\n",
       "           -7.2839e-01, -7.2865e-01],\n",
       "          [-4.1047e-01, -7.2221e-01, -7.0797e-01,  ..., -7.1551e-01,\n",
       "           -7.1777e-01, -7.2713e-01]],\n",
       "\n",
       "         [[-8.5719e-01, -1.8660e-01, -1.7199e-01,  ..., -3.1430e-01,\n",
       "           -3.2835e-01, -3.4621e-01],\n",
       "          [-8.7332e-01, -7.5216e-01, -6.9126e-01,  ..., -4.9257e-01,\n",
       "           -4.6460e-01, -4.3190e-01],\n",
       "          [-8.5936e-01, -8.2839e-01, -7.3300e-01,  ..., -4.8807e-01,\n",
       "           -4.0097e-01, -4.8994e-01],\n",
       "          ...,\n",
       "          [-1.9192e-01, -7.8018e-01, -8.3969e-01,  ..., -8.5517e-01,\n",
       "           -8.1752e-01, -8.8555e-01],\n",
       "          [-6.9468e-02, -7.9288e-01, -7.2827e-01,  ..., -9.0478e-01,\n",
       "           -8.7185e-01, -8.7232e-01],\n",
       "          [-7.4769e-02, -7.9378e-01, -7.2461e-01,  ..., -8.4900e-01,\n",
       "           -8.4564e-01, -8.5346e-01]],\n",
       "\n",
       "         [[ 1.7711e+00, -2.4606e-01, -2.3984e-01,  ..., -1.4266e-01,\n",
       "           -1.1211e-01, -1.2091e-01],\n",
       "          [ 6.2330e-01, -2.4535e-01, -2.7723e-01,  ..., -2.7307e-01,\n",
       "           -2.5183e-01, -3.1030e-01],\n",
       "          [ 5.8280e-01, -2.7379e-01, -2.4544e-01,  ..., -2.9251e-01,\n",
       "           -3.0820e-01, -2.6231e-01],\n",
       "          ...,\n",
       "          [ 4.8172e-01, -2.4095e-01, -1.8218e-01,  ..., -2.5541e-01,\n",
       "           -2.5150e-01, -2.3458e-01],\n",
       "          [ 5.0432e-01, -1.8886e-01, -2.0984e-01,  ..., -1.7763e-01,\n",
       "           -1.9612e-01, -1.9229e-01],\n",
       "          [ 3.5894e-01, -2.9721e-01, -2.4188e-01,  ..., -1.4878e-01,\n",
       "           -3.1996e-01, -2.3169e-01]]],\n",
       "\n",
       "\n",
       "        ...,\n",
       "\n",
       "\n",
       "        [[[-7.3866e-01,  1.9384e+00,  1.9384e+00,  ...,  1.9384e+00,\n",
       "            1.9384e+00,  1.9384e+00],\n",
       "          [-7.2966e-01,  9.0258e-01,  9.0258e-01,  ...,  9.0258e-01,\n",
       "            9.0258e-01,  9.0258e-01],\n",
       "          [-7.2966e-01,  9.0258e-01,  9.0258e-01,  ...,  9.0258e-01,\n",
       "            9.0258e-01,  9.0258e-01],\n",
       "          ...,\n",
       "          [-7.2966e-01,  9.0258e-01,  9.0258e-01,  ...,  9.0258e-01,\n",
       "            9.0258e-01,  9.0258e-01],\n",
       "          [-7.2966e-01,  9.0258e-01,  9.0258e-01,  ...,  9.0258e-01,\n",
       "            9.0258e-01,  9.0258e-01],\n",
       "          [-7.2966e-01,  9.0258e-01,  9.0258e-01,  ...,  9.0258e-01,\n",
       "            9.0258e-01,  9.0258e-01]],\n",
       "\n",
       "         [[-6.6856e-01,  3.0772e+00,  3.0772e+00,  ...,  3.0772e+00,\n",
       "            3.0772e+00,  3.0772e+00],\n",
       "          [-7.3095e-01, -4.5913e-01, -4.5913e-01,  ..., -4.5913e-01,\n",
       "           -4.5913e-01, -4.5913e-01],\n",
       "          [-7.3095e-01, -4.5913e-01, -4.5913e-01,  ..., -4.5913e-01,\n",
       "           -4.5913e-01, -4.5913e-01],\n",
       "          ...,\n",
       "          [-7.3095e-01, -4.5913e-01, -4.5913e-01,  ..., -4.5913e-01,\n",
       "           -4.5913e-01, -4.5913e-01],\n",
       "          [-7.3095e-01, -4.5913e-01, -4.5913e-01,  ..., -4.5913e-01,\n",
       "           -4.5913e-01, -4.5913e-01],\n",
       "          [-7.3095e-01, -4.5913e-01, -4.5913e-01,  ..., -4.5913e-01,\n",
       "           -4.5913e-01, -4.5913e-01]],\n",
       "\n",
       "         [[-5.7549e-01, -6.3576e-01, -6.3576e-01,  ..., -6.3576e-01,\n",
       "           -6.3576e-01, -6.3576e-01],\n",
       "          [-8.9752e-01, -3.7267e-01, -3.7267e-01,  ..., -3.7267e-01,\n",
       "           -3.7267e-01, -3.7267e-01],\n",
       "          [-8.9752e-01, -3.7267e-01, -3.7267e-01,  ..., -3.7267e-01,\n",
       "           -3.7267e-01, -3.7267e-01],\n",
       "          ...,\n",
       "          [-8.9752e-01, -3.7267e-01, -3.7267e-01,  ..., -3.7267e-01,\n",
       "           -3.7267e-01, -3.7267e-01],\n",
       "          [-8.9752e-01, -3.7267e-01, -3.7267e-01,  ..., -3.7267e-01,\n",
       "           -3.7267e-01, -3.7267e-01],\n",
       "          [-8.9752e-01, -3.7267e-01, -3.7267e-01,  ..., -3.7267e-01,\n",
       "           -3.7267e-01, -3.7267e-01]],\n",
       "\n",
       "         ...,\n",
       "\n",
       "         [[ 7.1813e+00,  4.7830e+00,  4.7830e+00,  ...,  4.7830e+00,\n",
       "            4.7830e+00,  4.7830e+00],\n",
       "          [ 1.5593e+00,  1.9661e-01,  1.9661e-01,  ...,  1.9661e-01,\n",
       "            1.9661e-01,  1.9661e-01],\n",
       "          [ 1.5593e+00,  1.9661e-01,  1.9661e-01,  ...,  1.9661e-01,\n",
       "            1.9661e-01,  1.9661e-01],\n",
       "          ...,\n",
       "          [ 1.5593e+00,  1.9661e-01,  1.9661e-01,  ...,  1.9661e-01,\n",
       "            1.9661e-01,  1.9661e-01],\n",
       "          [ 1.5593e+00,  1.9661e-01,  1.9661e-01,  ...,  1.9661e-01,\n",
       "            1.9661e-01,  1.9661e-01],\n",
       "          [ 1.5593e+00,  1.9661e-01,  1.9661e-01,  ...,  1.9661e-01,\n",
       "            1.9661e-01,  1.9661e-01]],\n",
       "\n",
       "         [[ 9.7830e-01,  3.1904e-01,  3.1904e-01,  ...,  3.1904e-01,\n",
       "            3.1904e-01,  3.1904e-01],\n",
       "          [ 2.8447e+00,  5.5081e-01,  5.5081e-01,  ...,  5.5081e-01,\n",
       "            5.5081e-01,  5.5081e-01],\n",
       "          [ 2.8447e+00,  5.5081e-01,  5.5081e-01,  ...,  5.5081e-01,\n",
       "            5.5081e-01,  5.5081e-01],\n",
       "          ...,\n",
       "          [ 2.8447e+00,  5.5081e-01,  5.5081e-01,  ...,  5.5081e-01,\n",
       "            5.5081e-01,  5.5081e-01],\n",
       "          [ 2.8447e+00,  5.5081e-01,  5.5081e-01,  ...,  5.5081e-01,\n",
       "            5.5081e-01,  5.5081e-01],\n",
       "          [ 2.8447e+00,  5.5081e-01,  5.5081e-01,  ...,  5.5081e-01,\n",
       "            5.5081e-01,  5.5081e-01]],\n",
       "\n",
       "         [[-4.3283e-01, -8.2069e-01, -8.2069e-01,  ..., -8.2069e-01,\n",
       "           -8.2069e-01, -8.2069e-01],\n",
       "          [-6.7885e-01, -2.6055e-01, -2.6055e-01,  ..., -2.6055e-01,\n",
       "           -2.6055e-01, -2.6055e-01],\n",
       "          [-6.7885e-01, -2.6055e-01, -2.6055e-01,  ..., -2.6055e-01,\n",
       "           -2.6055e-01, -2.6055e-01],\n",
       "          ...,\n",
       "          [-6.7885e-01, -2.6055e-01, -2.6055e-01,  ..., -2.6055e-01,\n",
       "           -2.6055e-01, -2.6055e-01],\n",
       "          [-6.7885e-01, -2.6055e-01, -2.6055e-01,  ..., -2.6055e-01,\n",
       "           -2.6055e-01, -2.6055e-01],\n",
       "          [-6.7885e-01, -2.6055e-01, -2.6055e-01,  ..., -2.6055e-01,\n",
       "           -2.6055e-01, -2.6055e-01]]],\n",
       "\n",
       "\n",
       "        [[[-7.3866e-01,  1.9384e+00,  1.9384e+00,  ...,  1.9384e+00,\n",
       "            1.9384e+00,  1.9384e+00],\n",
       "          [-7.2966e-01,  9.0258e-01,  9.0258e-01,  ...,  9.0258e-01,\n",
       "            9.0258e-01,  9.0258e-01],\n",
       "          [-7.2966e-01,  9.0258e-01,  9.0258e-01,  ...,  9.0258e-01,\n",
       "            9.0258e-01,  9.0258e-01],\n",
       "          ...,\n",
       "          [-7.2966e-01,  9.0258e-01,  9.0258e-01,  ...,  9.0258e-01,\n",
       "            9.0258e-01,  9.0258e-01],\n",
       "          [-7.2966e-01,  9.0258e-01,  9.0258e-01,  ...,  9.0258e-01,\n",
       "            9.0258e-01,  9.0258e-01],\n",
       "          [-7.2966e-01,  9.0258e-01,  9.0258e-01,  ...,  9.0258e-01,\n",
       "            9.0258e-01,  9.0258e-01]],\n",
       "\n",
       "         [[-6.6856e-01,  3.0772e+00,  3.0772e+00,  ...,  3.0772e+00,\n",
       "            3.0772e+00,  3.0772e+00],\n",
       "          [-7.3095e-01, -4.5913e-01, -4.5913e-01,  ..., -4.5913e-01,\n",
       "           -4.5913e-01, -4.5913e-01],\n",
       "          [-7.3095e-01, -4.5913e-01, -4.5913e-01,  ..., -4.5913e-01,\n",
       "           -4.5913e-01, -4.5913e-01],\n",
       "          ...,\n",
       "          [-7.3095e-01, -4.5913e-01, -4.5913e-01,  ..., -4.5913e-01,\n",
       "           -4.5913e-01, -4.5913e-01],\n",
       "          [-7.3095e-01, -4.5913e-01, -4.5913e-01,  ..., -4.5913e-01,\n",
       "           -4.5913e-01, -4.5913e-01],\n",
       "          [-7.3095e-01, -4.5913e-01, -4.5913e-01,  ..., -4.5913e-01,\n",
       "           -4.5913e-01, -4.5913e-01]],\n",
       "\n",
       "         [[-5.7549e-01, -6.3576e-01, -6.3576e-01,  ..., -6.3576e-01,\n",
       "           -6.3576e-01, -6.3576e-01],\n",
       "          [-8.9752e-01, -3.7267e-01, -3.7267e-01,  ..., -3.7267e-01,\n",
       "           -3.7267e-01, -3.7267e-01],\n",
       "          [-8.9752e-01, -3.7267e-01, -3.7267e-01,  ..., -3.7267e-01,\n",
       "           -3.7267e-01, -3.7267e-01],\n",
       "          ...,\n",
       "          [-8.9752e-01, -3.7267e-01, -3.7267e-01,  ..., -3.7267e-01,\n",
       "           -3.7267e-01, -3.7267e-01],\n",
       "          [-8.9752e-01, -3.7267e-01, -3.7267e-01,  ..., -3.7267e-01,\n",
       "           -3.7267e-01, -3.7267e-01],\n",
       "          [-8.9752e-01, -3.7267e-01, -3.7267e-01,  ..., -3.7267e-01,\n",
       "           -3.7267e-01, -3.7267e-01]],\n",
       "\n",
       "         ...,\n",
       "\n",
       "         [[ 7.1813e+00,  4.7830e+00,  4.7830e+00,  ...,  4.7830e+00,\n",
       "            4.7830e+00,  4.7830e+00],\n",
       "          [ 1.5593e+00,  1.9661e-01,  1.9661e-01,  ...,  1.9661e-01,\n",
       "            1.9661e-01,  1.9661e-01],\n",
       "          [ 1.5593e+00,  1.9661e-01,  1.9661e-01,  ...,  1.9661e-01,\n",
       "            1.9661e-01,  1.9661e-01],\n",
       "          ...,\n",
       "          [ 1.5593e+00,  1.9661e-01,  1.9661e-01,  ...,  1.9661e-01,\n",
       "            1.9661e-01,  1.9661e-01],\n",
       "          [ 1.5593e+00,  1.9661e-01,  1.9661e-01,  ...,  1.9661e-01,\n",
       "            1.9661e-01,  1.9661e-01],\n",
       "          [ 1.5593e+00,  1.9661e-01,  1.9661e-01,  ...,  1.9661e-01,\n",
       "            1.9661e-01,  1.9661e-01]],\n",
       "\n",
       "         [[ 9.7830e-01,  3.1904e-01,  3.1904e-01,  ...,  3.1904e-01,\n",
       "            3.1904e-01,  3.1904e-01],\n",
       "          [ 2.8447e+00,  5.5081e-01,  5.5081e-01,  ...,  5.5081e-01,\n",
       "            5.5081e-01,  5.5081e-01],\n",
       "          [ 2.8447e+00,  5.5081e-01,  5.5081e-01,  ...,  5.5081e-01,\n",
       "            5.5081e-01,  5.5081e-01],\n",
       "          ...,\n",
       "          [ 2.8447e+00,  5.5081e-01,  5.5081e-01,  ...,  5.5081e-01,\n",
       "            5.5081e-01,  5.5081e-01],\n",
       "          [ 2.8447e+00,  5.5081e-01,  5.5081e-01,  ...,  5.5081e-01,\n",
       "            5.5081e-01,  5.5081e-01],\n",
       "          [ 2.8447e+00,  5.5081e-01,  5.5081e-01,  ...,  5.5081e-01,\n",
       "            5.5081e-01,  5.5081e-01]],\n",
       "\n",
       "         [[-4.3283e-01, -8.2069e-01, -8.2069e-01,  ..., -8.2069e-01,\n",
       "           -8.2069e-01, -8.2069e-01],\n",
       "          [-6.7885e-01, -2.6055e-01, -2.6055e-01,  ..., -2.6055e-01,\n",
       "           -2.6055e-01, -2.6055e-01],\n",
       "          [-6.7885e-01, -2.6055e-01, -2.6055e-01,  ..., -2.6055e-01,\n",
       "           -2.6055e-01, -2.6055e-01],\n",
       "          ...,\n",
       "          [-6.7885e-01, -2.6055e-01, -2.6055e-01,  ..., -2.6055e-01,\n",
       "           -2.6055e-01, -2.6055e-01],\n",
       "          [-6.7885e-01, -2.6055e-01, -2.6055e-01,  ..., -2.6055e-01,\n",
       "           -2.6055e-01, -2.6055e-01],\n",
       "          [-6.7885e-01, -2.6055e-01, -2.6055e-01,  ..., -2.6055e-01,\n",
       "           -2.6055e-01, -2.6055e-01]]],\n",
       "\n",
       "\n",
       "        [[[-7.3866e-01,  1.9384e+00,  1.9384e+00,  ...,  1.9384e+00,\n",
       "            1.9384e+00,  1.9384e+00],\n",
       "          [-7.2966e-01,  9.0258e-01,  9.0258e-01,  ...,  9.0258e-01,\n",
       "            9.0258e-01,  9.0258e-01],\n",
       "          [-7.2966e-01,  9.0258e-01,  9.0258e-01,  ...,  9.0258e-01,\n",
       "            9.0258e-01,  9.0258e-01],\n",
       "          ...,\n",
       "          [-7.2966e-01,  9.0258e-01,  9.0258e-01,  ...,  9.0258e-01,\n",
       "            9.0258e-01,  9.0258e-01],\n",
       "          [-7.2966e-01,  9.0258e-01,  9.0258e-01,  ...,  9.0258e-01,\n",
       "            9.0258e-01,  9.0258e-01],\n",
       "          [-7.2966e-01,  9.0258e-01,  9.0258e-01,  ...,  9.0258e-01,\n",
       "            9.0258e-01,  9.0258e-01]],\n",
       "\n",
       "         [[-6.6856e-01,  3.0772e+00,  3.0772e+00,  ...,  3.0772e+00,\n",
       "            3.0772e+00,  3.0772e+00],\n",
       "          [-7.3095e-01, -4.5913e-01, -4.5913e-01,  ..., -4.5913e-01,\n",
       "           -4.5913e-01, -4.5913e-01],\n",
       "          [-7.3095e-01, -4.5913e-01, -4.5913e-01,  ..., -4.5913e-01,\n",
       "           -4.5913e-01, -4.5913e-01],\n",
       "          ...,\n",
       "          [-7.3095e-01, -4.5913e-01, -4.5913e-01,  ..., -4.5913e-01,\n",
       "           -4.5913e-01, -4.5913e-01],\n",
       "          [-7.3095e-01, -4.5913e-01, -4.5913e-01,  ..., -4.5913e-01,\n",
       "           -4.5913e-01, -4.5913e-01],\n",
       "          [-7.3095e-01, -4.5913e-01, -4.5913e-01,  ..., -4.5913e-01,\n",
       "           -4.5913e-01, -4.5913e-01]],\n",
       "\n",
       "         [[-5.7549e-01, -6.3576e-01, -6.3576e-01,  ..., -6.3576e-01,\n",
       "           -6.3576e-01, -6.3576e-01],\n",
       "          [-8.9752e-01, -3.7267e-01, -3.7267e-01,  ..., -3.7267e-01,\n",
       "           -3.7267e-01, -3.7267e-01],\n",
       "          [-8.9752e-01, -3.7267e-01, -3.7267e-01,  ..., -3.7267e-01,\n",
       "           -3.7267e-01, -3.7267e-01],\n",
       "          ...,\n",
       "          [-8.9752e-01, -3.7267e-01, -3.7267e-01,  ..., -3.7267e-01,\n",
       "           -3.7267e-01, -3.7267e-01],\n",
       "          [-8.9752e-01, -3.7267e-01, -3.7267e-01,  ..., -3.7267e-01,\n",
       "           -3.7267e-01, -3.7267e-01],\n",
       "          [-8.9752e-01, -3.7267e-01, -3.7267e-01,  ..., -3.7267e-01,\n",
       "           -3.7267e-01, -3.7267e-01]],\n",
       "\n",
       "         ...,\n",
       "\n",
       "         [[ 7.1813e+00,  4.7830e+00,  4.7830e+00,  ...,  4.7830e+00,\n",
       "            4.7830e+00,  4.7830e+00],\n",
       "          [ 1.5593e+00,  1.9661e-01,  1.9661e-01,  ...,  1.9661e-01,\n",
       "            1.9661e-01,  1.9661e-01],\n",
       "          [ 1.5593e+00,  1.9661e-01,  1.9661e-01,  ...,  1.9661e-01,\n",
       "            1.9661e-01,  1.9661e-01],\n",
       "          ...,\n",
       "          [ 1.5593e+00,  1.9661e-01,  1.9661e-01,  ...,  1.9661e-01,\n",
       "            1.9661e-01,  1.9661e-01],\n",
       "          [ 1.5593e+00,  1.9661e-01,  1.9661e-01,  ...,  1.9661e-01,\n",
       "            1.9661e-01,  1.9661e-01],\n",
       "          [ 1.5593e+00,  1.9661e-01,  1.9661e-01,  ...,  1.9661e-01,\n",
       "            1.9661e-01,  1.9661e-01]],\n",
       "\n",
       "         [[ 9.7830e-01,  3.1904e-01,  3.1904e-01,  ...,  3.1904e-01,\n",
       "            3.1904e-01,  3.1904e-01],\n",
       "          [ 2.8447e+00,  5.5081e-01,  5.5081e-01,  ...,  5.5081e-01,\n",
       "            5.5081e-01,  5.5081e-01],\n",
       "          [ 2.8447e+00,  5.5081e-01,  5.5081e-01,  ...,  5.5081e-01,\n",
       "            5.5081e-01,  5.5081e-01],\n",
       "          ...,\n",
       "          [ 2.8447e+00,  5.5081e-01,  5.5081e-01,  ...,  5.5081e-01,\n",
       "            5.5081e-01,  5.5081e-01],\n",
       "          [ 2.8447e+00,  5.5081e-01,  5.5081e-01,  ...,  5.5081e-01,\n",
       "            5.5081e-01,  5.5081e-01],\n",
       "          [ 2.8447e+00,  5.5081e-01,  5.5081e-01,  ...,  5.5081e-01,\n",
       "            5.5081e-01,  5.5081e-01]],\n",
       "\n",
       "         [[-4.3283e-01, -8.2069e-01, -8.2069e-01,  ..., -8.2069e-01,\n",
       "           -8.2069e-01, -8.2069e-01],\n",
       "          [-6.7885e-01, -2.6055e-01, -2.6055e-01,  ..., -2.6055e-01,\n",
       "           -2.6055e-01, -2.6055e-01],\n",
       "          [-6.7885e-01, -2.6055e-01, -2.6055e-01,  ..., -2.6055e-01,\n",
       "           -2.6055e-01, -2.6055e-01],\n",
       "          ...,\n",
       "          [-6.7885e-01, -2.6055e-01, -2.6055e-01,  ..., -2.6055e-01,\n",
       "           -2.6055e-01, -2.6055e-01],\n",
       "          [-6.7885e-01, -2.6055e-01, -2.6055e-01,  ..., -2.6055e-01,\n",
       "           -2.6055e-01, -2.6055e-01],\n",
       "          [-6.7885e-01, -2.6055e-01, -2.6055e-01,  ..., -2.6055e-01,\n",
       "           -2.6055e-01, -2.6055e-01]]]], grad_fn=<NativeBatchNormBackward0>)"
      ]
     },
     "execution_count": 22,
     "metadata": {},
     "output_type": "execute_result"
    }
   ],
   "source": [
    "output"
   ]
  },
  {
   "cell_type": "code",
   "execution_count": 23,
   "metadata": {},
   "outputs": [
    {
     "data": {
      "text/plain": [
       "torch.Size([160, 256, 28, 28])"
      ]
     },
     "execution_count": 23,
     "metadata": {},
     "output_type": "execute_result"
    }
   ],
   "source": [
    "output.shape"
   ]
  },
  {
   "cell_type": "code",
   "execution_count": 24,
   "metadata": {},
   "outputs": [
    {
     "data": {
      "text/plain": [
       "<matplotlib.image.AxesImage at 0x26be0a6a570>"
      ]
     },
     "execution_count": 24,
     "metadata": {},
     "output_type": "execute_result"
    },
    {
     "data": {
      "image/png": "[encoded data removed]",
      "text/plain": [
       "<Figure size 640x480 with 1 Axes>"
      ]
     },
     "metadata": {},
     "output_type": "display_data"
    }
   ],
   "source": [
    "import matplotlib.pyplot as plt \n",
    "\n",
    "# output.shape = torch.Size([160, 256, 28, 28])\n",
    "plt.imshow(output[93][0].detach().numpy())"
   ]
  },
  {
   "cell_type": "code",
   "execution_count": 25,
   "metadata": {},
   "outputs": [
    {
     "data": {
      "text/plain": [
       "<matplotlib.image.AxesImage at 0x26be028ae10>"
      ]
     },
     "execution_count": 25,
     "metadata": {},
     "output_type": "execute_result"
    },
    {
     "data": {
      "image/png": "[encoded data removed]",
      "text/plain": [
       "<Figure size 640x480 with 1 Axes>"
      ]
     },
     "metadata": {},
     "output_type": "display_data"
    }
   ],
   "source": [
    "# input.shape = torch.Size([160, 3, 224, 224])\n",
    "plt.imshow(input[93][0].detach().numpy())"
   ]
  },
  {
   "cell_type": "markdown",
   "metadata": {},
   "source": [
    "### Convolutional Layer Based Transformer"
   ]
  },
  {
   "cell_type": "code",
   "execution_count": 26,
   "metadata": {},
   "outputs": [],
   "source": [
    "class TransformerLayer(nn.Module):\n",
    "    def __init__(self, input_dim, num_heads):\n",
    "        super(TransformerLayer, self).__init__()\n",
    "        self.conv1 = nn.Conv2d(input_dim, 512, kernel_size=3, padding=1)\n",
    "        self.layer_norm1 = nn.LayerNorm([512, 28, 28])  # Example size; adjust according to the data\n",
    "        self.mhsa = nn.MultiheadAttention(embed_dim=512, num_heads=num_heads)\n",
    "        self.layer_norm2 = nn.LayerNorm(512)\n",
    "        self.mlp_conv = nn.Conv2d(512, 256, kernel_size=1)\n",
    "\n",
    "    def forward(self, x):\n",
    "        x = self.conv1(x)\n",
    "        x = self.layer_norm1(x)\n",
    "        # Convert to shape suitable for MHSA\n",
    "        batch_size, channels, height, width = x.shape\n",
    "        x = x.view(batch_size, channels, -1).permute(2, 0, 1)  # (seq_len, batch_size, channels)\n",
    "        attn_output, _ = self.mhsa(x, x, x)\n",
    "        attn_output = self.layer_norm2(attn_output.permute(1, 2, 0).view(batch_size, channels, height, width))\n",
    "        x = self.mlp_conv(attn_output)\n",
    "        return x\n"
   ]
  },
  {
   "cell_type": "markdown",
   "metadata": {},
   "source": [
    "### CNN Branch"
   ]
  },
  {
   "cell_type": "code",
   "execution_count": 27,
   "metadata": {},
   "outputs": [],
   "source": [
    "class CNNBranch(nn.Module):\n",
    "    def __init__(self, in_channels):\n",
    "        super(CNNBranch, self).__init__()\n",
    "        self.conv1 = nn.Conv2d(in_channels, 512, kernel_size=3, stride=1, padding=1)\n",
    "        self.gb1 = GELUBatchNorm(512)\n",
    "        self.conv2 = nn.Conv2d(512, 512, kernel_size=3, stride=1, padding=1)\n",
    "        self.gb2 = GELUBatchNorm(512)\n",
    "\n",
    "    def forward(self, x):\n",
    "        x = self.conv1(x)\n",
    "        x = self.gb1(x)\n",
    "        x = self.conv2(x)\n",
    "        x = self.gb2(x)\n",
    "        return x\n"
   ]
  },
  {
   "cell_type": "markdown",
   "metadata": {},
   "source": [
    "### Final Classification Module"
   ]
  },
  {
   "cell_type": "code",
   "execution_count": 28,
   "metadata": {},
   "outputs": [],
   "source": [
    "class ClassificationModule(nn.Module):\n",
    "    def __init__(self, num_classes):\n",
    "        super(ClassificationModule, self).__init__()\n",
    "        self.conv = nn.Conv2d(512 + 256, 512, kernel_size=1)  # Concatenated size of transformer and CNN\n",
    "        self.avg_pool = nn.AdaptiveAvgPool2d((1, 1))\n",
    "        self.fc = nn.Linear(512, num_classes)\n",
    "\n",
    "    def forward(self, x):\n",
    "        x = self.conv(x)\n",
    "        x = self.avg_pool(x)\n",
    "        x = x.view(x.size(0), -1)  # Flatten\n",
    "        x = self.fc(x)\n",
    "        return x\n"
   ]
  },
  {
   "cell_type": "markdown",
   "metadata": {},
   "source": [
    "### Complete Model"
   ]
  },
  {
   "cell_type": "code",
   "execution_count": 29,
   "metadata": {},
   "outputs": [],
   "source": [
    "class SignLanguageModel(nn.Module):\n",
    "    def __init__(self, num_classes, in_channels=3, num_heads=8):\n",
    "        super(SignLanguageModel, self).__init__()\n",
    "        self.grain_module = GrainModule(in_channels)\n",
    "        self.transformer = TransformerLayer(input_dim=256, num_heads=num_heads)\n",
    "        self.cnn_branch = CNNBranch(in_channels=256)\n",
    "        self.classifier = ClassificationModule(num_classes)\n",
    "\n",
    "    def forward(self, x):\n",
    "        grain_features = self.grain_module(x)\n",
    "        transformer_features = self.transformer(grain_features)\n",
    "        cnn_features = self.cnn_branch(grain_features)\n",
    "        \n",
    "        # Concatenate features from transformer and CNN\n",
    "        final_features = torch.cat([transformer_features, cnn_features], dim=1)\n",
    "        \n",
    "        # Classification\n",
    "        predicted_class = self.classifier(final_features)\n",
    "        return predicted_class\n"
   ]
  },
  {
   "cell_type": "markdown",
   "metadata": {},
   "source": [
    "### Training Loop"
   ]
  },
  {
   "cell_type": "code",
   "execution_count": 30,
   "metadata": {},
   "outputs": [],
   "source": [
    "def train(model, train_loader, criterion, optimizer, num_epochs):\n",
    "    model.train()\n",
    "    for epoch in range(num_epochs):\n",
    "        for batch in dataloader:\n",
    "            inputs, labels = batch\n",
    "            inputs = inputs[0,:,:,:,:]\n",
    "            optimizer.zero_grad()\n",
    "            outputs = model(inputs)\n",
    "            loss = criterion(outputs, labels)\n",
    "            loss.backward()\n",
    "            optimizer.step()"
   ]
  },
  {
   "cell_type": "code",
   "execution_count": 31,
   "metadata": {},
   "outputs": [
    {
     "name": "stderr",
     "output_type": "stream",
     "text": [
      "C:\\Users\\araya\\AppData\\Local\\Temp\\ipykernel_9740\\4150219448.py:48: UserWarning: To copy construct from a tensor, it is recommended to use sourceTensor.clone().detach() or sourceTensor.clone().detach().requires_grad_(True), rather than torch.tensor(sourceTensor).\n",
      "  return torch.tensor(images, dtype=torch.float32), label\n"
     ]
    },
    {
     "ename": "RuntimeError",
     "evalue": "[enforce fail at alloc_cpu.cpp:114] data. DefaultCPUAllocator: not enough memory: you tried to allocate 3147038720 bytes.",
     "output_type": "error",
     "traceback": [
      "\u001b[1;31m---------------------------------------------------------------------------\u001b[0m",
      "\u001b[1;31mRuntimeError\u001b[0m                              Traceback (most recent call last)",
      "Cell \u001b[1;32mIn[31], line 9\u001b[0m\n\u001b[0;32m      6\u001b[0m optimizer \u001b[38;5;241m=\u001b[39m torch\u001b[38;5;241m.\u001b[39moptim\u001b[38;5;241m.\u001b[39mAdam(model\u001b[38;5;241m.\u001b[39mparameters(), lr\u001b[38;5;241m=\u001b[39m\u001b[38;5;241m0.001\u001b[39m)\n\u001b[0;32m      8\u001b[0m \u001b[38;5;66;03m# Train and test the model\u001b[39;00m\n\u001b[1;32m----> 9\u001b[0m \u001b[43mtrain\u001b[49m\u001b[43m(\u001b[49m\u001b[43mmodel\u001b[49m\u001b[43m,\u001b[49m\u001b[43m \u001b[49m\u001b[43mdataloader\u001b[49m\u001b[43m,\u001b[49m\u001b[43m \u001b[49m\u001b[43mcriterion\u001b[49m\u001b[43m,\u001b[49m\u001b[43m \u001b[49m\u001b[43moptimizer\u001b[49m\u001b[43m,\u001b[49m\u001b[43m \u001b[49m\u001b[43mnum_epochs\u001b[49m\u001b[38;5;241;43m=\u001b[39;49m\u001b[38;5;241;43m10\u001b[39;49m\u001b[43m)\u001b[49m\n\u001b[0;32m     10\u001b[0m \u001b[38;5;66;03m# accuracy = test(model, test_loader)\u001b[39;00m\n\u001b[0;32m     11\u001b[0m \u001b[38;5;66;03m# print(f\"Test Accuracy: {accuracy}%\")\u001b[39;00m\n",
      "Cell \u001b[1;32mIn[30], line 8\u001b[0m, in \u001b[0;36mtrain\u001b[1;34m(model, train_loader, criterion, optimizer, num_epochs)\u001b[0m\n\u001b[0;32m      6\u001b[0m inputs \u001b[38;5;241m=\u001b[39m inputs[\u001b[38;5;241m0\u001b[39m,:,:,:,:]\n\u001b[0;32m      7\u001b[0m optimizer\u001b[38;5;241m.\u001b[39mzero_grad()\n\u001b[1;32m----> 8\u001b[0m outputs \u001b[38;5;241m=\u001b[39m \u001b[43mmodel\u001b[49m\u001b[43m(\u001b[49m\u001b[43minputs\u001b[49m\u001b[43m)\u001b[49m\n\u001b[0;32m      9\u001b[0m loss \u001b[38;5;241m=\u001b[39m criterion(outputs, labels)\n\u001b[0;32m     10\u001b[0m loss\u001b[38;5;241m.\u001b[39mbackward()\n",
      "File \u001b[1;32mc:\\Users\\araya\\AppData\\Local\\Programs\\Python\\Python312\\Lib\\site-packages\\torch\\nn\\modules\\module.py:1511\u001b[0m, in \u001b[0;36mModule._wrapped_call_impl\u001b[1;34m(self, *args, **kwargs)\u001b[0m\n\u001b[0;32m   1509\u001b[0m     \u001b[38;5;28;01mreturn\u001b[39;00m \u001b[38;5;28mself\u001b[39m\u001b[38;5;241m.\u001b[39m_compiled_call_impl(\u001b[38;5;241m*\u001b[39margs, \u001b[38;5;241m*\u001b[39m\u001b[38;5;241m*\u001b[39mkwargs)  \u001b[38;5;66;03m# type: ignore[misc]\u001b[39;00m\n\u001b[0;32m   1510\u001b[0m \u001b[38;5;28;01melse\u001b[39;00m:\n\u001b[1;32m-> 1511\u001b[0m     \u001b[38;5;28;01mreturn\u001b[39;00m \u001b[38;5;28;43mself\u001b[39;49m\u001b[38;5;241;43m.\u001b[39;49m\u001b[43m_call_impl\u001b[49m\u001b[43m(\u001b[49m\u001b[38;5;241;43m*\u001b[39;49m\u001b[43margs\u001b[49m\u001b[43m,\u001b[49m\u001b[43m \u001b[49m\u001b[38;5;241;43m*\u001b[39;49m\u001b[38;5;241;43m*\u001b[39;49m\u001b[43mkwargs\u001b[49m\u001b[43m)\u001b[49m\n",
      "File \u001b[1;32mc:\\Users\\araya\\AppData\\Local\\Programs\\Python\\Python312\\Lib\\site-packages\\torch\\nn\\modules\\module.py:1520\u001b[0m, in \u001b[0;36mModule._call_impl\u001b[1;34m(self, *args, **kwargs)\u001b[0m\n\u001b[0;32m   1515\u001b[0m \u001b[38;5;66;03m# If we don't have any hooks, we want to skip the rest of the logic in\u001b[39;00m\n\u001b[0;32m   1516\u001b[0m \u001b[38;5;66;03m# this function, and just call forward.\u001b[39;00m\n\u001b[0;32m   1517\u001b[0m \u001b[38;5;28;01mif\u001b[39;00m \u001b[38;5;129;01mnot\u001b[39;00m (\u001b[38;5;28mself\u001b[39m\u001b[38;5;241m.\u001b[39m_backward_hooks \u001b[38;5;129;01mor\u001b[39;00m \u001b[38;5;28mself\u001b[39m\u001b[38;5;241m.\u001b[39m_backward_pre_hooks \u001b[38;5;129;01mor\u001b[39;00m \u001b[38;5;28mself\u001b[39m\u001b[38;5;241m.\u001b[39m_forward_hooks \u001b[38;5;129;01mor\u001b[39;00m \u001b[38;5;28mself\u001b[39m\u001b[38;5;241m.\u001b[39m_forward_pre_hooks\n\u001b[0;32m   1518\u001b[0m         \u001b[38;5;129;01mor\u001b[39;00m _global_backward_pre_hooks \u001b[38;5;129;01mor\u001b[39;00m _global_backward_hooks\n\u001b[0;32m   1519\u001b[0m         \u001b[38;5;129;01mor\u001b[39;00m _global_forward_hooks \u001b[38;5;129;01mor\u001b[39;00m _global_forward_pre_hooks):\n\u001b[1;32m-> 1520\u001b[0m     \u001b[38;5;28;01mreturn\u001b[39;00m \u001b[43mforward_call\u001b[49m\u001b[43m(\u001b[49m\u001b[38;5;241;43m*\u001b[39;49m\u001b[43margs\u001b[49m\u001b[43m,\u001b[49m\u001b[43m \u001b[49m\u001b[38;5;241;43m*\u001b[39;49m\u001b[38;5;241;43m*\u001b[39;49m\u001b[43mkwargs\u001b[49m\u001b[43m)\u001b[49m\n\u001b[0;32m   1522\u001b[0m \u001b[38;5;28;01mtry\u001b[39;00m:\n\u001b[0;32m   1523\u001b[0m     result \u001b[38;5;241m=\u001b[39m \u001b[38;5;28;01mNone\u001b[39;00m\n",
      "Cell \u001b[1;32mIn[29], line 11\u001b[0m, in \u001b[0;36mSignLanguageModel.forward\u001b[1;34m(self, x)\u001b[0m\n\u001b[0;32m      9\u001b[0m \u001b[38;5;28;01mdef\u001b[39;00m \u001b[38;5;21mforward\u001b[39m(\u001b[38;5;28mself\u001b[39m, x):\n\u001b[0;32m     10\u001b[0m     grain_features \u001b[38;5;241m=\u001b[39m \u001b[38;5;28mself\u001b[39m\u001b[38;5;241m.\u001b[39mgrain_module(x)\n\u001b[1;32m---> 11\u001b[0m     transformer_features \u001b[38;5;241m=\u001b[39m \u001b[38;5;28;43mself\u001b[39;49m\u001b[38;5;241;43m.\u001b[39;49m\u001b[43mtransformer\u001b[49m\u001b[43m(\u001b[49m\u001b[43mgrain_features\u001b[49m\u001b[43m)\u001b[49m\n\u001b[0;32m     12\u001b[0m     cnn_features \u001b[38;5;241m=\u001b[39m \u001b[38;5;28mself\u001b[39m\u001b[38;5;241m.\u001b[39mcnn_branch(grain_features)\n\u001b[0;32m     14\u001b[0m     \u001b[38;5;66;03m# Concatenate features from transformer and CNN\u001b[39;00m\n",
      "File \u001b[1;32mc:\\Users\\araya\\AppData\\Local\\Programs\\Python\\Python312\\Lib\\site-packages\\torch\\nn\\modules\\module.py:1511\u001b[0m, in \u001b[0;36mModule._wrapped_call_impl\u001b[1;34m(self, *args, **kwargs)\u001b[0m\n\u001b[0;32m   1509\u001b[0m     \u001b[38;5;28;01mreturn\u001b[39;00m \u001b[38;5;28mself\u001b[39m\u001b[38;5;241m.\u001b[39m_compiled_call_impl(\u001b[38;5;241m*\u001b[39margs, \u001b[38;5;241m*\u001b[39m\u001b[38;5;241m*\u001b[39mkwargs)  \u001b[38;5;66;03m# type: ignore[misc]\u001b[39;00m\n\u001b[0;32m   1510\u001b[0m \u001b[38;5;28;01melse\u001b[39;00m:\n\u001b[1;32m-> 1511\u001b[0m     \u001b[38;5;28;01mreturn\u001b[39;00m \u001b[38;5;28;43mself\u001b[39;49m\u001b[38;5;241;43m.\u001b[39;49m\u001b[43m_call_impl\u001b[49m\u001b[43m(\u001b[49m\u001b[38;5;241;43m*\u001b[39;49m\u001b[43margs\u001b[49m\u001b[43m,\u001b[49m\u001b[43m \u001b[49m\u001b[38;5;241;43m*\u001b[39;49m\u001b[38;5;241;43m*\u001b[39;49m\u001b[43mkwargs\u001b[49m\u001b[43m)\u001b[49m\n",
      "File \u001b[1;32mc:\\Users\\araya\\AppData\\Local\\Programs\\Python\\Python312\\Lib\\site-packages\\torch\\nn\\modules\\module.py:1520\u001b[0m, in \u001b[0;36mModule._call_impl\u001b[1;34m(self, *args, **kwargs)\u001b[0m\n\u001b[0;32m   1515\u001b[0m \u001b[38;5;66;03m# If we don't have any hooks, we want to skip the rest of the logic in\u001b[39;00m\n\u001b[0;32m   1516\u001b[0m \u001b[38;5;66;03m# this function, and just call forward.\u001b[39;00m\n\u001b[0;32m   1517\u001b[0m \u001b[38;5;28;01mif\u001b[39;00m \u001b[38;5;129;01mnot\u001b[39;00m (\u001b[38;5;28mself\u001b[39m\u001b[38;5;241m.\u001b[39m_backward_hooks \u001b[38;5;129;01mor\u001b[39;00m \u001b[38;5;28mself\u001b[39m\u001b[38;5;241m.\u001b[39m_backward_pre_hooks \u001b[38;5;129;01mor\u001b[39;00m \u001b[38;5;28mself\u001b[39m\u001b[38;5;241m.\u001b[39m_forward_hooks \u001b[38;5;129;01mor\u001b[39;00m \u001b[38;5;28mself\u001b[39m\u001b[38;5;241m.\u001b[39m_forward_pre_hooks\n\u001b[0;32m   1518\u001b[0m         \u001b[38;5;129;01mor\u001b[39;00m _global_backward_pre_hooks \u001b[38;5;129;01mor\u001b[39;00m _global_backward_hooks\n\u001b[0;32m   1519\u001b[0m         \u001b[38;5;129;01mor\u001b[39;00m _global_forward_hooks \u001b[38;5;129;01mor\u001b[39;00m _global_forward_pre_hooks):\n\u001b[1;32m-> 1520\u001b[0m     \u001b[38;5;28;01mreturn\u001b[39;00m \u001b[43mforward_call\u001b[49m\u001b[43m(\u001b[49m\u001b[38;5;241;43m*\u001b[39;49m\u001b[43margs\u001b[49m\u001b[43m,\u001b[49m\u001b[43m \u001b[49m\u001b[38;5;241;43m*\u001b[39;49m\u001b[38;5;241;43m*\u001b[39;49m\u001b[43mkwargs\u001b[49m\u001b[43m)\u001b[49m\n\u001b[0;32m   1522\u001b[0m \u001b[38;5;28;01mtry\u001b[39;00m:\n\u001b[0;32m   1523\u001b[0m     result \u001b[38;5;241m=\u001b[39m \u001b[38;5;28;01mNone\u001b[39;00m\n",
      "Cell \u001b[1;32mIn[26], line 16\u001b[0m, in \u001b[0;36mTransformerLayer.forward\u001b[1;34m(self, x)\u001b[0m\n\u001b[0;32m     14\u001b[0m batch_size, channels, height, width \u001b[38;5;241m=\u001b[39m x\u001b[38;5;241m.\u001b[39mshape\n\u001b[0;32m     15\u001b[0m x \u001b[38;5;241m=\u001b[39m x\u001b[38;5;241m.\u001b[39mview(batch_size, channels, \u001b[38;5;241m-\u001b[39m\u001b[38;5;241m1\u001b[39m)\u001b[38;5;241m.\u001b[39mpermute(\u001b[38;5;241m2\u001b[39m, \u001b[38;5;241m0\u001b[39m, \u001b[38;5;241m1\u001b[39m)  \u001b[38;5;66;03m# (seq_len, batch_size, channels)\u001b[39;00m\n\u001b[1;32m---> 16\u001b[0m attn_output, _ \u001b[38;5;241m=\u001b[39m \u001b[38;5;28;43mself\u001b[39;49m\u001b[38;5;241;43m.\u001b[39;49m\u001b[43mmhsa\u001b[49m\u001b[43m(\u001b[49m\u001b[43mx\u001b[49m\u001b[43m,\u001b[49m\u001b[43m \u001b[49m\u001b[43mx\u001b[49m\u001b[43m,\u001b[49m\u001b[43m \u001b[49m\u001b[43mx\u001b[49m\u001b[43m)\u001b[49m\n\u001b[0;32m     17\u001b[0m attn_output \u001b[38;5;241m=\u001b[39m \u001b[38;5;28mself\u001b[39m\u001b[38;5;241m.\u001b[39mlayer_norm2(attn_output\u001b[38;5;241m.\u001b[39mpermute(\u001b[38;5;241m1\u001b[39m, \u001b[38;5;241m2\u001b[39m, \u001b[38;5;241m0\u001b[39m)\u001b[38;5;241m.\u001b[39mview(batch_size, channels, height, width))\n\u001b[0;32m     18\u001b[0m x \u001b[38;5;241m=\u001b[39m \u001b[38;5;28mself\u001b[39m\u001b[38;5;241m.\u001b[39mmlp_conv(attn_output)\n",
      "File \u001b[1;32mc:\\Users\\araya\\AppData\\Local\\Programs\\Python\\Python312\\Lib\\site-packages\\torch\\nn\\modules\\module.py:1511\u001b[0m, in \u001b[0;36mModule._wrapped_call_impl\u001b[1;34m(self, *args, **kwargs)\u001b[0m\n\u001b[0;32m   1509\u001b[0m     \u001b[38;5;28;01mreturn\u001b[39;00m \u001b[38;5;28mself\u001b[39m\u001b[38;5;241m.\u001b[39m_compiled_call_impl(\u001b[38;5;241m*\u001b[39margs, \u001b[38;5;241m*\u001b[39m\u001b[38;5;241m*\u001b[39mkwargs)  \u001b[38;5;66;03m# type: ignore[misc]\u001b[39;00m\n\u001b[0;32m   1510\u001b[0m \u001b[38;5;28;01melse\u001b[39;00m:\n\u001b[1;32m-> 1511\u001b[0m     \u001b[38;5;28;01mreturn\u001b[39;00m \u001b[38;5;28;43mself\u001b[39;49m\u001b[38;5;241;43m.\u001b[39;49m\u001b[43m_call_impl\u001b[49m\u001b[43m(\u001b[49m\u001b[38;5;241;43m*\u001b[39;49m\u001b[43margs\u001b[49m\u001b[43m,\u001b[49m\u001b[43m \u001b[49m\u001b[38;5;241;43m*\u001b[39;49m\u001b[38;5;241;43m*\u001b[39;49m\u001b[43mkwargs\u001b[49m\u001b[43m)\u001b[49m\n",
      "File \u001b[1;32mc:\\Users\\araya\\AppData\\Local\\Programs\\Python\\Python312\\Lib\\site-packages\\torch\\nn\\modules\\module.py:1520\u001b[0m, in \u001b[0;36mModule._call_impl\u001b[1;34m(self, *args, **kwargs)\u001b[0m\n\u001b[0;32m   1515\u001b[0m \u001b[38;5;66;03m# If we don't have any hooks, we want to skip the rest of the logic in\u001b[39;00m\n\u001b[0;32m   1516\u001b[0m \u001b[38;5;66;03m# this function, and just call forward.\u001b[39;00m\n\u001b[0;32m   1517\u001b[0m \u001b[38;5;28;01mif\u001b[39;00m \u001b[38;5;129;01mnot\u001b[39;00m (\u001b[38;5;28mself\u001b[39m\u001b[38;5;241m.\u001b[39m_backward_hooks \u001b[38;5;129;01mor\u001b[39;00m \u001b[38;5;28mself\u001b[39m\u001b[38;5;241m.\u001b[39m_backward_pre_hooks \u001b[38;5;129;01mor\u001b[39;00m \u001b[38;5;28mself\u001b[39m\u001b[38;5;241m.\u001b[39m_forward_hooks \u001b[38;5;129;01mor\u001b[39;00m \u001b[38;5;28mself\u001b[39m\u001b[38;5;241m.\u001b[39m_forward_pre_hooks\n\u001b[0;32m   1518\u001b[0m         \u001b[38;5;129;01mor\u001b[39;00m _global_backward_pre_hooks \u001b[38;5;129;01mor\u001b[39;00m _global_backward_hooks\n\u001b[0;32m   1519\u001b[0m         \u001b[38;5;129;01mor\u001b[39;00m _global_forward_hooks \u001b[38;5;129;01mor\u001b[39;00m _global_forward_pre_hooks):\n\u001b[1;32m-> 1520\u001b[0m     \u001b[38;5;28;01mreturn\u001b[39;00m \u001b[43mforward_call\u001b[49m\u001b[43m(\u001b[49m\u001b[38;5;241;43m*\u001b[39;49m\u001b[43margs\u001b[49m\u001b[43m,\u001b[49m\u001b[43m \u001b[49m\u001b[38;5;241;43m*\u001b[39;49m\u001b[38;5;241;43m*\u001b[39;49m\u001b[43mkwargs\u001b[49m\u001b[43m)\u001b[49m\n\u001b[0;32m   1522\u001b[0m \u001b[38;5;28;01mtry\u001b[39;00m:\n\u001b[0;32m   1523\u001b[0m     result \u001b[38;5;241m=\u001b[39m \u001b[38;5;28;01mNone\u001b[39;00m\n",
      "File \u001b[1;32mc:\\Users\\araya\\AppData\\Local\\Programs\\Python\\Python312\\Lib\\site-packages\\torch\\nn\\modules\\activation.py:1241\u001b[0m, in \u001b[0;36mMultiheadAttention.forward\u001b[1;34m(self, query, key, value, key_padding_mask, need_weights, attn_mask, average_attn_weights, is_causal)\u001b[0m\n\u001b[0;32m   1227\u001b[0m     attn_output, attn_output_weights \u001b[38;5;241m=\u001b[39m F\u001b[38;5;241m.\u001b[39mmulti_head_attention_forward(\n\u001b[0;32m   1228\u001b[0m         query, key, value, \u001b[38;5;28mself\u001b[39m\u001b[38;5;241m.\u001b[39membed_dim, \u001b[38;5;28mself\u001b[39m\u001b[38;5;241m.\u001b[39mnum_heads,\n\u001b[0;32m   1229\u001b[0m         \u001b[38;5;28mself\u001b[39m\u001b[38;5;241m.\u001b[39min_proj_weight, \u001b[38;5;28mself\u001b[39m\u001b[38;5;241m.\u001b[39min_proj_bias,\n\u001b[1;32m   (...)\u001b[0m\n\u001b[0;32m   1238\u001b[0m         average_attn_weights\u001b[38;5;241m=\u001b[39maverage_attn_weights,\n\u001b[0;32m   1239\u001b[0m         is_causal\u001b[38;5;241m=\u001b[39mis_causal)\n\u001b[0;32m   1240\u001b[0m \u001b[38;5;28;01melse\u001b[39;00m:\n\u001b[1;32m-> 1241\u001b[0m     attn_output, attn_output_weights \u001b[38;5;241m=\u001b[39m \u001b[43mF\u001b[49m\u001b[38;5;241;43m.\u001b[39;49m\u001b[43mmulti_head_attention_forward\u001b[49m\u001b[43m(\u001b[49m\n\u001b[0;32m   1242\u001b[0m \u001b[43m        \u001b[49m\u001b[43mquery\u001b[49m\u001b[43m,\u001b[49m\u001b[43m \u001b[49m\u001b[43mkey\u001b[49m\u001b[43m,\u001b[49m\u001b[43m \u001b[49m\u001b[43mvalue\u001b[49m\u001b[43m,\u001b[49m\u001b[43m \u001b[49m\u001b[38;5;28;43mself\u001b[39;49m\u001b[38;5;241;43m.\u001b[39;49m\u001b[43membed_dim\u001b[49m\u001b[43m,\u001b[49m\u001b[43m \u001b[49m\u001b[38;5;28;43mself\u001b[39;49m\u001b[38;5;241;43m.\u001b[39;49m\u001b[43mnum_heads\u001b[49m\u001b[43m,\u001b[49m\n\u001b[0;32m   1243\u001b[0m \u001b[43m        \u001b[49m\u001b[38;5;28;43mself\u001b[39;49m\u001b[38;5;241;43m.\u001b[39;49m\u001b[43min_proj_weight\u001b[49m\u001b[43m,\u001b[49m\u001b[43m \u001b[49m\u001b[38;5;28;43mself\u001b[39;49m\u001b[38;5;241;43m.\u001b[39;49m\u001b[43min_proj_bias\u001b[49m\u001b[43m,\u001b[49m\n\u001b[0;32m   1244\u001b[0m \u001b[43m        \u001b[49m\u001b[38;5;28;43mself\u001b[39;49m\u001b[38;5;241;43m.\u001b[39;49m\u001b[43mbias_k\u001b[49m\u001b[43m,\u001b[49m\u001b[43m \u001b[49m\u001b[38;5;28;43mself\u001b[39;49m\u001b[38;5;241;43m.\u001b[39;49m\u001b[43mbias_v\u001b[49m\u001b[43m,\u001b[49m\u001b[43m \u001b[49m\u001b[38;5;28;43mself\u001b[39;49m\u001b[38;5;241;43m.\u001b[39;49m\u001b[43madd_zero_attn\u001b[49m\u001b[43m,\u001b[49m\n\u001b[0;32m   1245\u001b[0m \u001b[43m        \u001b[49m\u001b[38;5;28;43mself\u001b[39;49m\u001b[38;5;241;43m.\u001b[39;49m\u001b[43mdropout\u001b[49m\u001b[43m,\u001b[49m\u001b[43m \u001b[49m\u001b[38;5;28;43mself\u001b[39;49m\u001b[38;5;241;43m.\u001b[39;49m\u001b[43mout_proj\u001b[49m\u001b[38;5;241;43m.\u001b[39;49m\u001b[43mweight\u001b[49m\u001b[43m,\u001b[49m\u001b[43m \u001b[49m\u001b[38;5;28;43mself\u001b[39;49m\u001b[38;5;241;43m.\u001b[39;49m\u001b[43mout_proj\u001b[49m\u001b[38;5;241;43m.\u001b[39;49m\u001b[43mbias\u001b[49m\u001b[43m,\u001b[49m\n\u001b[0;32m   1246\u001b[0m \u001b[43m        \u001b[49m\u001b[43mtraining\u001b[49m\u001b[38;5;241;43m=\u001b[39;49m\u001b[38;5;28;43mself\u001b[39;49m\u001b[38;5;241;43m.\u001b[39;49m\u001b[43mtraining\u001b[49m\u001b[43m,\u001b[49m\n\u001b[0;32m   1247\u001b[0m \u001b[43m        \u001b[49m\u001b[43mkey_padding_mask\u001b[49m\u001b[38;5;241;43m=\u001b[39;49m\u001b[43mkey_padding_mask\u001b[49m\u001b[43m,\u001b[49m\n\u001b[0;32m   1248\u001b[0m \u001b[43m        \u001b[49m\u001b[43mneed_weights\u001b[49m\u001b[38;5;241;43m=\u001b[39;49m\u001b[43mneed_weights\u001b[49m\u001b[43m,\u001b[49m\n\u001b[0;32m   1249\u001b[0m \u001b[43m        \u001b[49m\u001b[43mattn_mask\u001b[49m\u001b[38;5;241;43m=\u001b[39;49m\u001b[43mattn_mask\u001b[49m\u001b[43m,\u001b[49m\n\u001b[0;32m   1250\u001b[0m \u001b[43m        \u001b[49m\u001b[43maverage_attn_weights\u001b[49m\u001b[38;5;241;43m=\u001b[39;49m\u001b[43maverage_attn_weights\u001b[49m\u001b[43m,\u001b[49m\n\u001b[0;32m   1251\u001b[0m \u001b[43m        \u001b[49m\u001b[43mis_causal\u001b[49m\u001b[38;5;241;43m=\u001b[39;49m\u001b[43mis_causal\u001b[49m\u001b[43m)\u001b[49m\n\u001b[0;32m   1252\u001b[0m \u001b[38;5;28;01mif\u001b[39;00m \u001b[38;5;28mself\u001b[39m\u001b[38;5;241m.\u001b[39mbatch_first \u001b[38;5;129;01mand\u001b[39;00m is_batched:\n\u001b[0;32m   1253\u001b[0m     \u001b[38;5;28;01mreturn\u001b[39;00m attn_output\u001b[38;5;241m.\u001b[39mtranspose(\u001b[38;5;241m1\u001b[39m, \u001b[38;5;241m0\u001b[39m), attn_output_weights\n",
      "File \u001b[1;32mc:\\Users\\araya\\AppData\\Local\\Programs\\Python\\Python312\\Lib\\site-packages\\torch\\nn\\functional.py:5441\u001b[0m, in \u001b[0;36mmulti_head_attention_forward\u001b[1;34m(query, key, value, embed_dim_to_check, num_heads, in_proj_weight, in_proj_bias, bias_k, bias_v, add_zero_attn, dropout_p, out_proj_weight, out_proj_bias, training, key_padding_mask, need_weights, attn_mask, use_separate_proj_weight, q_proj_weight, k_proj_weight, v_proj_weight, static_k, static_v, average_attn_weights, is_causal)\u001b[0m\n\u001b[0;32m   5439\u001b[0m     attn_output_weights \u001b[38;5;241m=\u001b[39m torch\u001b[38;5;241m.\u001b[39mbaddbmm(attn_mask, q_scaled, k\u001b[38;5;241m.\u001b[39mtranspose(\u001b[38;5;241m-\u001b[39m\u001b[38;5;241m2\u001b[39m, \u001b[38;5;241m-\u001b[39m\u001b[38;5;241m1\u001b[39m))\n\u001b[0;32m   5440\u001b[0m \u001b[38;5;28;01melse\u001b[39;00m:\n\u001b[1;32m-> 5441\u001b[0m     attn_output_weights \u001b[38;5;241m=\u001b[39m \u001b[43mtorch\u001b[49m\u001b[38;5;241;43m.\u001b[39;49m\u001b[43mbmm\u001b[49m\u001b[43m(\u001b[49m\u001b[43mq_scaled\u001b[49m\u001b[43m,\u001b[49m\u001b[43m \u001b[49m\u001b[43mk\u001b[49m\u001b[38;5;241;43m.\u001b[39;49m\u001b[43mtranspose\u001b[49m\u001b[43m(\u001b[49m\u001b[38;5;241;43m-\u001b[39;49m\u001b[38;5;241;43m2\u001b[39;49m\u001b[43m,\u001b[49m\u001b[43m \u001b[49m\u001b[38;5;241;43m-\u001b[39;49m\u001b[38;5;241;43m1\u001b[39;49m\u001b[43m)\u001b[49m\u001b[43m)\u001b[49m\n\u001b[0;32m   5442\u001b[0m attn_output_weights \u001b[38;5;241m=\u001b[39m softmax(attn_output_weights, dim\u001b[38;5;241m=\u001b[39m\u001b[38;5;241m-\u001b[39m\u001b[38;5;241m1\u001b[39m)\n\u001b[0;32m   5443\u001b[0m \u001b[38;5;28;01mif\u001b[39;00m dropout_p \u001b[38;5;241m>\u001b[39m \u001b[38;5;241m0.0\u001b[39m:\n",
      "\u001b[1;31mRuntimeError\u001b[0m: [enforce fail at alloc_cpu.cpp:114] data. DefaultCPUAllocator: not enough memory: you tried to allocate 3147038720 bytes."
     ]
    },
    {
     "ename": "",
     "evalue": "",
     "output_type": "error",
     "traceback": [
      "\u001b[1;31mThe Kernel crashed while executing code in the current cell or a previous cell. \n",
      "\u001b[1;31mPlease review the code in the cell(s) to identify a possible cause of the failure. \n",
      "\u001b[1;31mClick <a href='https://aka.ms/vscodeJupyterKernelCrash'>here</a> for more info. \n",
      "\u001b[1;31mView Jupyter <a href='command:jupyter.viewOutput'>log</a> for further details."
     ]
    }
   ],
   "source": [
    "# Initialize the model\n",
    "model = SignLanguageModel(num_classes=40)  # Adjust based on your number of classes\n",
    "\n",
    "# Define loss function and optimizer\n",
    "criterion = nn.CrossEntropyLoss()\n",
    "optimizer = torch.optim.Adam(model.parameters(), lr=0.001)\n",
    "\n",
    "# Train and test the model\n",
    "train(model, dataloader, criterion, optimizer, num_epochs=10)\n",
    "# accuracy = test(model, test_loader)\n",
    "# print(f\"Test Accuracy: {accuracy}%\")"
   ]
  },
  {
   "cell_type": "code",
   "execution_count": null,
   "metadata": {},
   "outputs": [],
   "source": []
  }
 ],
 "metadata": {
  "kernelspec": {
   "display_name": "Python 3",
   "language": "python",
   "name": "python3"
  },
  "language_info": {
   "codemirror_mode": {
    "name": "ipython",
    "version": 3
   },
   "file_extension": ".py",
   "mimetype": "text/x-python",
   "name": "python",
   "nbconvert_exporter": "python",
   "pygments_lexer": "ipython3",
   "version": "3.12.4"
  }
 },
 "nbformat": 4,
 "nbformat_minor": 2
}
