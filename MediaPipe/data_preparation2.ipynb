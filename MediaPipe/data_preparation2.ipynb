{
 "cells": [
  {
   "cell_type": "markdown",
   "metadata": {},
   "source": [
    "### Video Sequences data preparation"
   ]
  },
  {
   "cell_type": "code",
   "execution_count": 16,
   "metadata": {},
   "outputs": [],
   "source": [
    "import os\n",
    "import torch\n",
    "from torch.utils.data import Dataset, DataLoader\n",
    "from PIL import Image\n",
    "from torchvision import transforms\n",
    "import re"
   ]
  },
  {
   "cell_type": "markdown",
   "metadata": {},
   "source": [
    "### Padded with lastet frame"
   ]
  },
  {
   "cell_type": "code",
   "execution_count": 17,
   "metadata": {},
   "outputs": [],
   "source": [
    "# class VideoSequenceDataset(Dataset):\n",
    "#     def __init__(self, root_dir, transform=None, sequence_length=160):\n",
    "#         self.root_dir = root_dir\n",
    "#         self.transform = transform\n",
    "#         self.sequence_length = sequence_length  # Set target sequence length\n",
    "#         self.classes = os.listdir(root_dir)\n",
    "#         self.data = self.load_sequences()\n",
    "\n",
    "#     def load_sequences(self):\n",
    "#         data = []\n",
    "#         for class_idx, class_folder in enumerate(self.classes):\n",
    "#             class_path = os.path.join(self.root_dir, class_folder)\n",
    "\n",
    "#             # List and sort frames numerically\n",
    "#             image_sequences = sorted(os.listdir(class_path), key=self.natural_sort_key)\n",
    "#             frames = [os.path.join(class_path, img) for img in image_sequences]\n",
    "\n",
    "#             data.append((frames, class_idx))\n",
    "#         return data\n",
    "\n",
    "#     def natural_sort_key(self, string):\n",
    "#         # Extract numbers from the filename to ensure numeric sorting\n",
    "#         return [int(text) if text.isdigit() else text for text in re.split(r'(\\d+)', string)]\n",
    "\n",
    "#     def __len__(self):\n",
    "#         return len(self.data)\n",
    "\n",
    "#     def __getitem__(self, idx):\n",
    "#         image_paths, label = self.data[idx]\n",
    "#         images = [Image.open(img_path).convert('RGB') for img_path in image_paths]\n",
    "\n",
    "#         # Pad the sequence to the target length (self.sequence_length)\n",
    "#         if len(images) < self.sequence_length:\n",
    "#             pad_size = self.sequence_length - len(images)\n",
    "#             # Repeat the last frame or pad with black frames\n",
    "#             last_image = images[-1]\n",
    "#             pad_images = [last_image] * pad_size\n",
    "#             images.extend(pad_images)\n",
    "#         elif len(images) > self.sequence_length:\n",
    "#             # Truncate the sequence if it exceeds the target length\n",
    "#             images = images[:self.sequence_length]\n",
    "\n",
    "#         if self.transform:\n",
    "#             images = [self.transform(img) for img in images]\n",
    "\n",
    "#         images = torch.stack(images, dim=0)  # Stack into a tensor\n",
    "\n",
    "#         return images, label"
   ]
  },
  {
   "cell_type": "markdown",
   "metadata": {},
   "source": [
    "### Padded with zeros"
   ]
  },
  {
   "cell_type": "code",
   "execution_count": 18,
   "metadata": {},
   "outputs": [],
   "source": [
    "class VideoSequenceDataset(Dataset):\n",
    "    def __init__(self, root_dir, transform, sequence_length=160):\n",
    "        self.root_dir = root_dir\n",
    "        self.transform = transform\n",
    "        self.sequence_length = sequence_length  # Set target sequence length\n",
    "        self.classes = os.listdir(root_dir)\n",
    "        self.data = self.load_sequences()\n",
    "\n",
    "    def load_sequences(self):\n",
    "        data = []\n",
    "        for class_idx, class_folder in enumerate(self.classes):\n",
    "            class_path = os.path.join(self.root_dir, class_folder)\n",
    "\n",
    "            # List and sort frames numerically\n",
    "            image_sequences = sorted(os.listdir(class_path), key=self.natural_sort_key)\n",
    "            frames = [os.path.join(class_path, img) for img in image_sequences]\n",
    "\n",
    "            data.append((frames, class_idx))\n",
    "        return data\n",
    "\n",
    "    def natural_sort_key(self, string):\n",
    "        # Extract numbers from the filename to ensure numeric sorting\n",
    "        return [int(text) if text.isdigit() else text for text in re.split(r'(\\d+)', string)]\n",
    "\n",
    "    def __len__(self):\n",
    "        return len(self.data)\n",
    "\n",
    "    def __getitem__(self, idx):\n",
    "        image_paths, label = self.data[idx]\n",
    "        images = [Image.open(img_path).convert('RGB') for img_path in image_paths]\n",
    "\n",
    "        # If there are fewer images than the sequence length, pad with zeros\n",
    "        if len(images) < self.sequence_length:\n",
    "            pad_size = self.sequence_length - len(images)\n",
    "            # Create a black (zero) image of the same size as the input (e.g., 224x224)\n",
    "            zero_image = Image.new('RGB', (224, 224), (0, 0, 0))  # Black image\n",
    "            pad_images = [zero_image] * pad_size\n",
    "            images.extend(pad_images)\n",
    "        elif len(images) > self.sequence_length:\n",
    "            # Truncate the sequence if it exceeds the target length\n",
    "            images = images[:self.sequence_length]\n",
    "\n",
    "        if self.transform:\n",
    "            images = [self.transform(img) for img in images]\n",
    "\n",
    "        images = torch.stack(images, dim=0)  # Stack into a tensor\n",
    "\n",
    "        return torch.tensor(images, dtype=torch.float32), label"
   ]
  },
  {
   "cell_type": "code",
   "execution_count": 19,
   "metadata": {},
   "outputs": [],
   "source": [
    "transform = transforms.Compose([\n",
    "    transforms.Resize((224, 224)),  # Resize to a fixed size\n",
    "    transforms.ToTensor(),  # Convert image to PyTorch tensor\n",
    "    transforms.Normalize(mean=[0.485, 0.456, 0.406], std=[0.229, 0.224, 0.225])  # Normalize using ImageNet stats\n",
    "])"
   ]
  },
  {
   "cell_type": "code",
   "execution_count": 20,
   "metadata": {},
   "outputs": [
    {
     "name": "stderr",
     "output_type": "stream",
     "text": [
      "C:\\Users\\araya\\AppData\\Local\\Temp\\ipykernel_27300\\4150219448.py:48: UserWarning: To copy construct from a tensor, it is recommended to use sourceTensor.clone().detach() or sourceTensor.clone().detach().requires_grad_(True), rather than torch.tensor(sourceTensor).\n",
      "  return torch.tensor(images, dtype=torch.float32), label\n"
     ]
    },
    {
     "name": "stdout",
     "output_type": "stream",
     "text": [
      "Batch 1\n",
      "Frames shape: torch.Size([3, 160, 3, 224, 224])\n",
      "Labels: tensor([3, 4, 7])\n"
     ]
    }
   ],
   "source": [
    "# Set parameters\n",
    "test_dir = 'C:/Users/araya/Desktop/frame/train'\n",
    "sequence_length = 160  # Set how many frames per sequence\n",
    "\n",
    "# Initialize dataset and dataloader\n",
    "dataset = VideoSequenceDataset(root_dir=test_dir, transform=transform)\n",
    "dataloader = DataLoader(dataset, batch_size=3, shuffle=True)\n",
    "\n",
    "# Example of accessing the data\n",
    "for batch_idx, (frames, labels) in enumerate(dataloader):\n",
    "    print(f\"Batch {batch_idx+1}\")\n",
    "    print(\"Frames shape:\", frames.shape)  # Should be [batch_size, sequence_length, C, H, W]\n",
    "    print(\"Labels:\", labels)\n",
    "    break  # Process just the first batch"
   ]
  },
  {
   "cell_type": "code",
   "execution_count": 21,
   "metadata": {},
   "outputs": [
    {
     "data": {
      "text/plain": [
       "<torch.utils.data.dataloader.DataLoader at 0x20541d0ca40>"
      ]
     },
     "execution_count": 21,
     "metadata": {},
     "output_type": "execute_result"
    }
   ],
   "source": [
    "dataloader"
   ]
  },
  {
   "cell_type": "code",
   "execution_count": 22,
   "metadata": {},
   "outputs": [
    {
     "data": {
      "text/plain": [
       "<__main__.VideoSequenceDataset at 0x20541dea090>"
      ]
     },
     "execution_count": 22,
     "metadata": {},
     "output_type": "execute_result"
    }
   ],
   "source": [
    "dataset"
   ]
  },
  {
   "cell_type": "code",
   "execution_count": 23,
   "metadata": {},
   "outputs": [
    {
     "name": "stderr",
     "output_type": "stream",
     "text": [
      "C:\\Users\\araya\\AppData\\Local\\Temp\\ipykernel_27300\\4150219448.py:48: UserWarning: To copy construct from a tensor, it is recommended to use sourceTensor.clone().detach() or sourceTensor.clone().detach().requires_grad_(True), rather than torch.tensor(sourceTensor).\n",
      "  return torch.tensor(images, dtype=torch.float32), label\n"
     ]
    },
    {
     "data": {
      "text/plain": [
       "160"
      ]
     },
     "execution_count": 23,
     "metadata": {},
     "output_type": "execute_result"
    }
   ],
   "source": [
    "len(dataloader.dataset[0][0])"
   ]
  },
  {
   "cell_type": "code",
   "execution_count": 24,
   "metadata": {},
   "outputs": [
    {
     "name": "stderr",
     "output_type": "stream",
     "text": [
      "C:\\Users\\araya\\AppData\\Local\\Temp\\ipykernel_27300\\4150219448.py:48: UserWarning: To copy construct from a tensor, it is recommended to use sourceTensor.clone().detach() or sourceTensor.clone().detach().requires_grad_(True), rather than torch.tensor(sourceTensor).\n",
      "  return torch.tensor(images, dtype=torch.float32), label\n"
     ]
    },
    {
     "data": {
      "text/plain": [
       "tensor([[[ 0.2796,  0.2624,  0.2624,  ...,  0.2453,  0.2453,  0.2453],\n",
       "         [ 0.2796,  0.2624,  0.2624,  ...,  0.2453,  0.2453,  0.2453],\n",
       "         [ 0.2796,  0.2624,  0.2624,  ...,  0.2453,  0.2453,  0.2453],\n",
       "         ...,\n",
       "         [-0.4397, -0.4397, -0.4397,  ..., -0.4911, -0.4911, -0.4911],\n",
       "         [-0.4397, -0.4397, -0.4397,  ..., -0.4911, -0.4911, -0.4911],\n",
       "         [-0.4397, -0.4397, -0.4397,  ..., -0.4911, -0.4911, -0.4911]],\n",
       "\n",
       "        [[ 0.3978,  0.3803,  0.3803,  ...,  0.3978,  0.3978,  0.3978],\n",
       "         [ 0.3978,  0.3803,  0.3803,  ...,  0.3978,  0.3978,  0.3978],\n",
       "         [ 0.3978,  0.3803,  0.3803,  ...,  0.3978,  0.3978,  0.3978],\n",
       "         ...,\n",
       "         [-0.3025, -0.3025, -0.3025,  ..., -0.3550, -0.3550, -0.3550],\n",
       "         [-0.3025, -0.3025, -0.3025,  ..., -0.3550, -0.3550, -0.3550],\n",
       "         [-0.3025, -0.3025, -0.3025,  ..., -0.3550, -0.3550, -0.3550]],\n",
       "\n",
       "        [[ 0.7576,  0.7402,  0.7402,  ...,  0.7054,  0.7054,  0.7054],\n",
       "         [ 0.7576,  0.7402,  0.7402,  ...,  0.7054,  0.7054,  0.7054],\n",
       "         [ 0.7576,  0.7402,  0.7402,  ...,  0.7054,  0.7054,  0.7054],\n",
       "         ...,\n",
       "         [-0.0092, -0.0092, -0.0092,  ..., -0.2184, -0.2184, -0.2184],\n",
       "         [-0.0092, -0.0092, -0.0092,  ..., -0.2184, -0.2184, -0.2184],\n",
       "         [-0.0092, -0.0092, -0.0092,  ..., -0.2184, -0.2184, -0.2184]]])"
      ]
     },
     "execution_count": 24,
     "metadata": {},
     "output_type": "execute_result"
    }
   ],
   "source": [
    "dataloader.dataset[0][0][0]"
   ]
  },
  {
   "cell_type": "code",
   "execution_count": 25,
   "metadata": {},
   "outputs": [
    {
     "name": "stderr",
     "output_type": "stream",
     "text": [
      "C:\\Users\\araya\\AppData\\Local\\Temp\\ipykernel_27300\\4150219448.py:48: UserWarning: To copy construct from a tensor, it is recommended to use sourceTensor.clone().detach() or sourceTensor.clone().detach().requires_grad_(True), rather than torch.tensor(sourceTensor).\n",
      "  return torch.tensor(images, dtype=torch.float32), label\n"
     ]
    },
    {
     "data": {
      "text/plain": [
       "<matplotlib.image.AxesImage at 0x20541deba70>"
      ]
     },
     "execution_count": 25,
     "metadata": {},
     "output_type": "execute_result"
    },
    {
     "data": {
      "image/png": "[encoded data removed]",
      "text/plain": [
       "<Figure size 640x480 with 1 Axes>"
      ]
     },
     "metadata": {},
     "output_type": "display_data"
    }
   ],
   "source": [
    "import matplotlib.pyplot as plt \n",
    "\n",
    "plt.imshow(dataloader.dataset[0][0][141][0]) # [จำนวน class][][เฟรมที่][เปลี่ยนสี]"
   ]
  },
  {
   "cell_type": "code",
   "execution_count": 26,
   "metadata": {},
   "outputs": [
    {
     "data": {
      "text/plain": [
       "['กฎกระทรวง',\n",
       " 'กฎหมายรัฐธรรมนูญ',\n",
       " 'กรมอนามัย',\n",
       " 'กรรม',\n",
       " 'กรรมสิทธิ์',\n",
       " 'กระโดด',\n",
       " 'กล้วยบวชชี',\n",
       " 'กล้วยเชื่อม',\n",
       " 'กังวล',\n",
       " 'กีฬา']"
      ]
     },
     "execution_count": 26,
     "metadata": {},
     "output_type": "execute_result"
    }
   ],
   "source": [
    "dataloader.dataset.classes"
   ]
  },
  {
   "cell_type": "code",
   "execution_count": 27,
   "metadata": {},
   "outputs": [
    {
     "name": "stderr",
     "output_type": "stream",
     "text": [
      "C:\\Users\\araya\\AppData\\Local\\Temp\\ipykernel_27300\\4150219448.py:48: UserWarning: To copy construct from a tensor, it is recommended to use sourceTensor.clone().detach() or sourceTensor.clone().detach().requires_grad_(True), rather than torch.tensor(sourceTensor).\n",
      "  return torch.tensor(images, dtype=torch.float32), label\n"
     ]
    },
    {
     "name": "stdout",
     "output_type": "stream",
     "text": [
      "160\n",
      "160\n",
      "160\n",
      "160\n",
      "เราต้อง padded lenght ให้เท่ากัน ก่อนเข้า model\n"
     ]
    }
   ],
   "source": [
    "print(len(dataloader.dataset[0][0]))  \n",
    "print(len(dataloader.dataset[1][0]))  \n",
    "print(len(dataloader.dataset[2][0]))  \n",
    "print(len(dataloader.dataset[3][0]))  \n",
    "print(\"เราต้อง padded lenght ให้เท่ากัน ก่อนเข้า model\")"
   ]
  },
  {
   "cell_type": "markdown",
   "metadata": {},
   "source": [
    "### -------------------------------------------------------------------------------------------------------------------------\n",
    "### cuda or cpu ?"
   ]
  },
  {
   "cell_type": "code",
   "execution_count": 28,
   "metadata": {},
   "outputs": [
    {
     "data": {
      "text/plain": [
       "device(type='cuda')"
      ]
     },
     "execution_count": 28,
     "metadata": {},
     "output_type": "execute_result"
    }
   ],
   "source": [
    "device = torch.device('cuda' if torch.cuda.is_available() else 'cpu')\n",
    "device"
   ]
  },
  {
   "cell_type": "code",
   "execution_count": 29,
   "metadata": {},
   "outputs": [],
   "source": [
    "import torch \n",
    "import torch.nn as nn \n",
    "import torch.nn.functional as F\n",
    "import torchvision\n",
    "from torchvision import models\n",
    "from torchvision.models import resnet18\n",
    "\n",
    "class Model(nn.Module):\n",
    "    def __init__(self, num_classes=9):\n",
    "        super(Model, self).__init__()\n",
    "        self.resnet = models.mobilenet_v2(pretrained=True)\n",
    "        self.resnet.fc = nn.Sequential(nn.Linear(self.resnet.fc.in_features, 512))\n",
    "        self.fc1 = nn.Linear(512, 128)\n",
    "        self.fc2 = nn.Linear(128, num_classes)\n",
    "\n",
    "    def forward(self, x_3d):\n",
    "        # (bs, C, T, H, W)\n",
    "        x_3d = x_3d.permute(0, 2, 1, 3, 4)\n",
    "\n",
    "        logits = []\n",
    "        for t in range(x_3d.size(1)):\n",
    "            out = self.resnet(x_3d[:, t, :, :, :])\n",
    "\n",
    "            x = self.fc1(out)\n",
    "            x = F.relu(x)\n",
    "            x = self.fc2(x)\n",
    "\n",
    "            logits.append(x)\n",
    "\n",
    "        # Mean Pooling \n",
    "        logits = torch.stack(logits, dim=0)\n",
    "        logits = torch.mean(logits, dim=0)\n",
    "        return logits"
   ]
  },
  {
   "cell_type": "code",
   "execution_count": 30,
   "metadata": {},
   "outputs": [],
   "source": [
    "model = Model(num_classes=9)"
   ]
  },
  {
   "cell_type": "code",
   "execution_count": 31,
   "metadata": {},
   "outputs": [
    {
     "name": "stdout",
     "output_type": "stream",
     "text": [
      "Model has 2946569 parameters\n"
     ]
    }
   ],
   "source": [
    "param = sum(p.numel() for p in model.parameters() if p.requires_grad)\n",
    "print(f\"Model has {param} parameters\")"
   ]
  },
  {
   "cell_type": "code",
   "execution_count": 32,
   "metadata": {},
   "outputs": [
    {
     "name": "stderr",
     "output_type": "stream",
     "text": [
      "C:\\Users\\araya\\AppData\\Local\\Temp\\ipykernel_27300\\4150219448.py:48: UserWarning: To copy construct from a tensor, it is recommended to use sourceTensor.clone().detach() or sourceTensor.clone().detach().requires_grad_(True), rather than torch.tensor(sourceTensor).\n",
      "  return torch.tensor(images, dtype=torch.float32), label\n"
     ]
    },
    {
     "data": {
      "text/plain": [
       "torch.Size([160, 3, 224, 224])"
      ]
     },
     "execution_count": 32,
     "metadata": {},
     "output_type": "execute_result"
    }
   ],
   "source": [
    "dataloader.dataset[0][0].shape"
   ]
  },
  {
   "cell_type": "code",
   "execution_count": 33,
   "metadata": {},
   "outputs": [
    {
     "name": "stderr",
     "output_type": "stream",
     "text": [
      "C:\\Users\\araya\\AppData\\Local\\Temp\\ipykernel_27300\\4150219448.py:48: UserWarning: To copy construct from a tensor, it is recommended to use sourceTensor.clone().detach() or sourceTensor.clone().detach().requires_grad_(True), rather than torch.tensor(sourceTensor).\n",
      "  return torch.tensor(images, dtype=torch.float32), label\n"
     ]
    },
    {
     "data": {
      "text/plain": [
       "torch.Size([1, 160, 3, 224, 224])"
      ]
     },
     "execution_count": 33,
     "metadata": {},
     "output_type": "execute_result"
    }
   ],
   "source": [
    "input = dataloader.dataset[5][0].unsqueeze(0)\n",
    "input.shape"
   ]
  },
  {
   "cell_type": "code",
   "execution_count": 34,
   "metadata": {},
   "outputs": [],
   "source": [
    "input = input.permute(0, 2, 1, 3, 4)"
   ]
  },
  {
   "cell_type": "code",
   "execution_count": 35,
   "metadata": {},
   "outputs": [],
   "source": [
    "output = model(input)"
   ]
  },
  {
   "cell_type": "code",
   "execution_count": 36,
   "metadata": {},
   "outputs": [
    {
     "data": {
      "text/plain": [
       "tensor([[-0.0041, -0.1406, -0.0176, -0.0090,  0.0995,  0.0705, -0.0377, -0.0492,\n",
       "         -0.0709]], grad_fn=<MeanBackward1>)"
      ]
     },
     "execution_count": 36,
     "metadata": {},
     "output_type": "execute_result"
    }
   ],
   "source": [
    "output"
   ]
  },
  {
   "cell_type": "code",
   "execution_count": 37,
   "metadata": {},
   "outputs": [
    {
     "data": {
      "text/plain": [
       "<matplotlib.image.AxesImage at 0x20544f53320>"
      ]
     },
     "execution_count": 37,
     "metadata": {},
     "output_type": "execute_result"
    },
    {
     "data": {
      "image/png": "[encoded data removed]",
      "text/plain": [
       "<Figure size 640x480 with 1 Axes>"
      ]
     },
     "metadata": {},
     "output_type": "display_data"
    }
   ],
   "source": [
    "import matplotlib.pyplot as plt \n",
    "\n",
    "plt.imshow(output.detach().numpy())"
   ]
  },
  {
   "cell_type": "code",
   "execution_count": null,
   "metadata": {},
   "outputs": [],
   "source": []
  },
  {
   "cell_type": "code",
   "execution_count": null,
   "metadata": {},
   "outputs": [],
   "source": []
  }
 ],
 "metadata": {
  "kernelspec": {
   "display_name": "Python 3",
   "language": "python",
   "name": "python3"
  },
  "language_info": {
   "codemirror_mode": {
    "name": "ipython",
    "version": 3
   },
   "file_extension": ".py",
   "mimetype": "text/x-python",
   "name": "python",
   "nbconvert_exporter": "python",
   "pygments_lexer": "ipython3",
   "version": "3.12.4"
  }
 },
 "nbformat": 4,
 "nbformat_minor": 2
}
