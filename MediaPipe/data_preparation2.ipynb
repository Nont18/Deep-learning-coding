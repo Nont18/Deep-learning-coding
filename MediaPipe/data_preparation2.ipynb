{
 "cells": [
  {
   "cell_type": "markdown",
   "metadata": {},
   "source": [
    "### Video Sequences data preparation"
   ]
  },
  {
   "cell_type": "code",
   "execution_count": 1,
   "metadata": {},
   "outputs": [],
   "source": [
    "import os\n",
    "import torch\n",
    "from torch.utils.data import Dataset, DataLoader\n",
    "from PIL import Image\n",
    "from torchvision import transforms\n",
    "import re"
   ]
  },
  {
   "cell_type": "markdown",
   "metadata": {},
   "source": [
    "### Padded with lastet frame"
   ]
  },
  {
   "cell_type": "code",
   "execution_count": 2,
   "metadata": {},
   "outputs": [],
   "source": [
    "# class VideoSequenceDataset(Dataset):\n",
    "#     def __init__(self, root_dir, transform=None, sequence_length=160):\n",
    "#         self.root_dir = root_dir\n",
    "#         self.transform = transform\n",
    "#         self.sequence_length = sequence_length  # Set target sequence length\n",
    "#         self.classes = os.listdir(root_dir)\n",
    "#         self.data = self.load_sequences()\n",
    "\n",
    "#     def load_sequences(self):\n",
    "#         data = []\n",
    "#         for class_idx, class_folder in enumerate(self.classes):\n",
    "#             class_path = os.path.join(self.root_dir, class_folder)\n",
    "\n",
    "#             # List and sort frames numerically\n",
    "#             image_sequences = sorted(os.listdir(class_path), key=self.natural_sort_key)\n",
    "#             frames = [os.path.join(class_path, img) for img in image_sequences]\n",
    "\n",
    "#             data.append((frames, class_idx))\n",
    "#         return data\n",
    "\n",
    "#     def natural_sort_key(self, string):\n",
    "#         # Extract numbers from the filename to ensure numeric sorting\n",
    "#         return [int(text) if text.isdigit() else text for text in re.split(r'(\\d+)', string)]\n",
    "\n",
    "#     def __len__(self):\n",
    "#         return len(self.data)\n",
    "\n",
    "#     def __getitem__(self, idx):\n",
    "#         image_paths, label = self.data[idx]\n",
    "#         images = [Image.open(img_path).convert('RGB') for img_path in image_paths]\n",
    "\n",
    "#         # Pad the sequence to the target length (self.sequence_length)\n",
    "#         if len(images) < self.sequence_length:\n",
    "#             pad_size = self.sequence_length - len(images)\n",
    "#             # Repeat the last frame or pad with black frames\n",
    "#             last_image = images[-1]\n",
    "#             pad_images = [last_image] * pad_size\n",
    "#             images.extend(pad_images)\n",
    "#         elif len(images) > self.sequence_length:\n",
    "#             # Truncate the sequence if it exceeds the target length\n",
    "#             images = images[:self.sequence_length]\n",
    "\n",
    "#         if self.transform:\n",
    "#             images = [self.transform(img) for img in images]\n",
    "\n",
    "#         images = torch.stack(images, dim=0)  # Stack into a tensor\n",
    "\n",
    "#         return images, label"
   ]
  },
  {
   "cell_type": "markdown",
   "metadata": {},
   "source": [
    "### Padded with zeros"
   ]
  },
  {
   "cell_type": "code",
   "execution_count": 3,
   "metadata": {},
   "outputs": [],
   "source": [
    "class VideoSequenceDataset(Dataset):\n",
    "    def __init__(self, root_dir, transform, sequence_length=160):\n",
    "        self.root_dir = root_dir\n",
    "        self.transform = transform\n",
    "        self.sequence_length = sequence_length  # Set target sequence length\n",
    "        self.classes = os.listdir(root_dir)\n",
    "        self.data = self.load_sequences()\n",
    "\n",
    "    def load_sequences(self):\n",
    "        data = []\n",
    "        for class_idx, class_folder in enumerate(self.classes):\n",
    "            class_path = os.path.join(self.root_dir, class_folder)\n",
    "\n",
    "            # List and sort frames numerically\n",
    "            image_sequences = sorted(os.listdir(class_path), key=self.natural_sort_key)\n",
    "            frames = [os.path.join(class_path, img) for img in image_sequences]\n",
    "\n",
    "            data.append((frames, class_idx))\n",
    "        return data\n",
    "\n",
    "    def natural_sort_key(self, string):\n",
    "        # Extract numbers from the filename to ensure numeric sorting\n",
    "        return [int(text) if text.isdigit() else text for text in re.split(r'(\\d+)', string)]\n",
    "\n",
    "    def __len__(self):\n",
    "        return len(self.data)\n",
    "\n",
    "    def __getitem__(self, idx):\n",
    "        image_paths, label = self.data[idx]\n",
    "        images = [Image.open(img_path).convert('RGB') for img_path in image_paths]\n",
    "\n",
    "        # If there are fewer images than the sequence length, pad with zeros\n",
    "        if len(images) < self.sequence_length:\n",
    "            pad_size = self.sequence_length - len(images)\n",
    "            # Create a black (zero) image of the same size as the input (e.g., 224x224)\n",
    "            zero_image = Image.new('RGB', (224, 224), (0, 0, 0))  # Black image\n",
    "            pad_images = [zero_image] * pad_size\n",
    "            images.extend(pad_images)\n",
    "        elif len(images) > self.sequence_length:\n",
    "            # Truncate the sequence if it exceeds the target length\n",
    "            images = images[:self.sequence_length]\n",
    "\n",
    "        if self.transform:\n",
    "            images = [self.transform(img) for img in images]\n",
    "\n",
    "        images = torch.stack(images, dim=0)  # Stack into a tensor\n",
    "\n",
    "        return torch.tensor(images, dtype=torch.float32), label"
   ]
  },
  {
   "cell_type": "code",
   "execution_count": 4,
   "metadata": {},
   "outputs": [],
   "source": [
    "transform = transforms.Compose([\n",
    "    transforms.Resize((256, 256)),  # Resize to a fixed size\n",
    "    transforms.ToTensor(),  # Convert image to PyTorch tensor\n",
    "    transforms.Normalize(mean=[0.485, 0.456, 0.406], std=[0.229, 0.224, 0.225])  # Normalize using ImageNet stats\n",
    "])"
   ]
  },
  {
   "cell_type": "code",
   "execution_count": 5,
   "metadata": {},
   "outputs": [
    {
     "name": "stderr",
     "output_type": "stream",
     "text": [
      "C:\\Users\\araya\\AppData\\Local\\Temp\\ipykernel_17276\\4150219448.py:48: UserWarning: To copy construct from a tensor, it is recommended to use sourceTensor.clone().detach() or sourceTensor.clone().detach().requires_grad_(True), rather than torch.tensor(sourceTensor).\n",
      "  return torch.tensor(images, dtype=torch.float32), label\n"
     ]
    },
    {
     "name": "stdout",
     "output_type": "stream",
     "text": [
      "Batch 1\n",
      "Frames shape: torch.Size([3, 160, 3, 256, 256])\n",
      "Labels: tensor([4, 8, 2])\n"
     ]
    }
   ],
   "source": [
    "# Set parameters\n",
    "test_dir = 'C:/Users/araya/Desktop/frame/train'\n",
    "sequence_length = 160  # Set how many frames per sequence\n",
    "\n",
    "# Initialize dataset and dataloader\n",
    "dataset = VideoSequenceDataset(root_dir=test_dir, transform=transform)\n",
    "dataloader = DataLoader(dataset, batch_size=3, shuffle=True)\n",
    "\n",
    "# Example of accessing the data\n",
    "for batch_idx, (frames, labels) in enumerate(dataloader):\n",
    "    print(f\"Batch {batch_idx+1}\")\n",
    "    print(\"Frames shape:\", frames.shape)  # Should be [batch_size, sequence_length, C, H, W]\n",
    "    print(\"Labels:\", labels)\n",
    "    break  # Process just the first batch"
   ]
  },
  {
   "cell_type": "code",
   "execution_count": 6,
   "metadata": {},
   "outputs": [
    {
     "data": {
      "text/plain": [
       "<torch.utils.data.dataloader.DataLoader at 0x1adbeed9dc0>"
      ]
     },
     "execution_count": 6,
     "metadata": {},
     "output_type": "execute_result"
    }
   ],
   "source": [
    "dataloader"
   ]
  },
  {
   "cell_type": "code",
   "execution_count": 7,
   "metadata": {},
   "outputs": [
    {
     "data": {
      "text/plain": [
       "<__main__.VideoSequenceDataset at 0x1ad9d5c8770>"
      ]
     },
     "execution_count": 7,
     "metadata": {},
     "output_type": "execute_result"
    }
   ],
   "source": [
    "dataset"
   ]
  },
  {
   "cell_type": "code",
   "execution_count": 8,
   "metadata": {},
   "outputs": [
    {
     "name": "stderr",
     "output_type": "stream",
     "text": [
      "C:\\Users\\araya\\AppData\\Local\\Temp\\ipykernel_17276\\4150219448.py:48: UserWarning: To copy construct from a tensor, it is recommended to use sourceTensor.clone().detach() or sourceTensor.clone().detach().requires_grad_(True), rather than torch.tensor(sourceTensor).\n",
      "  return torch.tensor(images, dtype=torch.float32), label\n"
     ]
    },
    {
     "data": {
      "text/plain": [
       "160"
      ]
     },
     "execution_count": 8,
     "metadata": {},
     "output_type": "execute_result"
    }
   ],
   "source": [
    "len(dataloader.dataset[0][0])"
   ]
  },
  {
   "cell_type": "code",
   "execution_count": 9,
   "metadata": {},
   "outputs": [
    {
     "name": "stderr",
     "output_type": "stream",
     "text": [
      "C:\\Users\\araya\\AppData\\Local\\Temp\\ipykernel_17276\\4150219448.py:48: UserWarning: To copy construct from a tensor, it is recommended to use sourceTensor.clone().detach() or sourceTensor.clone().detach().requires_grad_(True), rather than torch.tensor(sourceTensor).\n",
      "  return torch.tensor(images, dtype=torch.float32), label\n"
     ]
    },
    {
     "data": {
      "text/plain": [
       "tensor([[[ 0.2796,  0.2796,  0.2624,  ...,  0.2453,  0.2453,  0.2453],\n",
       "         [ 0.2796,  0.2796,  0.2624,  ...,  0.2453,  0.2453,  0.2453],\n",
       "         [ 0.2796,  0.2796,  0.2624,  ...,  0.2453,  0.2453,  0.2453],\n",
       "         ...,\n",
       "         [-0.4397, -0.4397, -0.4397,  ..., -0.4911, -0.4911, -0.4911],\n",
       "         [-0.4397, -0.4397, -0.4397,  ..., -0.4911, -0.4911, -0.4911],\n",
       "         [-0.4397, -0.4397, -0.4397,  ..., -0.4911, -0.4911, -0.4911]],\n",
       "\n",
       "        [[ 0.3978,  0.3978,  0.3803,  ...,  0.3978,  0.3978,  0.3978],\n",
       "         [ 0.3978,  0.3978,  0.3803,  ...,  0.3978,  0.3978,  0.3978],\n",
       "         [ 0.3978,  0.3978,  0.3803,  ...,  0.3978,  0.3978,  0.3978],\n",
       "         ...,\n",
       "         [-0.3025, -0.3025, -0.3025,  ..., -0.3550, -0.3550, -0.3550],\n",
       "         [-0.3025, -0.3025, -0.3025,  ..., -0.3550, -0.3550, -0.3550],\n",
       "         [-0.3025, -0.3025, -0.3025,  ..., -0.3550, -0.3550, -0.3550]],\n",
       "\n",
       "        [[ 0.7576,  0.7576,  0.7402,  ...,  0.7054,  0.7054,  0.7054],\n",
       "         [ 0.7576,  0.7576,  0.7402,  ...,  0.7054,  0.7054,  0.7054],\n",
       "         [ 0.7576,  0.7576,  0.7402,  ...,  0.7054,  0.7054,  0.7054],\n",
       "         ...,\n",
       "         [-0.0092, -0.0092, -0.0092,  ..., -0.2184, -0.2184, -0.2184],\n",
       "         [-0.0092, -0.0092, -0.0092,  ..., -0.2184, -0.2184, -0.2184],\n",
       "         [-0.0092, -0.0092, -0.0092,  ..., -0.2184, -0.2184, -0.2184]]])"
      ]
     },
     "execution_count": 9,
     "metadata": {},
     "output_type": "execute_result"
    }
   ],
   "source": [
    "dataloader.dataset[0][0][0]"
   ]
  },
  {
   "cell_type": "code",
   "execution_count": 10,
   "metadata": {},
   "outputs": [
    {
     "name": "stderr",
     "output_type": "stream",
     "text": [
      "C:\\Users\\araya\\AppData\\Local\\Temp\\ipykernel_17276\\4150219448.py:48: UserWarning: To copy construct from a tensor, it is recommended to use sourceTensor.clone().detach() or sourceTensor.clone().detach().requires_grad_(True), rather than torch.tensor(sourceTensor).\n",
      "  return torch.tensor(images, dtype=torch.float32), label\n"
     ]
    },
    {
     "data": {
      "text/plain": [
       "<matplotlib.image.AxesImage at 0x1adc179a8a0>"
      ]
     },
     "execution_count": 10,
     "metadata": {},
     "output_type": "execute_result"
    },
    {
     "data": {
      "image/png": "[encoded data removed]",
      "text/plain": [
       "<Figure size 640x480 with 1 Axes>"
      ]
     },
     "metadata": {},
     "output_type": "display_data"
    }
   ],
   "source": [
    "import matplotlib.pyplot as plt \n",
    "\n",
    "plt.imshow(dataloader.dataset[0][0][141][0]) # [จำนวน class][][เฟรมที่][เปลี่ยนสี]"
   ]
  },
  {
   "cell_type": "code",
   "execution_count": 11,
   "metadata": {},
   "outputs": [
    {
     "data": {
      "text/plain": [
       "['กฎกระทรวง',\n",
       " 'กฎหมายรัฐธรรมนูญ',\n",
       " 'กรมอนามัย',\n",
       " 'กรรม',\n",
       " 'กรรมสิทธิ์',\n",
       " 'กระโดด',\n",
       " 'กล้วยบวชชี',\n",
       " 'กล้วยเชื่อม',\n",
       " 'กังวล',\n",
       " 'กีฬา']"
      ]
     },
     "execution_count": 11,
     "metadata": {},
     "output_type": "execute_result"
    }
   ],
   "source": [
    "dataloader.dataset.classes"
   ]
  },
  {
   "cell_type": "code",
   "execution_count": 12,
   "metadata": {},
   "outputs": [
    {
     "name": "stderr",
     "output_type": "stream",
     "text": [
      "C:\\Users\\araya\\AppData\\Local\\Temp\\ipykernel_17276\\4150219448.py:48: UserWarning: To copy construct from a tensor, it is recommended to use sourceTensor.clone().detach() or sourceTensor.clone().detach().requires_grad_(True), rather than torch.tensor(sourceTensor).\n",
      "  return torch.tensor(images, dtype=torch.float32), label\n"
     ]
    },
    {
     "name": "stdout",
     "output_type": "stream",
     "text": [
      "160\n",
      "160\n",
      "160\n",
      "160\n",
      "เราต้อง padded lenght ให้เท่ากัน ก่อนเข้า model\n"
     ]
    }
   ],
   "source": [
    "print(len(dataloader.dataset[0][0]))  \n",
    "print(len(dataloader.dataset[1][0]))  \n",
    "print(len(dataloader.dataset[2][0]))  \n",
    "print(len(dataloader.dataset[3][0]))  \n",
    "print(\"เราต้อง padded lenght ให้เท่ากัน ก่อนเข้า model\")"
   ]
  },
  {
   "cell_type": "markdown",
   "metadata": {},
   "source": [
    "### -------------------------------------------------------------------------------------------------------------------------\n",
    "### cuda or cpu ?"
   ]
  },
  {
   "cell_type": "code",
   "execution_count": 13,
   "metadata": {},
   "outputs": [
    {
     "data": {
      "text/plain": [
       "device(type='cuda')"
      ]
     },
     "execution_count": 13,
     "metadata": {},
     "output_type": "execute_result"
    }
   ],
   "source": [
    "device = torch.device('cuda' if torch.cuda.is_available() else 'cpu')\n",
    "device"
   ]
  },
  {
   "cell_type": "code",
   "execution_count": 14,
   "metadata": {},
   "outputs": [],
   "source": [
    "# import torch \n",
    "# import torch.nn as nn \n",
    "# import torch.nn.functional as F\n",
    "# import torchvision\n",
    "# from torchvision import models\n",
    "# from torchvision.models import resnet18\n",
    "\n",
    "# class Model(nn.Module):\n",
    "#     def __init__(self, num_classes=9):\n",
    "#         super(Model, self).__init__()\n",
    "#         self.resnet = models.mobilenet_v2(pretrained=True)\n",
    "#         self.resnet.fc = nn.Sequential(nn.Linear(self.resnet.fc.in_features, 512))\n",
    "#         self.fc1 = nn.Linear(512, 128)\n",
    "#         self.fc2 = nn.Linear(128, num_classes)\n",
    "\n",
    "#     def forward(self, x_3d):\n",
    "#         # (bs, C, T, H, W)\n",
    "#         x_3d = x_3d.permute(0, 2, 1, 3, 4)\n",
    "\n",
    "#         logits = []\n",
    "#         for t in range(x_3d.size(1)):\n",
    "#             out = self.resnet(x_3d[:, t, :, :, :])\n",
    "\n",
    "#             x = self.fc1(out)\n",
    "#             x = F.relu(x)\n",
    "#             x = self.fc2(x)\n",
    "\n",
    "#             logits.append(x)\n",
    "\n",
    "#         # Mean Pooling \n",
    "#         logits = torch.stack(logits, dim=0)\n",
    "#         logits = torch.mean(logits, dim=0)\n",
    "#         return logits"
   ]
  },
  {
   "cell_type": "markdown",
   "metadata": {},
   "source": [
    "### Grain Module"
   ]
  },
  {
   "cell_type": "code",
   "execution_count": 15,
   "metadata": {},
   "outputs": [],
   "source": [
    "import torch\n",
    "import torch.nn as nn\n",
    "from torchvision import models\n",
    "\n",
    "class GELUBatchNorm(nn.Module):\n",
    "    def __init__(self, out_channels):\n",
    "        super(GELUBatchNorm, self).__init__()\n",
    "        self.gelu = nn.GELU()\n",
    "        self.batch_norm = nn.BatchNorm2d(out_channels)\n",
    "\n",
    "    def forward(self, x):\n",
    "        x = self.gelu(x)\n",
    "        x = self.batch_norm(x)\n",
    "        return x\n",
    "\n",
    "# Define the Grain Module\n",
    "class GrainModule(nn.Module):\n",
    "    def __init__(self, in_channels):\n",
    "        super(GrainModule, self).__init__()\n",
    "        # First convolution with stride=2 and 3x3 kernel\n",
    "        self.conv1 = nn.Conv2d(in_channels, 64, kernel_size=3, stride=2, padding=1)\n",
    "        self.gb1 = GELUBatchNorm(64)  # GB after Conv\n",
    "        \n",
    "        # Second convolution layer\n",
    "        self.conv2 = nn.Conv2d(64, 128, kernel_size=3, stride=2, padding=1)\n",
    "        self.gb2 = GELUBatchNorm(128)  # GB after Conv\n",
    "\n",
    "        # Third convolution layer\n",
    "        self.conv3 = nn.Conv2d(128, 256, kernel_size=3, stride=2, padding=1)\n",
    "        self.gb3 = GELUBatchNorm(256)  # GB after Conv\n",
    "\n",
    "    def forward(self, x):\n",
    "        # Pass through the first conv + GB\n",
    "        x = self.conv1(x)\n",
    "        x = self.gb1(x)\n",
    "\n",
    "        # Pass through the second conv + GB\n",
    "        x = self.conv2(x)\n",
    "        x = self.gb2(x)\n",
    "\n",
    "        # Pass through the third conv + GB\n",
    "        x = self.conv3(x)\n",
    "        x = self.gb3(x)\n",
    "\n",
    "        return x"
   ]
  },
  {
   "cell_type": "code",
   "execution_count": 16,
   "metadata": {},
   "outputs": [],
   "source": [
    "# model = Model(num_classes=9)\n",
    "grain_module = GrainModule(in_channels=3)"
   ]
  },
  {
   "cell_type": "code",
   "execution_count": 17,
   "metadata": {},
   "outputs": [
    {
     "name": "stdout",
     "output_type": "stream",
     "text": [
      "Model has 371712 parameters\n"
     ]
    }
   ],
   "source": [
    "param = sum(p.numel() for p in grain_module.parameters() if p.requires_grad)\n",
    "print(f\"Model has {param} parameters\")"
   ]
  },
  {
   "cell_type": "code",
   "execution_count": 18,
   "metadata": {},
   "outputs": [
    {
     "name": "stderr",
     "output_type": "stream",
     "text": [
      "C:\\Users\\araya\\AppData\\Local\\Temp\\ipykernel_17276\\4150219448.py:48: UserWarning: To copy construct from a tensor, it is recommended to use sourceTensor.clone().detach() or sourceTensor.clone().detach().requires_grad_(True), rather than torch.tensor(sourceTensor).\n",
      "  return torch.tensor(images, dtype=torch.float32), label\n"
     ]
    },
    {
     "data": {
      "text/plain": [
       "torch.Size([160, 3, 256, 256])"
      ]
     },
     "execution_count": 18,
     "metadata": {},
     "output_type": "execute_result"
    }
   ],
   "source": [
    "dataloader.dataset[0][0].shape"
   ]
  },
  {
   "cell_type": "code",
   "execution_count": 19,
   "metadata": {},
   "outputs": [
    {
     "name": "stderr",
     "output_type": "stream",
     "text": [
      "C:\\Users\\araya\\AppData\\Local\\Temp\\ipykernel_17276\\4150219448.py:48: UserWarning: To copy construct from a tensor, it is recommended to use sourceTensor.clone().detach() or sourceTensor.clone().detach().requires_grad_(True), rather than torch.tensor(sourceTensor).\n",
      "  return torch.tensor(images, dtype=torch.float32), label\n"
     ]
    }
   ],
   "source": [
    "input = dataloader.dataset[5][0]"
   ]
  },
  {
   "cell_type": "code",
   "execution_count": 20,
   "metadata": {},
   "outputs": [
    {
     "data": {
      "text/plain": [
       "torch.Size([160, 3, 256, 256])"
      ]
     },
     "execution_count": 20,
     "metadata": {},
     "output_type": "execute_result"
    }
   ],
   "source": [
    "input.shape"
   ]
  },
  {
   "cell_type": "code",
   "execution_count": 21,
   "metadata": {},
   "outputs": [],
   "source": [
    "output = grain_module(input)"
   ]
  },
  {
   "cell_type": "code",
   "execution_count": 22,
   "metadata": {},
   "outputs": [
    {
     "data": {
      "text/plain": [
       "tensor([[[[ 2.9451e-01,  6.6346e-01,  6.9538e-01,  ...,  9.2101e-01,\n",
       "            9.0307e-01,  9.0380e-01],\n",
       "          [-4.9520e-01,  1.5538e+00,  1.5138e+00,  ...,  1.7345e+00,\n",
       "            1.7961e+00,  1.7689e+00],\n",
       "          [-4.7577e-01,  1.4668e+00,  1.5354e+00,  ...,  1.8070e+00,\n",
       "            1.7547e+00,  1.7671e+00],\n",
       "          ...,\n",
       "          [-5.9747e-01, -1.9346e-03,  8.9173e-02,  ...,  1.8993e-01,\n",
       "            3.3940e-01,  4.3240e-01],\n",
       "          [-6.2225e-01,  1.9003e-02, -7.0739e-02,  ...,  3.2771e-01,\n",
       "            4.2848e-01,  3.5775e-01],\n",
       "          [-6.0583e-01, -3.1053e-02, -1.2930e-01,  ...,  2.6612e-01,\n",
       "            3.1793e-01,  2.5312e-01]],\n",
       "\n",
       "         [[-3.7064e-01, -4.2609e-01, -4.0349e-01,  ..., -4.2542e-01,\n",
       "           -4.2696e-01, -4.3154e-01],\n",
       "          [-4.8025e-01, -2.1465e-01, -1.9144e-01,  ..., -2.9523e-01,\n",
       "           -3.3035e-01, -3.3993e-01],\n",
       "          [-5.1513e-01, -1.0886e-01, -2.2758e-01,  ..., -3.0404e-01,\n",
       "           -2.8769e-01, -3.4240e-01],\n",
       "          ...,\n",
       "          [-6.0540e-02,  5.5771e-02,  1.2114e-01,  ..., -6.8305e-02,\n",
       "           -8.0265e-02, -5.2889e-02],\n",
       "          [-1.3205e-02,  1.2070e-01,  8.5115e-02,  ..., -2.6998e-01,\n",
       "            7.4525e-02,  1.0885e-02],\n",
       "          [ 5.7348e-02,  1.5000e-01,  9.9358e-02,  ...,  1.4043e-01,\n",
       "            7.8366e-02, -2.8859e-02]],\n",
       "\n",
       "         [[-6.8600e-01, -6.6640e-01, -6.7438e-01,  ..., -7.3357e-01,\n",
       "           -7.3353e-01, -7.3371e-01],\n",
       "          [-6.4425e-01, -4.1760e-01, -4.1539e-01,  ..., -6.1259e-01,\n",
       "           -6.3140e-01, -6.3353e-01],\n",
       "          [-6.4914e-01, -4.0024e-01, -4.2989e-01,  ..., -6.2573e-01,\n",
       "           -6.1443e-01, -6.3977e-01],\n",
       "          ...,\n",
       "          [ 2.2179e-01,  3.3420e-01,  3.4630e-01,  ...,  4.5942e-01,\n",
       "            2.7107e-01,  3.4969e-01],\n",
       "          [ 1.7473e-01,  3.5986e-01,  3.4367e-01,  ...,  3.1647e-01,\n",
       "            4.8681e-01,  3.9769e-01],\n",
       "          [ 2.0512e-01,  3.4725e-01,  3.6406e-01,  ...,  5.9210e-01,\n",
       "            5.0313e-01,  4.8568e-01]],\n",
       "\n",
       "         ...,\n",
       "\n",
       "         [[-3.2800e-01, -2.4138e-01, -2.3034e-01,  ..., -2.7195e-01,\n",
       "           -2.7008e-01, -2.8321e-01],\n",
       "          [ 5.2542e-01,  6.3294e-01,  6.5126e-01,  ...,  3.4064e-01,\n",
       "            3.1182e-01,  3.2538e-01],\n",
       "          [ 5.2326e-01,  7.3817e-01,  7.4047e-01,  ...,  3.7904e-01,\n",
       "            3.6021e-01,  2.7575e-01],\n",
       "          ...,\n",
       "          [ 3.9091e-01,  5.1639e-01,  5.8758e-01,  ...,  8.3040e-01,\n",
       "            8.9041e-01,  9.5047e-01],\n",
       "          [ 2.8798e-01,  5.8497e-01,  5.5539e-01,  ...,  1.0243e+00,\n",
       "            7.6559e-01,  9.0628e-01],\n",
       "          [ 3.1483e-01,  4.8632e-01,  6.5170e-01,  ...,  9.0692e-01,\n",
       "            9.5501e-01,  8.5555e-01]],\n",
       "\n",
       "         [[-8.2587e-01, -8.0067e-01, -7.9325e-01,  ..., -7.3383e-01,\n",
       "           -7.3213e-01, -7.3431e-01],\n",
       "          [-7.9433e-01, -8.2480e-01, -8.2141e-01,  ..., -8.0453e-01,\n",
       "           -7.9701e-01, -7.9468e-01],\n",
       "          [-7.9303e-01, -8.2612e-01, -8.1986e-01,  ..., -7.9901e-01,\n",
       "           -8.0624e-01, -8.0747e-01],\n",
       "          ...,\n",
       "          [-8.3503e-01, -7.3821e-01, -7.7558e-01,  ..., -8.1916e-01,\n",
       "           -8.0972e-01, -7.8248e-01],\n",
       "          [-8.3503e-01, -7.6462e-01, -7.6389e-01,  ..., -7.8638e-01,\n",
       "           -7.8569e-01, -8.0688e-01],\n",
       "          [-8.3424e-01, -7.6521e-01, -7.6999e-01,  ..., -8.0375e-01,\n",
       "           -8.0420e-01, -7.8145e-01]],\n",
       "\n",
       "         [[-3.7701e-01, -1.0235e+00, -1.0238e+00,  ..., -1.0452e+00,\n",
       "           -1.0446e+00, -1.0459e+00],\n",
       "          [-2.1102e-01, -9.7287e-01, -9.6280e-01,  ..., -1.0184e+00,\n",
       "           -1.0279e+00, -1.0198e+00],\n",
       "          [-2.3405e-01, -9.5829e-01, -9.5712e-01,  ..., -1.0257e+00,\n",
       "           -1.0189e+00, -1.0291e+00],\n",
       "          ...,\n",
       "          [ 2.4594e+00, -4.5311e-01, -4.4209e-01,  ..., -5.1316e-01,\n",
       "           -6.2652e-01, -5.6847e-01],\n",
       "          [ 2.5270e+00, -3.9130e-01, -4.8670e-01,  ..., -6.2781e-01,\n",
       "           -4.7459e-01, -5.6206e-01],\n",
       "          [ 2.6439e+00, -4.0597e-01, -4.3943e-01,  ..., -4.9049e-01,\n",
       "           -5.7960e-01, -5.7624e-01]]],\n",
       "\n",
       "\n",
       "        [[[ 2.9451e-01,  6.6346e-01,  6.9538e-01,  ...,  9.2101e-01,\n",
       "            9.0307e-01,  9.0380e-01],\n",
       "          [-4.9520e-01,  1.5508e+00,  1.5149e+00,  ...,  1.7345e+00,\n",
       "            1.7961e+00,  1.7660e+00],\n",
       "          [-4.9085e-01,  1.4673e+00,  1.5403e+00,  ...,  1.7973e+00,\n",
       "            1.7547e+00,  1.7609e+00],\n",
       "          ...,\n",
       "          [-5.8536e-01, -3.4825e-02,  7.8400e-02,  ...,  3.2385e-01,\n",
       "            3.9585e-01,  4.4302e-01],\n",
       "          [-6.2224e-01,  2.8616e-02, -6.0162e-02,  ...,  3.1802e-01,\n",
       "            2.8333e-01,  3.3784e-01],\n",
       "          [-6.0760e-01, -1.1461e-01, -1.5783e-01,  ...,  2.4601e-01,\n",
       "            3.0027e-01,  2.5266e-01]],\n",
       "\n",
       "         [[-3.7064e-01, -4.2609e-01, -4.0349e-01,  ..., -4.2542e-01,\n",
       "           -4.2696e-01, -4.3154e-01],\n",
       "          [-4.8025e-01, -2.1443e-01, -1.7409e-01,  ..., -2.9523e-01,\n",
       "           -3.3035e-01, -3.2820e-01],\n",
       "          [-4.9635e-01, -1.0352e-01, -2.6568e-01,  ..., -3.1383e-01,\n",
       "           -2.8769e-01, -3.3645e-01],\n",
       "          ...,\n",
       "          [-7.3796e-02,  7.4644e-02,  1.1263e-01,  ...,  2.0624e-02,\n",
       "           -6.5676e-02, -9.6519e-02],\n",
       "          [ 9.7720e-04,  8.7114e-02,  1.0437e-01,  ..., -3.2268e-02,\n",
       "            1.0722e-01, -3.3448e-03],\n",
       "          [ 7.7063e-02,  1.6386e-01,  1.5070e-01,  ...,  1.1778e-01,\n",
       "            5.5052e-02,  1.4923e-03]],\n",
       "\n",
       "         [[-6.8600e-01, -6.6640e-01, -6.7438e-01,  ..., -7.3357e-01,\n",
       "           -7.3353e-01, -7.3371e-01],\n",
       "          [-6.4425e-01, -4.1739e-01, -4.1396e-01,  ..., -6.1259e-01,\n",
       "           -6.3140e-01, -6.3559e-01],\n",
       "          [-6.4272e-01, -3.8934e-01, -4.2904e-01,  ..., -6.2299e-01,\n",
       "           -6.1443e-01, -6.4254e-01],\n",
       "          ...,\n",
       "          [ 2.0851e-01,  3.4486e-01,  3.4379e-01,  ...,  2.9481e-01,\n",
       "            1.7185e-01,  3.5023e-01],\n",
       "          [ 1.6380e-01,  3.3735e-01,  3.4029e-01,  ...,  3.3864e-01,\n",
       "            3.8375e-01,  4.2998e-01],\n",
       "          [ 2.4968e-01,  4.2728e-01,  3.7101e-01,  ...,  6.2736e-01,\n",
       "            4.9396e-01,  4.7774e-01]],\n",
       "\n",
       "         ...,\n",
       "\n",
       "         [[-3.2800e-01, -2.4138e-01, -2.3034e-01,  ..., -2.7195e-01,\n",
       "           -2.7008e-01, -2.8321e-01],\n",
       "          [ 5.2542e-01,  6.3332e-01,  6.3978e-01,  ...,  3.4064e-01,\n",
       "            3.1182e-01,  3.2267e-01],\n",
       "          [ 5.2954e-01,  7.5463e-01,  7.1275e-01,  ...,  3.7440e-01,\n",
       "            3.6021e-01,  2.9289e-01],\n",
       "          ...,\n",
       "          [ 4.2798e-01,  5.6192e-01,  5.8120e-01,  ...,  7.6641e-01,\n",
       "            8.9394e-01,  9.1520e-01],\n",
       "          [ 3.0013e-01,  5.7494e-01,  5.5767e-01,  ...,  8.8114e-01,\n",
       "            8.3314e-01,  8.8322e-01],\n",
       "          [ 3.4243e-01,  5.1523e-01,  6.1444e-01,  ...,  9.5342e-01,\n",
       "            9.6788e-01,  8.9450e-01]],\n",
       "\n",
       "         [[-8.2587e-01, -8.0067e-01, -7.9325e-01,  ..., -7.3383e-01,\n",
       "           -7.3213e-01, -7.3431e-01],\n",
       "          [-7.9433e-01, -8.2468e-01, -8.2257e-01,  ..., -8.0453e-01,\n",
       "           -7.9701e-01, -7.9237e-01],\n",
       "          [-7.9395e-01, -8.2616e-01, -8.1882e-01,  ..., -7.9734e-01,\n",
       "           -8.0624e-01, -8.0741e-01],\n",
       "          ...,\n",
       "          [-8.3510e-01, -7.4186e-01, -7.7658e-01,  ..., -8.0660e-01,\n",
       "           -8.0769e-01, -7.8425e-01],\n",
       "          [-8.3504e-01, -7.6982e-01, -7.7062e-01,  ..., -8.0257e-01,\n",
       "           -7.9611e-01, -8.0272e-01],\n",
       "          [-8.3459e-01, -7.8688e-01, -7.8513e-01,  ..., -8.1384e-01,\n",
       "           -8.0514e-01, -7.8037e-01]],\n",
       "\n",
       "         [[-3.7701e-01, -1.0235e+00, -1.0238e+00,  ..., -1.0452e+00,\n",
       "           -1.0446e+00, -1.0459e+00],\n",
       "          [-2.1102e-01, -9.7201e-01, -9.6287e-01,  ..., -1.0184e+00,\n",
       "           -1.0279e+00, -1.0215e+00],\n",
       "          [-2.0626e-01, -9.5122e-01, -9.6980e-01,  ..., -1.0247e+00,\n",
       "           -1.0189e+00, -1.0299e+00],\n",
       "          ...,\n",
       "          [ 2.4499e+00, -4.2824e-01, -4.5294e-01,  ..., -5.9352e-01,\n",
       "           -6.4973e-01, -5.8049e-01],\n",
       "          [ 2.4806e+00, -4.0383e-01, -4.8798e-01,  ..., -6.1621e-01,\n",
       "           -4.8878e-01, -5.2951e-01],\n",
       "          [ 2.6999e+00, -3.4826e-01, -3.8145e-01,  ..., -5.2946e-01,\n",
       "           -5.7191e-01, -5.4271e-01]]],\n",
       "\n",
       "\n",
       "        [[[ 2.9451e-01,  6.6346e-01,  6.9538e-01,  ...,  9.2101e-01,\n",
       "            9.0307e-01,  9.0877e-01],\n",
       "          [-4.9520e-01,  1.5508e+00,  1.5149e+00,  ...,  1.7345e+00,\n",
       "            1.7961e+00,  1.7800e+00],\n",
       "          [-4.9085e-01,  1.4673e+00,  1.5403e+00,  ...,  1.7973e+00,\n",
       "            1.7547e+00,  1.7714e+00],\n",
       "          ...,\n",
       "          [-5.8705e-01, -8.1369e-04,  7.3298e-02,  ...,  2.6809e-01,\n",
       "            3.3458e-01,  4.1019e-01],\n",
       "          [-6.2128e-01,  6.4395e-03, -2.2911e-02,  ...,  3.3752e-01,\n",
       "            3.2595e-01,  3.3182e-01],\n",
       "          [-6.0525e-01, -1.9769e-01, -1.4790e-01,  ...,  2.6124e-01,\n",
       "            2.6259e-01,  2.5504e-01]],\n",
       "\n",
       "         [[-3.7064e-01, -4.2609e-01, -4.0349e-01,  ..., -4.2542e-01,\n",
       "           -4.2696e-01, -4.2755e-01],\n",
       "          [-4.8025e-01, -2.1443e-01, -1.7409e-01,  ..., -2.9523e-01,\n",
       "           -3.3035e-01, -3.1069e-01],\n",
       "          [-4.9635e-01, -1.0352e-01, -2.6568e-01,  ..., -3.1383e-01,\n",
       "           -2.8769e-01, -3.3405e-01],\n",
       "          ...,\n",
       "          [-7.6286e-02,  7.4857e-02,  1.1987e-01,  ...,  5.1038e-02,\n",
       "           -2.1173e-02, -7.7563e-02],\n",
       "          [-1.2477e-03,  8.9092e-02,  1.2291e-01,  ...,  2.8738e-02,\n",
       "            1.0885e-01,  9.3701e-03],\n",
       "          [ 4.6070e-02,  1.7551e-01,  1.3012e-01,  ...,  7.5860e-02,\n",
       "            1.6760e-02,  2.3284e-02]],\n",
       "\n",
       "         [[-6.8600e-01, -6.6640e-01, -6.7438e-01,  ..., -7.3357e-01,\n",
       "           -7.3353e-01, -7.3371e-01],\n",
       "          [-6.4425e-01, -4.1739e-01, -4.1396e-01,  ..., -6.1259e-01,\n",
       "           -6.3140e-01, -6.3489e-01],\n",
       "          [-6.4272e-01, -3.8934e-01, -4.2904e-01,  ..., -6.2299e-01,\n",
       "           -6.1443e-01, -6.4111e-01],\n",
       "          ...,\n",
       "          [ 2.0215e-01,  3.5916e-01,  3.2973e-01,  ...,  3.5835e-01,\n",
       "            2.9748e-01,  4.1773e-01],\n",
       "          [ 1.6243e-01,  3.0724e-01,  3.3211e-01,  ...,  4.3344e-01,\n",
       "            3.9471e-01,  4.5513e-01],\n",
       "          [ 2.4670e-01,  4.0568e-01,  3.8271e-01,  ...,  6.3730e-01,\n",
       "            4.6330e-01,  4.8979e-01]],\n",
       "\n",
       "         ...,\n",
       "\n",
       "         [[-3.2800e-01, -2.4138e-01, -2.3034e-01,  ..., -2.7195e-01,\n",
       "           -2.7008e-01, -2.9227e-01],\n",
       "          [ 5.2542e-01,  6.3332e-01,  6.3978e-01,  ...,  3.4064e-01,\n",
       "            3.1182e-01,  3.3075e-01],\n",
       "          [ 5.2954e-01,  7.5463e-01,  7.1275e-01,  ...,  3.7440e-01,\n",
       "            3.6021e-01,  3.0757e-01],\n",
       "          ...,\n",
       "          [ 4.1644e-01,  5.8541e-01,  5.9676e-01,  ...,  8.5275e-01,\n",
       "            9.4444e-01,  1.0025e+00],\n",
       "          [ 2.9860e-01,  5.9042e-01,  5.6636e-01,  ...,  9.6550e-01,\n",
       "            8.2905e-01,  8.9176e-01],\n",
       "          [ 3.4406e-01,  5.0331e-01,  5.1907e-01,  ...,  9.7948e-01,\n",
       "            9.5154e-01,  8.5999e-01]],\n",
       "\n",
       "         [[-8.2587e-01, -8.0067e-01, -7.9325e-01,  ..., -7.3383e-01,\n",
       "           -7.3213e-01, -7.3597e-01],\n",
       "          [-7.9433e-01, -8.2468e-01, -8.2257e-01,  ..., -8.0453e-01,\n",
       "           -7.9701e-01, -7.9384e-01],\n",
       "          [-7.9395e-01, -8.2616e-01, -8.1882e-01,  ..., -7.9734e-01,\n",
       "           -8.0624e-01, -8.0774e-01],\n",
       "          ...,\n",
       "          [-8.3508e-01, -7.5105e-01, -7.7528e-01,  ..., -8.1751e-01,\n",
       "           -8.1308e-01, -7.8900e-01],\n",
       "          [-8.3505e-01, -7.6716e-01, -7.6634e-01,  ..., -8.0504e-01,\n",
       "           -7.9774e-01, -8.0371e-01],\n",
       "          [-8.3438e-01, -7.8411e-01, -7.7899e-01,  ..., -8.0917e-01,\n",
       "           -8.0568e-01, -7.8887e-01]],\n",
       "\n",
       "         [[-3.7701e-01, -1.0235e+00, -1.0238e+00,  ..., -1.0452e+00,\n",
       "           -1.0446e+00, -1.0460e+00],\n",
       "          [-2.1102e-01, -9.7201e-01, -9.6287e-01,  ..., -1.0184e+00,\n",
       "           -1.0279e+00, -1.0251e+00],\n",
       "          [-2.0626e-01, -9.5122e-01, -9.6980e-01,  ..., -1.0247e+00,\n",
       "           -1.0189e+00, -1.0310e+00],\n",
       "          ...,\n",
       "          [ 2.4617e+00, -4.3093e-01, -4.5926e-01,  ..., -5.8942e-01,\n",
       "           -6.4572e-01, -5.9716e-01],\n",
       "          [ 2.4823e+00, -4.1328e-01, -4.3722e-01,  ..., -5.5974e-01,\n",
       "           -5.5479e-01, -5.4759e-01],\n",
       "          [ 2.6387e+00, -3.6929e-01, -3.0972e-01,  ..., -5.1033e-01,\n",
       "           -5.8377e-01, -5.1656e-01]]],\n",
       "\n",
       "\n",
       "        ...,\n",
       "\n",
       "\n",
       "        [[[-6.2851e-01, -3.7381e-01, -3.7381e-01,  ..., -3.7381e-01,\n",
       "           -3.7381e-01, -3.7381e-01],\n",
       "          [-4.8520e-01, -7.1745e-01, -7.1745e-01,  ..., -7.1745e-01,\n",
       "           -7.1745e-01, -7.1745e-01],\n",
       "          [-4.8520e-01, -7.1745e-01, -7.1745e-01,  ..., -7.1745e-01,\n",
       "           -7.1745e-01, -7.1745e-01],\n",
       "          ...,\n",
       "          [-4.8520e-01, -7.1745e-01, -7.1745e-01,  ..., -7.1745e-01,\n",
       "           -7.1745e-01, -7.1745e-01],\n",
       "          [-4.8520e-01, -7.1745e-01, -7.1745e-01,  ..., -7.1745e-01,\n",
       "           -7.1745e-01, -7.1745e-01],\n",
       "          [-4.8520e-01, -7.1745e-01, -7.1745e-01,  ..., -7.1745e-01,\n",
       "           -7.1745e-01, -7.1745e-01]],\n",
       "\n",
       "         [[ 9.7072e-01,  1.1416e-01,  1.1416e-01,  ...,  1.1416e-01,\n",
       "            1.1416e-01,  1.1416e-01],\n",
       "          [ 3.2997e+00, -1.2955e-01, -1.2955e-01,  ..., -1.2955e-01,\n",
       "           -1.2955e-01, -1.2955e-01],\n",
       "          [ 3.2997e+00, -1.2955e-01, -1.2955e-01,  ..., -1.2955e-01,\n",
       "           -1.2955e-01, -1.2955e-01],\n",
       "          ...,\n",
       "          [ 3.2997e+00, -1.2955e-01, -1.2955e-01,  ..., -1.2955e-01,\n",
       "           -1.2955e-01, -1.2955e-01],\n",
       "          [ 3.2997e+00, -1.2955e-01, -1.2955e-01,  ..., -1.2955e-01,\n",
       "           -1.2955e-01, -1.2955e-01],\n",
       "          [ 3.2997e+00, -1.2955e-01, -1.2955e-01,  ..., -1.2955e-01,\n",
       "           -1.2955e-01, -1.2955e-01]],\n",
       "\n",
       "         [[ 4.1790e+00,  7.4679e+00,  7.4679e+00,  ...,  7.4679e+00,\n",
       "            7.4679e+00,  7.4679e+00],\n",
       "          [ 4.2960e-01,  3.4217e-02,  3.4217e-02,  ...,  3.4217e-02,\n",
       "            3.4217e-02,  3.4217e-02],\n",
       "          [ 4.2960e-01,  3.4217e-02,  3.4217e-02,  ...,  3.4217e-02,\n",
       "            3.4217e-02,  3.4217e-02],\n",
       "          ...,\n",
       "          [ 4.2960e-01,  3.4217e-02,  3.4217e-02,  ...,  3.4217e-02,\n",
       "            3.4217e-02,  3.4217e-02],\n",
       "          [ 4.2960e-01,  3.4217e-02,  3.4217e-02,  ...,  3.4217e-02,\n",
       "            3.4217e-02,  3.4217e-02],\n",
       "          [ 4.2960e-01,  3.4217e-02,  3.4217e-02,  ...,  3.4217e-02,\n",
       "            3.4217e-02,  3.4217e-02]],\n",
       "\n",
       "         ...,\n",
       "\n",
       "         [[-6.8759e-01, -7.0180e-02, -7.0180e-02,  ..., -7.0180e-02,\n",
       "           -7.0180e-02, -7.0180e-02],\n",
       "          [-4.0426e-01, -7.0441e-01, -7.0441e-01,  ..., -7.0441e-01,\n",
       "           -7.0441e-01, -7.0441e-01],\n",
       "          [-4.0426e-01, -7.0441e-01, -7.0441e-01,  ..., -7.0441e-01,\n",
       "           -7.0441e-01, -7.0441e-01],\n",
       "          ...,\n",
       "          [-4.0426e-01, -7.0441e-01, -7.0441e-01,  ..., -7.0441e-01,\n",
       "           -7.0441e-01, -7.0441e-01],\n",
       "          [-4.0426e-01, -7.0441e-01, -7.0441e-01,  ..., -7.0441e-01,\n",
       "           -7.0441e-01, -7.0441e-01],\n",
       "          [-4.0426e-01, -7.0441e-01, -7.0441e-01,  ..., -7.0441e-01,\n",
       "           -7.0441e-01, -7.0441e-01]],\n",
       "\n",
       "         [[ 4.5247e+00,  4.3791e-01,  4.3791e-01,  ...,  4.3791e-01,\n",
       "            4.3791e-01,  4.3791e-01],\n",
       "          [ 1.1594e+00,  2.4312e-01,  2.4312e-01,  ...,  2.4312e-01,\n",
       "            2.4312e-01,  2.4312e-01],\n",
       "          [ 1.1594e+00,  2.4312e-01,  2.4312e-01,  ...,  2.4312e-01,\n",
       "            2.4312e-01,  2.4312e-01],\n",
       "          ...,\n",
       "          [ 1.1594e+00,  2.4312e-01,  2.4312e-01,  ...,  2.4312e-01,\n",
       "            2.4312e-01,  2.4312e-01],\n",
       "          [ 1.1594e+00,  2.4312e-01,  2.4312e-01,  ...,  2.4312e-01,\n",
       "            2.4312e-01,  2.4312e-01],\n",
       "          [ 1.1594e+00,  2.4312e-01,  2.4312e-01,  ...,  2.4312e-01,\n",
       "            2.4312e-01,  2.4312e-01]],\n",
       "\n",
       "         [[ 4.7124e+00,  3.9587e+00,  3.9587e+00,  ...,  3.9587e+00,\n",
       "            3.9587e+00,  3.9587e+00],\n",
       "          [ 2.4713e+00,  6.3135e-01,  6.3135e-01,  ...,  6.3135e-01,\n",
       "            6.3135e-01,  6.3135e-01],\n",
       "          [ 2.4713e+00,  6.3135e-01,  6.3135e-01,  ...,  6.3135e-01,\n",
       "            6.3135e-01,  6.3135e-01],\n",
       "          ...,\n",
       "          [ 2.4713e+00,  6.3135e-01,  6.3135e-01,  ...,  6.3135e-01,\n",
       "            6.3135e-01,  6.3135e-01],\n",
       "          [ 2.4713e+00,  6.3135e-01,  6.3135e-01,  ...,  6.3135e-01,\n",
       "            6.3135e-01,  6.3135e-01],\n",
       "          [ 2.4713e+00,  6.3135e-01,  6.3135e-01,  ...,  6.3135e-01,\n",
       "            6.3135e-01,  6.3135e-01]]],\n",
       "\n",
       "\n",
       "        [[[-6.2851e-01, -3.7381e-01, -3.7381e-01,  ..., -3.7381e-01,\n",
       "           -3.7381e-01, -3.7381e-01],\n",
       "          [-4.8520e-01, -7.1745e-01, -7.1745e-01,  ..., -7.1745e-01,\n",
       "           -7.1745e-01, -7.1745e-01],\n",
       "          [-4.8520e-01, -7.1745e-01, -7.1745e-01,  ..., -7.1745e-01,\n",
       "           -7.1745e-01, -7.1745e-01],\n",
       "          ...,\n",
       "          [-4.8520e-01, -7.1745e-01, -7.1745e-01,  ..., -7.1745e-01,\n",
       "           -7.1745e-01, -7.1745e-01],\n",
       "          [-4.8520e-01, -7.1745e-01, -7.1745e-01,  ..., -7.1745e-01,\n",
       "           -7.1745e-01, -7.1745e-01],\n",
       "          [-4.8520e-01, -7.1745e-01, -7.1745e-01,  ..., -7.1745e-01,\n",
       "           -7.1745e-01, -7.1745e-01]],\n",
       "\n",
       "         [[ 9.7072e-01,  1.1416e-01,  1.1416e-01,  ...,  1.1416e-01,\n",
       "            1.1416e-01,  1.1416e-01],\n",
       "          [ 3.2997e+00, -1.2955e-01, -1.2955e-01,  ..., -1.2955e-01,\n",
       "           -1.2955e-01, -1.2955e-01],\n",
       "          [ 3.2997e+00, -1.2955e-01, -1.2955e-01,  ..., -1.2955e-01,\n",
       "           -1.2955e-01, -1.2955e-01],\n",
       "          ...,\n",
       "          [ 3.2997e+00, -1.2955e-01, -1.2955e-01,  ..., -1.2955e-01,\n",
       "           -1.2955e-01, -1.2955e-01],\n",
       "          [ 3.2997e+00, -1.2955e-01, -1.2955e-01,  ..., -1.2955e-01,\n",
       "           -1.2955e-01, -1.2955e-01],\n",
       "          [ 3.2997e+00, -1.2955e-01, -1.2955e-01,  ..., -1.2955e-01,\n",
       "           -1.2955e-01, -1.2955e-01]],\n",
       "\n",
       "         [[ 4.1790e+00,  7.4679e+00,  7.4679e+00,  ...,  7.4679e+00,\n",
       "            7.4679e+00,  7.4679e+00],\n",
       "          [ 4.2960e-01,  3.4217e-02,  3.4217e-02,  ...,  3.4217e-02,\n",
       "            3.4217e-02,  3.4217e-02],\n",
       "          [ 4.2960e-01,  3.4217e-02,  3.4217e-02,  ...,  3.4217e-02,\n",
       "            3.4217e-02,  3.4217e-02],\n",
       "          ...,\n",
       "          [ 4.2960e-01,  3.4217e-02,  3.4217e-02,  ...,  3.4217e-02,\n",
       "            3.4217e-02,  3.4217e-02],\n",
       "          [ 4.2960e-01,  3.4217e-02,  3.4217e-02,  ...,  3.4217e-02,\n",
       "            3.4217e-02,  3.4217e-02],\n",
       "          [ 4.2960e-01,  3.4217e-02,  3.4217e-02,  ...,  3.4217e-02,\n",
       "            3.4217e-02,  3.4217e-02]],\n",
       "\n",
       "         ...,\n",
       "\n",
       "         [[-6.8759e-01, -7.0180e-02, -7.0180e-02,  ..., -7.0180e-02,\n",
       "           -7.0180e-02, -7.0180e-02],\n",
       "          [-4.0426e-01, -7.0441e-01, -7.0441e-01,  ..., -7.0441e-01,\n",
       "           -7.0441e-01, -7.0441e-01],\n",
       "          [-4.0426e-01, -7.0441e-01, -7.0441e-01,  ..., -7.0441e-01,\n",
       "           -7.0441e-01, -7.0441e-01],\n",
       "          ...,\n",
       "          [-4.0426e-01, -7.0441e-01, -7.0441e-01,  ..., -7.0441e-01,\n",
       "           -7.0441e-01, -7.0441e-01],\n",
       "          [-4.0426e-01, -7.0441e-01, -7.0441e-01,  ..., -7.0441e-01,\n",
       "           -7.0441e-01, -7.0441e-01],\n",
       "          [-4.0426e-01, -7.0441e-01, -7.0441e-01,  ..., -7.0441e-01,\n",
       "           -7.0441e-01, -7.0441e-01]],\n",
       "\n",
       "         [[ 4.5247e+00,  4.3791e-01,  4.3791e-01,  ...,  4.3791e-01,\n",
       "            4.3791e-01,  4.3791e-01],\n",
       "          [ 1.1594e+00,  2.4312e-01,  2.4312e-01,  ...,  2.4312e-01,\n",
       "            2.4312e-01,  2.4312e-01],\n",
       "          [ 1.1594e+00,  2.4312e-01,  2.4312e-01,  ...,  2.4312e-01,\n",
       "            2.4312e-01,  2.4312e-01],\n",
       "          ...,\n",
       "          [ 1.1594e+00,  2.4312e-01,  2.4312e-01,  ...,  2.4312e-01,\n",
       "            2.4312e-01,  2.4312e-01],\n",
       "          [ 1.1594e+00,  2.4312e-01,  2.4312e-01,  ...,  2.4312e-01,\n",
       "            2.4312e-01,  2.4312e-01],\n",
       "          [ 1.1594e+00,  2.4312e-01,  2.4312e-01,  ...,  2.4312e-01,\n",
       "            2.4312e-01,  2.4312e-01]],\n",
       "\n",
       "         [[ 4.7124e+00,  3.9587e+00,  3.9587e+00,  ...,  3.9587e+00,\n",
       "            3.9587e+00,  3.9587e+00],\n",
       "          [ 2.4713e+00,  6.3135e-01,  6.3135e-01,  ...,  6.3135e-01,\n",
       "            6.3135e-01,  6.3135e-01],\n",
       "          [ 2.4713e+00,  6.3135e-01,  6.3135e-01,  ...,  6.3135e-01,\n",
       "            6.3135e-01,  6.3135e-01],\n",
       "          ...,\n",
       "          [ 2.4713e+00,  6.3135e-01,  6.3135e-01,  ...,  6.3135e-01,\n",
       "            6.3135e-01,  6.3135e-01],\n",
       "          [ 2.4713e+00,  6.3135e-01,  6.3135e-01,  ...,  6.3135e-01,\n",
       "            6.3135e-01,  6.3135e-01],\n",
       "          [ 2.4713e+00,  6.3135e-01,  6.3135e-01,  ...,  6.3135e-01,\n",
       "            6.3135e-01,  6.3135e-01]]],\n",
       "\n",
       "\n",
       "        [[[-6.2851e-01, -3.7381e-01, -3.7381e-01,  ..., -3.7381e-01,\n",
       "           -3.7381e-01, -3.7381e-01],\n",
       "          [-4.8520e-01, -7.1745e-01, -7.1745e-01,  ..., -7.1745e-01,\n",
       "           -7.1745e-01, -7.1745e-01],\n",
       "          [-4.8520e-01, -7.1745e-01, -7.1745e-01,  ..., -7.1745e-01,\n",
       "           -7.1745e-01, -7.1745e-01],\n",
       "          ...,\n",
       "          [-4.8520e-01, -7.1745e-01, -7.1745e-01,  ..., -7.1745e-01,\n",
       "           -7.1745e-01, -7.1745e-01],\n",
       "          [-4.8520e-01, -7.1745e-01, -7.1745e-01,  ..., -7.1745e-01,\n",
       "           -7.1745e-01, -7.1745e-01],\n",
       "          [-4.8520e-01, -7.1745e-01, -7.1745e-01,  ..., -7.1745e-01,\n",
       "           -7.1745e-01, -7.1745e-01]],\n",
       "\n",
       "         [[ 9.7072e-01,  1.1416e-01,  1.1416e-01,  ...,  1.1416e-01,\n",
       "            1.1416e-01,  1.1416e-01],\n",
       "          [ 3.2997e+00, -1.2955e-01, -1.2955e-01,  ..., -1.2955e-01,\n",
       "           -1.2955e-01, -1.2955e-01],\n",
       "          [ 3.2997e+00, -1.2955e-01, -1.2955e-01,  ..., -1.2955e-01,\n",
       "           -1.2955e-01, -1.2955e-01],\n",
       "          ...,\n",
       "          [ 3.2997e+00, -1.2955e-01, -1.2955e-01,  ..., -1.2955e-01,\n",
       "           -1.2955e-01, -1.2955e-01],\n",
       "          [ 3.2997e+00, -1.2955e-01, -1.2955e-01,  ..., -1.2955e-01,\n",
       "           -1.2955e-01, -1.2955e-01],\n",
       "          [ 3.2997e+00, -1.2955e-01, -1.2955e-01,  ..., -1.2955e-01,\n",
       "           -1.2955e-01, -1.2955e-01]],\n",
       "\n",
       "         [[ 4.1790e+00,  7.4679e+00,  7.4679e+00,  ...,  7.4679e+00,\n",
       "            7.4679e+00,  7.4679e+00],\n",
       "          [ 4.2960e-01,  3.4217e-02,  3.4217e-02,  ...,  3.4217e-02,\n",
       "            3.4217e-02,  3.4217e-02],\n",
       "          [ 4.2960e-01,  3.4217e-02,  3.4217e-02,  ...,  3.4217e-02,\n",
       "            3.4217e-02,  3.4217e-02],\n",
       "          ...,\n",
       "          [ 4.2960e-01,  3.4217e-02,  3.4217e-02,  ...,  3.4217e-02,\n",
       "            3.4217e-02,  3.4217e-02],\n",
       "          [ 4.2960e-01,  3.4217e-02,  3.4217e-02,  ...,  3.4217e-02,\n",
       "            3.4217e-02,  3.4217e-02],\n",
       "          [ 4.2960e-01,  3.4217e-02,  3.4217e-02,  ...,  3.4217e-02,\n",
       "            3.4217e-02,  3.4217e-02]],\n",
       "\n",
       "         ...,\n",
       "\n",
       "         [[-6.8759e-01, -7.0180e-02, -7.0180e-02,  ..., -7.0180e-02,\n",
       "           -7.0180e-02, -7.0180e-02],\n",
       "          [-4.0426e-01, -7.0441e-01, -7.0441e-01,  ..., -7.0441e-01,\n",
       "           -7.0441e-01, -7.0441e-01],\n",
       "          [-4.0426e-01, -7.0441e-01, -7.0441e-01,  ..., -7.0441e-01,\n",
       "           -7.0441e-01, -7.0441e-01],\n",
       "          ...,\n",
       "          [-4.0426e-01, -7.0441e-01, -7.0441e-01,  ..., -7.0441e-01,\n",
       "           -7.0441e-01, -7.0441e-01],\n",
       "          [-4.0426e-01, -7.0441e-01, -7.0441e-01,  ..., -7.0441e-01,\n",
       "           -7.0441e-01, -7.0441e-01],\n",
       "          [-4.0426e-01, -7.0441e-01, -7.0441e-01,  ..., -7.0441e-01,\n",
       "           -7.0441e-01, -7.0441e-01]],\n",
       "\n",
       "         [[ 4.5247e+00,  4.3791e-01,  4.3791e-01,  ...,  4.3791e-01,\n",
       "            4.3791e-01,  4.3791e-01],\n",
       "          [ 1.1594e+00,  2.4312e-01,  2.4312e-01,  ...,  2.4312e-01,\n",
       "            2.4312e-01,  2.4312e-01],\n",
       "          [ 1.1594e+00,  2.4312e-01,  2.4312e-01,  ...,  2.4312e-01,\n",
       "            2.4312e-01,  2.4312e-01],\n",
       "          ...,\n",
       "          [ 1.1594e+00,  2.4312e-01,  2.4312e-01,  ...,  2.4312e-01,\n",
       "            2.4312e-01,  2.4312e-01],\n",
       "          [ 1.1594e+00,  2.4312e-01,  2.4312e-01,  ...,  2.4312e-01,\n",
       "            2.4312e-01,  2.4312e-01],\n",
       "          [ 1.1594e+00,  2.4312e-01,  2.4312e-01,  ...,  2.4312e-01,\n",
       "            2.4312e-01,  2.4312e-01]],\n",
       "\n",
       "         [[ 4.7124e+00,  3.9587e+00,  3.9587e+00,  ...,  3.9587e+00,\n",
       "            3.9587e+00,  3.9587e+00],\n",
       "          [ 2.4713e+00,  6.3135e-01,  6.3135e-01,  ...,  6.3135e-01,\n",
       "            6.3135e-01,  6.3135e-01],\n",
       "          [ 2.4713e+00,  6.3135e-01,  6.3135e-01,  ...,  6.3135e-01,\n",
       "            6.3135e-01,  6.3135e-01],\n",
       "          ...,\n",
       "          [ 2.4713e+00,  6.3135e-01,  6.3135e-01,  ...,  6.3135e-01,\n",
       "            6.3135e-01,  6.3135e-01],\n",
       "          [ 2.4713e+00,  6.3135e-01,  6.3135e-01,  ...,  6.3135e-01,\n",
       "            6.3135e-01,  6.3135e-01],\n",
       "          [ 2.4713e+00,  6.3135e-01,  6.3135e-01,  ...,  6.3135e-01,\n",
       "            6.3135e-01,  6.3135e-01]]]], grad_fn=<NativeBatchNormBackward0>)"
      ]
     },
     "execution_count": 22,
     "metadata": {},
     "output_type": "execute_result"
    }
   ],
   "source": [
    "output"
   ]
  },
  {
   "cell_type": "code",
   "execution_count": 23,
   "metadata": {},
   "outputs": [
    {
     "data": {
      "text/plain": [
       "torch.Size([160, 256, 32, 32])"
      ]
     },
     "execution_count": 23,
     "metadata": {},
     "output_type": "execute_result"
    }
   ],
   "source": [
    "output.shape"
   ]
  },
  {
   "cell_type": "code",
   "execution_count": 24,
   "metadata": {},
   "outputs": [
    {
     "data": {
      "text/plain": [
       "<matplotlib.image.AxesImage at 0x1adc18fa3c0>"
      ]
     },
     "execution_count": 24,
     "metadata": {},
     "output_type": "execute_result"
    },
    {
     "data": {
      "image/png": "[encoded data removed]",
      "text/plain": [
       "<Figure size 640x480 with 1 Axes>"
      ]
     },
     "metadata": {},
     "output_type": "display_data"
    }
   ],
   "source": [
    "import matplotlib.pyplot as plt \n",
    "\n",
    "# output.shape = torch.Size([160, 256, 28, 28])\n",
    "plt.imshow(output[36][0].detach().numpy())"
   ]
  },
  {
   "cell_type": "code",
   "execution_count": 25,
   "metadata": {},
   "outputs": [
    {
     "data": {
      "text/plain": [
       "<matplotlib.image.AxesImage at 0x1adc4a823c0>"
      ]
     },
     "execution_count": 25,
     "metadata": {},
     "output_type": "execute_result"
    },
    {
     "data": {
      "image/png": "[encoded data removed]",
      "text/plain": [
       "<Figure size 640x480 with 1 Axes>"
      ]
     },
     "metadata": {},
     "output_type": "display_data"
    }
   ],
   "source": [
    "# input.shape = torch.Size([160, 3, 224, 224])\n",
    "plt.imshow(input[93][0].detach().numpy())"
   ]
  },
  {
   "cell_type": "markdown",
   "metadata": {},
   "source": [
    "### Combine CNN with LSTM"
   ]
  },
  {
   "cell_type": "code",
   "execution_count": 26,
   "metadata": {},
   "outputs": [
    {
     "data": {
      "text/plain": [
       "device(type='cpu')"
      ]
     },
     "execution_count": 26,
     "metadata": {},
     "output_type": "execute_result"
    }
   ],
   "source": [
    "device = torch.device('cpu')\n",
    "device"
   ]
  },
  {
   "cell_type": "code",
   "execution_count": 27,
   "metadata": {},
   "outputs": [],
   "source": [
    "# class LSTM(nn.Module):\n",
    "#     def __init__(self, input_size, hidden_size, num_layers, num_classes, dropout):\n",
    "#         super(LSTM, self).__init__()\n",
    "#         self.hidden_size = hidden_size\n",
    "#         self.num_layers = num_layers\n",
    "#         self.cnn = GrainModule(in_channels=3)\n",
    "#         self.lstm = nn.LSTM(input_size=256, hidden_size=hidden_size, num_layers=num_layers)\n",
    "#         self.fc1 = nn.Linear(hidden_size, num_classes)\n",
    "#         self.dropout = nn.Dropout(dropout)\n",
    "\n",
    "#     def forward(self, x):\n",
    "\n",
    "#         h0 = torch.zeros(self.num_layers, x.size(0), self.hidden_size).requires_grad_()\n",
    "\n",
    "#         # Initialize cell state\n",
    "#         c0 = torch.zeros(self.num_layers, x.size(0), self.hidden_size).requires_grad_()\n",
    "\n",
    "#         x = self.cnn(x)\n",
    "#         x = self.dropout(x) # -> torch.Size([160, 256, 32, 32])\n",
    "#         # x = x.permute(2,1,0,3) # -> torch.Size([32, 256, 160, 32])\n",
    "#         x = x.permute(3,2,0,1)\n",
    "#         x = x[0,:,:,:]\n",
    "#         x, (hn, cn) = self.lstm(x, (h0.detach(),c0.detach()))\n",
    "#         x = self.fc1(x[:, -1, :])\n",
    "\n",
    "#         return x"
   ]
  },
  {
   "cell_type": "code",
   "execution_count": 28,
   "metadata": {},
   "outputs": [],
   "source": [
    "class CNNBranch(nn.Module):\n",
    "    def __init__(self, in_channels):\n",
    "        super(CNNBranch, self).__init__()\n",
    "        self.cnn = GrainModule(in_channels=3)\n",
    "        self.conv1 = nn.Conv2d(in_channels, 512, kernel_size=3, stride=1, padding=1)\n",
    "        self.gb1 = GELUBatchNorm(512)\n",
    "        self.conv2 = nn.Conv2d(512, 512, kernel_size=3, stride=1, padding=1)\n",
    "        self.gb2 = GELUBatchNorm(512)\n",
    "\n",
    "    def forward(self, x):\n",
    "        x = self.cnn(x)\n",
    "        x = self.conv1(x)\n",
    "        x = self.gb1(x)\n",
    "        x = self.conv2(x)\n",
    "        x = self.gb2(x)\n",
    "        return x\n"
   ]
  },
  {
   "cell_type": "code",
   "execution_count": 29,
   "metadata": {},
   "outputs": [],
   "source": [
    "class TransformerLayer(nn.Module):\n",
    "    def __init__(self, input_dim, num_heads):\n",
    "        super(TransformerLayer, self).__init__()\n",
    "        self.conv1 = nn.Conv2d(input_dim, 512, kernel_size=3, padding=1)\n",
    "        self.layer_norm1 = nn.LayerNorm([512, 32, 32])  # Example size; adjust according to the data\n",
    "        self.mhsa = nn.MultiheadAttention(embed_dim=512, num_heads=num_heads)\n",
    "        self.layer_norm2 = nn.LayerNorm(512)\n",
    "        self.mlp_conv = nn.Conv2d(512, 256, kernel_size=1)\n",
    "\n",
    "    def forward(self, x):\n",
    "        x = self.conv1(x)\n",
    "        x = self.layer_norm1(x)\n",
    "        # Convert to shape suitable for MHSA\n",
    "        batch_size, channels, height, width = x.shape\n",
    "        x = x.view(batch_size, channels, -1).permute(2, 0, 1)  # (seq_len, batch_size, channels)\n",
    "        attn_output, _ = self.mhsa(x, x, x)\n",
    "        attn_output = self.layer_norm2(attn_output.permute(1, 2, 0).view(batch_size, channels, height, width))\n",
    "        x = self.mlp_conv(attn_output)\n",
    "        return x\n"
   ]
  },
  {
   "cell_type": "code",
   "execution_count": 30,
   "metadata": {},
   "outputs": [],
   "source": [
    "class CNNBranch(nn.Module):\n",
    "    def __init__(self, in_channels):\n",
    "        super(CNNBranch, self).__init__()\n",
    "        self.conv1 = nn.Conv2d(in_channels, 512, kernel_size=3, stride=1, padding=1)\n",
    "        self.gb1 = GELUBatchNorm(512)\n",
    "        self.conv2 = nn.Conv2d(512, 512, kernel_size=3, stride=1, padding=1)\n",
    "        self.gb2 = GELUBatchNorm(512)\n",
    "\n",
    "    def forward(self, x):\n",
    "        x = self.conv1(x)\n",
    "        x = self.gb1(x)\n",
    "        x = self.conv2(x)\n",
    "        x = self.gb2(x)\n",
    "        return x\n"
   ]
  },
  {
   "cell_type": "code",
   "execution_count": 31,
   "metadata": {},
   "outputs": [],
   "source": [
    "class ClassificationModule(nn.Module):\n",
    "    def __init__(self, num_classes):\n",
    "        super(ClassificationModule, self).__init__()\n",
    "        self.conv = nn.Conv2d(512 + 256, 512, kernel_size=1)  # Concatenated size of transformer and CNN\n",
    "        self.avg_pool = nn.AdaptiveAvgPool2d((1, 1))\n",
    "        self.fc = nn.Linear(512, num_classes)\n",
    "\n",
    "    def forward(self, x):\n",
    "        x = self.conv(x)\n",
    "        x = self.avg_pool(x)\n",
    "        x = x.view(x.size(0), -1)  # Flatten\n",
    "        x = self.fc(x)\n",
    "        return x\n"
   ]
  },
  {
   "cell_type": "code",
   "execution_count": 32,
   "metadata": {},
   "outputs": [],
   "source": [
    "class SignLanguageModel(nn.Module):\n",
    "    def __init__(self, num_classes, in_channels=3, num_heads=8):\n",
    "        super(SignLanguageModel, self).__init__()\n",
    "        self.grain_module = GrainModule(in_channels)\n",
    "        self.transformer = TransformerLayer(input_dim=256, num_heads=num_heads)\n",
    "        self.cnn_branch = CNNBranch(in_channels=256)\n",
    "        self.classifier = ClassificationModule(num_classes)\n",
    "\n",
    "    def forward(self, x):\n",
    "        grain_features = self.grain_module(x)\n",
    "        transformer_features = self.transformer(grain_features)\n",
    "        cnn_features = self.cnn_branch(grain_features)\n",
    "        \n",
    "        # Concatenate features from transformer and CNN\n",
    "        final_features = torch.cat([transformer_features, cnn_features], dim=1)\n",
    "        \n",
    "        # Classification\n",
    "        predicted_class = self.classifier(final_features)\n",
    "        return predicted_class\n"
   ]
  },
  {
   "cell_type": "code",
   "execution_count": 33,
   "metadata": {},
   "outputs": [],
   "source": [
    "def train(model, dataloader, criterion, optimizer, num_epochs):\n",
    "    model.train()\n",
    "    for epoch in range(num_epochs):\n",
    "        for batch in dataloader:\n",
    "            inputs, labels = batch\n",
    "            inputs = inputs[0,:,:,:,:]\n",
    "            optimizer.zero_grad()\n",
    "            outputs = model(inputs)\n",
    "            loss = criterion(outputs, labels)\n",
    "            loss.backward()\n",
    "            optimizer.step()\n",
    "        print(f'Epoch : {epoch}/{num_epochs}')"
   ]
  },
  {
   "cell_type": "code",
   "execution_count": 34,
   "metadata": {},
   "outputs": [],
   "source": [
    "import torch.optim as optim"
   ]
  },
  {
   "cell_type": "code",
   "execution_count": 35,
   "metadata": {},
   "outputs": [
    {
     "name": "stderr",
     "output_type": "stream",
     "text": [
      "C:\\Users\\araya\\AppData\\Local\\Temp\\ipykernel_17276\\4150219448.py:48: UserWarning: To copy construct from a tensor, it is recommended to use sourceTensor.clone().detach() or sourceTensor.clone().detach().requires_grad_(True), rather than torch.tensor(sourceTensor).\n",
      "  return torch.tensor(images, dtype=torch.float32), label\n"
     ]
    },
    {
     "ename": "RuntimeError",
     "evalue": "[enforce fail at alloc_cpu.cpp:114] data. DefaultCPUAllocator: not enough memory: you tried to allocate 5368709120 bytes.",
     "output_type": "error",
     "traceback": [
      "\u001b[1;31m---------------------------------------------------------------------------\u001b[0m",
      "\u001b[1;31mRuntimeError\u001b[0m                              Traceback (most recent call last)",
      "Cell \u001b[1;32mIn[35], line 9\u001b[0m\n\u001b[0;32m      6\u001b[0m optimizer \u001b[38;5;241m=\u001b[39m torch\u001b[38;5;241m.\u001b[39moptim\u001b[38;5;241m.\u001b[39mAdam(model\u001b[38;5;241m.\u001b[39mparameters(), lr\u001b[38;5;241m=\u001b[39m\u001b[38;5;241m0.001\u001b[39m)\n\u001b[0;32m      8\u001b[0m \u001b[38;5;66;03m# Train and test the model\u001b[39;00m\n\u001b[1;32m----> 9\u001b[0m \u001b[43mtrain\u001b[49m\u001b[43m(\u001b[49m\u001b[43mmodel\u001b[49m\u001b[43m,\u001b[49m\u001b[43m \u001b[49m\u001b[43mdataloader\u001b[49m\u001b[43m,\u001b[49m\u001b[43m \u001b[49m\u001b[43mcriterion\u001b[49m\u001b[43m,\u001b[49m\u001b[43m \u001b[49m\u001b[43moptimizer\u001b[49m\u001b[43m,\u001b[49m\u001b[43m \u001b[49m\u001b[43mnum_epochs\u001b[49m\u001b[38;5;241;43m=\u001b[39;49m\u001b[38;5;241;43m10\u001b[39;49m\u001b[43m)\u001b[49m\n",
      "Cell \u001b[1;32mIn[33], line 8\u001b[0m, in \u001b[0;36mtrain\u001b[1;34m(model, dataloader, criterion, optimizer, num_epochs)\u001b[0m\n\u001b[0;32m      6\u001b[0m inputs \u001b[38;5;241m=\u001b[39m inputs[\u001b[38;5;241m0\u001b[39m,:,:,:,:]\n\u001b[0;32m      7\u001b[0m optimizer\u001b[38;5;241m.\u001b[39mzero_grad()\n\u001b[1;32m----> 8\u001b[0m outputs \u001b[38;5;241m=\u001b[39m \u001b[43mmodel\u001b[49m\u001b[43m(\u001b[49m\u001b[43minputs\u001b[49m\u001b[43m)\u001b[49m\n\u001b[0;32m      9\u001b[0m loss \u001b[38;5;241m=\u001b[39m criterion(outputs, labels)\n\u001b[0;32m     10\u001b[0m loss\u001b[38;5;241m.\u001b[39mbackward()\n",
      "File \u001b[1;32mc:\\Users\\araya\\AppData\\Local\\Programs\\Python\\Python312\\Lib\\site-packages\\torch\\nn\\modules\\module.py:1511\u001b[0m, in \u001b[0;36mModule._wrapped_call_impl\u001b[1;34m(self, *args, **kwargs)\u001b[0m\n\u001b[0;32m   1509\u001b[0m     \u001b[38;5;28;01mreturn\u001b[39;00m \u001b[38;5;28mself\u001b[39m\u001b[38;5;241m.\u001b[39m_compiled_call_impl(\u001b[38;5;241m*\u001b[39margs, \u001b[38;5;241m*\u001b[39m\u001b[38;5;241m*\u001b[39mkwargs)  \u001b[38;5;66;03m# type: ignore[misc]\u001b[39;00m\n\u001b[0;32m   1510\u001b[0m \u001b[38;5;28;01melse\u001b[39;00m:\n\u001b[1;32m-> 1511\u001b[0m     \u001b[38;5;28;01mreturn\u001b[39;00m \u001b[38;5;28;43mself\u001b[39;49m\u001b[38;5;241;43m.\u001b[39;49m\u001b[43m_call_impl\u001b[49m\u001b[43m(\u001b[49m\u001b[38;5;241;43m*\u001b[39;49m\u001b[43margs\u001b[49m\u001b[43m,\u001b[49m\u001b[43m \u001b[49m\u001b[38;5;241;43m*\u001b[39;49m\u001b[38;5;241;43m*\u001b[39;49m\u001b[43mkwargs\u001b[49m\u001b[43m)\u001b[49m\n",
      "File \u001b[1;32mc:\\Users\\araya\\AppData\\Local\\Programs\\Python\\Python312\\Lib\\site-packages\\torch\\nn\\modules\\module.py:1520\u001b[0m, in \u001b[0;36mModule._call_impl\u001b[1;34m(self, *args, **kwargs)\u001b[0m\n\u001b[0;32m   1515\u001b[0m \u001b[38;5;66;03m# If we don't have any hooks, we want to skip the rest of the logic in\u001b[39;00m\n\u001b[0;32m   1516\u001b[0m \u001b[38;5;66;03m# this function, and just call forward.\u001b[39;00m\n\u001b[0;32m   1517\u001b[0m \u001b[38;5;28;01mif\u001b[39;00m \u001b[38;5;129;01mnot\u001b[39;00m (\u001b[38;5;28mself\u001b[39m\u001b[38;5;241m.\u001b[39m_backward_hooks \u001b[38;5;129;01mor\u001b[39;00m \u001b[38;5;28mself\u001b[39m\u001b[38;5;241m.\u001b[39m_backward_pre_hooks \u001b[38;5;129;01mor\u001b[39;00m \u001b[38;5;28mself\u001b[39m\u001b[38;5;241m.\u001b[39m_forward_hooks \u001b[38;5;129;01mor\u001b[39;00m \u001b[38;5;28mself\u001b[39m\u001b[38;5;241m.\u001b[39m_forward_pre_hooks\n\u001b[0;32m   1518\u001b[0m         \u001b[38;5;129;01mor\u001b[39;00m _global_backward_pre_hooks \u001b[38;5;129;01mor\u001b[39;00m _global_backward_hooks\n\u001b[0;32m   1519\u001b[0m         \u001b[38;5;129;01mor\u001b[39;00m _global_forward_hooks \u001b[38;5;129;01mor\u001b[39;00m _global_forward_pre_hooks):\n\u001b[1;32m-> 1520\u001b[0m     \u001b[38;5;28;01mreturn\u001b[39;00m \u001b[43mforward_call\u001b[49m\u001b[43m(\u001b[49m\u001b[38;5;241;43m*\u001b[39;49m\u001b[43margs\u001b[49m\u001b[43m,\u001b[49m\u001b[43m \u001b[49m\u001b[38;5;241;43m*\u001b[39;49m\u001b[38;5;241;43m*\u001b[39;49m\u001b[43mkwargs\u001b[49m\u001b[43m)\u001b[49m\n\u001b[0;32m   1522\u001b[0m \u001b[38;5;28;01mtry\u001b[39;00m:\n\u001b[0;32m   1523\u001b[0m     result \u001b[38;5;241m=\u001b[39m \u001b[38;5;28;01mNone\u001b[39;00m\n",
      "Cell \u001b[1;32mIn[32], line 11\u001b[0m, in \u001b[0;36mSignLanguageModel.forward\u001b[1;34m(self, x)\u001b[0m\n\u001b[0;32m      9\u001b[0m \u001b[38;5;28;01mdef\u001b[39;00m \u001b[38;5;21mforward\u001b[39m(\u001b[38;5;28mself\u001b[39m, x):\n\u001b[0;32m     10\u001b[0m     grain_features \u001b[38;5;241m=\u001b[39m \u001b[38;5;28mself\u001b[39m\u001b[38;5;241m.\u001b[39mgrain_module(x)\n\u001b[1;32m---> 11\u001b[0m     transformer_features \u001b[38;5;241m=\u001b[39m \u001b[38;5;28;43mself\u001b[39;49m\u001b[38;5;241;43m.\u001b[39;49m\u001b[43mtransformer\u001b[49m\u001b[43m(\u001b[49m\u001b[43mgrain_features\u001b[49m\u001b[43m)\u001b[49m\n\u001b[0;32m     12\u001b[0m     cnn_features \u001b[38;5;241m=\u001b[39m \u001b[38;5;28mself\u001b[39m\u001b[38;5;241m.\u001b[39mcnn_branch(grain_features)\n\u001b[0;32m     14\u001b[0m     \u001b[38;5;66;03m# Concatenate features from transformer and CNN\u001b[39;00m\n",
      "File \u001b[1;32mc:\\Users\\araya\\AppData\\Local\\Programs\\Python\\Python312\\Lib\\site-packages\\torch\\nn\\modules\\module.py:1511\u001b[0m, in \u001b[0;36mModule._wrapped_call_impl\u001b[1;34m(self, *args, **kwargs)\u001b[0m\n\u001b[0;32m   1509\u001b[0m     \u001b[38;5;28;01mreturn\u001b[39;00m \u001b[38;5;28mself\u001b[39m\u001b[38;5;241m.\u001b[39m_compiled_call_impl(\u001b[38;5;241m*\u001b[39margs, \u001b[38;5;241m*\u001b[39m\u001b[38;5;241m*\u001b[39mkwargs)  \u001b[38;5;66;03m# type: ignore[misc]\u001b[39;00m\n\u001b[0;32m   1510\u001b[0m \u001b[38;5;28;01melse\u001b[39;00m:\n\u001b[1;32m-> 1511\u001b[0m     \u001b[38;5;28;01mreturn\u001b[39;00m \u001b[38;5;28;43mself\u001b[39;49m\u001b[38;5;241;43m.\u001b[39;49m\u001b[43m_call_impl\u001b[49m\u001b[43m(\u001b[49m\u001b[38;5;241;43m*\u001b[39;49m\u001b[43margs\u001b[49m\u001b[43m,\u001b[49m\u001b[43m \u001b[49m\u001b[38;5;241;43m*\u001b[39;49m\u001b[38;5;241;43m*\u001b[39;49m\u001b[43mkwargs\u001b[49m\u001b[43m)\u001b[49m\n",
      "File \u001b[1;32mc:\\Users\\araya\\AppData\\Local\\Programs\\Python\\Python312\\Lib\\site-packages\\torch\\nn\\modules\\module.py:1520\u001b[0m, in \u001b[0;36mModule._call_impl\u001b[1;34m(self, *args, **kwargs)\u001b[0m\n\u001b[0;32m   1515\u001b[0m \u001b[38;5;66;03m# If we don't have any hooks, we want to skip the rest of the logic in\u001b[39;00m\n\u001b[0;32m   1516\u001b[0m \u001b[38;5;66;03m# this function, and just call forward.\u001b[39;00m\n\u001b[0;32m   1517\u001b[0m \u001b[38;5;28;01mif\u001b[39;00m \u001b[38;5;129;01mnot\u001b[39;00m (\u001b[38;5;28mself\u001b[39m\u001b[38;5;241m.\u001b[39m_backward_hooks \u001b[38;5;129;01mor\u001b[39;00m \u001b[38;5;28mself\u001b[39m\u001b[38;5;241m.\u001b[39m_backward_pre_hooks \u001b[38;5;129;01mor\u001b[39;00m \u001b[38;5;28mself\u001b[39m\u001b[38;5;241m.\u001b[39m_forward_hooks \u001b[38;5;129;01mor\u001b[39;00m \u001b[38;5;28mself\u001b[39m\u001b[38;5;241m.\u001b[39m_forward_pre_hooks\n\u001b[0;32m   1518\u001b[0m         \u001b[38;5;129;01mor\u001b[39;00m _global_backward_pre_hooks \u001b[38;5;129;01mor\u001b[39;00m _global_backward_hooks\n\u001b[0;32m   1519\u001b[0m         \u001b[38;5;129;01mor\u001b[39;00m _global_forward_hooks \u001b[38;5;129;01mor\u001b[39;00m _global_forward_pre_hooks):\n\u001b[1;32m-> 1520\u001b[0m     \u001b[38;5;28;01mreturn\u001b[39;00m \u001b[43mforward_call\u001b[49m\u001b[43m(\u001b[49m\u001b[38;5;241;43m*\u001b[39;49m\u001b[43margs\u001b[49m\u001b[43m,\u001b[49m\u001b[43m \u001b[49m\u001b[38;5;241;43m*\u001b[39;49m\u001b[38;5;241;43m*\u001b[39;49m\u001b[43mkwargs\u001b[49m\u001b[43m)\u001b[49m\n\u001b[0;32m   1522\u001b[0m \u001b[38;5;28;01mtry\u001b[39;00m:\n\u001b[0;32m   1523\u001b[0m     result \u001b[38;5;241m=\u001b[39m \u001b[38;5;28;01mNone\u001b[39;00m\n",
      "Cell \u001b[1;32mIn[29], line 16\u001b[0m, in \u001b[0;36mTransformerLayer.forward\u001b[1;34m(self, x)\u001b[0m\n\u001b[0;32m     14\u001b[0m batch_size, channels, height, width \u001b[38;5;241m=\u001b[39m x\u001b[38;5;241m.\u001b[39mshape\n\u001b[0;32m     15\u001b[0m x \u001b[38;5;241m=\u001b[39m x\u001b[38;5;241m.\u001b[39mview(batch_size, channels, \u001b[38;5;241m-\u001b[39m\u001b[38;5;241m1\u001b[39m)\u001b[38;5;241m.\u001b[39mpermute(\u001b[38;5;241m2\u001b[39m, \u001b[38;5;241m0\u001b[39m, \u001b[38;5;241m1\u001b[39m)  \u001b[38;5;66;03m# (seq_len, batch_size, channels)\u001b[39;00m\n\u001b[1;32m---> 16\u001b[0m attn_output, _ \u001b[38;5;241m=\u001b[39m \u001b[38;5;28;43mself\u001b[39;49m\u001b[38;5;241;43m.\u001b[39;49m\u001b[43mmhsa\u001b[49m\u001b[43m(\u001b[49m\u001b[43mx\u001b[49m\u001b[43m,\u001b[49m\u001b[43m \u001b[49m\u001b[43mx\u001b[49m\u001b[43m,\u001b[49m\u001b[43m \u001b[49m\u001b[43mx\u001b[49m\u001b[43m)\u001b[49m\n\u001b[0;32m     17\u001b[0m attn_output \u001b[38;5;241m=\u001b[39m \u001b[38;5;28mself\u001b[39m\u001b[38;5;241m.\u001b[39mlayer_norm2(attn_output\u001b[38;5;241m.\u001b[39mpermute(\u001b[38;5;241m1\u001b[39m, \u001b[38;5;241m2\u001b[39m, \u001b[38;5;241m0\u001b[39m)\u001b[38;5;241m.\u001b[39mview(batch_size, channels, height, width))\n\u001b[0;32m     18\u001b[0m x \u001b[38;5;241m=\u001b[39m \u001b[38;5;28mself\u001b[39m\u001b[38;5;241m.\u001b[39mmlp_conv(attn_output)\n",
      "File \u001b[1;32mc:\\Users\\araya\\AppData\\Local\\Programs\\Python\\Python312\\Lib\\site-packages\\torch\\nn\\modules\\module.py:1511\u001b[0m, in \u001b[0;36mModule._wrapped_call_impl\u001b[1;34m(self, *args, **kwargs)\u001b[0m\n\u001b[0;32m   1509\u001b[0m     \u001b[38;5;28;01mreturn\u001b[39;00m \u001b[38;5;28mself\u001b[39m\u001b[38;5;241m.\u001b[39m_compiled_call_impl(\u001b[38;5;241m*\u001b[39margs, \u001b[38;5;241m*\u001b[39m\u001b[38;5;241m*\u001b[39mkwargs)  \u001b[38;5;66;03m# type: ignore[misc]\u001b[39;00m\n\u001b[0;32m   1510\u001b[0m \u001b[38;5;28;01melse\u001b[39;00m:\n\u001b[1;32m-> 1511\u001b[0m     \u001b[38;5;28;01mreturn\u001b[39;00m \u001b[38;5;28;43mself\u001b[39;49m\u001b[38;5;241;43m.\u001b[39;49m\u001b[43m_call_impl\u001b[49m\u001b[43m(\u001b[49m\u001b[38;5;241;43m*\u001b[39;49m\u001b[43margs\u001b[49m\u001b[43m,\u001b[49m\u001b[43m \u001b[49m\u001b[38;5;241;43m*\u001b[39;49m\u001b[38;5;241;43m*\u001b[39;49m\u001b[43mkwargs\u001b[49m\u001b[43m)\u001b[49m\n",
      "File \u001b[1;32mc:\\Users\\araya\\AppData\\Local\\Programs\\Python\\Python312\\Lib\\site-packages\\torch\\nn\\modules\\module.py:1520\u001b[0m, in \u001b[0;36mModule._call_impl\u001b[1;34m(self, *args, **kwargs)\u001b[0m\n\u001b[0;32m   1515\u001b[0m \u001b[38;5;66;03m# If we don't have any hooks, we want to skip the rest of the logic in\u001b[39;00m\n\u001b[0;32m   1516\u001b[0m \u001b[38;5;66;03m# this function, and just call forward.\u001b[39;00m\n\u001b[0;32m   1517\u001b[0m \u001b[38;5;28;01mif\u001b[39;00m \u001b[38;5;129;01mnot\u001b[39;00m (\u001b[38;5;28mself\u001b[39m\u001b[38;5;241m.\u001b[39m_backward_hooks \u001b[38;5;129;01mor\u001b[39;00m \u001b[38;5;28mself\u001b[39m\u001b[38;5;241m.\u001b[39m_backward_pre_hooks \u001b[38;5;129;01mor\u001b[39;00m \u001b[38;5;28mself\u001b[39m\u001b[38;5;241m.\u001b[39m_forward_hooks \u001b[38;5;129;01mor\u001b[39;00m \u001b[38;5;28mself\u001b[39m\u001b[38;5;241m.\u001b[39m_forward_pre_hooks\n\u001b[0;32m   1518\u001b[0m         \u001b[38;5;129;01mor\u001b[39;00m _global_backward_pre_hooks \u001b[38;5;129;01mor\u001b[39;00m _global_backward_hooks\n\u001b[0;32m   1519\u001b[0m         \u001b[38;5;129;01mor\u001b[39;00m _global_forward_hooks \u001b[38;5;129;01mor\u001b[39;00m _global_forward_pre_hooks):\n\u001b[1;32m-> 1520\u001b[0m     \u001b[38;5;28;01mreturn\u001b[39;00m \u001b[43mforward_call\u001b[49m\u001b[43m(\u001b[49m\u001b[38;5;241;43m*\u001b[39;49m\u001b[43margs\u001b[49m\u001b[43m,\u001b[49m\u001b[43m \u001b[49m\u001b[38;5;241;43m*\u001b[39;49m\u001b[38;5;241;43m*\u001b[39;49m\u001b[43mkwargs\u001b[49m\u001b[43m)\u001b[49m\n\u001b[0;32m   1522\u001b[0m \u001b[38;5;28;01mtry\u001b[39;00m:\n\u001b[0;32m   1523\u001b[0m     result \u001b[38;5;241m=\u001b[39m \u001b[38;5;28;01mNone\u001b[39;00m\n",
      "File \u001b[1;32mc:\\Users\\araya\\AppData\\Local\\Programs\\Python\\Python312\\Lib\\site-packages\\torch\\nn\\modules\\activation.py:1241\u001b[0m, in \u001b[0;36mMultiheadAttention.forward\u001b[1;34m(self, query, key, value, key_padding_mask, need_weights, attn_mask, average_attn_weights, is_causal)\u001b[0m\n\u001b[0;32m   1227\u001b[0m     attn_output, attn_output_weights \u001b[38;5;241m=\u001b[39m F\u001b[38;5;241m.\u001b[39mmulti_head_attention_forward(\n\u001b[0;32m   1228\u001b[0m         query, key, value, \u001b[38;5;28mself\u001b[39m\u001b[38;5;241m.\u001b[39membed_dim, \u001b[38;5;28mself\u001b[39m\u001b[38;5;241m.\u001b[39mnum_heads,\n\u001b[0;32m   1229\u001b[0m         \u001b[38;5;28mself\u001b[39m\u001b[38;5;241m.\u001b[39min_proj_weight, \u001b[38;5;28mself\u001b[39m\u001b[38;5;241m.\u001b[39min_proj_bias,\n\u001b[1;32m   (...)\u001b[0m\n\u001b[0;32m   1238\u001b[0m         average_attn_weights\u001b[38;5;241m=\u001b[39maverage_attn_weights,\n\u001b[0;32m   1239\u001b[0m         is_causal\u001b[38;5;241m=\u001b[39mis_causal)\n\u001b[0;32m   1240\u001b[0m \u001b[38;5;28;01melse\u001b[39;00m:\n\u001b[1;32m-> 1241\u001b[0m     attn_output, attn_output_weights \u001b[38;5;241m=\u001b[39m \u001b[43mF\u001b[49m\u001b[38;5;241;43m.\u001b[39;49m\u001b[43mmulti_head_attention_forward\u001b[49m\u001b[43m(\u001b[49m\n\u001b[0;32m   1242\u001b[0m \u001b[43m        \u001b[49m\u001b[43mquery\u001b[49m\u001b[43m,\u001b[49m\u001b[43m \u001b[49m\u001b[43mkey\u001b[49m\u001b[43m,\u001b[49m\u001b[43m \u001b[49m\u001b[43mvalue\u001b[49m\u001b[43m,\u001b[49m\u001b[43m \u001b[49m\u001b[38;5;28;43mself\u001b[39;49m\u001b[38;5;241;43m.\u001b[39;49m\u001b[43membed_dim\u001b[49m\u001b[43m,\u001b[49m\u001b[43m \u001b[49m\u001b[38;5;28;43mself\u001b[39;49m\u001b[38;5;241;43m.\u001b[39;49m\u001b[43mnum_heads\u001b[49m\u001b[43m,\u001b[49m\n\u001b[0;32m   1243\u001b[0m \u001b[43m        \u001b[49m\u001b[38;5;28;43mself\u001b[39;49m\u001b[38;5;241;43m.\u001b[39;49m\u001b[43min_proj_weight\u001b[49m\u001b[43m,\u001b[49m\u001b[43m \u001b[49m\u001b[38;5;28;43mself\u001b[39;49m\u001b[38;5;241;43m.\u001b[39;49m\u001b[43min_proj_bias\u001b[49m\u001b[43m,\u001b[49m\n\u001b[0;32m   1244\u001b[0m \u001b[43m        \u001b[49m\u001b[38;5;28;43mself\u001b[39;49m\u001b[38;5;241;43m.\u001b[39;49m\u001b[43mbias_k\u001b[49m\u001b[43m,\u001b[49m\u001b[43m \u001b[49m\u001b[38;5;28;43mself\u001b[39;49m\u001b[38;5;241;43m.\u001b[39;49m\u001b[43mbias_v\u001b[49m\u001b[43m,\u001b[49m\u001b[43m \u001b[49m\u001b[38;5;28;43mself\u001b[39;49m\u001b[38;5;241;43m.\u001b[39;49m\u001b[43madd_zero_attn\u001b[49m\u001b[43m,\u001b[49m\n\u001b[0;32m   1245\u001b[0m \u001b[43m        \u001b[49m\u001b[38;5;28;43mself\u001b[39;49m\u001b[38;5;241;43m.\u001b[39;49m\u001b[43mdropout\u001b[49m\u001b[43m,\u001b[49m\u001b[43m \u001b[49m\u001b[38;5;28;43mself\u001b[39;49m\u001b[38;5;241;43m.\u001b[39;49m\u001b[43mout_proj\u001b[49m\u001b[38;5;241;43m.\u001b[39;49m\u001b[43mweight\u001b[49m\u001b[43m,\u001b[49m\u001b[43m \u001b[49m\u001b[38;5;28;43mself\u001b[39;49m\u001b[38;5;241;43m.\u001b[39;49m\u001b[43mout_proj\u001b[49m\u001b[38;5;241;43m.\u001b[39;49m\u001b[43mbias\u001b[49m\u001b[43m,\u001b[49m\n\u001b[0;32m   1246\u001b[0m \u001b[43m        \u001b[49m\u001b[43mtraining\u001b[49m\u001b[38;5;241;43m=\u001b[39;49m\u001b[38;5;28;43mself\u001b[39;49m\u001b[38;5;241;43m.\u001b[39;49m\u001b[43mtraining\u001b[49m\u001b[43m,\u001b[49m\n\u001b[0;32m   1247\u001b[0m \u001b[43m        \u001b[49m\u001b[43mkey_padding_mask\u001b[49m\u001b[38;5;241;43m=\u001b[39;49m\u001b[43mkey_padding_mask\u001b[49m\u001b[43m,\u001b[49m\n\u001b[0;32m   1248\u001b[0m \u001b[43m        \u001b[49m\u001b[43mneed_weights\u001b[49m\u001b[38;5;241;43m=\u001b[39;49m\u001b[43mneed_weights\u001b[49m\u001b[43m,\u001b[49m\n\u001b[0;32m   1249\u001b[0m \u001b[43m        \u001b[49m\u001b[43mattn_mask\u001b[49m\u001b[38;5;241;43m=\u001b[39;49m\u001b[43mattn_mask\u001b[49m\u001b[43m,\u001b[49m\n\u001b[0;32m   1250\u001b[0m \u001b[43m        \u001b[49m\u001b[43maverage_attn_weights\u001b[49m\u001b[38;5;241;43m=\u001b[39;49m\u001b[43maverage_attn_weights\u001b[49m\u001b[43m,\u001b[49m\n\u001b[0;32m   1251\u001b[0m \u001b[43m        \u001b[49m\u001b[43mis_causal\u001b[49m\u001b[38;5;241;43m=\u001b[39;49m\u001b[43mis_causal\u001b[49m\u001b[43m)\u001b[49m\n\u001b[0;32m   1252\u001b[0m \u001b[38;5;28;01mif\u001b[39;00m \u001b[38;5;28mself\u001b[39m\u001b[38;5;241m.\u001b[39mbatch_first \u001b[38;5;129;01mand\u001b[39;00m is_batched:\n\u001b[0;32m   1253\u001b[0m     \u001b[38;5;28;01mreturn\u001b[39;00m attn_output\u001b[38;5;241m.\u001b[39mtranspose(\u001b[38;5;241m1\u001b[39m, \u001b[38;5;241m0\u001b[39m), attn_output_weights\n",
      "File \u001b[1;32mc:\\Users\\araya\\AppData\\Local\\Programs\\Python\\Python312\\Lib\\site-packages\\torch\\nn\\functional.py:5442\u001b[0m, in \u001b[0;36mmulti_head_attention_forward\u001b[1;34m(query, key, value, embed_dim_to_check, num_heads, in_proj_weight, in_proj_bias, bias_k, bias_v, add_zero_attn, dropout_p, out_proj_weight, out_proj_bias, training, key_padding_mask, need_weights, attn_mask, use_separate_proj_weight, q_proj_weight, k_proj_weight, v_proj_weight, static_k, static_v, average_attn_weights, is_causal)\u001b[0m\n\u001b[0;32m   5440\u001b[0m \u001b[38;5;28;01melse\u001b[39;00m:\n\u001b[0;32m   5441\u001b[0m     attn_output_weights \u001b[38;5;241m=\u001b[39m torch\u001b[38;5;241m.\u001b[39mbmm(q_scaled, k\u001b[38;5;241m.\u001b[39mtranspose(\u001b[38;5;241m-\u001b[39m\u001b[38;5;241m2\u001b[39m, \u001b[38;5;241m-\u001b[39m\u001b[38;5;241m1\u001b[39m))\n\u001b[1;32m-> 5442\u001b[0m attn_output_weights \u001b[38;5;241m=\u001b[39m \u001b[43msoftmax\u001b[49m\u001b[43m(\u001b[49m\u001b[43mattn_output_weights\u001b[49m\u001b[43m,\u001b[49m\u001b[43m \u001b[49m\u001b[43mdim\u001b[49m\u001b[38;5;241;43m=\u001b[39;49m\u001b[38;5;241;43m-\u001b[39;49m\u001b[38;5;241;43m1\u001b[39;49m\u001b[43m)\u001b[49m\n\u001b[0;32m   5443\u001b[0m \u001b[38;5;28;01mif\u001b[39;00m dropout_p \u001b[38;5;241m>\u001b[39m \u001b[38;5;241m0.0\u001b[39m:\n\u001b[0;32m   5444\u001b[0m     attn_output_weights \u001b[38;5;241m=\u001b[39m dropout(attn_output_weights, p\u001b[38;5;241m=\u001b[39mdropout_p)\n",
      "File \u001b[1;32mc:\\Users\\araya\\AppData\\Local\\Programs\\Python\\Python312\\Lib\\site-packages\\torch\\nn\\functional.py:1858\u001b[0m, in \u001b[0;36msoftmax\u001b[1;34m(input, dim, _stacklevel, dtype)\u001b[0m\n\u001b[0;32m   1856\u001b[0m     dim \u001b[38;5;241m=\u001b[39m _get_softmax_dim(\u001b[38;5;124m\"\u001b[39m\u001b[38;5;124msoftmax\u001b[39m\u001b[38;5;124m\"\u001b[39m, \u001b[38;5;28minput\u001b[39m\u001b[38;5;241m.\u001b[39mdim(), _stacklevel)\n\u001b[0;32m   1857\u001b[0m \u001b[38;5;28;01mif\u001b[39;00m dtype \u001b[38;5;129;01mis\u001b[39;00m \u001b[38;5;28;01mNone\u001b[39;00m:\n\u001b[1;32m-> 1858\u001b[0m     ret \u001b[38;5;241m=\u001b[39m \u001b[38;5;28;43minput\u001b[39;49m\u001b[38;5;241;43m.\u001b[39;49m\u001b[43msoftmax\u001b[49m\u001b[43m(\u001b[49m\u001b[43mdim\u001b[49m\u001b[43m)\u001b[49m\n\u001b[0;32m   1859\u001b[0m \u001b[38;5;28;01melse\u001b[39;00m:\n\u001b[0;32m   1860\u001b[0m     ret \u001b[38;5;241m=\u001b[39m \u001b[38;5;28minput\u001b[39m\u001b[38;5;241m.\u001b[39msoftmax(dim, dtype\u001b[38;5;241m=\u001b[39mdtype)\n",
      "\u001b[1;31mRuntimeError\u001b[0m: [enforce fail at alloc_cpu.cpp:114] data. DefaultCPUAllocator: not enough memory: you tried to allocate 5368709120 bytes."
     ]
    }
   ],
   "source": [
    "# Initialize the model\n",
    "model = SignLanguageModel(num_classes=10)  # Adjust based on your number of classes\n",
    "\n",
    "# Define loss function and optimizer\n",
    "criterion = nn.CrossEntropyLoss()\n",
    "optimizer = torch.optim.Adam(model.parameters(), lr=0.001)\n",
    "\n",
    "# Train and test the model\n",
    "train(model, dataloader, criterion, optimizer, num_epochs=10)"
   ]
  },
  {
   "cell_type": "code",
   "execution_count": null,
   "metadata": {},
   "outputs": [],
   "source": [
    "# from sklearn.metrics import f1_score, recall_score\n",
    "\n",
    "# num_epochs = 900\n",
    "# loss_logger = []\n",
    "# accuracy_logger = []\n",
    "# f1_logger = []\n",
    "# recall_logger = []\n",
    "\n",
    "# all_preds = []\n",
    "# all_labels = []\n",
    "# # n_epochs = []\n",
    "# for epoch in range(num_epochs):\n",
    "#     total_correct = 0\n",
    "#     total_samples = 0\n",
    "#     model.train()\n",
    "#     for i, (sequences, labels) in enumerate(dataloader):\n",
    "#         # Move data to the device\n",
    "#         # labels = labels.type(torch.LongTensor)   # casting to long\n",
    "#         sequences = sequences.to(device)\n",
    "#         labels = labels.to(device)\n",
    "#         sequences = sequences[0,:,:,:,:]\n",
    "        \n",
    "#         # Forward pass\n",
    "#         outputs = model(sequences)\n",
    "#         _, predicted = torch.max(outputs, 1)\n",
    "#         loss = criterion(outputs, labels)\n",
    "\n",
    "#         total_correct += (predicted == labels).sum().item()\n",
    "#         total_samples += labels.size(0)\n",
    "\n",
    "#         # Store predictions and labels for calculating metrics\n",
    "#         all_preds.extend(predicted.cpu().numpy())  # Store predictions\n",
    "#         all_labels.extend(labels.cpu().numpy())    # Store true labels\n",
    "        \n",
    "#         # Backward pass and optimization\n",
    "#         optimizer.zero_grad()\n",
    "#         loss.backward()\n",
    "#         optimizer.step()\n",
    "\n",
    "#         # loss_logger.append(loss.item())\n",
    "#     loss_logger.append(loss.item())\n",
    "#     accuracy = 100 * total_correct /total_samples\n",
    "\n",
    "#     # Calculate F1 score and recall\n",
    "#     f1 = f1_score(all_labels, all_preds, average='weighted')  # Weighted average for multi-class\n",
    "#     recall = recall_score(all_labels, all_preds, average='weighted')\n",
    "\n",
    "#     f1_logger.append(f1)\n",
    "#     recall_logger.append(recall)\n",
    "\n",
    "#     print(f'Epoch [{epoch+1}/{num_epochs}], Loss: {loss.item():.4f} , Accuracy : {accuracy:.2f}%, F1 Score: {f1:.2f}, Recall: {recall:.2f}')\n",
    "#     accuracy_logger.append(accuracy)\n",
    "#     # n_epochs.append(epoch)"
   ]
  },
  {
   "cell_type": "code",
   "execution_count": null,
   "metadata": {},
   "outputs": [],
   "source": []
  },
  {
   "cell_type": "code",
   "execution_count": null,
   "metadata": {},
   "outputs": [],
   "source": []
  }
 ],
 "metadata": {
  "kernelspec": {
   "display_name": "Python 3",
   "language": "python",
   "name": "python3"
  },
  "language_info": {
   "codemirror_mode": {
    "name": "ipython",
    "version": 3
   },
   "file_extension": ".py",
   "mimetype": "text/x-python",
   "name": "python",
   "nbconvert_exporter": "python",
   "pygments_lexer": "ipython3",
   "version": "3.12.4"
  }
 },
 "nbformat": 4,
 "nbformat_minor": 2
}
