{
 "cells": [
  {
   "cell_type": "markdown",
   "metadata": {},
   "source": [
    "### Transformer with BiLSTM"
   ]
  },
  {
   "cell_type": "markdown",
   "metadata": {},
   "source": [
    "### Import Library"
   ]
  },
  {
   "cell_type": "code",
   "execution_count": 1,
   "metadata": {},
   "outputs": [],
   "source": [
    "import torch \n",
    "import torch.nn as nn \n",
    "import torch.nn.functional as F \n",
    "import torch.optim as optim\n",
    "import numpy as np \n",
    "import pandas as pd \n",
    "import matplotlib.pyplot as plt \n",
    "import torchvision \n",
    "from torchvision import datasets \n",
    "import random"
   ]
  },
  {
   "cell_type": "markdown",
   "metadata": {},
   "source": [
    "### Set Random Seed"
   ]
  },
  {
   "cell_type": "code",
   "execution_count": 2,
   "metadata": {},
   "outputs": [
    {
     "data": {
      "text/plain": [
       "<torch._C.Generator at 0x1fef4c6efd0>"
      ]
     },
     "execution_count": 2,
     "metadata": {},
     "output_type": "execute_result"
    }
   ],
   "source": [
    "seed = 1234 \n",
    "random.seed(seed)\n",
    "np.random.seed(seed)\n",
    "torch.manual_seed(seed)"
   ]
  },
  {
   "cell_type": "markdown",
   "metadata": {},
   "source": [
    "### Dataset Preparation"
   ]
  },
  {
   "cell_type": "code",
   "execution_count": 3,
   "metadata": {},
   "outputs": [
    {
     "name": "stdout",
     "output_type": "stream",
     "text": [
      "Number of train_video_list :  80\n",
      "List of train_video_list :  ['beautiful.MOV', 'beautiful_1.MOV', 'beautiful_2.MOV', 'beautiful_3.MOV', 'beautiful_4.MOV', 'blind.MOV', 'blind_1.MOV', 'blind_2.MOV', 'blind_3.MOV', 'blind_4.MOV', 'deaf.MOV', 'deaf_1.MOV', 'deaf_2.MOV', 'deaf_3.MOV', 'deaf_4.MOV', 'happy.MOV', 'happy_.MOV', 'happy_1.MOV', 'happy_10.MOV', 'happy_11.MOV', 'happy_12.MOV', 'happy_13.MOV', 'happy_14.MOV', 'happy_15.MOV', 'happy_16.MOV', 'happy_2.MOV', 'happy_3.MOV', 'happy_4.MOV', 'happy_5.MOV', 'happy_6.MOV', 'happy_7.MOV', 'happy_8.MOV', 'happy_9.MOV', 'lound.MOV', 'lound_1.MOV', 'lound_10.MOV', 'lound_11.MOV', 'lound_12.MOV', 'lound_13.MOV', 'lound_14.MOV', 'lound_15.MOV', 'lound_16.MOV', 'lound_2.MOV', 'lound_3.MOV', 'lound_4.MOV', 'lound_5.MOV', 'lound_6.MOV', 'lound_7.MOV', 'lound_8.MOV', 'lound_9.MOV', 'quiet.MOV', 'quiet_1.MOV', 'quiet_10.MOV', 'quiet_11.MOV', 'quiet_12.MOV', 'quiet_13.MOV', 'quiet_14.MOV', 'quiet_15.MOV', 'quiet_16.MOV', 'quiet_17.MOV', 'quiet_2.MOV', 'quiet_3.MOV', 'quiet_4.MOV', 'quiet_5.MOV', 'quiet_6.MOV', 'quiet_7.MOV', 'quiet_8.MOV', 'quiet_9.MOV', 'sad.MOV', 'sad_1.MOV', 'sad_2.MOV', 'sad_3.MOV', 'sad_4.MOV', 'sad_5.MOV', 'ugly.MOV', 'ugly_1.MOV', 'ugly_2.MOV', 'ugly_3.MOV', 'ugly_4.MOV', 'ugly_5.MOV']\n",
      "Number of validate_video_list :  11\n",
      "List of validate_video_list :  ['beautiful_6.MOV', 'beautiful_7.MOV', 'blind_6.MOV', 'blind_7.MOV', 'deaf_6.MOV', 'deaf_7.MOV', 'happy_19.MOV', 'lound_17.MOV', 'lound_20.MOV', 'quiet_20.MOV', 'sad_7.MOV']\n",
      "Number of test_video_list :  11\n",
      "List of test_video_list :  ['beautiful_5.MOV', 'blind_5.MOV', 'deaf_5.MOV', 'happy_17.MOV', 'happy_18.MOV', 'lound_18.MOV', 'lound_19.MOV', 'quiet_18.MOV', 'quiet_19.MOV', 'sad_6.MOV', 'ugly_7.MOV']\n"
     ]
    }
   ],
   "source": [
    "import os \n",
    "train_video_dir = \"C:/Users/araya/Desktop/vscode/Deep-Learning-Coding/MediaPipe/Data for Different actions/train\"\n",
    "validate_video_dir = \"C:/Users/araya/Desktop/vscode/Deep-Learning-Coding/MediaPipe/Data for Different actions/validate\"\n",
    "test_video_dir = \"C:/Users/araya/Desktop/vscode/Deep-Learning-Coding/MediaPipe/Data for Different actions/test\"\n",
    "train_video_list = []\n",
    "validate_video_list = []\n",
    "test_video_list = []\n",
    "train_video_list = os.listdir(train_video_dir)\n",
    "validate_video_list = os.listdir(validate_video_dir)\n",
    "test_video_list = os.listdir(test_video_dir)\n",
    "\n",
    "print(\"Number of train_video_list : \", len(train_video_list))\n",
    "print(\"List of train_video_list : \", train_video_list)\n",
    "print(\"Number of validate_video_list : \", len(validate_video_list))\n",
    "print(\"List of validate_video_list : \", validate_video_list)\n",
    "print(\"Number of test_video_list : \", len(test_video_list))\n",
    "print(\"List of test_video_list : \", test_video_list)"
   ]
  },
  {
   "cell_type": "code",
   "execution_count": 4,
   "metadata": {},
   "outputs": [
    {
     "name": "stdout",
     "output_type": "stream",
     "text": [
      "['beautiful.MOV' 'beautiful_1.MOV' 'beautiful_2.MOV' 'beautiful_3.MOV'\n",
      " 'beautiful_4.MOV' 'blind.MOV' 'blind_1.MOV' 'blind_2.MOV' 'blind_3.MOV'\n",
      " 'blind_4.MOV' 'deaf.MOV' 'deaf_1.MOV' 'deaf_2.MOV' 'deaf_3.MOV'\n",
      " 'deaf_4.MOV' 'happy.MOV' 'happy_.MOV' 'happy_1.MOV' 'happy_10.MOV'\n",
      " 'happy_11.MOV' 'happy_12.MOV' 'happy_13.MOV' 'happy_14.MOV'\n",
      " 'happy_15.MOV' 'happy_16.MOV' 'happy_2.MOV' 'happy_3.MOV' 'happy_4.MOV'\n",
      " 'happy_5.MOV' 'happy_6.MOV' 'happy_7.MOV' 'happy_8.MOV' 'happy_9.MOV'\n",
      " 'lound.MOV' 'lound_1.MOV' 'lound_10.MOV' 'lound_11.MOV' 'lound_12.MOV'\n",
      " 'lound_13.MOV' 'lound_14.MOV' 'lound_15.MOV' 'lound_16.MOV' 'lound_2.MOV'\n",
      " 'lound_3.MOV' 'lound_4.MOV' 'lound_5.MOV' 'lound_6.MOV' 'lound_7.MOV'\n",
      " 'lound_8.MOV' 'lound_9.MOV' 'quiet.MOV' 'quiet_1.MOV' 'quiet_10.MOV'\n",
      " 'quiet_11.MOV' 'quiet_12.MOV' 'quiet_13.MOV' 'quiet_14.MOV'\n",
      " 'quiet_15.MOV' 'quiet_16.MOV' 'quiet_17.MOV' 'quiet_2.MOV' 'quiet_3.MOV'\n",
      " 'quiet_4.MOV' 'quiet_5.MOV' 'quiet_6.MOV' 'quiet_7.MOV' 'quiet_8.MOV'\n",
      " 'quiet_9.MOV' 'sad.MOV' 'sad_1.MOV' 'sad_2.MOV' 'sad_3.MOV' 'sad_4.MOV'\n",
      " 'sad_5.MOV' 'ugly.MOV' 'ugly_1.MOV' 'ugly_2.MOV' 'ugly_3.MOV'\n",
      " 'ugly_4.MOV' 'ugly_5.MOV']\n",
      "['beautiful_6.MOV' 'beautiful_7.MOV' 'blind_6.MOV' 'blind_7.MOV'\n",
      " 'deaf_6.MOV' 'deaf_7.MOV' 'happy_19.MOV' 'lound_17.MOV' 'lound_20.MOV'\n",
      " 'quiet_20.MOV' 'sad_7.MOV']\n",
      "['beautiful_5.MOV' 'blind_5.MOV' 'deaf_5.MOV' 'happy_17.MOV'\n",
      " 'happy_18.MOV' 'lound_18.MOV' 'lound_19.MOV' 'quiet_18.MOV'\n",
      " 'quiet_19.MOV' 'sad_6.MOV' 'ugly_7.MOV']\n"
     ]
    }
   ],
   "source": [
    "train_actions = np.array(train_video_list)\n",
    "print(train_actions)\n",
    "validate_actions = np.array(validate_video_list)\n",
    "print(validate_actions)\n",
    "test_actions = np.array(test_video_list)\n",
    "print(test_actions)"
   ]
  },
  {
   "cell_type": "code",
   "execution_count": 5,
   "metadata": {},
   "outputs": [
    {
     "name": "stdout",
     "output_type": "stream",
     "text": [
      "['Data for different actions/train/beautiful.MOV/beautiful.npy', 'Data for different actions/train/beautiful_1.MOV/beautiful_1.npy', 'Data for different actions/train/beautiful_2.MOV/beautiful_2.npy', 'Data for different actions/train/beautiful_3.MOV/beautiful_3.npy', 'Data for different actions/train/beautiful_4.MOV/beautiful_4.npy', 'Data for different actions/train/blind.MOV/blind.npy', 'Data for different actions/train/blind_1.MOV/blind_1.npy', 'Data for different actions/train/blind_2.MOV/blind_2.npy', 'Data for different actions/train/blind_3.MOV/blind_3.npy', 'Data for different actions/train/blind_4.MOV/blind_4.npy', 'Data for different actions/train/deaf.MOV/deaf.npy', 'Data for different actions/train/deaf_1.MOV/deaf_1.npy', 'Data for different actions/train/deaf_2.MOV/deaf_2.npy', 'Data for different actions/train/deaf_3.MOV/deaf_3.npy', 'Data for different actions/train/deaf_4.MOV/deaf_4.npy', 'Data for different actions/train/happy.MOV/happy.npy', 'Data for different actions/train/happy_.MOV/happy_.npy', 'Data for different actions/train/happy_1.MOV/happy_1.npy', 'Data for different actions/train/happy_10.MOV/happy_10.npy', 'Data for different actions/train/happy_11.MOV/happy_11.npy', 'Data for different actions/train/happy_12.MOV/happy_12.npy', 'Data for different actions/train/happy_13.MOV/happy_13.npy', 'Data for different actions/train/happy_14.MOV/happy_14.npy', 'Data for different actions/train/happy_15.MOV/happy_15.npy', 'Data for different actions/train/happy_16.MOV/happy_16.npy', 'Data for different actions/train/happy_2.MOV/happy_2.npy', 'Data for different actions/train/happy_3.MOV/happy_3.npy', 'Data for different actions/train/happy_4.MOV/happy_4.npy', 'Data for different actions/train/happy_5.MOV/happy_5.npy', 'Data for different actions/train/happy_6.MOV/happy_6.npy', 'Data for different actions/train/happy_7.MOV/happy_7.npy', 'Data for different actions/train/happy_8.MOV/happy_8.npy', 'Data for different actions/train/happy_9.MOV/happy_9.npy', 'Data for different actions/train/lound.MOV/lound.npy', 'Data for different actions/train/lound_1.MOV/lound_1.npy', 'Data for different actions/train/lound_10.MOV/lound_10.npy', 'Data for different actions/train/lound_11.MOV/lound_11.npy', 'Data for different actions/train/lound_12.MOV/lound_12.npy', 'Data for different actions/train/lound_13.MOV/lound_13.npy', 'Data for different actions/train/lound_14.MOV/lound_14.npy', 'Data for different actions/train/lound_15.MOV/lound_15.npy', 'Data for different actions/train/lound_16.MOV/lound_16.npy', 'Data for different actions/train/lound_2.MOV/lound_2.npy', 'Data for different actions/train/lound_3.MOV/lound_3.npy', 'Data for different actions/train/lound_4.MOV/lound_4.npy', 'Data for different actions/train/lound_5.MOV/lound_5.npy', 'Data for different actions/train/lound_6.MOV/lound_6.npy', 'Data for different actions/train/lound_7.MOV/lound_7.npy', 'Data for different actions/train/lound_8.MOV/lound_8.npy', 'Data for different actions/train/lound_9.MOV/lound_9.npy', 'Data for different actions/train/quiet.MOV/quiet.npy', 'Data for different actions/train/quiet_1.MOV/quiet_1.npy', 'Data for different actions/train/quiet_10.MOV/quiet_10.npy', 'Data for different actions/train/quiet_11.MOV/quiet_11.npy', 'Data for different actions/train/quiet_12.MOV/quiet_12.npy', 'Data for different actions/train/quiet_13.MOV/quiet_13.npy', 'Data for different actions/train/quiet_14.MOV/quiet_14.npy', 'Data for different actions/train/quiet_15.MOV/quiet_15.npy', 'Data for different actions/train/quiet_16.MOV/quiet_16.npy', 'Data for different actions/train/quiet_17.MOV/quiet_17.npy', 'Data for different actions/train/quiet_2.MOV/quiet_2.npy', 'Data for different actions/train/quiet_3.MOV/quiet_3.npy', 'Data for different actions/train/quiet_4.MOV/quiet_4.npy', 'Data for different actions/train/quiet_5.MOV/quiet_5.npy', 'Data for different actions/train/quiet_6.MOV/quiet_6.npy', 'Data for different actions/train/quiet_7.MOV/quiet_7.npy', 'Data for different actions/train/quiet_8.MOV/quiet_8.npy', 'Data for different actions/train/quiet_9.MOV/quiet_9.npy', 'Data for different actions/train/sad.MOV/sad.npy', 'Data for different actions/train/sad_1.MOV/sad_1.npy', 'Data for different actions/train/sad_2.MOV/sad_2.npy', 'Data for different actions/train/sad_3.MOV/sad_3.npy', 'Data for different actions/train/sad_4.MOV/sad_4.npy', 'Data for different actions/train/sad_5.MOV/sad_5.npy', 'Data for different actions/train/ugly.MOV/ugly.npy', 'Data for different actions/train/ugly_1.MOV/ugly_1.npy', 'Data for different actions/train/ugly_2.MOV/ugly_2.npy', 'Data for different actions/train/ugly_3.MOV/ugly_3.npy', 'Data for different actions/train/ugly_4.MOV/ugly_4.npy', 'Data for different actions/train/ugly_5.MOV/ugly_5.npy']\n"
     ]
    }
   ],
   "source": [
    "train_file_paths = []\n",
    "for action in train_actions:\n",
    "    video_path = os.path.join('Data for different actions/train/', action)\n",
    "    # print(video_path)\n",
    "    # print(action)\n",
    "    train_file_paths.append(video_path + '/' + action.split(\".\")[0] + \".npy\")\n",
    "print(train_file_paths)"
   ]
  },
  {
   "cell_type": "code",
   "execution_count": 6,
   "metadata": {},
   "outputs": [
    {
     "name": "stdout",
     "output_type": "stream",
     "text": [
      "['Data for different actions/validate/beautiful_6.MOV/beautiful_6.npy', 'Data for different actions/validate/beautiful_7.MOV/beautiful_7.npy', 'Data for different actions/validate/blind_6.MOV/blind_6.npy', 'Data for different actions/validate/blind_7.MOV/blind_7.npy', 'Data for different actions/validate/deaf_6.MOV/deaf_6.npy', 'Data for different actions/validate/deaf_7.MOV/deaf_7.npy', 'Data for different actions/validate/happy_19.MOV/happy_19.npy', 'Data for different actions/validate/lound_17.MOV/lound_17.npy', 'Data for different actions/validate/lound_20.MOV/lound_20.npy', 'Data for different actions/validate/quiet_20.MOV/quiet_20.npy', 'Data for different actions/validate/sad_7.MOV/sad_7.npy']\n"
     ]
    }
   ],
   "source": [
    "validate_file_paths = []\n",
    "for action in validate_actions:\n",
    "    video_path = os.path.join('Data for different actions/validate/', action)\n",
    "    # print(video_path)\n",
    "    # print(action)\n",
    "    validate_file_paths.append(video_path + '/' + action.split(\".\")[0] + \".npy\")\n",
    "print(validate_file_paths)"
   ]
  },
  {
   "cell_type": "code",
   "execution_count": 7,
   "metadata": {},
   "outputs": [
    {
     "name": "stdout",
     "output_type": "stream",
     "text": [
      "['Data for different actions/test/beautiful_5.MOV/beautiful_5.npy', 'Data for different actions/test/blind_5.MOV/blind_5.npy', 'Data for different actions/test/deaf_5.MOV/deaf_5.npy', 'Data for different actions/test/happy_17.MOV/happy_17.npy', 'Data for different actions/test/happy_18.MOV/happy_18.npy', 'Data for different actions/test/lound_18.MOV/lound_18.npy', 'Data for different actions/test/lound_19.MOV/lound_19.npy', 'Data for different actions/test/quiet_18.MOV/quiet_18.npy', 'Data for different actions/test/quiet_19.MOV/quiet_19.npy', 'Data for different actions/test/sad_6.MOV/sad_6.npy', 'Data for different actions/test/ugly_7.MOV/ugly_7.npy']\n"
     ]
    }
   ],
   "source": [
    "test_file_paths = []\n",
    "for action in test_actions:\n",
    "    video_path = os.path.join('Data for different actions/test/', action)\n",
    "    # print(video_path)\n",
    "    # print(action)\n",
    "    test_file_paths.append(video_path + '/' + action.split(\".\")[0] + \".npy\")\n",
    "print(test_file_paths)"
   ]
  },
  {
   "cell_type": "code",
   "execution_count": 8,
   "metadata": {},
   "outputs": [],
   "source": [
    "import pandas as pd\n",
    "train_df = pd.read_csv(\"script3.csv\")\n",
    "validate_df = pd.read_csv(\"script3_validate.csv\")\n",
    "test_df = pd.read_csv(\"script3_test.csv\")"
   ]
  },
  {
   "cell_type": "code",
   "execution_count": 9,
   "metadata": {},
   "outputs": [],
   "source": [
    "train_labels = []\n",
    "validate_labels = []\n",
    "test_labels = []\n",
    "\n",
    "for i in range(len(train_df.label)):\n",
    "    train_labels.append(train_df.label[i])\n",
    "\n",
    "for i in range(len(validate_df.label)):\n",
    "    validate_labels.append(validate_df.label[i])\n",
    "\n",
    "for i in range(len(test_df.label)):\n",
    "    test_labels.append(test_df.label[i])"
   ]
  },
  {
   "cell_type": "code",
   "execution_count": 10,
   "metadata": {},
   "outputs": [
    {
     "name": "stdout",
     "output_type": "stream",
     "text": [
      "Train Label :  [0, 0, 0, 0, 0, 1, 1, 1, 1, 1, 2, 2, 2, 2, 2, 3, 3, 3, 3, 3, 3, 3, 3, 3, 3, 3, 3, 3, 3, 3, 3, 3, 3, 4, 4, 4, 4, 4, 4, 4, 4, 4, 4, 4, 4, 4, 4, 4, 4, 4, 5, 5, 5, 5, 5, 5, 5, 5, 5, 5, 5, 5, 5, 5, 5, 5, 5, 5, 6, 6, 6, 6, 6, 6, 7, 7, 7, 7, 7, 7]\n",
      "Validate Label :  [0, 0, 1, 1, 2, 2, 3, 4, 4, 5, 6]\n",
      "Test Label :  [0, 1, 2, 3, 3, 4, 4, 5, 5, 6, 7]\n"
     ]
    }
   ],
   "source": [
    "print(\"Train Label : \", train_labels)\n",
    "print(\"Validate Label : \",validate_labels)\n",
    "print(\"Test Label : \", test_labels)"
   ]
  },
  {
   "cell_type": "markdown",
   "metadata": {},
   "source": [
    "### Create Dataset"
   ]
  },
  {
   "cell_type": "code",
   "execution_count": 11,
   "metadata": {},
   "outputs": [],
   "source": [
    "import torch\n",
    "from torch.utils.data import DataLoader, Dataset\n",
    "from torch.nn.utils.rnn import pad_sequence\n",
    "\n",
    "# Create a custom dataset\n",
    "class KeypointDataset(Dataset):\n",
    "    def __init__(self, file_paths, labels):\n",
    "        self.file_paths = file_paths\n",
    "        self.labels = labels\n",
    "    \n",
    "    def __len__(self):\n",
    "        return len(self.file_paths)\n",
    "    \n",
    "    def __getitem__(self, idx):\n",
    "        keypoints = np.load(self.file_paths[idx])\n",
    "        label = self.labels[idx]\n",
    "        return torch.tensor(keypoints, dtype=torch.float32), label"
   ]
  },
  {
   "cell_type": "code",
   "execution_count": 12,
   "metadata": {},
   "outputs": [],
   "source": [
    "train_dataset = KeypointDataset(train_file_paths, train_labels)\n",
    "validate_dataset = KeypointDataset(validate_file_paths, validate_labels)\n",
    "test_dataset = KeypointDataset(test_file_paths, test_labels)"
   ]
  },
  {
   "cell_type": "code",
   "execution_count": 13,
   "metadata": {},
   "outputs": [
    {
     "data": {
      "text/plain": [
       "['Data for different actions/train/beautiful.MOV/beautiful.npy',\n",
       " 'Data for different actions/train/beautiful_1.MOV/beautiful_1.npy',\n",
       " 'Data for different actions/train/beautiful_2.MOV/beautiful_2.npy',\n",
       " 'Data for different actions/train/beautiful_3.MOV/beautiful_3.npy',\n",
       " 'Data for different actions/train/beautiful_4.MOV/beautiful_4.npy',\n",
       " 'Data for different actions/train/blind.MOV/blind.npy',\n",
       " 'Data for different actions/train/blind_1.MOV/blind_1.npy',\n",
       " 'Data for different actions/train/blind_2.MOV/blind_2.npy',\n",
       " 'Data for different actions/train/blind_3.MOV/blind_3.npy',\n",
       " 'Data for different actions/train/blind_4.MOV/blind_4.npy',\n",
       " 'Data for different actions/train/deaf.MOV/deaf.npy',\n",
       " 'Data for different actions/train/deaf_1.MOV/deaf_1.npy',\n",
       " 'Data for different actions/train/deaf_2.MOV/deaf_2.npy',\n",
       " 'Data for different actions/train/deaf_3.MOV/deaf_3.npy',\n",
       " 'Data for different actions/train/deaf_4.MOV/deaf_4.npy',\n",
       " 'Data for different actions/train/happy.MOV/happy.npy',\n",
       " 'Data for different actions/train/happy_.MOV/happy_.npy',\n",
       " 'Data for different actions/train/happy_1.MOV/happy_1.npy',\n",
       " 'Data for different actions/train/happy_10.MOV/happy_10.npy',\n",
       " 'Data for different actions/train/happy_11.MOV/happy_11.npy',\n",
       " 'Data for different actions/train/happy_12.MOV/happy_12.npy',\n",
       " 'Data for different actions/train/happy_13.MOV/happy_13.npy',\n",
       " 'Data for different actions/train/happy_14.MOV/happy_14.npy',\n",
       " 'Data for different actions/train/happy_15.MOV/happy_15.npy',\n",
       " 'Data for different actions/train/happy_16.MOV/happy_16.npy',\n",
       " 'Data for different actions/train/happy_2.MOV/happy_2.npy',\n",
       " 'Data for different actions/train/happy_3.MOV/happy_3.npy',\n",
       " 'Data for different actions/train/happy_4.MOV/happy_4.npy',\n",
       " 'Data for different actions/train/happy_5.MOV/happy_5.npy',\n",
       " 'Data for different actions/train/happy_6.MOV/happy_6.npy',\n",
       " 'Data for different actions/train/happy_7.MOV/happy_7.npy',\n",
       " 'Data for different actions/train/happy_8.MOV/happy_8.npy',\n",
       " 'Data for different actions/train/happy_9.MOV/happy_9.npy',\n",
       " 'Data for different actions/train/lound.MOV/lound.npy',\n",
       " 'Data for different actions/train/lound_1.MOV/lound_1.npy',\n",
       " 'Data for different actions/train/lound_10.MOV/lound_10.npy',\n",
       " 'Data for different actions/train/lound_11.MOV/lound_11.npy',\n",
       " 'Data for different actions/train/lound_12.MOV/lound_12.npy',\n",
       " 'Data for different actions/train/lound_13.MOV/lound_13.npy',\n",
       " 'Data for different actions/train/lound_14.MOV/lound_14.npy',\n",
       " 'Data for different actions/train/lound_15.MOV/lound_15.npy',\n",
       " 'Data for different actions/train/lound_16.MOV/lound_16.npy',\n",
       " 'Data for different actions/train/lound_2.MOV/lound_2.npy',\n",
       " 'Data for different actions/train/lound_3.MOV/lound_3.npy',\n",
       " 'Data for different actions/train/lound_4.MOV/lound_4.npy',\n",
       " 'Data for different actions/train/lound_5.MOV/lound_5.npy',\n",
       " 'Data for different actions/train/lound_6.MOV/lound_6.npy',\n",
       " 'Data for different actions/train/lound_7.MOV/lound_7.npy',\n",
       " 'Data for different actions/train/lound_8.MOV/lound_8.npy',\n",
       " 'Data for different actions/train/lound_9.MOV/lound_9.npy',\n",
       " 'Data for different actions/train/quiet.MOV/quiet.npy',\n",
       " 'Data for different actions/train/quiet_1.MOV/quiet_1.npy',\n",
       " 'Data for different actions/train/quiet_10.MOV/quiet_10.npy',\n",
       " 'Data for different actions/train/quiet_11.MOV/quiet_11.npy',\n",
       " 'Data for different actions/train/quiet_12.MOV/quiet_12.npy',\n",
       " 'Data for different actions/train/quiet_13.MOV/quiet_13.npy',\n",
       " 'Data for different actions/train/quiet_14.MOV/quiet_14.npy',\n",
       " 'Data for different actions/train/quiet_15.MOV/quiet_15.npy',\n",
       " 'Data for different actions/train/quiet_16.MOV/quiet_16.npy',\n",
       " 'Data for different actions/train/quiet_17.MOV/quiet_17.npy',\n",
       " 'Data for different actions/train/quiet_2.MOV/quiet_2.npy',\n",
       " 'Data for different actions/train/quiet_3.MOV/quiet_3.npy',\n",
       " 'Data for different actions/train/quiet_4.MOV/quiet_4.npy',\n",
       " 'Data for different actions/train/quiet_5.MOV/quiet_5.npy',\n",
       " 'Data for different actions/train/quiet_6.MOV/quiet_6.npy',\n",
       " 'Data for different actions/train/quiet_7.MOV/quiet_7.npy',\n",
       " 'Data for different actions/train/quiet_8.MOV/quiet_8.npy',\n",
       " 'Data for different actions/train/quiet_9.MOV/quiet_9.npy',\n",
       " 'Data for different actions/train/sad.MOV/sad.npy',\n",
       " 'Data for different actions/train/sad_1.MOV/sad_1.npy',\n",
       " 'Data for different actions/train/sad_2.MOV/sad_2.npy',\n",
       " 'Data for different actions/train/sad_3.MOV/sad_3.npy',\n",
       " 'Data for different actions/train/sad_4.MOV/sad_4.npy',\n",
       " 'Data for different actions/train/sad_5.MOV/sad_5.npy',\n",
       " 'Data for different actions/train/ugly.MOV/ugly.npy',\n",
       " 'Data for different actions/train/ugly_1.MOV/ugly_1.npy',\n",
       " 'Data for different actions/train/ugly_2.MOV/ugly_2.npy',\n",
       " 'Data for different actions/train/ugly_3.MOV/ugly_3.npy',\n",
       " 'Data for different actions/train/ugly_4.MOV/ugly_4.npy',\n",
       " 'Data for different actions/train/ugly_5.MOV/ugly_5.npy']"
      ]
     },
     "execution_count": 13,
     "metadata": {},
     "output_type": "execute_result"
    }
   ],
   "source": [
    "train_dataset.file_paths"
   ]
  },
  {
   "cell_type": "markdown",
   "metadata": {},
   "source": [
    "### Create DataLoader"
   ]
  },
  {
   "cell_type": "code",
   "execution_count": 14,
   "metadata": {},
   "outputs": [],
   "source": [
    "# Collate function for padding\n",
    "def collate_fn(batch):\n",
    "    sequences, labels = zip(*batch)\n",
    "    padded_sequences = pad_sequence(sequences, batch_first=True)\n",
    "    return padded_sequences, torch.tensor(labels)"
   ]
  },
  {
   "cell_type": "code",
   "execution_count": 15,
   "metadata": {},
   "outputs": [],
   "source": [
    "# Create the DataLoader\n",
    "batch_size = 16\n",
    "train_loader = DataLoader(train_dataset, batch_size=batch_size, shuffle=False, collate_fn=collate_fn)\n",
    "val_loader = DataLoader(validate_dataset, batch_size=batch_size, shuffle=False, collate_fn=collate_fn)\n",
    "test_loader = DataLoader(test_dataset, batch_size=batch_size, shuffle=False, collate_fn=collate_fn)"
   ]
  },
  {
   "cell_type": "code",
   "execution_count": 16,
   "metadata": {},
   "outputs": [
    {
     "name": "stdout",
     "output_type": "stream",
     "text": [
      "tensor([[[0.5372, 0.2159, 0.5468,  ..., 0.1965, 0.5541, 0.1945],\n",
      "         [0.5372, 0.2171, 0.5466,  ..., 0.1959, 0.5540, 0.1943],\n",
      "         [0.5372, 0.2175, 0.5464,  ..., 0.1961, 0.5535, 0.1944],\n",
      "         ...,\n",
      "         [0.0000, 0.0000, 0.0000,  ..., 0.0000, 0.0000, 0.0000],\n",
      "         [0.0000, 0.0000, 0.0000,  ..., 0.0000, 0.0000, 0.0000],\n",
      "         [0.0000, 0.0000, 0.0000,  ..., 0.0000, 0.0000, 0.0000]],\n",
      "\n",
      "        [[0.5353, 0.2144, 0.5451,  ..., 0.1953, 0.5538, 0.1936],\n",
      "         [0.5353, 0.2151, 0.5450,  ..., 0.1950, 0.5539, 0.1934],\n",
      "         [0.5353, 0.2157, 0.5449,  ..., 0.1952, 0.5542, 0.1936],\n",
      "         ...,\n",
      "         [0.5314, 0.2157, 0.5414,  ..., 0.1942, 0.5485, 0.1927],\n",
      "         [0.5314, 0.2158, 0.5414,  ..., 0.1941, 0.5486, 0.1927],\n",
      "         [0.5313, 0.2158, 0.5414,  ..., 0.1943, 0.5486, 0.1928]],\n",
      "\n",
      "        [[0.5391, 0.2066, 0.5499,  ..., 0.1899, 0.5575, 0.1880],\n",
      "         [0.5387, 0.2094, 0.5495,  ..., 0.1903, 0.5572, 0.1888],\n",
      "         [0.5384, 0.2112, 0.5491,  ..., 0.1906, 0.5570, 0.1891],\n",
      "         ...,\n",
      "         [0.0000, 0.0000, 0.0000,  ..., 0.0000, 0.0000, 0.0000],\n",
      "         [0.0000, 0.0000, 0.0000,  ..., 0.0000, 0.0000, 0.0000],\n",
      "         [0.0000, 0.0000, 0.0000,  ..., 0.0000, 0.0000, 0.0000]],\n",
      "\n",
      "        ...,\n",
      "\n",
      "        [[0.5283, 0.2110, 0.5384,  ..., 0.1909, 0.5489, 0.1890],\n",
      "         [0.5294, 0.2113, 0.5386,  ..., 0.1914, 0.5489, 0.1898],\n",
      "         [0.5302, 0.2115, 0.5389,  ..., 0.1913, 0.5490, 0.1897],\n",
      "         ...,\n",
      "         [0.0000, 0.0000, 0.0000,  ..., 0.0000, 0.0000, 0.0000],\n",
      "         [0.0000, 0.0000, 0.0000,  ..., 0.0000, 0.0000, 0.0000],\n",
      "         [0.0000, 0.0000, 0.0000,  ..., 0.0000, 0.0000, 0.0000]],\n",
      "\n",
      "        [[0.4847, 0.2537, 0.4928,  ..., 0.2263, 0.5024, 0.2241],\n",
      "         [0.4841, 0.2507, 0.4924,  ..., 0.2262, 0.5027, 0.2242],\n",
      "         [0.4841, 0.2493, 0.4923,  ..., 0.2274, 0.5025, 0.2255],\n",
      "         ...,\n",
      "         [0.0000, 0.0000, 0.0000,  ..., 0.0000, 0.0000, 0.0000],\n",
      "         [0.0000, 0.0000, 0.0000,  ..., 0.0000, 0.0000, 0.0000],\n",
      "         [0.0000, 0.0000, 0.0000,  ..., 0.0000, 0.0000, 0.0000]],\n",
      "\n",
      "        [[0.5163, 0.1502, 0.5267,  ..., 0.1270, 0.5402, 0.1249],\n",
      "         [0.5163, 0.1498, 0.5271,  ..., 0.1263, 0.5407, 0.1245],\n",
      "         [0.5163, 0.1494, 0.5272,  ..., 0.1263, 0.5407, 0.1245],\n",
      "         ...,\n",
      "         [0.0000, 0.0000, 0.0000,  ..., 0.0000, 0.0000, 0.0000],\n",
      "         [0.0000, 0.0000, 0.0000,  ..., 0.0000, 0.0000, 0.0000],\n",
      "         [0.0000, 0.0000, 0.0000,  ..., 0.0000, 0.0000, 0.0000]]])\n",
      "tensor([0, 0, 0, 0, 0, 1, 1, 1, 1, 1, 2, 2, 2, 2, 2, 3])\n"
     ]
    }
   ],
   "source": [
    "for i, (data, label) in enumerate(train_loader):\n",
    "    print(data)\n",
    "    print(label)\n",
    "    break"
   ]
  },
  {
   "cell_type": "code",
   "execution_count": 17,
   "metadata": {},
   "outputs": [
    {
     "name": "stdout",
     "output_type": "stream",
     "text": [
      "torch.Size([16, 79, 1086])\n",
      "torch.Size([16])\n"
     ]
    }
   ],
   "source": [
    "print(data.shape)\n",
    "print(label.shape)"
   ]
  },
  {
   "cell_type": "code",
   "execution_count": 18,
   "metadata": {},
   "outputs": [
    {
     "name": "stdout",
     "output_type": "stream",
     "text": [
      "tensor([[0.5372, 0.2159, 0.5468,  ..., 0.1965, 0.5541, 0.1945],\n",
      "        [0.5372, 0.2171, 0.5466,  ..., 0.1959, 0.5540, 0.1943],\n",
      "        [0.5372, 0.2175, 0.5464,  ..., 0.1961, 0.5535, 0.1944],\n",
      "        ...,\n",
      "        [0.0000, 0.0000, 0.0000,  ..., 0.0000, 0.0000, 0.0000],\n",
      "        [0.0000, 0.0000, 0.0000,  ..., 0.0000, 0.0000, 0.0000],\n",
      "        [0.0000, 0.0000, 0.0000,  ..., 0.0000, 0.0000, 0.0000]])\n"
     ]
    }
   ],
   "source": [
    "print(data[0])"
   ]
  },
  {
   "cell_type": "code",
   "execution_count": 19,
   "metadata": {},
   "outputs": [],
   "source": [
    "# for i, (data, label) in enumerate(val_loader):\n",
    "#     print(data)\n",
    "#     print(label)\n",
    "#     break"
   ]
  },
  {
   "cell_type": "markdown",
   "metadata": {},
   "source": [
    "### Model"
   ]
  },
  {
   "cell_type": "code",
   "execution_count": 20,
   "metadata": {},
   "outputs": [
    {
     "name": "stdout",
     "output_type": "stream",
     "text": [
      "cuda\n"
     ]
    }
   ],
   "source": [
    "device = torch.device(\"cuda\" if torch.cuda.is_available() else \"cpu\")\n",
    "print(device)"
   ]
  },
  {
   "cell_type": "code",
   "execution_count": 21,
   "metadata": {},
   "outputs": [],
   "source": [
    "class PositionalEncoding(nn.Module):\n",
    "    def __init__(self, d_model, max_len=5000):\n",
    "        super(PositionalEncoding, self).__init__()\n",
    "        pe = torch.zeros(max_len, d_model)\n",
    "        position = torch.arange(0, max_len, dtype=torch.float).unsqueeze(1)\n",
    "        div_term = torch.exp(torch.arange(0, d_model, 2).float() * (-torch.log(torch.tensor(10000.0)) / d_model))\n",
    "        pe[:, 0::2] = torch.sin(position * div_term)\n",
    "        pe[:, 1::2] = torch.cos(position * div_term)\n",
    "        pe = pe.unsqueeze(0).transpose(0, 1)\n",
    "        self.register_buffer('pe', pe)\n",
    "\n",
    "    def forward(self, x):\n",
    "        x = x + self.pe[:x.size(0), :]\n",
    "        return x"
   ]
  },
  {
   "cell_type": "code",
   "execution_count": 22,
   "metadata": {},
   "outputs": [],
   "source": [
    "class SignLanguageModel(nn.Module):\n",
    "    def __init__(self, input_dim, n_heads, hidden_dim, n_layers, num_classes):\n",
    "        super(SignLanguageModel, self).__init__()\n",
    "        self.pos_encoder = PositionalEncoding(input_dim)\n",
    "        self.multihead_attn = nn.MultiheadAttention(embed_dim=input_dim, num_heads=n_heads)\n",
    "        self.normalize_layer_1 = nn.LayerNorm(normalized_shape=input_dim, eps=1e-05)\n",
    "        self.bilstm = nn.LSTM(input_size=input_dim, hidden_size=hidden_dim, num_layers=n_layers, bidirectional=True, batch_first=True)\n",
    "        self.fc1 = nn.Linear(hidden_dim * 2, input_dim)\n",
    "        self.normalize_layer_2 = nn.LayerNorm(normalized_shape=input_dim, eps=1e-05)\n",
    "        self.fc2 = nn.Linear(input_dim, num_classes)\n",
    "        self.softmax = nn.Softmax(dim=-1)\n",
    "\n",
    "        # self.softmax = nn.Softmax(dim=-1)\n",
    "\n",
    "    def forward(self, x):\n",
    "        # Positional Encoding\n",
    "        x = self.pos_encoder(x)\n",
    "\n",
    "        attn_output, attn_output_weights = self.multihead_attn(x,x,x)\n",
    "        \n",
    "        normalize_attn_1 = self.normalize_layer_1(attn_output + x)\n",
    "\n",
    "        outbilstm, _ = self.bilstm(normalize_attn_1)\n",
    "\n",
    "        out_linear = self.fc1(outbilstm)\n",
    "\n",
    "        normalize_attn_2 = self.normalize_layer_2(out_linear + normalize_attn_1)\n",
    "\n",
    "        x = self.fc2(normalize_attn_2)\n",
    "\n",
    "        # x = self.softmax(x)\n",
    "        # x = torch.argmax(x)\n",
    "        # x = x[-1]\n",
    "        x = x.mean(dim=1)\n",
    "        \n",
    "        return x"
   ]
  },
  {
   "cell_type": "code",
   "execution_count": 23,
   "metadata": {},
   "outputs": [],
   "source": [
    "# Model Parameters\n",
    "input_dim = 1086\n",
    "# d_model = 512\n",
    "n_heads = 6\n",
    "hidden_dim = 64\n",
    "n_layers = 1\n",
    "num_classes = 8  # Example number, change based on actual classes"
   ]
  },
  {
   "cell_type": "code",
   "execution_count": 24,
   "metadata": {},
   "outputs": [],
   "source": [
    "model = SignLanguageModel(input_dim, n_heads, hidden_dim, n_layers, num_classes).to(device)"
   ]
  },
  {
   "cell_type": "code",
   "execution_count": 25,
   "metadata": {},
   "outputs": [
    {
     "data": {
      "text/plain": [
       "tensor(0.5597)"
      ]
     },
     "execution_count": 25,
     "metadata": {},
     "output_type": "execute_result"
    }
   ],
   "source": [
    "data[0][1][58]"
   ]
  },
  {
   "cell_type": "code",
   "execution_count": 26,
   "metadata": {},
   "outputs": [],
   "source": [
    "x = model(data.to(device))"
   ]
  },
  {
   "cell_type": "code",
   "execution_count": 27,
   "metadata": {},
   "outputs": [
    {
     "data": {
      "text/plain": [
       "torch.Size([16, 8])"
      ]
     },
     "execution_count": 27,
     "metadata": {},
     "output_type": "execute_result"
    }
   ],
   "source": [
    "x.shape"
   ]
  },
  {
   "cell_type": "code",
   "execution_count": 28,
   "metadata": {},
   "outputs": [
    {
     "name": "stdout",
     "output_type": "stream",
     "text": [
      "torch.Size([16, 8])\n"
     ]
    }
   ],
   "source": [
    "# x=x.permute(1,2,0)\n",
    "print(x.shape)"
   ]
  },
  {
   "cell_type": "code",
   "execution_count": 29,
   "metadata": {},
   "outputs": [
    {
     "data": {
      "text/plain": [
       "tensor([[-1.1588e+00,  8.7936e-01,  8.0389e-01,  2.1566e-01,  1.7213e+00,\n",
       "         -5.2067e-01, -4.0225e-01, -6.9729e-01],\n",
       "        [-9.8801e-01,  8.8569e-01,  8.3478e-01,  4.2619e-02,  1.6498e+00,\n",
       "         -6.5724e-01, -4.6451e-01, -7.5721e-01],\n",
       "        [-8.9715e-01,  4.5872e-01,  5.9149e-01, -1.3039e-01,  1.1624e+00,\n",
       "         -9.2882e-01, -3.6456e-01, -4.1379e-01],\n",
       "        [-9.6057e-01,  1.3525e-01,  3.2133e-01, -1.4186e-02,  4.9164e-01,\n",
       "         -8.9449e-01, -1.6581e-01,  7.0889e-02],\n",
       "        [-1.1496e+00,  5.4282e-02,  3.6767e-01,  1.8679e-01,  2.3227e-01,\n",
       "         -8.1619e-01, -1.8177e-02,  9.5259e-02],\n",
       "        [-1.0371e+00,  1.1347e-03,  3.2772e-01,  3.5411e-01,  2.4420e-01,\n",
       "         -7.3499e-01,  9.2271e-02,  1.7663e-01],\n",
       "        [-8.1742e-01,  7.5610e-02,  3.0181e-01,  3.6860e-01,  5.5179e-01,\n",
       "         -7.1019e-01,  7.7566e-02,  1.5662e-01],\n",
       "        [-5.6314e-01,  2.5703e-01,  2.5029e-01,  2.7049e-01,  9.0340e-01,\n",
       "         -6.7515e-01,  4.8171e-02,  1.9226e-01],\n",
       "        [-3.4889e-01,  3.3665e-01,  2.4430e-01,  1.7172e-01,  1.1119e+00,\n",
       "         -6.7951e-01,  2.4473e-03,  5.3968e-02],\n",
       "        [-3.4636e-01,  3.8302e-01,  2.5510e-01,  2.1314e-02,  1.0486e+00,\n",
       "         -5.3689e-01,  1.6853e-01, -2.0398e-02],\n",
       "        [-5.1546e-01,  2.8398e-01,  2.9291e-01,  4.9720e-02,  7.5854e-01,\n",
       "         -3.8994e-01,  4.2654e-01, -2.0309e-01],\n",
       "        [-7.4662e-01,  2.6896e-01,  3.0062e-01,  2.0783e-01,  4.9326e-01,\n",
       "         -4.2043e-01,  5.0659e-01, -3.2488e-01],\n",
       "        [-7.8909e-01,  1.7171e-01,  5.7972e-01,  3.8512e-01,  3.2442e-01,\n",
       "         -4.4851e-01,  5.1897e-01, -2.4362e-01],\n",
       "        [-6.5272e-01,  1.1420e-01,  8.0130e-01,  3.5028e-01,  3.3455e-01,\n",
       "         -4.9942e-01,  3.8545e-01, -1.8662e-01],\n",
       "        [-4.8233e-01,  1.1960e-01,  1.0281e+00,  2.7650e-01,  4.8893e-01,\n",
       "         -5.9572e-01,  2.5256e-01, -2.1602e-01],\n",
       "        [-2.3742e-01,  4.4892e-02,  1.1146e+00,  1.4843e-01,  4.8580e-01,\n",
       "         -4.9326e-01,  1.9795e-01, -2.7879e-01]], device='cuda:0',\n",
       "       grad_fn=<MeanBackward1>)"
      ]
     },
     "execution_count": 29,
     "metadata": {},
     "output_type": "execute_result"
    }
   ],
   "source": [
    "x"
   ]
  },
  {
   "cell_type": "code",
   "execution_count": 30,
   "metadata": {},
   "outputs": [],
   "source": [
    "# x = x.sum(dim=0)"
   ]
  },
  {
   "cell_type": "code",
   "execution_count": 31,
   "metadata": {},
   "outputs": [
    {
     "data": {
      "text/plain": [
       "torch.Size([16, 8])"
      ]
     },
     "execution_count": 31,
     "metadata": {},
     "output_type": "execute_result"
    }
   ],
   "source": [
    "x.shape"
   ]
  },
  {
   "cell_type": "code",
   "execution_count": 32,
   "metadata": {},
   "outputs": [
    {
     "data": {
      "text/plain": [
       "tensor(4, device='cuda:0')"
      ]
     },
     "execution_count": 32,
     "metadata": {},
     "output_type": "execute_result"
    }
   ],
   "source": [
    "torch.argmax(x)"
   ]
  },
  {
   "cell_type": "code",
   "execution_count": 33,
   "metadata": {},
   "outputs": [],
   "source": [
    "# # Initialize positional encoding with d_model=1086\n",
    "# pos_encoding = PositionalEncoding(d_model=1086, max_len=246)"
   ]
  },
  {
   "cell_type": "code",
   "execution_count": 34,
   "metadata": {},
   "outputs": [],
   "source": [
    "# output = pos_encoding(data)\n",
    "# print(output[0])"
   ]
  },
  {
   "cell_type": "code",
   "execution_count": 35,
   "metadata": {},
   "outputs": [],
   "source": [
    "# print(data[0])\n",
    "# print(output[0])"
   ]
  },
  {
   "cell_type": "code",
   "execution_count": 36,
   "metadata": {},
   "outputs": [],
   "source": [
    "criterion = nn.CrossEntropyLoss()  # For multi-class classification \n",
    "optimizer = optim.Adam(model.parameters(), lr=0.0001)"
   ]
  },
  {
   "cell_type": "code",
   "execution_count": 37,
   "metadata": {},
   "outputs": [
    {
     "name": "stdout",
     "output_type": "stream",
     "text": [
      "Epoch [1/100], Loss: 4.3985, Accuracy: 3.75%, F1 Score: 0.03, Recall: 0.04\n",
      "Validation Loss: 2.3392, Accuracy: 9.09%, F1 Score: 0.02, Recall: 0.09\n",
      "Epoch [2/100], Loss: 3.1147, Accuracy: 31.25%, F1 Score: 0.24, Recall: 0.31\n",
      "Validation Loss: 2.7303, Accuracy: 9.09%, F1 Score: 0.02, Recall: 0.09\n",
      "Epoch [3/100], Loss: 2.3457, Accuracy: 16.25%, F1 Score: 0.09, Recall: 0.16\n",
      "Validation Loss: 2.6517, Accuracy: 27.27%, F1 Score: 0.13, Recall: 0.27\n",
      "Epoch [4/100], Loss: 1.9566, Accuracy: 7.50%, F1 Score: 0.06, Recall: 0.07\n",
      "Validation Loss: 2.5466, Accuracy: 9.09%, F1 Score: 0.02, Recall: 0.09\n",
      "Epoch [5/100], Loss: 1.9784, Accuracy: 18.75%, F1 Score: 0.08, Recall: 0.19\n",
      "Validation Loss: 2.4449, Accuracy: 9.09%, F1 Score: 0.02, Recall: 0.09\n",
      "Epoch [6/100], Loss: 2.0763, Accuracy: 27.50%, F1 Score: 0.20, Recall: 0.28\n",
      "Validation Loss: 2.3786, Accuracy: 9.09%, F1 Score: 0.02, Recall: 0.09\n",
      "Epoch [7/100], Loss: 2.1396, Accuracy: 28.75%, F1 Score: 0.21, Recall: 0.29\n",
      "Validation Loss: 2.3760, Accuracy: 9.09%, F1 Score: 0.02, Recall: 0.09\n",
      "Epoch [8/100], Loss: 2.0624, Accuracy: 22.50%, F1 Score: 0.17, Recall: 0.23\n",
      "Validation Loss: 2.4045, Accuracy: 9.09%, F1 Score: 0.02, Recall: 0.09\n",
      "Epoch [9/100], Loss: 1.8908, Accuracy: 26.25%, F1 Score: 0.21, Recall: 0.26\n",
      "Validation Loss: 2.4681, Accuracy: 18.18%, F1 Score: 0.11, Recall: 0.18\n",
      "Epoch [10/100], Loss: 1.7078, Accuracy: 31.25%, F1 Score: 0.24, Recall: 0.31\n",
      "Validation Loss: 2.5316, Accuracy: 9.09%, F1 Score: 0.02, Recall: 0.09\n",
      "Epoch [11/100], Loss: 1.5945, Accuracy: 38.75%, F1 Score: 0.31, Recall: 0.39\n",
      "Validation Loss: 2.5811, Accuracy: 9.09%, F1 Score: 0.02, Recall: 0.09\n",
      "Epoch [12/100], Loss: 1.5294, Accuracy: 36.25%, F1 Score: 0.29, Recall: 0.36\n",
      "Validation Loss: 2.6385, Accuracy: 9.09%, F1 Score: 0.02, Recall: 0.09\n",
      "Epoch [13/100], Loss: 1.4614, Accuracy: 47.50%, F1 Score: 0.40, Recall: 0.47\n",
      "Validation Loss: 2.7194, Accuracy: 9.09%, F1 Score: 0.02, Recall: 0.09\n",
      "Epoch [14/100], Loss: 1.3611, Accuracy: 50.00%, F1 Score: 0.42, Recall: 0.50\n",
      "Validation Loss: 2.8138, Accuracy: 9.09%, F1 Score: 0.02, Recall: 0.09\n",
      "Epoch [15/100], Loss: 1.2511, Accuracy: 60.00%, F1 Score: 0.53, Recall: 0.60\n",
      "Validation Loss: 2.9124, Accuracy: 9.09%, F1 Score: 0.02, Recall: 0.09\n",
      "Epoch [16/100], Loss: 1.1607, Accuracy: 63.75%, F1 Score: 0.55, Recall: 0.64\n",
      "Validation Loss: 3.0386, Accuracy: 18.18%, F1 Score: 0.11, Recall: 0.18\n",
      "Epoch [17/100], Loss: 1.0664, Accuracy: 65.00%, F1 Score: 0.58, Recall: 0.65\n",
      "Validation Loss: 3.1804, Accuracy: 18.18%, F1 Score: 0.08, Recall: 0.18\n",
      "Epoch [18/100], Loss: 0.9379, Accuracy: 65.00%, F1 Score: 0.59, Recall: 0.65\n",
      "Validation Loss: 3.3314, Accuracy: 18.18%, F1 Score: 0.06, Recall: 0.18\n",
      "Epoch [19/100], Loss: 0.8539, Accuracy: 67.50%, F1 Score: 0.61, Recall: 0.68\n",
      "Validation Loss: 3.4565, Accuracy: 18.18%, F1 Score: 0.06, Recall: 0.18\n",
      "Epoch [20/100], Loss: 0.8079, Accuracy: 71.25%, F1 Score: 0.67, Recall: 0.71\n",
      "Validation Loss: 3.6242, Accuracy: 9.09%, F1 Score: 0.02, Recall: 0.09\n",
      "Epoch [21/100], Loss: 0.7446, Accuracy: 76.25%, F1 Score: 0.73, Recall: 0.76\n",
      "Validation Loss: 3.7817, Accuracy: 9.09%, F1 Score: 0.02, Recall: 0.09\n",
      "Epoch [22/100], Loss: 0.6765, Accuracy: 80.00%, F1 Score: 0.79, Recall: 0.80\n",
      "Validation Loss: 3.9925, Accuracy: 9.09%, F1 Score: 0.02, Recall: 0.09\n",
      "Epoch [23/100], Loss: 0.6199, Accuracy: 86.25%, F1 Score: 0.86, Recall: 0.86\n",
      "Validation Loss: 4.1576, Accuracy: 9.09%, F1 Score: 0.02, Recall: 0.09\n",
      "Epoch [24/100], Loss: 0.5760, Accuracy: 88.75%, F1 Score: 0.89, Recall: 0.89\n",
      "Validation Loss: 4.4016, Accuracy: 9.09%, F1 Score: 0.02, Recall: 0.09\n",
      "Epoch [25/100], Loss: 0.5305, Accuracy: 92.50%, F1 Score: 0.93, Recall: 0.93\n",
      "Validation Loss: 4.6188, Accuracy: 9.09%, F1 Score: 0.02, Recall: 0.09\n",
      "Epoch [26/100], Loss: 0.4970, Accuracy: 93.75%, F1 Score: 0.94, Recall: 0.94\n",
      "Validation Loss: 4.8676, Accuracy: 9.09%, F1 Score: 0.02, Recall: 0.09\n",
      "Epoch [27/100], Loss: 0.4309, Accuracy: 93.75%, F1 Score: 0.94, Recall: 0.94\n",
      "Validation Loss: 5.0472, Accuracy: 9.09%, F1 Score: 0.02, Recall: 0.09\n",
      "Epoch [28/100], Loss: 0.3805, Accuracy: 95.00%, F1 Score: 0.95, Recall: 0.95\n",
      "Validation Loss: 5.2258, Accuracy: 9.09%, F1 Score: 0.02, Recall: 0.09\n",
      "Epoch [29/100], Loss: 0.3366, Accuracy: 97.50%, F1 Score: 0.98, Recall: 0.97\n",
      "Validation Loss: 5.3860, Accuracy: 9.09%, F1 Score: 0.02, Recall: 0.09\n",
      "Epoch [30/100], Loss: 0.2871, Accuracy: 97.50%, F1 Score: 0.98, Recall: 0.97\n",
      "Validation Loss: 5.5710, Accuracy: 9.09%, F1 Score: 0.02, Recall: 0.09\n",
      "Epoch [31/100], Loss: 0.2495, Accuracy: 97.50%, F1 Score: 0.98, Recall: 0.97\n",
      "Validation Loss: 5.7161, Accuracy: 9.09%, F1 Score: 0.02, Recall: 0.09\n",
      "Epoch [32/100], Loss: 0.2230, Accuracy: 97.50%, F1 Score: 0.98, Recall: 0.97\n",
      "Validation Loss: 5.8793, Accuracy: 9.09%, F1 Score: 0.02, Recall: 0.09\n",
      "Epoch [33/100], Loss: 0.1930, Accuracy: 98.75%, F1 Score: 0.99, Recall: 0.99\n",
      "Validation Loss: 6.0256, Accuracy: 9.09%, F1 Score: 0.02, Recall: 0.09\n",
      "Epoch [34/100], Loss: 0.1798, Accuracy: 98.75%, F1 Score: 0.99, Recall: 0.99\n",
      "Validation Loss: 6.1852, Accuracy: 9.09%, F1 Score: 0.02, Recall: 0.09\n",
      "Epoch [35/100], Loss: 0.1607, Accuracy: 98.75%, F1 Score: 0.99, Recall: 0.99\n",
      "Validation Loss: 6.3231, Accuracy: 9.09%, F1 Score: 0.02, Recall: 0.09\n",
      "Epoch [36/100], Loss: 0.1526, Accuracy: 98.75%, F1 Score: 0.99, Recall: 0.99\n",
      "Validation Loss: 6.4456, Accuracy: 9.09%, F1 Score: 0.02, Recall: 0.09\n",
      "Epoch [37/100], Loss: 0.1340, Accuracy: 98.75%, F1 Score: 0.99, Recall: 0.99\n",
      "Validation Loss: 6.5796, Accuracy: 9.09%, F1 Score: 0.02, Recall: 0.09\n",
      "Epoch [38/100], Loss: 0.1219, Accuracy: 100.00%, F1 Score: 1.00, Recall: 1.00\n",
      "Validation Loss: 6.6993, Accuracy: 9.09%, F1 Score: 0.02, Recall: 0.09\n",
      "Epoch [39/100], Loss: 0.1090, Accuracy: 100.00%, F1 Score: 1.00, Recall: 1.00\n",
      "Validation Loss: 6.8219, Accuracy: 9.09%, F1 Score: 0.02, Recall: 0.09\n",
      "Epoch [40/100], Loss: 0.0973, Accuracy: 100.00%, F1 Score: 1.00, Recall: 1.00\n",
      "Validation Loss: 6.9352, Accuracy: 9.09%, F1 Score: 0.02, Recall: 0.09\n",
      "Epoch [41/100], Loss: 0.0893, Accuracy: 100.00%, F1 Score: 1.00, Recall: 1.00\n",
      "Validation Loss: 7.0280, Accuracy: 9.09%, F1 Score: 0.02, Recall: 0.09\n",
      "Epoch [42/100], Loss: 0.0837, Accuracy: 100.00%, F1 Score: 1.00, Recall: 1.00\n",
      "Validation Loss: 7.1265, Accuracy: 9.09%, F1 Score: 0.02, Recall: 0.09\n",
      "Epoch [43/100], Loss: 0.0783, Accuracy: 100.00%, F1 Score: 1.00, Recall: 1.00\n",
      "Validation Loss: 7.2046, Accuracy: 9.09%, F1 Score: 0.02, Recall: 0.09\n",
      "Epoch [44/100], Loss: 0.0725, Accuracy: 100.00%, F1 Score: 1.00, Recall: 1.00\n",
      "Validation Loss: 7.2758, Accuracy: 9.09%, F1 Score: 0.02, Recall: 0.09\n",
      "Epoch [45/100], Loss: 0.0683, Accuracy: 100.00%, F1 Score: 1.00, Recall: 1.00\n",
      "Validation Loss: 7.3513, Accuracy: 9.09%, F1 Score: 0.02, Recall: 0.09\n",
      "Epoch [46/100], Loss: 0.0642, Accuracy: 100.00%, F1 Score: 1.00, Recall: 1.00\n",
      "Validation Loss: 7.4232, Accuracy: 9.09%, F1 Score: 0.02, Recall: 0.09\n",
      "Epoch [47/100], Loss: 0.0613, Accuracy: 100.00%, F1 Score: 1.00, Recall: 1.00\n",
      "Validation Loss: 7.4807, Accuracy: 9.09%, F1 Score: 0.02, Recall: 0.09\n",
      "Epoch [48/100], Loss: 0.0573, Accuracy: 100.00%, F1 Score: 1.00, Recall: 1.00\n",
      "Validation Loss: 7.5523, Accuracy: 9.09%, F1 Score: 0.02, Recall: 0.09\n",
      "Epoch [49/100], Loss: 0.0557, Accuracy: 100.00%, F1 Score: 1.00, Recall: 1.00\n",
      "Validation Loss: 7.6126, Accuracy: 9.09%, F1 Score: 0.02, Recall: 0.09\n",
      "Epoch [50/100], Loss: 0.0518, Accuracy: 100.00%, F1 Score: 1.00, Recall: 1.00\n",
      "Validation Loss: 7.6820, Accuracy: 9.09%, F1 Score: 0.02, Recall: 0.09\n",
      "Epoch [51/100], Loss: 0.0494, Accuracy: 100.00%, F1 Score: 1.00, Recall: 1.00\n",
      "Validation Loss: 7.7274, Accuracy: 9.09%, F1 Score: 0.02, Recall: 0.09\n",
      "Epoch [52/100], Loss: 0.0472, Accuracy: 100.00%, F1 Score: 1.00, Recall: 1.00\n",
      "Validation Loss: 7.7909, Accuracy: 9.09%, F1 Score: 0.02, Recall: 0.09\n",
      "Epoch [53/100], Loss: 0.0455, Accuracy: 100.00%, F1 Score: 1.00, Recall: 1.00\n",
      "Validation Loss: 7.8473, Accuracy: 9.09%, F1 Score: 0.02, Recall: 0.09\n",
      "Epoch [54/100], Loss: 0.0433, Accuracy: 100.00%, F1 Score: 1.00, Recall: 1.00\n",
      "Validation Loss: 7.9010, Accuracy: 9.09%, F1 Score: 0.02, Recall: 0.09\n",
      "Epoch [55/100], Loss: 0.0416, Accuracy: 100.00%, F1 Score: 1.00, Recall: 1.00\n",
      "Validation Loss: 7.9493, Accuracy: 9.09%, F1 Score: 0.02, Recall: 0.09\n",
      "Epoch [56/100], Loss: 0.0390, Accuracy: 100.00%, F1 Score: 1.00, Recall: 1.00\n",
      "Validation Loss: 7.9911, Accuracy: 9.09%, F1 Score: 0.02, Recall: 0.09\n",
      "Epoch [57/100], Loss: 0.0377, Accuracy: 100.00%, F1 Score: 1.00, Recall: 1.00\n",
      "Validation Loss: 8.0309, Accuracy: 9.09%, F1 Score: 0.02, Recall: 0.09\n",
      "Epoch [58/100], Loss: 0.0363, Accuracy: 100.00%, F1 Score: 1.00, Recall: 1.00\n",
      "Validation Loss: 8.0768, Accuracy: 9.09%, F1 Score: 0.02, Recall: 0.09\n",
      "Epoch [59/100], Loss: 0.0349, Accuracy: 100.00%, F1 Score: 1.00, Recall: 1.00\n",
      "Validation Loss: 8.1060, Accuracy: 9.09%, F1 Score: 0.02, Recall: 0.09\n",
      "Epoch [60/100], Loss: 0.0334, Accuracy: 100.00%, F1 Score: 1.00, Recall: 1.00\n",
      "Validation Loss: 8.1480, Accuracy: 9.09%, F1 Score: 0.02, Recall: 0.09\n",
      "Epoch [61/100], Loss: 0.0322, Accuracy: 100.00%, F1 Score: 1.00, Recall: 1.00\n",
      "Validation Loss: 8.1768, Accuracy: 9.09%, F1 Score: 0.02, Recall: 0.09\n",
      "Epoch [62/100], Loss: 0.0309, Accuracy: 100.00%, F1 Score: 1.00, Recall: 1.00\n",
      "Validation Loss: 8.2071, Accuracy: 9.09%, F1 Score: 0.02, Recall: 0.09\n",
      "Epoch [63/100], Loss: 0.0298, Accuracy: 100.00%, F1 Score: 1.00, Recall: 1.00\n",
      "Validation Loss: 8.2365, Accuracy: 9.09%, F1 Score: 0.02, Recall: 0.09\n",
      "Epoch [64/100], Loss: 0.0289, Accuracy: 100.00%, F1 Score: 1.00, Recall: 1.00\n",
      "Validation Loss: 8.2621, Accuracy: 9.09%, F1 Score: 0.02, Recall: 0.09\n",
      "Epoch [65/100], Loss: 0.0278, Accuracy: 100.00%, F1 Score: 1.00, Recall: 1.00\n",
      "Validation Loss: 8.2891, Accuracy: 9.09%, F1 Score: 0.02, Recall: 0.09\n",
      "Epoch [66/100], Loss: 0.0270, Accuracy: 100.00%, F1 Score: 1.00, Recall: 1.00\n",
      "Validation Loss: 8.3143, Accuracy: 9.09%, F1 Score: 0.02, Recall: 0.09\n",
      "Epoch [67/100], Loss: 0.0261, Accuracy: 100.00%, F1 Score: 1.00, Recall: 1.00\n",
      "Validation Loss: 8.3381, Accuracy: 9.09%, F1 Score: 0.02, Recall: 0.09\n",
      "Epoch [68/100], Loss: 0.0253, Accuracy: 100.00%, F1 Score: 1.00, Recall: 1.00\n",
      "Validation Loss: 8.3576, Accuracy: 9.09%, F1 Score: 0.02, Recall: 0.09\n",
      "Epoch [69/100], Loss: 0.0245, Accuracy: 100.00%, F1 Score: 1.00, Recall: 1.00\n",
      "Validation Loss: 8.3769, Accuracy: 9.09%, F1 Score: 0.02, Recall: 0.09\n",
      "Epoch [70/100], Loss: 0.0237, Accuracy: 100.00%, F1 Score: 1.00, Recall: 1.00\n",
      "Validation Loss: 8.3970, Accuracy: 9.09%, F1 Score: 0.02, Recall: 0.09\n",
      "Epoch [71/100], Loss: 0.0230, Accuracy: 100.00%, F1 Score: 1.00, Recall: 1.00\n",
      "Validation Loss: 8.4165, Accuracy: 9.09%, F1 Score: 0.02, Recall: 0.09\n",
      "Epoch [72/100], Loss: 0.0222, Accuracy: 100.00%, F1 Score: 1.00, Recall: 1.00\n",
      "Validation Loss: 8.4328, Accuracy: 9.09%, F1 Score: 0.02, Recall: 0.09\n",
      "Epoch [73/100], Loss: 0.0215, Accuracy: 100.00%, F1 Score: 1.00, Recall: 1.00\n",
      "Validation Loss: 8.4485, Accuracy: 9.09%, F1 Score: 0.02, Recall: 0.09\n",
      "Epoch [74/100], Loss: 0.0209, Accuracy: 100.00%, F1 Score: 1.00, Recall: 1.00\n",
      "Validation Loss: 8.4661, Accuracy: 9.09%, F1 Score: 0.02, Recall: 0.09\n",
      "Epoch [75/100], Loss: 0.0203, Accuracy: 100.00%, F1 Score: 1.00, Recall: 1.00\n",
      "Validation Loss: 8.4763, Accuracy: 9.09%, F1 Score: 0.02, Recall: 0.09\n",
      "Epoch [76/100], Loss: 0.0198, Accuracy: 100.00%, F1 Score: 1.00, Recall: 1.00\n",
      "Validation Loss: 8.4890, Accuracy: 9.09%, F1 Score: 0.02, Recall: 0.09\n",
      "Epoch [77/100], Loss: 0.0193, Accuracy: 100.00%, F1 Score: 1.00, Recall: 1.00\n",
      "Validation Loss: 8.5049, Accuracy: 9.09%, F1 Score: 0.02, Recall: 0.09\n",
      "Epoch [78/100], Loss: 0.0188, Accuracy: 100.00%, F1 Score: 1.00, Recall: 1.00\n",
      "Validation Loss: 8.5211, Accuracy: 9.09%, F1 Score: 0.02, Recall: 0.09\n",
      "Epoch [79/100], Loss: 0.0183, Accuracy: 100.00%, F1 Score: 1.00, Recall: 1.00\n",
      "Validation Loss: 8.5375, Accuracy: 9.09%, F1 Score: 0.02, Recall: 0.09\n",
      "Epoch [80/100], Loss: 0.0178, Accuracy: 100.00%, F1 Score: 1.00, Recall: 1.00\n",
      "Validation Loss: 8.5540, Accuracy: 9.09%, F1 Score: 0.02, Recall: 0.09\n",
      "Epoch [81/100], Loss: 0.0174, Accuracy: 100.00%, F1 Score: 1.00, Recall: 1.00\n",
      "Validation Loss: 8.5706, Accuracy: 9.09%, F1 Score: 0.02, Recall: 0.09\n",
      "Epoch [82/100], Loss: 0.0169, Accuracy: 100.00%, F1 Score: 1.00, Recall: 1.00\n",
      "Validation Loss: 8.5876, Accuracy: 9.09%, F1 Score: 0.02, Recall: 0.09\n",
      "Epoch [83/100], Loss: 0.0165, Accuracy: 100.00%, F1 Score: 1.00, Recall: 1.00\n",
      "Validation Loss: 8.6043, Accuracy: 9.09%, F1 Score: 0.02, Recall: 0.09\n",
      "Epoch [84/100], Loss: 0.0161, Accuracy: 100.00%, F1 Score: 1.00, Recall: 1.00\n",
      "Validation Loss: 8.6201, Accuracy: 9.09%, F1 Score: 0.02, Recall: 0.09\n",
      "Epoch [85/100], Loss: 0.0157, Accuracy: 100.00%, F1 Score: 1.00, Recall: 1.00\n",
      "Validation Loss: 8.6358, Accuracy: 9.09%, F1 Score: 0.02, Recall: 0.09\n",
      "Epoch [86/100], Loss: 0.0153, Accuracy: 100.00%, F1 Score: 1.00, Recall: 1.00\n",
      "Validation Loss: 8.6537, Accuracy: 9.09%, F1 Score: 0.02, Recall: 0.09\n",
      "Epoch [87/100], Loss: 0.0149, Accuracy: 100.00%, F1 Score: 1.00, Recall: 1.00\n",
      "Validation Loss: 8.6703, Accuracy: 9.09%, F1 Score: 0.02, Recall: 0.09\n",
      "Epoch [88/100], Loss: 0.0145, Accuracy: 100.00%, F1 Score: 1.00, Recall: 1.00\n",
      "Validation Loss: 8.6860, Accuracy: 9.09%, F1 Score: 0.02, Recall: 0.09\n",
      "Epoch [89/100], Loss: 0.0142, Accuracy: 100.00%, F1 Score: 1.00, Recall: 1.00\n",
      "Validation Loss: 8.6992, Accuracy: 9.09%, F1 Score: 0.02, Recall: 0.09\n",
      "Epoch [90/100], Loss: 0.0139, Accuracy: 100.00%, F1 Score: 1.00, Recall: 1.00\n",
      "Validation Loss: 8.7153, Accuracy: 9.09%, F1 Score: 0.02, Recall: 0.09\n",
      "Epoch [91/100], Loss: 0.0136, Accuracy: 100.00%, F1 Score: 1.00, Recall: 1.00\n",
      "Validation Loss: 8.7304, Accuracy: 9.09%, F1 Score: 0.02, Recall: 0.09\n",
      "Epoch [92/100], Loss: 0.0133, Accuracy: 100.00%, F1 Score: 1.00, Recall: 1.00\n",
      "Validation Loss: 8.7452, Accuracy: 9.09%, F1 Score: 0.02, Recall: 0.09\n",
      "Epoch [93/100], Loss: 0.0130, Accuracy: 100.00%, F1 Score: 1.00, Recall: 1.00\n",
      "Validation Loss: 8.7601, Accuracy: 9.09%, F1 Score: 0.02, Recall: 0.09\n",
      "Epoch [94/100], Loss: 0.0127, Accuracy: 100.00%, F1 Score: 1.00, Recall: 1.00\n",
      "Validation Loss: 8.7749, Accuracy: 9.09%, F1 Score: 0.02, Recall: 0.09\n",
      "Epoch [95/100], Loss: 0.0124, Accuracy: 100.00%, F1 Score: 1.00, Recall: 1.00\n",
      "Validation Loss: 8.7914, Accuracy: 9.09%, F1 Score: 0.02, Recall: 0.09\n",
      "Epoch [96/100], Loss: 0.0121, Accuracy: 100.00%, F1 Score: 1.00, Recall: 1.00\n",
      "Validation Loss: 8.8070, Accuracy: 9.09%, F1 Score: 0.02, Recall: 0.09\n",
      "Epoch [97/100], Loss: 0.0118, Accuracy: 100.00%, F1 Score: 1.00, Recall: 1.00\n",
      "Validation Loss: 8.8217, Accuracy: 9.09%, F1 Score: 0.02, Recall: 0.09\n",
      "Epoch [98/100], Loss: 0.0116, Accuracy: 100.00%, F1 Score: 1.00, Recall: 1.00\n",
      "Validation Loss: 8.8363, Accuracy: 9.09%, F1 Score: 0.02, Recall: 0.09\n",
      "Epoch [99/100], Loss: 0.0113, Accuracy: 100.00%, F1 Score: 1.00, Recall: 1.00\n",
      "Validation Loss: 8.8504, Accuracy: 9.09%, F1 Score: 0.02, Recall: 0.09\n",
      "Epoch [100/100], Loss: 0.0111, Accuracy: 100.00%, F1 Score: 1.00, Recall: 1.00\n",
      "Validation Loss: 8.8640, Accuracy: 9.09%, F1 Score: 0.02, Recall: 0.09\n",
      "Test Accuracy: 18.18%, F1 Score: 0.06, Recall: 0.18\n"
     ]
    }
   ],
   "source": [
    "from sklearn.metrics import f1_score, recall_score\n",
    "\n",
    "num_epochs = 100\n",
    "loss_logger = []\n",
    "accuracy_logger = []\n",
    "f1_logger = []\n",
    "recall_logger = []\n",
    "running_loss = 0.0 \n",
    "val_loss = []\n",
    "\n",
    "all_preds = []\n",
    "all_labels = []\n",
    "for epoch in range(num_epochs):\n",
    "    model.train()\n",
    "    total_correct = 0\n",
    "    total_samples = 0\n",
    "\n",
    "    # h = torch.zeros(num_layers, batch_size, hidden_size).to(device)\n",
    "    # c = torch.zeros(num_layers, batch_size, hidden_size).to(device)\n",
    "    \n",
    "    all_preds = []\n",
    "    all_labels = []\n",
    "\n",
    "    for i, (sequences, labels) in enumerate(train_loader):\n",
    "        sequences = sequences.to(device)\n",
    "        labels = labels.to(device)\n",
    "\n",
    "        # h = h.detach()\n",
    "        # c = c.detach()\n",
    "        \n",
    "        # Forward pass\n",
    "        outputs = model(sequences)\n",
    "        _, predicted = torch.max(outputs, 1)\n",
    "        # outputs = outputs.sum(dim=0)\n",
    "        loss = criterion(outputs, labels)\n",
    "\n",
    "        total_correct += (predicted == labels).sum().item()\n",
    "        total_samples += labels.size(0)\n",
    "\n",
    "        all_preds.extend(predicted.cpu().numpy())  # Store predictions\n",
    "        all_labels.extend(labels.cpu().numpy())    # Store true labels\n",
    "        \n",
    "        # Backward pass and optimization\n",
    "        optimizer.zero_grad()\n",
    "        loss.backward()\n",
    "        optimizer.step()\n",
    "\n",
    "    # Log training loss and accuracy\n",
    "    loss_logger.append(loss.item())\n",
    "    accuracy = 100 * total_correct / total_samples\n",
    "    accuracy_logger.append(accuracy)\n",
    "\n",
    "    # Calculate F1 score and recall for training set\n",
    "    f1 = f1_score(all_labels, all_preds, average='weighted', zero_division=1)\n",
    "    recall = recall_score(all_labels, all_preds, average='weighted', zero_division=1)\n",
    "    f1_logger.append(f1)\n",
    "    recall_logger.append(recall)\n",
    "\n",
    "    print(f'Epoch [{epoch+1}/{num_epochs}], Loss: {loss.item():.4f}, Accuracy: {accuracy:.2f}%, F1 Score: {f1:.2f}, Recall: {recall:.2f}')\n",
    "\n",
    "    # --- Validation Loop ---\n",
    "    model.eval()  # Set the model to evaluation mode\n",
    "    val_correct = 0\n",
    "    val_samples = 0\n",
    "    val_preds = []\n",
    "    val_labels = []\n",
    "    running_val_loss = 0.0  # Reset running loss for validation\n",
    "\n",
    "    with torch.no_grad():  # Disable gradient calculation for validation\n",
    "        # h_val = torch.zeros(num_layers, 5, hidden_size).to(device)\n",
    "        # c_val = torch.zeros(num_layers, 5, hidden_size).to(device)\n",
    "\n",
    "        for sequences, labels in val_loader:\n",
    "            sequences = sequences.to(device)\n",
    "            labels = labels.to(device)\n",
    "\n",
    "            # Forward pass\n",
    "            outputs = model(sequences)\n",
    "            loss = criterion(outputs, labels) \n",
    "            running_val_loss += loss.item() \n",
    "\n",
    "            _, predicted = torch.max(outputs, 1)\n",
    "            val_correct += (predicted == labels).sum().item()\n",
    "            val_samples += labels.size(0)\n",
    "\n",
    "            val_preds.extend(predicted.cpu().numpy())\n",
    "            val_labels.extend(labels.cpu().numpy())\n",
    "\n",
    "        avg_val_loss = running_val_loss / len(val_loader)  # Average validation loss\n",
    "        val_loss.append(avg_val_loss)  # Log validation loss\n",
    "\n",
    "        val_accuracy = 100 * val_correct / val_samples\n",
    "        val_f1 = f1_score(val_labels, val_preds, average='weighted', zero_division=1 )\n",
    "        val_recall = recall_score(val_labels, val_preds, average='weighted', zero_division=1)\n",
    "\n",
    "        print(f'Validation Loss: {avg_val_loss:.4f}, Accuracy: {val_accuracy:.2f}%, F1 Score: {val_f1:.2f}, Recall: {val_recall:.2f}')\n",
    "\n",
    "# --- Test Loop (after all epochs) ---\n",
    "model.eval()  # Set model to evaluation mode for testing\n",
    "test_correct = 0\n",
    "test_samples = 0\n",
    "test_preds = []\n",
    "test_labels = []\n",
    "\n",
    "with torch.no_grad():  # Disable gradient calculation for testing\n",
    "    # h_test = torch.zeros(num_layers, 7, hidden_size).to(device)\n",
    "    # c_test = torch.zeros(num_layers, 7, hidden_size).to(device)\n",
    "\n",
    "    for sequences, labels in test_loader:\n",
    "        sequences = sequences.to(device)\n",
    "        labels = labels.to(device)\n",
    "\n",
    "        # Forward pass\n",
    "        outputs = model(sequences)\n",
    "        _, predicted = torch.max(outputs, 1)\n",
    "\n",
    "        test_correct += (predicted == labels).sum().item()\n",
    "        test_samples += labels.size(0)\n",
    "\n",
    "        test_preds.extend(predicted.cpu().numpy())\n",
    "        test_labels.extend(labels.cpu().numpy())\n",
    "\n",
    "    test_accuracy = 100 * test_correct / test_samples\n",
    "    test_f1 = f1_score(test_labels, test_preds, average='weighted', zero_division=1 )\n",
    "    test_recall = recall_score(test_labels, test_preds, average='weighted', zero_division=1)\n",
    "\n",
    "    print(f'Test Accuracy: {test_accuracy:.2f}%, F1 Score: {test_f1:.2f}, Recall: {test_recall:.2f}')\n"
   ]
  },
  {
   "cell_type": "code",
   "execution_count": 38,
   "metadata": {},
   "outputs": [
    {
     "data": {
      "image/png": "[encoded data removed]",
      "text/plain": [
       "<Figure size 800x800 with 1 Axes>"
      ]
     },
     "metadata": {},
     "output_type": "display_data"
    }
   ],
   "source": [
    "from matplotlib import pyplot as plt\n",
    "plt.figure(figsize=(8,8))\n",
    "plt.title(\"Loss Curve\")\n",
    "plt.plot(loss_logger, label='train_loss')\n",
    "# plt.plot(val_loss, label='val_loss')\n",
    "# plt.plot(accuracy_logger,label='accuracy')\n",
    "plt.xlabel(\"Epoch\")\n",
    "plt.legend()\n",
    "plt.show()"
   ]
  },
  {
   "cell_type": "code",
   "execution_count": 39,
   "metadata": {},
   "outputs": [
    {
     "data": {
      "image/png": "[encoded data removed]",
      "text/plain": [
       "<Figure size 800x800 with 1 Axes>"
      ]
     },
     "metadata": {},
     "output_type": "display_data"
    }
   ],
   "source": [
    "from matplotlib import pyplot as plt\n",
    "plt.figure(figsize=(8,8))\n",
    "plt.title(\"Loss Curve\")\n",
    "plt.plot(loss_logger, label='train_loss')\n",
    "plt.plot(val_loss, label='val_loss')\n",
    "# plt.plot(accuracy_logger,label='accuracy')\n",
    "plt.xlabel(\"Epoch\")\n",
    "plt.legend()\n",
    "plt.show()"
   ]
  },
  {
   "cell_type": "code",
   "execution_count": 40,
   "metadata": {},
   "outputs": [],
   "source": [
    "def check_accuracy(loader, model):\n",
    "    if loader == train_loader:\n",
    "        print(\"Checking accuracy on training data\")\n",
    "    else:\n",
    "        print(\"Checking accuracy on test data\")  \n",
    "          \n",
    "    num_correct = 0\n",
    "    num_samples = 0\n",
    "    model.eval()\n",
    "    \n",
    "    with torch.no_grad():\n",
    "        for x, y in loader:\n",
    "            x = x.to(device=device)\n",
    "            y = y.to(device=device)\n",
    "            # x = x.reshape(x.shape[0], -1)\n",
    "            \n",
    "            scores = model(x)\n",
    "            _, predictions = scores.max(1)\n",
    "            num_correct += (predictions == y).sum()\n",
    "            num_samples += predictions.size(0)\n",
    "            \n",
    "        print(f\"Got {num_correct} / {num_samples} with accuracy {float(num_correct)/float(num_samples)*100:.2f}\")\n",
    "        \n",
    "    model.train()"
   ]
  },
  {
   "cell_type": "code",
   "execution_count": 41,
   "metadata": {},
   "outputs": [
    {
     "name": "stdout",
     "output_type": "stream",
     "text": [
      "Checking accuracy on training data\n",
      "Got 80 / 80 with accuracy 100.00\n",
      "Checking accuracy on test data\n",
      "Got 2 / 11 with accuracy 18.18\n"
     ]
    }
   ],
   "source": [
    "check_accuracy(train_loader, model)\n",
    "# h = torch.zeros(num_layers, 7, hidden_size).to(device)\n",
    "# c = torch.zeros(num_layers, 7, hidden_size).to(device)\n",
    "check_accuracy(test_loader, model)"
   ]
  },
  {
   "cell_type": "code",
   "execution_count": null,
   "metadata": {},
   "outputs": [],
   "source": []
  }
 ],
 "metadata": {
  "kernelspec": {
   "display_name": "Python 3",
   "language": "python",
   "name": "python3"
  },
  "language_info": {
   "codemirror_mode": {
    "name": "ipython",
    "version": 3
   },
   "file_extension": ".py",
   "mimetype": "text/x-python",
   "name": "python",
   "nbconvert_exporter": "python",
   "pygments_lexer": "ipython3",
   "version": "3.12.4"
  }
 },
 "nbformat": 4,
 "nbformat_minor": 2
}
