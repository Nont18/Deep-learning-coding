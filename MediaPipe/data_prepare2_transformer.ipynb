{
 "cells": [
  {
   "cell_type": "markdown",
   "metadata": {},
   "source": [
    "### Transformer"
   ]
  },
  {
   "cell_type": "markdown",
   "metadata": {},
   "source": [
    "### Import Library"
   ]
  },
  {
   "cell_type": "code",
   "execution_count": 91,
   "metadata": {},
   "outputs": [],
   "source": [
    "import torch \n",
    "import torch.nn as nn \n",
    "import torch.nn.functional as F \n",
    "import torch.optim as optim\n",
    "import numpy as np \n",
    "import pandas as pd \n",
    "import matplotlib.pyplot as plt \n",
    "import torchvision \n",
    "from torchvision import datasets \n",
    "import random"
   ]
  },
  {
   "cell_type": "markdown",
   "metadata": {},
   "source": [
    "### Set Random Seed"
   ]
  },
  {
   "cell_type": "code",
   "execution_count": 92,
   "metadata": {},
   "outputs": [
    {
     "data": {
      "text/plain": [
       "<torch._C.Generator at 0x277c84aafd0>"
      ]
     },
     "execution_count": 92,
     "metadata": {},
     "output_type": "execute_result"
    }
   ],
   "source": [
    "seed = 1234 \n",
    "random.seed(seed)\n",
    "np.random.seed(seed)\n",
    "torch.manual_seed(seed)"
   ]
  },
  {
   "cell_type": "markdown",
   "metadata": {},
   "source": [
    "### Dataset Preparation"
   ]
  },
  {
   "cell_type": "code",
   "execution_count": 93,
   "metadata": {},
   "outputs": [
    {
     "name": "stdout",
     "output_type": "stream",
     "text": [
      "Number of train_video_list :  64\n",
      "List of train_video_list :  ['ขยัน.mp4', 'ขยัน_0.mp4', 'ขอบคุณ.mp4', 'ขอบคุณ_0.mp4', 'ขอโทษ.mp4', 'ขอโทษ_0.mp4', 'ขี้เกียจ.mp4', 'ขี้เกียจ_0.mp4', 'ขโมย.mp4', 'ขโมย_0.mp4', 'คิดถึง.mp4', 'คิดถึง_0.mp4', 'คุณ พรุ่งนี้อย่าลืมส่งการบ้านคณิตศาสตร์ให้ครู.mp4', 'คุณ.mp4', 'คุณ_0.mp4', 'คุณช่วยแปลภาษาอังกฤษเป็นภาษาไทยให้ฉันด้วย.mp4', 'คุณช่วยแปลภาษาอังกฤษเป็นภาษาไทยให้ฉันด้วย_0.mp4', 'คุณพรุ่งนี้อย่าลืมส่งการบ้านคณิตศาสตร์ให้ครู_0.mp4', 'ฉัน.mp4', 'ฉัน_0.mp4', 'ฉันตื่นนอน 6 โมงเช้าทุกวัน.mp4', 'ฉันตื่นนอน6โมงเช้าทุกวัน_0.mp4', 'ฉันฝึกเขียนภาษาไทยจนเขียนได้ดีขึ้น.mp4', 'ฉันฝึกเขียนภาษาไทยจนเขียนได้ดีขึ้น_0.mp4', 'ชอบ.mp4', 'ชอบ_0.mp4', 'ดีใจ.mp4', 'ดีใจ_0.mp4', 'น่ารัก.mp4', 'น่ารัก_0.mp4', 'น้อง.mp4', 'น้อง_0.mp4', 'บ้าน.mp4', 'บ้าน_0.mp4', 'ภาษาอังกฤษเป็นเรื่องยากสำหรับคนหูหนวก.mp4', 'ภาษาอังกฤษเป็นเรื่องยากสำหรับคนหูหนวก_0.mp4', 'รถยนต์.mp4', 'รถยนต์_0.mp4', 'รัก.mp4', 'รัก_0.mp4', 'ลาก่อน.mp4', 'ลาก่อน_0.mp4', 'วิชาคณิตศาสตร์เป็นวิชาที่เรียนยากมาก.mp4', 'วิชาคณิตศาสตร์เป็นวิชาที่เรียนยากมาก_0.mp4', 'สบายดี.mp4', 'สบายดี_0.mp4', 'สวัสดี.mp4', 'สวัสดี_0.mp4', 'อยาก.mp4', 'อยาก_0.mp4', 'เครียด.mp4', 'เครียด_0.mp4', 'เดิน.mp4', 'เดิน_0.mp4', 'เพลีย.mp4', 'เพลีย_0.mp4', 'เมื่อย.mp4', 'เมื่อย_0.mp4', 'เสียใจ.mp4', 'เสียใจ_0.mp4', 'โรงเรียน.mp4', 'โรงเรียน_0.mp4', 'ไป.mp4', 'ไป_0.mp4']\n",
      "Number of validate_video_list :  32\n",
      "List of validate_video_list :  ['ขยัน_2.mp4', 'ขอบคุณ_2.mp4', 'ขอโทษ_2.mp4', 'ขี้เกียจ_2.mp4', 'ขโมย_2.mp4', 'คิดถึง_2.mp4', 'คุณ_2.mp4', 'คุณช่วยแปลภาษาอังกฤษเป็นภาษาไทยให้ฉันด้วย_2.mp4', 'คุณพรุ่งนี้อย่าลืมส่งการบ้านคณิตศาสตร์ให้ครู_2.mp4', 'ฉัน_2.mp4', 'ฉันตื่นนอน6โมงเช้าทุกวัน_2.mp4', 'ฉันฝึกเขียนภาษาไทยจนเขียนได้ดีขึ้น_2.mp4', 'ชอบ_2.mp4', 'ดีใจ_2.mp4', 'น่ารัก_2.mp4', 'น้อง_2.mp4', 'บ้าน_2.mp4', 'ภาษาอังกฤษเป็นเรื่องยากสำหรับคนหูหนวก_2.mp4', 'รถยนต์_2.mp4', 'รัก_2.mp4', 'ลาก่อน_2.mp4', 'วิชาคณิตศาสตร์เป็นวิชาที่เรียนยากมาก_2.mp4', 'สบายดี_2.mp4', 'สวัสดี_2.mp4', 'อยาก_2.mp4', 'เครียด_2.mp4', 'เดิน_2.mp4', 'เพลีย_2.mp4', 'เมื่อย_2.mp4', 'เสียใจ_2.mp4', 'โรงเรียน_2.mp4', 'ไป_2.mp4']\n",
      "Number of test_video_list :  32\n",
      "List of test_video_list :  ['ขยัน_1.mp4', 'ขอบคุณ_1.mp4', 'ขอโทษ_1.mp4', 'ขี้เกียจ_1.mp4', 'ขโมย_1.mp4', 'คิดถึง_1.mp4', 'คุณ_1.mp4', 'คุณช่วยแปลภาษาอังกฤษเป็นภาษาไทยให้ฉันด้วย_1.mp4', 'คุณพรุ่งนี้อย่าลืมส่งการบ้านคณิตศาสตร์ให้ครู_1.mp4', 'ฉัน_1.mp4', 'ฉันตื่นนอน6โมงเช้าทุกวัน_1.mp4', 'ฉันฝึกเขียนภาษาไทยจนเขียนได้ดีขึ้น_1.mp4', 'ชอบ_1.mp4', 'ดีใจ_1.mp4', 'น่ารัก_1.mp4', 'น้อง_1.mp4', 'บ้าน_1.mp4', 'ภาษาอังกฤษเป็นเรื่องยากสำหรับคนหูหนวก_1.mp4', 'รถยนต์_1.mp4', 'รัก_1.mp4', 'ลาก่อน_1.mp4', 'วิชาคณิตศาสตร์เป็นวิชาที่เรียนยากมาก_1.mp4', 'สบายดี_1.mp4', 'สวัสดี_1.mp4', 'อยาก_1.mp4', 'เครียด_1.mp4', 'เดิน_1.mp4', 'เพลีย_1.mp4', 'เมื่อย_1.mp4', 'เสียใจ_1.mp4', 'โรงเรียน_1.mp4', 'ไป_1.mp4']\n"
     ]
    }
   ],
   "source": [
    "import os \n",
    "train_video_dir = \"C:/Users/araya/Desktop/vscode/Deep-Learning-Coding/MediaPipe/Data for Different actions/train\"\n",
    "validate_video_dir = \"C:/Users/araya/Desktop/vscode/Deep-Learning-Coding/MediaPipe/Data for Different actions/validate\"\n",
    "test_video_dir = \"C:/Users/araya/Desktop/vscode/Deep-Learning-Coding/MediaPipe/Data for Different actions/test\"\n",
    "train_video_list = []\n",
    "validate_video_list = []\n",
    "test_video_list = []\n",
    "train_video_list = os.listdir(train_video_dir)\n",
    "validate_video_list = os.listdir(validate_video_dir)\n",
    "test_video_list = os.listdir(test_video_dir)\n",
    "\n",
    "print(\"Number of train_video_list : \", len(train_video_list))\n",
    "print(\"List of train_video_list : \", train_video_list)\n",
    "print(\"Number of validate_video_list : \", len(validate_video_list))\n",
    "print(\"List of validate_video_list : \", validate_video_list)\n",
    "print(\"Number of test_video_list : \", len(test_video_list))\n",
    "print(\"List of test_video_list : \", test_video_list)"
   ]
  },
  {
   "cell_type": "code",
   "execution_count": 94,
   "metadata": {},
   "outputs": [
    {
     "name": "stdout",
     "output_type": "stream",
     "text": [
      "['ขยัน.mp4' 'ขยัน_0.mp4' 'ขอบคุณ.mp4' 'ขอบคุณ_0.mp4' 'ขอโทษ.mp4'\n",
      " 'ขอโทษ_0.mp4' 'ขี้เกียจ.mp4' 'ขี้เกียจ_0.mp4' 'ขโมย.mp4' 'ขโมย_0.mp4'\n",
      " 'คิดถึง.mp4' 'คิดถึง_0.mp4'\n",
      " 'คุณ พรุ่งนี้อย่าลืมส่งการบ้านคณิตศาสตร์ให้ครู.mp4' 'คุณ.mp4' 'คุณ_0.mp4'\n",
      " 'คุณช่วยแปลภาษาอังกฤษเป็นภาษาไทยให้ฉันด้วย.mp4'\n",
      " 'คุณช่วยแปลภาษาอังกฤษเป็นภาษาไทยให้ฉันด้วย_0.mp4'\n",
      " 'คุณพรุ่งนี้อย่าลืมส่งการบ้านคณิตศาสตร์ให้ครู_0.mp4' 'ฉัน.mp4'\n",
      " 'ฉัน_0.mp4' 'ฉันตื่นนอน 6 โมงเช้าทุกวัน.mp4'\n",
      " 'ฉันตื่นนอน6โมงเช้าทุกวัน_0.mp4' 'ฉันฝึกเขียนภาษาไทยจนเขียนได้ดีขึ้น.mp4'\n",
      " 'ฉันฝึกเขียนภาษาไทยจนเขียนได้ดีขึ้น_0.mp4' 'ชอบ.mp4' 'ชอบ_0.mp4'\n",
      " 'ดีใจ.mp4' 'ดีใจ_0.mp4' 'น่ารัก.mp4' 'น่ารัก_0.mp4' 'น้อง.mp4'\n",
      " 'น้อง_0.mp4' 'บ้าน.mp4' 'บ้าน_0.mp4'\n",
      " 'ภาษาอังกฤษเป็นเรื่องยากสำหรับคนหูหนวก.mp4'\n",
      " 'ภาษาอังกฤษเป็นเรื่องยากสำหรับคนหูหนวก_0.mp4' 'รถยนต์.mp4' 'รถยนต์_0.mp4'\n",
      " 'รัก.mp4' 'รัก_0.mp4' 'ลาก่อน.mp4' 'ลาก่อน_0.mp4'\n",
      " 'วิชาคณิตศาสตร์เป็นวิชาที่เรียนยากมาก.mp4'\n",
      " 'วิชาคณิตศาสตร์เป็นวิชาที่เรียนยากมาก_0.mp4' 'สบายดี.mp4' 'สบายดี_0.mp4'\n",
      " 'สวัสดี.mp4' 'สวัสดี_0.mp4' 'อยาก.mp4' 'อยาก_0.mp4' 'เครียด.mp4'\n",
      " 'เครียด_0.mp4' 'เดิน.mp4' 'เดิน_0.mp4' 'เพลีย.mp4' 'เพลีย_0.mp4'\n",
      " 'เมื่อย.mp4' 'เมื่อย_0.mp4' 'เสียใจ.mp4' 'เสียใจ_0.mp4' 'โรงเรียน.mp4'\n",
      " 'โรงเรียน_0.mp4' 'ไป.mp4' 'ไป_0.mp4']\n",
      "['ขยัน_2.mp4' 'ขอบคุณ_2.mp4' 'ขอโทษ_2.mp4' 'ขี้เกียจ_2.mp4' 'ขโมย_2.mp4'\n",
      " 'คิดถึง_2.mp4' 'คุณ_2.mp4'\n",
      " 'คุณช่วยแปลภาษาอังกฤษเป็นภาษาไทยให้ฉันด้วย_2.mp4'\n",
      " 'คุณพรุ่งนี้อย่าลืมส่งการบ้านคณิตศาสตร์ให้ครู_2.mp4' 'ฉัน_2.mp4'\n",
      " 'ฉันตื่นนอน6โมงเช้าทุกวัน_2.mp4'\n",
      " 'ฉันฝึกเขียนภาษาไทยจนเขียนได้ดีขึ้น_2.mp4' 'ชอบ_2.mp4' 'ดีใจ_2.mp4'\n",
      " 'น่ารัก_2.mp4' 'น้อง_2.mp4' 'บ้าน_2.mp4'\n",
      " 'ภาษาอังกฤษเป็นเรื่องยากสำหรับคนหูหนวก_2.mp4' 'รถยนต์_2.mp4' 'รัก_2.mp4'\n",
      " 'ลาก่อน_2.mp4' 'วิชาคณิตศาสตร์เป็นวิชาที่เรียนยากมาก_2.mp4'\n",
      " 'สบายดี_2.mp4' 'สวัสดี_2.mp4' 'อยาก_2.mp4' 'เครียด_2.mp4' 'เดิน_2.mp4'\n",
      " 'เพลีย_2.mp4' 'เมื่อย_2.mp4' 'เสียใจ_2.mp4' 'โรงเรียน_2.mp4' 'ไป_2.mp4']\n",
      "['ขยัน_1.mp4' 'ขอบคุณ_1.mp4' 'ขอโทษ_1.mp4' 'ขี้เกียจ_1.mp4' 'ขโมย_1.mp4'\n",
      " 'คิดถึง_1.mp4' 'คุณ_1.mp4'\n",
      " 'คุณช่วยแปลภาษาอังกฤษเป็นภาษาไทยให้ฉันด้วย_1.mp4'\n",
      " 'คุณพรุ่งนี้อย่าลืมส่งการบ้านคณิตศาสตร์ให้ครู_1.mp4' 'ฉัน_1.mp4'\n",
      " 'ฉันตื่นนอน6โมงเช้าทุกวัน_1.mp4'\n",
      " 'ฉันฝึกเขียนภาษาไทยจนเขียนได้ดีขึ้น_1.mp4' 'ชอบ_1.mp4' 'ดีใจ_1.mp4'\n",
      " 'น่ารัก_1.mp4' 'น้อง_1.mp4' 'บ้าน_1.mp4'\n",
      " 'ภาษาอังกฤษเป็นเรื่องยากสำหรับคนหูหนวก_1.mp4' 'รถยนต์_1.mp4' 'รัก_1.mp4'\n",
      " 'ลาก่อน_1.mp4' 'วิชาคณิตศาสตร์เป็นวิชาที่เรียนยากมาก_1.mp4'\n",
      " 'สบายดี_1.mp4' 'สวัสดี_1.mp4' 'อยาก_1.mp4' 'เครียด_1.mp4' 'เดิน_1.mp4'\n",
      " 'เพลีย_1.mp4' 'เมื่อย_1.mp4' 'เสียใจ_1.mp4' 'โรงเรียน_1.mp4' 'ไป_1.mp4']\n"
     ]
    }
   ],
   "source": [
    "train_actions = np.array(train_video_list)\n",
    "print(train_actions)\n",
    "validate_actions = np.array(validate_video_list)\n",
    "print(validate_actions)\n",
    "test_actions = np.array(test_video_list)\n",
    "print(test_actions)"
   ]
  },
  {
   "cell_type": "code",
   "execution_count": 95,
   "metadata": {},
   "outputs": [
    {
     "name": "stdout",
     "output_type": "stream",
     "text": [
      "['Data for different actions/train/ขยัน.mp4/ขยัน.npy', 'Data for different actions/train/ขยัน_0.mp4/ขยัน_0.npy', 'Data for different actions/train/ขอบคุณ.mp4/ขอบคุณ.npy', 'Data for different actions/train/ขอบคุณ_0.mp4/ขอบคุณ_0.npy', 'Data for different actions/train/ขอโทษ.mp4/ขอโทษ.npy', 'Data for different actions/train/ขอโทษ_0.mp4/ขอโทษ_0.npy', 'Data for different actions/train/ขี้เกียจ.mp4/ขี้เกียจ.npy', 'Data for different actions/train/ขี้เกียจ_0.mp4/ขี้เกียจ_0.npy', 'Data for different actions/train/ขโมย.mp4/ขโมย.npy', 'Data for different actions/train/ขโมย_0.mp4/ขโมย_0.npy', 'Data for different actions/train/คิดถึง.mp4/คิดถึง.npy', 'Data for different actions/train/คิดถึง_0.mp4/คิดถึง_0.npy', 'Data for different actions/train/คุณ พรุ่งนี้อย่าลืมส่งการบ้านคณิตศาสตร์ให้ครู.mp4/คุณ พรุ่งนี้อย่าลืมส่งการบ้านคณิตศาสตร์ให้ครู.npy', 'Data for different actions/train/คุณ.mp4/คุณ.npy', 'Data for different actions/train/คุณ_0.mp4/คุณ_0.npy', 'Data for different actions/train/คุณช่วยแปลภาษาอังกฤษเป็นภาษาไทยให้ฉันด้วย.mp4/คุณช่วยแปลภาษาอังกฤษเป็นภาษาไทยให้ฉันด้วย.npy', 'Data for different actions/train/คุณช่วยแปลภาษาอังกฤษเป็นภาษาไทยให้ฉันด้วย_0.mp4/คุณช่วยแปลภาษาอังกฤษเป็นภาษาไทยให้ฉันด้วย_0.npy', 'Data for different actions/train/คุณพรุ่งนี้อย่าลืมส่งการบ้านคณิตศาสตร์ให้ครู_0.mp4/คุณพรุ่งนี้อย่าลืมส่งการบ้านคณิตศาสตร์ให้ครู_0.npy', 'Data for different actions/train/ฉัน.mp4/ฉัน.npy', 'Data for different actions/train/ฉัน_0.mp4/ฉัน_0.npy', 'Data for different actions/train/ฉันตื่นนอน 6 โมงเช้าทุกวัน.mp4/ฉันตื่นนอน 6 โมงเช้าทุกวัน.npy', 'Data for different actions/train/ฉันตื่นนอน6โมงเช้าทุกวัน_0.mp4/ฉันตื่นนอน6โมงเช้าทุกวัน_0.npy', 'Data for different actions/train/ฉันฝึกเขียนภาษาไทยจนเขียนได้ดีขึ้น.mp4/ฉันฝึกเขียนภาษาไทยจนเขียนได้ดีขึ้น.npy', 'Data for different actions/train/ฉันฝึกเขียนภาษาไทยจนเขียนได้ดีขึ้น_0.mp4/ฉันฝึกเขียนภาษาไทยจนเขียนได้ดีขึ้น_0.npy', 'Data for different actions/train/ชอบ.mp4/ชอบ.npy', 'Data for different actions/train/ชอบ_0.mp4/ชอบ_0.npy', 'Data for different actions/train/ดีใจ.mp4/ดีใจ.npy', 'Data for different actions/train/ดีใจ_0.mp4/ดีใจ_0.npy', 'Data for different actions/train/น่ารัก.mp4/น่ารัก.npy', 'Data for different actions/train/น่ารัก_0.mp4/น่ารัก_0.npy', 'Data for different actions/train/น้อง.mp4/น้อง.npy', 'Data for different actions/train/น้อง_0.mp4/น้อง_0.npy', 'Data for different actions/train/บ้าน.mp4/บ้าน.npy', 'Data for different actions/train/บ้าน_0.mp4/บ้าน_0.npy', 'Data for different actions/train/ภาษาอังกฤษเป็นเรื่องยากสำหรับคนหูหนวก.mp4/ภาษาอังกฤษเป็นเรื่องยากสำหรับคนหูหนวก.npy', 'Data for different actions/train/ภาษาอังกฤษเป็นเรื่องยากสำหรับคนหูหนวก_0.mp4/ภาษาอังกฤษเป็นเรื่องยากสำหรับคนหูหนวก_0.npy', 'Data for different actions/train/รถยนต์.mp4/รถยนต์.npy', 'Data for different actions/train/รถยนต์_0.mp4/รถยนต์_0.npy', 'Data for different actions/train/รัก.mp4/รัก.npy', 'Data for different actions/train/รัก_0.mp4/รัก_0.npy', 'Data for different actions/train/ลาก่อน.mp4/ลาก่อน.npy', 'Data for different actions/train/ลาก่อน_0.mp4/ลาก่อน_0.npy', 'Data for different actions/train/วิชาคณิตศาสตร์เป็นวิชาที่เรียนยากมาก.mp4/วิชาคณิตศาสตร์เป็นวิชาที่เรียนยากมาก.npy', 'Data for different actions/train/วิชาคณิตศาสตร์เป็นวิชาที่เรียนยากมาก_0.mp4/วิชาคณิตศาสตร์เป็นวิชาที่เรียนยากมาก_0.npy', 'Data for different actions/train/สบายดี.mp4/สบายดี.npy', 'Data for different actions/train/สบายดี_0.mp4/สบายดี_0.npy', 'Data for different actions/train/สวัสดี.mp4/สวัสดี.npy', 'Data for different actions/train/สวัสดี_0.mp4/สวัสดี_0.npy', 'Data for different actions/train/อยาก.mp4/อยาก.npy', 'Data for different actions/train/อยาก_0.mp4/อยาก_0.npy', 'Data for different actions/train/เครียด.mp4/เครียด.npy', 'Data for different actions/train/เครียด_0.mp4/เครียด_0.npy', 'Data for different actions/train/เดิน.mp4/เดิน.npy', 'Data for different actions/train/เดิน_0.mp4/เดิน_0.npy', 'Data for different actions/train/เพลีย.mp4/เพลีย.npy', 'Data for different actions/train/เพลีย_0.mp4/เพลีย_0.npy', 'Data for different actions/train/เมื่อย.mp4/เมื่อย.npy', 'Data for different actions/train/เมื่อย_0.mp4/เมื่อย_0.npy', 'Data for different actions/train/เสียใจ.mp4/เสียใจ.npy', 'Data for different actions/train/เสียใจ_0.mp4/เสียใจ_0.npy', 'Data for different actions/train/โรงเรียน.mp4/โรงเรียน.npy', 'Data for different actions/train/โรงเรียน_0.mp4/โรงเรียน_0.npy', 'Data for different actions/train/ไป.mp4/ไป.npy', 'Data for different actions/train/ไป_0.mp4/ไป_0.npy']\n"
     ]
    }
   ],
   "source": [
    "train_file_paths = []\n",
    "for action in train_actions:\n",
    "    video_path = os.path.join('Data for different actions/train/', action)\n",
    "    # print(video_path)\n",
    "    # print(action)\n",
    "    train_file_paths.append(video_path + '/' + action.split(\".\")[0] + \".npy\")\n",
    "print(train_file_paths)"
   ]
  },
  {
   "cell_type": "code",
   "execution_count": 96,
   "metadata": {},
   "outputs": [
    {
     "name": "stdout",
     "output_type": "stream",
     "text": [
      "['Data for different actions/validate/ขยัน_2.mp4/ขยัน_2.npy', 'Data for different actions/validate/ขอบคุณ_2.mp4/ขอบคุณ_2.npy', 'Data for different actions/validate/ขอโทษ_2.mp4/ขอโทษ_2.npy', 'Data for different actions/validate/ขี้เกียจ_2.mp4/ขี้เกียจ_2.npy', 'Data for different actions/validate/ขโมย_2.mp4/ขโมย_2.npy', 'Data for different actions/validate/คิดถึง_2.mp4/คิดถึง_2.npy', 'Data for different actions/validate/คุณ_2.mp4/คุณ_2.npy', 'Data for different actions/validate/คุณช่วยแปลภาษาอังกฤษเป็นภาษาไทยให้ฉันด้วย_2.mp4/คุณช่วยแปลภาษาอังกฤษเป็นภาษาไทยให้ฉันด้วย_2.npy', 'Data for different actions/validate/คุณพรุ่งนี้อย่าลืมส่งการบ้านคณิตศาสตร์ให้ครู_2.mp4/คุณพรุ่งนี้อย่าลืมส่งการบ้านคณิตศาสตร์ให้ครู_2.npy', 'Data for different actions/validate/ฉัน_2.mp4/ฉัน_2.npy', 'Data for different actions/validate/ฉันตื่นนอน6โมงเช้าทุกวัน_2.mp4/ฉันตื่นนอน6โมงเช้าทุกวัน_2.npy', 'Data for different actions/validate/ฉันฝึกเขียนภาษาไทยจนเขียนได้ดีขึ้น_2.mp4/ฉันฝึกเขียนภาษาไทยจนเขียนได้ดีขึ้น_2.npy', 'Data for different actions/validate/ชอบ_2.mp4/ชอบ_2.npy', 'Data for different actions/validate/ดีใจ_2.mp4/ดีใจ_2.npy', 'Data for different actions/validate/น่ารัก_2.mp4/น่ารัก_2.npy', 'Data for different actions/validate/น้อง_2.mp4/น้อง_2.npy', 'Data for different actions/validate/บ้าน_2.mp4/บ้าน_2.npy', 'Data for different actions/validate/ภาษาอังกฤษเป็นเรื่องยากสำหรับคนหูหนวก_2.mp4/ภาษาอังกฤษเป็นเรื่องยากสำหรับคนหูหนวก_2.npy', 'Data for different actions/validate/รถยนต์_2.mp4/รถยนต์_2.npy', 'Data for different actions/validate/รัก_2.mp4/รัก_2.npy', 'Data for different actions/validate/ลาก่อน_2.mp4/ลาก่อน_2.npy', 'Data for different actions/validate/วิชาคณิตศาสตร์เป็นวิชาที่เรียนยากมาก_2.mp4/วิชาคณิตศาสตร์เป็นวิชาที่เรียนยากมาก_2.npy', 'Data for different actions/validate/สบายดี_2.mp4/สบายดี_2.npy', 'Data for different actions/validate/สวัสดี_2.mp4/สวัสดี_2.npy', 'Data for different actions/validate/อยาก_2.mp4/อยาก_2.npy', 'Data for different actions/validate/เครียด_2.mp4/เครียด_2.npy', 'Data for different actions/validate/เดิน_2.mp4/เดิน_2.npy', 'Data for different actions/validate/เพลีย_2.mp4/เพลีย_2.npy', 'Data for different actions/validate/เมื่อย_2.mp4/เมื่อย_2.npy', 'Data for different actions/validate/เสียใจ_2.mp4/เสียใจ_2.npy', 'Data for different actions/validate/โรงเรียน_2.mp4/โรงเรียน_2.npy', 'Data for different actions/validate/ไป_2.mp4/ไป_2.npy']\n"
     ]
    }
   ],
   "source": [
    "validate_file_paths = []\n",
    "for action in validate_actions:\n",
    "    video_path = os.path.join('Data for different actions/validate/', action)\n",
    "    # print(video_path)\n",
    "    # print(action)\n",
    "    validate_file_paths.append(video_path + '/' + action.split(\".\")[0] + \".npy\")\n",
    "print(validate_file_paths)"
   ]
  },
  {
   "cell_type": "code",
   "execution_count": 97,
   "metadata": {},
   "outputs": [
    {
     "name": "stdout",
     "output_type": "stream",
     "text": [
      "['Data for different actions/test/ขยัน_1.mp4/ขยัน_1.npy', 'Data for different actions/test/ขอบคุณ_1.mp4/ขอบคุณ_1.npy', 'Data for different actions/test/ขอโทษ_1.mp4/ขอโทษ_1.npy', 'Data for different actions/test/ขี้เกียจ_1.mp4/ขี้เกียจ_1.npy', 'Data for different actions/test/ขโมย_1.mp4/ขโมย_1.npy', 'Data for different actions/test/คิดถึง_1.mp4/คิดถึง_1.npy', 'Data for different actions/test/คุณ_1.mp4/คุณ_1.npy', 'Data for different actions/test/คุณช่วยแปลภาษาอังกฤษเป็นภาษาไทยให้ฉันด้วย_1.mp4/คุณช่วยแปลภาษาอังกฤษเป็นภาษาไทยให้ฉันด้วย_1.npy', 'Data for different actions/test/คุณพรุ่งนี้อย่าลืมส่งการบ้านคณิตศาสตร์ให้ครู_1.mp4/คุณพรุ่งนี้อย่าลืมส่งการบ้านคณิตศาสตร์ให้ครู_1.npy', 'Data for different actions/test/ฉัน_1.mp4/ฉัน_1.npy', 'Data for different actions/test/ฉันตื่นนอน6โมงเช้าทุกวัน_1.mp4/ฉันตื่นนอน6โมงเช้าทุกวัน_1.npy', 'Data for different actions/test/ฉันฝึกเขียนภาษาไทยจนเขียนได้ดีขึ้น_1.mp4/ฉันฝึกเขียนภาษาไทยจนเขียนได้ดีขึ้น_1.npy', 'Data for different actions/test/ชอบ_1.mp4/ชอบ_1.npy', 'Data for different actions/test/ดีใจ_1.mp4/ดีใจ_1.npy', 'Data for different actions/test/น่ารัก_1.mp4/น่ารัก_1.npy', 'Data for different actions/test/น้อง_1.mp4/น้อง_1.npy', 'Data for different actions/test/บ้าน_1.mp4/บ้าน_1.npy', 'Data for different actions/test/ภาษาอังกฤษเป็นเรื่องยากสำหรับคนหูหนวก_1.mp4/ภาษาอังกฤษเป็นเรื่องยากสำหรับคนหูหนวก_1.npy', 'Data for different actions/test/รถยนต์_1.mp4/รถยนต์_1.npy', 'Data for different actions/test/รัก_1.mp4/รัก_1.npy', 'Data for different actions/test/ลาก่อน_1.mp4/ลาก่อน_1.npy', 'Data for different actions/test/วิชาคณิตศาสตร์เป็นวิชาที่เรียนยากมาก_1.mp4/วิชาคณิตศาสตร์เป็นวิชาที่เรียนยากมาก_1.npy', 'Data for different actions/test/สบายดี_1.mp4/สบายดี_1.npy', 'Data for different actions/test/สวัสดี_1.mp4/สวัสดี_1.npy', 'Data for different actions/test/อยาก_1.mp4/อยาก_1.npy', 'Data for different actions/test/เครียด_1.mp4/เครียด_1.npy', 'Data for different actions/test/เดิน_1.mp4/เดิน_1.npy', 'Data for different actions/test/เพลีย_1.mp4/เพลีย_1.npy', 'Data for different actions/test/เมื่อย_1.mp4/เมื่อย_1.npy', 'Data for different actions/test/เสียใจ_1.mp4/เสียใจ_1.npy', 'Data for different actions/test/โรงเรียน_1.mp4/โรงเรียน_1.npy', 'Data for different actions/test/ไป_1.mp4/ไป_1.npy']\n"
     ]
    }
   ],
   "source": [
    "test_file_paths = []\n",
    "for action in test_actions:\n",
    "    video_path = os.path.join('Data for different actions/test/', action)\n",
    "    # print(video_path)\n",
    "    # print(action)\n",
    "    test_file_paths.append(video_path + '/' + action.split(\".\")[0] + \".npy\")\n",
    "print(test_file_paths)"
   ]
  },
  {
   "cell_type": "code",
   "execution_count": 98,
   "metadata": {},
   "outputs": [],
   "source": [
    "import pandas as pd\n",
    "train_df = pd.read_csv(\"script2.csv\")\n",
    "validate_df = pd.read_csv(\"script2_validate.csv\")\n",
    "test_df = pd.read_csv(\"script2_test.csv\")"
   ]
  },
  {
   "cell_type": "code",
   "execution_count": 99,
   "metadata": {},
   "outputs": [],
   "source": [
    "train_labels = []\n",
    "validate_labels = []\n",
    "test_labels = []\n",
    "\n",
    "for i in range(len(train_df.label)):\n",
    "    train_labels.append(train_df.label[i])\n",
    "\n",
    "for i in range(len(validate_df.label)):\n",
    "    validate_labels.append(validate_df.label[i])\n",
    "\n",
    "for i in range(len(test_df.label)):\n",
    "    test_labels.append(test_df.label[i])"
   ]
  },
  {
   "cell_type": "code",
   "execution_count": 100,
   "metadata": {},
   "outputs": [
    {
     "name": "stdout",
     "output_type": "stream",
     "text": [
      "Train Label :  [0, 0, 1, 1, 2, 2, 3, 3, 4, 4, 5, 5, 6, 7, 7, 8, 8, 6, 9, 9, 10, 10, 11, 11, 12, 12, 13, 13, 14, 14, 15, 15, 16, 16, 17, 17, 18, 18, 19, 19, 20, 20, 21, 21, 22, 22, 23, 23, 24, 24, 25, 25, 26, 26, 27, 27, 28, 28, 29, 29, 30, 30, 31, 31]\n",
      "Validate Label :  [0, 1, 2, 3, 4, 5, 7, 8, 6, 9, 10, 11, 12, 13, 14, 15, 16, 17, 18, 19, 20, 21, 22, 23, 24, 25, 26, 27, 28, 29, 30, 31]\n",
      "Test Label :  [0, 1, 2, 3, 4, 5, 7, 8, 6, 9, 10, 11, 12, 13, 14, 15, 16, 17, 18, 19, 20, 21, 22, 23, 24, 25, 26, 27, 28, 29, 30, 31]\n"
     ]
    }
   ],
   "source": [
    "print(\"Train Label : \", train_labels)\n",
    "print(\"Validate Label : \",validate_labels)\n",
    "print(\"Test Label : \", test_labels)"
   ]
  },
  {
   "cell_type": "markdown",
   "metadata": {},
   "source": [
    "### Create Dataset"
   ]
  },
  {
   "cell_type": "code",
   "execution_count": 101,
   "metadata": {},
   "outputs": [],
   "source": [
    "import torch\n",
    "from torch.utils.data import DataLoader, Dataset\n",
    "from torch.nn.utils.rnn import pad_sequence\n",
    "\n",
    "# Create a custom dataset\n",
    "class KeypointDataset(Dataset):\n",
    "    def __init__(self, file_paths, labels):\n",
    "        self.file_paths = file_paths\n",
    "        self.labels = labels\n",
    "    \n",
    "    def __len__(self):\n",
    "        return len(self.file_paths)\n",
    "    \n",
    "    def __getitem__(self, idx):\n",
    "        keypoints = np.load(self.file_paths[idx])\n",
    "        label = self.labels[idx]\n",
    "        return torch.tensor(keypoints, dtype=torch.float32), label"
   ]
  },
  {
   "cell_type": "code",
   "execution_count": 102,
   "metadata": {},
   "outputs": [],
   "source": [
    "train_dataset = KeypointDataset(train_file_paths, train_labels)\n",
    "validate_dataset = KeypointDataset(validate_file_paths, validate_labels)\n",
    "test_dataset = KeypointDataset(test_file_paths, test_labels)"
   ]
  },
  {
   "cell_type": "code",
   "execution_count": 103,
   "metadata": {},
   "outputs": [
    {
     "data": {
      "text/plain": [
       "['Data for different actions/train/ขยัน.mp4/ขยัน.npy',\n",
       " 'Data for different actions/train/ขยัน_0.mp4/ขยัน_0.npy',\n",
       " 'Data for different actions/train/ขอบคุณ.mp4/ขอบคุณ.npy',\n",
       " 'Data for different actions/train/ขอบคุณ_0.mp4/ขอบคุณ_0.npy',\n",
       " 'Data for different actions/train/ขอโทษ.mp4/ขอโทษ.npy',\n",
       " 'Data for different actions/train/ขอโทษ_0.mp4/ขอโทษ_0.npy',\n",
       " 'Data for different actions/train/ขี้เกียจ.mp4/ขี้เกียจ.npy',\n",
       " 'Data for different actions/train/ขี้เกียจ_0.mp4/ขี้เกียจ_0.npy',\n",
       " 'Data for different actions/train/ขโมย.mp4/ขโมย.npy',\n",
       " 'Data for different actions/train/ขโมย_0.mp4/ขโมย_0.npy',\n",
       " 'Data for different actions/train/คิดถึง.mp4/คิดถึง.npy',\n",
       " 'Data for different actions/train/คิดถึง_0.mp4/คิดถึง_0.npy',\n",
       " 'Data for different actions/train/คุณ พรุ่งนี้อย่าลืมส่งการบ้านคณิตศาสตร์ให้ครู.mp4/คุณ พรุ่งนี้อย่าลืมส่งการบ้านคณิตศาสตร์ให้ครู.npy',\n",
       " 'Data for different actions/train/คุณ.mp4/คุณ.npy',\n",
       " 'Data for different actions/train/คุณ_0.mp4/คุณ_0.npy',\n",
       " 'Data for different actions/train/คุณช่วยแปลภาษาอังกฤษเป็นภาษาไทยให้ฉันด้วย.mp4/คุณช่วยแปลภาษาอังกฤษเป็นภาษาไทยให้ฉันด้วย.npy',\n",
       " 'Data for different actions/train/คุณช่วยแปลภาษาอังกฤษเป็นภาษาไทยให้ฉันด้วย_0.mp4/คุณช่วยแปลภาษาอังกฤษเป็นภาษาไทยให้ฉันด้วย_0.npy',\n",
       " 'Data for different actions/train/คุณพรุ่งนี้อย่าลืมส่งการบ้านคณิตศาสตร์ให้ครู_0.mp4/คุณพรุ่งนี้อย่าลืมส่งการบ้านคณิตศาสตร์ให้ครู_0.npy',\n",
       " 'Data for different actions/train/ฉัน.mp4/ฉัน.npy',\n",
       " 'Data for different actions/train/ฉัน_0.mp4/ฉัน_0.npy',\n",
       " 'Data for different actions/train/ฉันตื่นนอน 6 โมงเช้าทุกวัน.mp4/ฉันตื่นนอน 6 โมงเช้าทุกวัน.npy',\n",
       " 'Data for different actions/train/ฉันตื่นนอน6โมงเช้าทุกวัน_0.mp4/ฉันตื่นนอน6โมงเช้าทุกวัน_0.npy',\n",
       " 'Data for different actions/train/ฉันฝึกเขียนภาษาไทยจนเขียนได้ดีขึ้น.mp4/ฉันฝึกเขียนภาษาไทยจนเขียนได้ดีขึ้น.npy',\n",
       " 'Data for different actions/train/ฉันฝึกเขียนภาษาไทยจนเขียนได้ดีขึ้น_0.mp4/ฉันฝึกเขียนภาษาไทยจนเขียนได้ดีขึ้น_0.npy',\n",
       " 'Data for different actions/train/ชอบ.mp4/ชอบ.npy',\n",
       " 'Data for different actions/train/ชอบ_0.mp4/ชอบ_0.npy',\n",
       " 'Data for different actions/train/ดีใจ.mp4/ดีใจ.npy',\n",
       " 'Data for different actions/train/ดีใจ_0.mp4/ดีใจ_0.npy',\n",
       " 'Data for different actions/train/น่ารัก.mp4/น่ารัก.npy',\n",
       " 'Data for different actions/train/น่ารัก_0.mp4/น่ารัก_0.npy',\n",
       " 'Data for different actions/train/น้อง.mp4/น้อง.npy',\n",
       " 'Data for different actions/train/น้อง_0.mp4/น้อง_0.npy',\n",
       " 'Data for different actions/train/บ้าน.mp4/บ้าน.npy',\n",
       " 'Data for different actions/train/บ้าน_0.mp4/บ้าน_0.npy',\n",
       " 'Data for different actions/train/ภาษาอังกฤษเป็นเรื่องยากสำหรับคนหูหนวก.mp4/ภาษาอังกฤษเป็นเรื่องยากสำหรับคนหูหนวก.npy',\n",
       " 'Data for different actions/train/ภาษาอังกฤษเป็นเรื่องยากสำหรับคนหูหนวก_0.mp4/ภาษาอังกฤษเป็นเรื่องยากสำหรับคนหูหนวก_0.npy',\n",
       " 'Data for different actions/train/รถยนต์.mp4/รถยนต์.npy',\n",
       " 'Data for different actions/train/รถยนต์_0.mp4/รถยนต์_0.npy',\n",
       " 'Data for different actions/train/รัก.mp4/รัก.npy',\n",
       " 'Data for different actions/train/รัก_0.mp4/รัก_0.npy',\n",
       " 'Data for different actions/train/ลาก่อน.mp4/ลาก่อน.npy',\n",
       " 'Data for different actions/train/ลาก่อน_0.mp4/ลาก่อน_0.npy',\n",
       " 'Data for different actions/train/วิชาคณิตศาสตร์เป็นวิชาที่เรียนยากมาก.mp4/วิชาคณิตศาสตร์เป็นวิชาที่เรียนยากมาก.npy',\n",
       " 'Data for different actions/train/วิชาคณิตศาสตร์เป็นวิชาที่เรียนยากมาก_0.mp4/วิชาคณิตศาสตร์เป็นวิชาที่เรียนยากมาก_0.npy',\n",
       " 'Data for different actions/train/สบายดี.mp4/สบายดี.npy',\n",
       " 'Data for different actions/train/สบายดี_0.mp4/สบายดี_0.npy',\n",
       " 'Data for different actions/train/สวัสดี.mp4/สวัสดี.npy',\n",
       " 'Data for different actions/train/สวัสดี_0.mp4/สวัสดี_0.npy',\n",
       " 'Data for different actions/train/อยาก.mp4/อยาก.npy',\n",
       " 'Data for different actions/train/อยาก_0.mp4/อยาก_0.npy',\n",
       " 'Data for different actions/train/เครียด.mp4/เครียด.npy',\n",
       " 'Data for different actions/train/เครียด_0.mp4/เครียด_0.npy',\n",
       " 'Data for different actions/train/เดิน.mp4/เดิน.npy',\n",
       " 'Data for different actions/train/เดิน_0.mp4/เดิน_0.npy',\n",
       " 'Data for different actions/train/เพลีย.mp4/เพลีย.npy',\n",
       " 'Data for different actions/train/เพลีย_0.mp4/เพลีย_0.npy',\n",
       " 'Data for different actions/train/เมื่อย.mp4/เมื่อย.npy',\n",
       " 'Data for different actions/train/เมื่อย_0.mp4/เมื่อย_0.npy',\n",
       " 'Data for different actions/train/เสียใจ.mp4/เสียใจ.npy',\n",
       " 'Data for different actions/train/เสียใจ_0.mp4/เสียใจ_0.npy',\n",
       " 'Data for different actions/train/โรงเรียน.mp4/โรงเรียน.npy',\n",
       " 'Data for different actions/train/โรงเรียน_0.mp4/โรงเรียน_0.npy',\n",
       " 'Data for different actions/train/ไป.mp4/ไป.npy',\n",
       " 'Data for different actions/train/ไป_0.mp4/ไป_0.npy']"
      ]
     },
     "execution_count": 103,
     "metadata": {},
     "output_type": "execute_result"
    }
   ],
   "source": [
    "train_dataset.file_paths"
   ]
  },
  {
   "cell_type": "markdown",
   "metadata": {},
   "source": [
    "### Create DataLoader"
   ]
  },
  {
   "cell_type": "code",
   "execution_count": 104,
   "metadata": {},
   "outputs": [],
   "source": [
    "# Collate function for padding\n",
    "def collate_fn(batch):\n",
    "    sequences, labels = zip(*batch)\n",
    "    padded_sequences = pad_sequence(sequences, batch_first=True)\n",
    "    return padded_sequences, torch.tensor(labels)"
   ]
  },
  {
   "cell_type": "code",
   "execution_count": null,
   "metadata": {},
   "outputs": [],
   "source": [
    "# Create the DataLoader\n",
    "batch_size = 16\n",
    "train_loader = DataLoader(train_dataset, batch_size=batch_size, shuffle=False, collate_fn=collate_fn)\n",
    "val_loader = DataLoader(validate_dataset, batch_size=batch_size, shuffle=False, collate_fn=collate_fn)\n",
    "test_loader = DataLoader(test_dataset, batch_size=batch_size, shuffle=False, collate_fn=collate_fn)"
   ]
  },
  {
   "cell_type": "code",
   "execution_count": 106,
   "metadata": {},
   "outputs": [
    {
     "name": "stdout",
     "output_type": "stream",
     "text": [
      "tensor([[[0.5231, 0.2204, 0.5492,  ..., 0.1949, 0.5803, 0.1920],\n",
      "         [0.5231, 0.2217, 0.5492,  ..., 0.1941, 0.5789, 0.1916],\n",
      "         [0.5231, 0.2225, 0.5492,  ..., 0.1941, 0.5786, 0.1915],\n",
      "         ...,\n",
      "         [0.0000, 0.0000, 0.0000,  ..., 0.0000, 0.0000, 0.0000],\n",
      "         [0.0000, 0.0000, 0.0000,  ..., 0.0000, 0.0000, 0.0000],\n",
      "         [0.0000, 0.0000, 0.0000,  ..., 0.0000, 0.0000, 0.0000]],\n",
      "\n",
      "        [[0.5224, 0.0740, 0.5748,  ..., 0.0462, 0.6114, 0.0417],\n",
      "         [0.5224, 0.0758, 0.5738,  ..., 0.0454, 0.6121, 0.0411],\n",
      "         [0.5207, 0.0825, 0.5693,  ..., 0.0461, 0.6102, 0.0416],\n",
      "         ...,\n",
      "         [0.0000, 0.0000, 0.0000,  ..., 0.0000, 0.0000, 0.0000],\n",
      "         [0.0000, 0.0000, 0.0000,  ..., 0.0000, 0.0000, 0.0000],\n",
      "         [0.0000, 0.0000, 0.0000,  ..., 0.0000, 0.0000, 0.0000]],\n",
      "\n",
      "        [[0.5470, 0.2255, 0.5799,  ..., 0.1949, 0.6027, 0.1933],\n",
      "         [0.5460, 0.2252, 0.5788,  ..., 0.1957, 0.6033, 0.1936],\n",
      "         [0.5456, 0.2252, 0.5783,  ..., 0.1966, 0.6037, 0.1942],\n",
      "         ...,\n",
      "         [0.0000, 0.0000, 0.0000,  ..., 0.0000, 0.0000, 0.0000],\n",
      "         [0.0000, 0.0000, 0.0000,  ..., 0.0000, 0.0000, 0.0000],\n",
      "         [0.0000, 0.0000, 0.0000,  ..., 0.0000, 0.0000, 0.0000]],\n",
      "\n",
      "        ...,\n",
      "\n",
      "        [[0.4885, 0.0691, 0.5206,  ..., 0.0370, 0.5560, 0.0314],\n",
      "         [0.4896, 0.0679, 0.5216,  ..., 0.0381, 0.5552, 0.0328],\n",
      "         [0.4898, 0.0662, 0.5220,  ..., 0.0372, 0.5533, 0.0313],\n",
      "         ...,\n",
      "         [0.0000, 0.0000, 0.0000,  ..., 0.0000, 0.0000, 0.0000],\n",
      "         [0.0000, 0.0000, 0.0000,  ..., 0.0000, 0.0000, 0.0000],\n",
      "         [0.0000, 0.0000, 0.0000,  ..., 0.0000, 0.0000, 0.0000]],\n",
      "\n",
      "        [[0.4956, 0.2681, 0.5254,  ..., 0.2363, 0.5554, 0.2332],\n",
      "         [0.4948, 0.2681, 0.5253,  ..., 0.2359, 0.5540, 0.2333],\n",
      "         [0.4943, 0.2681, 0.5253,  ..., 0.2360, 0.5538, 0.2332],\n",
      "         ...,\n",
      "         [0.0000, 0.0000, 0.0000,  ..., 0.0000, 0.0000, 0.0000],\n",
      "         [0.0000, 0.0000, 0.0000,  ..., 0.0000, 0.0000, 0.0000],\n",
      "         [0.0000, 0.0000, 0.0000,  ..., 0.0000, 0.0000, 0.0000]],\n",
      "\n",
      "        [[0.4574, 0.1574, 0.4902,  ..., 0.0915, 0.5271, 0.0851],\n",
      "         [0.4556, 0.1573, 0.4893,  ..., 0.0921, 0.5278, 0.0859],\n",
      "         [0.4547, 0.1571, 0.4889,  ..., 0.0918, 0.5268, 0.0857],\n",
      "         ...,\n",
      "         [0.0000, 0.0000, 0.0000,  ..., 0.0000, 0.0000, 0.0000],\n",
      "         [0.0000, 0.0000, 0.0000,  ..., 0.0000, 0.0000, 0.0000],\n",
      "         [0.0000, 0.0000, 0.0000,  ..., 0.0000, 0.0000, 0.0000]]])\n",
      "tensor([ 0,  0,  1,  1,  2,  2,  3,  3,  4,  4,  5,  5,  6,  7,  7,  8,  8,  6,\n",
      "         9,  9, 10, 10, 11, 11, 12, 12, 13, 13, 14, 14, 15, 15])\n"
     ]
    }
   ],
   "source": [
    "for i, (data, label) in enumerate(train_loader):\n",
    "    print(data)\n",
    "    print(label)\n",
    "    break"
   ]
  },
  {
   "cell_type": "code",
   "execution_count": 107,
   "metadata": {},
   "outputs": [
    {
     "name": "stdout",
     "output_type": "stream",
     "text": [
      "torch.Size([32, 246, 1086])\n",
      "torch.Size([32])\n"
     ]
    }
   ],
   "source": [
    "print(data.shape)\n",
    "print(label.shape)"
   ]
  },
  {
   "cell_type": "code",
   "execution_count": 108,
   "metadata": {},
   "outputs": [
    {
     "name": "stdout",
     "output_type": "stream",
     "text": [
      "tensor([[0.5231, 0.2204, 0.5492,  ..., 0.1949, 0.5803, 0.1920],\n",
      "        [0.5231, 0.2217, 0.5492,  ..., 0.1941, 0.5789, 0.1916],\n",
      "        [0.5231, 0.2225, 0.5492,  ..., 0.1941, 0.5786, 0.1915],\n",
      "        ...,\n",
      "        [0.0000, 0.0000, 0.0000,  ..., 0.0000, 0.0000, 0.0000],\n",
      "        [0.0000, 0.0000, 0.0000,  ..., 0.0000, 0.0000, 0.0000],\n",
      "        [0.0000, 0.0000, 0.0000,  ..., 0.0000, 0.0000, 0.0000]])\n"
     ]
    }
   ],
   "source": [
    "print(data[0])"
   ]
  },
  {
   "cell_type": "code",
   "execution_count": 109,
   "metadata": {},
   "outputs": [],
   "source": [
    "# for i, (data, label) in enumerate(val_loader):\n",
    "#     print(data)\n",
    "#     print(label)\n",
    "#     break"
   ]
  },
  {
   "cell_type": "markdown",
   "metadata": {},
   "source": [
    "### Model"
   ]
  },
  {
   "cell_type": "code",
   "execution_count": 110,
   "metadata": {},
   "outputs": [
    {
     "name": "stdout",
     "output_type": "stream",
     "text": [
      "cuda\n"
     ]
    }
   ],
   "source": [
    "device = torch.device(\"cuda\" if torch.cuda.is_available() else \"cpu\")\n",
    "print(device)"
   ]
  },
  {
   "cell_type": "code",
   "execution_count": 111,
   "metadata": {},
   "outputs": [],
   "source": [
    "class PositionalEncoding(nn.Module):\n",
    "    def __init__(self, d_model, max_len=5000):\n",
    "        super(PositionalEncoding, self).__init__()\n",
    "        pe = torch.zeros(max_len, d_model)\n",
    "        position = torch.arange(0, max_len, dtype=torch.float).unsqueeze(1)\n",
    "        div_term = torch.exp(torch.arange(0, d_model, 2).float() * (-torch.log(torch.tensor(10000.0)) / d_model))\n",
    "        pe[:, 0::2] = torch.sin(position * div_term)\n",
    "        pe[:, 1::2] = torch.cos(position * div_term)\n",
    "        pe = pe.unsqueeze(0).transpose(0, 1)\n",
    "        self.register_buffer('pe', pe)\n",
    "\n",
    "    def forward(self, x):\n",
    "        x = x + self.pe[:x.size(0), :]\n",
    "        return x"
   ]
  },
  {
   "cell_type": "code",
   "execution_count": 112,
   "metadata": {},
   "outputs": [],
   "source": [
    "class SignLanguageModel(nn.Module):\n",
    "    def __init__(self, input_dim, n_heads, hidden_dim, n_layers, num_classes):\n",
    "        super(SignLanguageModel, self).__init__()\n",
    "        self.pos_encoder = PositionalEncoding(input_dim)\n",
    "        self.multihead_attn = nn.MultiheadAttention(embed_dim=input_dim, num_heads=n_heads)\n",
    "        self.normalize_layer_1 = nn.LayerNorm(normalized_shape=input_dim, eps=1e-05)\n",
    "        # self.bilstm = nn.LSTM(input_size=input_dim, hidden_size=hidden_dim, num_layers=n_layers, bidirectional=True, batch_first=True)\n",
    "        self.fc1 = nn.Linear(input_dim, input_dim)\n",
    "        self.normalize_layer_2 = nn.LayerNorm(normalized_shape=input_dim, eps=1e-05)\n",
    "        self.fc2 = nn.Linear(input_dim, num_classes)\n",
    "        self.softmax = nn.Softmax(dim=-1)\n",
    "\n",
    "        # self.softmax = nn.Softmax(dim=-1)\n",
    "\n",
    "    def forward(self, x):\n",
    "        # Positional Encoding\n",
    "        x = self.pos_encoder(x)\n",
    "\n",
    "        attn_output, attn_output_weights = self.multihead_attn(x,x,x)\n",
    "        \n",
    "        normalize_attn_1 = self.normalize_layer_1(attn_output + x)\n",
    "\n",
    "        # outbilstm, _ = self.bilstm(normalize_attn_1)\n",
    "\n",
    "        out_linear = self.fc1(normalize_attn_1)\n",
    "\n",
    "        normalize_attn_2 = self.normalize_layer_2(out_linear + normalize_attn_1)\n",
    "\n",
    "        x = self.fc2(normalize_attn_2)\n",
    "\n",
    "        # x = self.softmax(x)\n",
    "        # x = torch.argmax(x)\n",
    "        # x = x[-1]\n",
    "        x = x.mean(dim=1)\n",
    "        \n",
    "        return x"
   ]
  },
  {
   "cell_type": "code",
   "execution_count": 113,
   "metadata": {},
   "outputs": [],
   "source": [
    "# Model Parameters\n",
    "input_dim = 1086\n",
    "# d_model = 512\n",
    "n_heads = 6\n",
    "hidden_dim = 64\n",
    "n_layers = 1\n",
    "num_classes = 32  # Example number, change based on actual classes"
   ]
  },
  {
   "cell_type": "code",
   "execution_count": 114,
   "metadata": {},
   "outputs": [],
   "source": [
    "model = SignLanguageModel(input_dim, n_heads, hidden_dim, n_layers, num_classes).to(device)"
   ]
  },
  {
   "cell_type": "code",
   "execution_count": 115,
   "metadata": {},
   "outputs": [
    {
     "data": {
      "text/plain": [
       "tensor(0.6413)"
      ]
     },
     "execution_count": 115,
     "metadata": {},
     "output_type": "execute_result"
    }
   ],
   "source": [
    "data[0][1][58]"
   ]
  },
  {
   "cell_type": "code",
   "execution_count": 116,
   "metadata": {},
   "outputs": [],
   "source": [
    "x = model(data.to(device))"
   ]
  },
  {
   "cell_type": "code",
   "execution_count": 117,
   "metadata": {},
   "outputs": [
    {
     "data": {
      "text/plain": [
       "torch.Size([32, 32])"
      ]
     },
     "execution_count": 117,
     "metadata": {},
     "output_type": "execute_result"
    }
   ],
   "source": [
    "x.shape"
   ]
  },
  {
   "cell_type": "code",
   "execution_count": 118,
   "metadata": {},
   "outputs": [
    {
     "name": "stdout",
     "output_type": "stream",
     "text": [
      "torch.Size([32, 32])\n"
     ]
    }
   ],
   "source": [
    "# x=x.permute(1,2,0)\n",
    "print(x.shape)"
   ]
  },
  {
   "cell_type": "code",
   "execution_count": 119,
   "metadata": {},
   "outputs": [
    {
     "data": {
      "text/plain": [
       "tensor([[-0.5868, -0.8509, -1.0120,  ..., -0.4310, -0.7482, -0.1386],\n",
       "        [-0.7205, -0.5387, -0.8281,  ..., -0.1403, -1.1898,  0.0985],\n",
       "        [-1.1191, -0.4347, -0.6068,  ..., -0.1544, -1.4918,  0.4581],\n",
       "        ...,\n",
       "        [ 0.6822, -0.1013,  0.7459,  ..., -0.1730, -0.9166,  0.0233],\n",
       "        [ 0.7218, -0.2199,  0.7132,  ...,  0.1125, -1.0025, -0.0491],\n",
       "        [ 0.6801, -0.2381,  0.7287,  ...,  0.4104, -1.0572, -0.1306]],\n",
       "       device='cuda:0', grad_fn=<MeanBackward1>)"
      ]
     },
     "execution_count": 119,
     "metadata": {},
     "output_type": "execute_result"
    }
   ],
   "source": [
    "x"
   ]
  },
  {
   "cell_type": "code",
   "execution_count": 120,
   "metadata": {},
   "outputs": [],
   "source": [
    "# x = x.sum(dim=0)"
   ]
  },
  {
   "cell_type": "code",
   "execution_count": 121,
   "metadata": {},
   "outputs": [
    {
     "data": {
      "text/plain": [
       "torch.Size([32, 32])"
      ]
     },
     "execution_count": 121,
     "metadata": {},
     "output_type": "execute_result"
    }
   ],
   "source": [
    "x.shape"
   ]
  },
  {
   "cell_type": "code",
   "execution_count": 122,
   "metadata": {},
   "outputs": [
    {
     "data": {
      "text/plain": [
       "tensor(412, device='cuda:0')"
      ]
     },
     "execution_count": 122,
     "metadata": {},
     "output_type": "execute_result"
    }
   ],
   "source": [
    "torch.argmax(x)"
   ]
  },
  {
   "cell_type": "code",
   "execution_count": 123,
   "metadata": {},
   "outputs": [],
   "source": [
    "# # Initialize positional encoding with d_model=1086\n",
    "# pos_encoding = PositionalEncoding(d_model=1086, max_len=246)"
   ]
  },
  {
   "cell_type": "code",
   "execution_count": 124,
   "metadata": {},
   "outputs": [],
   "source": [
    "# output = pos_encoding(data)\n",
    "# print(output[0])"
   ]
  },
  {
   "cell_type": "code",
   "execution_count": 125,
   "metadata": {},
   "outputs": [],
   "source": [
    "# print(data[0])\n",
    "# print(output[0])"
   ]
  },
  {
   "cell_type": "code",
   "execution_count": 126,
   "metadata": {},
   "outputs": [],
   "source": [
    "criterion = nn.CrossEntropyLoss()  # For multi-class classification \n",
    "optimizer = optim.Adam(model.parameters(), lr=0.0001)"
   ]
  },
  {
   "cell_type": "code",
   "execution_count": 127,
   "metadata": {},
   "outputs": [
    {
     "name": "stdout",
     "output_type": "stream",
     "text": [
      "Epoch [1/100], Loss: 4.2262, Accuracy: 0.00%, F1 Score: 0.00, Recall: 0.00\n",
      "Validation Loss: 3.6799, Accuracy: 6.25%, F1 Score: 0.03, Recall: 0.06\n",
      "Epoch [2/100], Loss: 3.8562, Accuracy: 9.38%, F1 Score: 0.03, Recall: 0.09\n",
      "Validation Loss: 3.6213, Accuracy: 3.12%, F1 Score: 0.01, Recall: 0.03\n",
      "Epoch [3/100], Loss: 3.4313, Accuracy: 9.38%, F1 Score: 0.03, Recall: 0.09\n",
      "Validation Loss: 3.5905, Accuracy: 3.12%, F1 Score: 0.03, Recall: 0.03\n",
      "Epoch [4/100], Loss: 3.0849, Accuracy: 23.44%, F1 Score: 0.14, Recall: 0.23\n",
      "Validation Loss: 3.5814, Accuracy: 0.00%, F1 Score: 0.00, Recall: 0.00\n",
      "Epoch [5/100], Loss: 2.8006, Accuracy: 23.44%, F1 Score: 0.13, Recall: 0.23\n",
      "Validation Loss: 3.5813, Accuracy: 0.00%, F1 Score: 0.00, Recall: 0.00\n",
      "Epoch [6/100], Loss: 2.5678, Accuracy: 28.12%, F1 Score: 0.18, Recall: 0.28\n",
      "Validation Loss: 3.6065, Accuracy: 3.12%, F1 Score: 0.03, Recall: 0.03\n",
      "Epoch [7/100], Loss: 2.3761, Accuracy: 32.81%, F1 Score: 0.22, Recall: 0.33\n",
      "Validation Loss: 3.6560, Accuracy: 3.12%, F1 Score: 0.02, Recall: 0.03\n",
      "Epoch [8/100], Loss: 2.2013, Accuracy: 37.50%, F1 Score: 0.26, Recall: 0.38\n",
      "Validation Loss: 3.7226, Accuracy: 3.12%, F1 Score: 0.02, Recall: 0.03\n",
      "Epoch [9/100], Loss: 2.0347, Accuracy: 46.88%, F1 Score: 0.34, Recall: 0.47\n",
      "Validation Loss: 3.8129, Accuracy: 3.12%, F1 Score: 0.02, Recall: 0.03\n",
      "Epoch [10/100], Loss: 1.8858, Accuracy: 50.00%, F1 Score: 0.39, Recall: 0.50\n",
      "Validation Loss: 3.9326, Accuracy: 3.12%, F1 Score: 0.03, Recall: 0.03\n",
      "Epoch [11/100], Loss: 1.7572, Accuracy: 56.25%, F1 Score: 0.46, Recall: 0.56\n",
      "Validation Loss: 4.0720, Accuracy: 3.12%, F1 Score: 0.02, Recall: 0.03\n",
      "Epoch [12/100], Loss: 1.6390, Accuracy: 59.38%, F1 Score: 0.49, Recall: 0.59\n",
      "Validation Loss: 4.2197, Accuracy: 3.12%, F1 Score: 0.02, Recall: 0.03\n",
      "Epoch [13/100], Loss: 1.5199, Accuracy: 60.94%, F1 Score: 0.51, Recall: 0.61\n",
      "Validation Loss: 4.3722, Accuracy: 3.12%, F1 Score: 0.02, Recall: 0.03\n",
      "Epoch [14/100], Loss: 1.3991, Accuracy: 70.31%, F1 Score: 0.64, Recall: 0.70\n",
      "Validation Loss: 4.5232, Accuracy: 3.12%, F1 Score: 0.02, Recall: 0.03\n",
      "Epoch [15/100], Loss: 1.2828, Accuracy: 78.12%, F1 Score: 0.73, Recall: 0.78\n",
      "Validation Loss: 4.6655, Accuracy: 6.25%, F1 Score: 0.04, Recall: 0.06\n",
      "Epoch [16/100], Loss: 1.1797, Accuracy: 84.38%, F1 Score: 0.81, Recall: 0.84\n",
      "Validation Loss: 4.7969, Accuracy: 3.12%, F1 Score: 0.02, Recall: 0.03\n",
      "Epoch [17/100], Loss: 1.0954, Accuracy: 92.19%, F1 Score: 0.91, Recall: 0.92\n",
      "Validation Loss: 4.9187, Accuracy: 3.12%, F1 Score: 0.02, Recall: 0.03\n",
      "Epoch [18/100], Loss: 1.0299, Accuracy: 95.31%, F1 Score: 0.94, Recall: 0.95\n",
      "Validation Loss: 5.0314, Accuracy: 3.12%, F1 Score: 0.02, Recall: 0.03\n",
      "Epoch [19/100], Loss: 0.9791, Accuracy: 95.31%, F1 Score: 0.94, Recall: 0.95\n",
      "Validation Loss: 5.1328, Accuracy: 0.00%, F1 Score: 0.00, Recall: 0.00\n",
      "Epoch [20/100], Loss: 0.9343, Accuracy: 96.88%, F1 Score: 0.96, Recall: 0.97\n",
      "Validation Loss: 5.2220, Accuracy: 0.00%, F1 Score: 0.00, Recall: 0.00\n",
      "Epoch [21/100], Loss: 0.8872, Accuracy: 98.44%, F1 Score: 0.98, Recall: 0.98\n",
      "Validation Loss: 5.3013, Accuracy: 3.12%, F1 Score: 0.02, Recall: 0.03\n",
      "Epoch [22/100], Loss: 0.8321, Accuracy: 98.44%, F1 Score: 0.98, Recall: 0.98\n",
      "Validation Loss: 5.3730, Accuracy: 3.12%, F1 Score: 0.02, Recall: 0.03\n",
      "Epoch [23/100], Loss: 0.7688, Accuracy: 98.44%, F1 Score: 0.98, Recall: 0.98\n",
      "Validation Loss: 5.4371, Accuracy: 3.12%, F1 Score: 0.02, Recall: 0.03\n",
      "Epoch [24/100], Loss: 0.7026, Accuracy: 98.44%, F1 Score: 0.98, Recall: 0.98\n",
      "Validation Loss: 5.4932, Accuracy: 3.12%, F1 Score: 0.02, Recall: 0.03\n",
      "Epoch [25/100], Loss: 0.6399, Accuracy: 98.44%, F1 Score: 0.98, Recall: 0.98\n",
      "Validation Loss: 5.5419, Accuracy: 3.12%, F1 Score: 0.02, Recall: 0.03\n",
      "Epoch [26/100], Loss: 0.5834, Accuracy: 98.44%, F1 Score: 0.98, Recall: 0.98\n",
      "Validation Loss: 5.5839, Accuracy: 3.12%, F1 Score: 0.02, Recall: 0.03\n",
      "Epoch [27/100], Loss: 0.5323, Accuracy: 100.00%, F1 Score: 1.00, Recall: 1.00\n",
      "Validation Loss: 5.6198, Accuracy: 3.12%, F1 Score: 0.02, Recall: 0.03\n",
      "Epoch [28/100], Loss: 0.4849, Accuracy: 100.00%, F1 Score: 1.00, Recall: 1.00\n",
      "Validation Loss: 5.6511, Accuracy: 3.12%, F1 Score: 0.02, Recall: 0.03\n",
      "Epoch [29/100], Loss: 0.4407, Accuracy: 100.00%, F1 Score: 1.00, Recall: 1.00\n",
      "Validation Loss: 5.6787, Accuracy: 3.12%, F1 Score: 0.02, Recall: 0.03\n",
      "Epoch [30/100], Loss: 0.3999, Accuracy: 100.00%, F1 Score: 1.00, Recall: 1.00\n",
      "Validation Loss: 5.7029, Accuracy: 3.12%, F1 Score: 0.02, Recall: 0.03\n",
      "Epoch [31/100], Loss: 0.3628, Accuracy: 100.00%, F1 Score: 1.00, Recall: 1.00\n",
      "Validation Loss: 5.7251, Accuracy: 3.12%, F1 Score: 0.02, Recall: 0.03\n",
      "Epoch [32/100], Loss: 0.3298, Accuracy: 100.00%, F1 Score: 1.00, Recall: 1.00\n",
      "Validation Loss: 5.7486, Accuracy: 3.12%, F1 Score: 0.02, Recall: 0.03\n",
      "Epoch [33/100], Loss: 0.3012, Accuracy: 100.00%, F1 Score: 1.00, Recall: 1.00\n",
      "Validation Loss: 5.7740, Accuracy: 3.12%, F1 Score: 0.02, Recall: 0.03\n",
      "Epoch [34/100], Loss: 0.2768, Accuracy: 100.00%, F1 Score: 1.00, Recall: 1.00\n",
      "Validation Loss: 5.8008, Accuracy: 3.12%, F1 Score: 0.02, Recall: 0.03\n",
      "Epoch [35/100], Loss: 0.2561, Accuracy: 100.00%, F1 Score: 1.00, Recall: 1.00\n",
      "Validation Loss: 5.8308, Accuracy: 3.12%, F1 Score: 0.02, Recall: 0.03\n",
      "Epoch [36/100], Loss: 0.2380, Accuracy: 100.00%, F1 Score: 1.00, Recall: 1.00\n",
      "Validation Loss: 5.8642, Accuracy: 3.12%, F1 Score: 0.02, Recall: 0.03\n",
      "Epoch [37/100], Loss: 0.2218, Accuracy: 100.00%, F1 Score: 1.00, Recall: 1.00\n",
      "Validation Loss: 5.8993, Accuracy: 3.12%, F1 Score: 0.02, Recall: 0.03\n",
      "Epoch [38/100], Loss: 0.2073, Accuracy: 100.00%, F1 Score: 1.00, Recall: 1.00\n",
      "Validation Loss: 5.9392, Accuracy: 3.12%, F1 Score: 0.02, Recall: 0.03\n",
      "Epoch [39/100], Loss: 0.1941, Accuracy: 100.00%, F1 Score: 1.00, Recall: 1.00\n",
      "Validation Loss: 5.9854, Accuracy: 3.12%, F1 Score: 0.02, Recall: 0.03\n",
      "Epoch [40/100], Loss: 0.1821, Accuracy: 100.00%, F1 Score: 1.00, Recall: 1.00\n",
      "Validation Loss: 6.0345, Accuracy: 3.12%, F1 Score: 0.02, Recall: 0.03\n",
      "Epoch [41/100], Loss: 0.1712, Accuracy: 100.00%, F1 Score: 1.00, Recall: 1.00\n",
      "Validation Loss: 6.0854, Accuracy: 3.12%, F1 Score: 0.02, Recall: 0.03\n",
      "Epoch [42/100], Loss: 0.1613, Accuracy: 100.00%, F1 Score: 1.00, Recall: 1.00\n",
      "Validation Loss: 6.1358, Accuracy: 3.12%, F1 Score: 0.02, Recall: 0.03\n",
      "Epoch [43/100], Loss: 0.1524, Accuracy: 100.00%, F1 Score: 1.00, Recall: 1.00\n",
      "Validation Loss: 6.1807, Accuracy: 3.12%, F1 Score: 0.02, Recall: 0.03\n",
      "Epoch [44/100], Loss: 0.1444, Accuracy: 100.00%, F1 Score: 1.00, Recall: 1.00\n",
      "Validation Loss: 6.2207, Accuracy: 3.12%, F1 Score: 0.02, Recall: 0.03\n",
      "Epoch [45/100], Loss: 0.1370, Accuracy: 100.00%, F1 Score: 1.00, Recall: 1.00\n",
      "Validation Loss: 6.2546, Accuracy: 3.12%, F1 Score: 0.02, Recall: 0.03\n",
      "Epoch [46/100], Loss: 0.1302, Accuracy: 100.00%, F1 Score: 1.00, Recall: 1.00\n",
      "Validation Loss: 6.2832, Accuracy: 3.12%, F1 Score: 0.02, Recall: 0.03\n",
      "Epoch [47/100], Loss: 0.1237, Accuracy: 100.00%, F1 Score: 1.00, Recall: 1.00\n",
      "Validation Loss: 6.3101, Accuracy: 3.12%, F1 Score: 0.02, Recall: 0.03\n",
      "Epoch [48/100], Loss: 0.1176, Accuracy: 100.00%, F1 Score: 1.00, Recall: 1.00\n",
      "Validation Loss: 6.3344, Accuracy: 3.12%, F1 Score: 0.02, Recall: 0.03\n",
      "Epoch [49/100], Loss: 0.1118, Accuracy: 100.00%, F1 Score: 1.00, Recall: 1.00\n",
      "Validation Loss: 6.3565, Accuracy: 3.12%, F1 Score: 0.02, Recall: 0.03\n",
      "Epoch [50/100], Loss: 0.1064, Accuracy: 100.00%, F1 Score: 1.00, Recall: 1.00\n",
      "Validation Loss: 6.3762, Accuracy: 3.12%, F1 Score: 0.02, Recall: 0.03\n",
      "Epoch [51/100], Loss: 0.1014, Accuracy: 100.00%, F1 Score: 1.00, Recall: 1.00\n",
      "Validation Loss: 6.3932, Accuracy: 3.12%, F1 Score: 0.02, Recall: 0.03\n",
      "Epoch [52/100], Loss: 0.0968, Accuracy: 100.00%, F1 Score: 1.00, Recall: 1.00\n",
      "Validation Loss: 6.4089, Accuracy: 3.12%, F1 Score: 0.02, Recall: 0.03\n",
      "Epoch [53/100], Loss: 0.0924, Accuracy: 100.00%, F1 Score: 1.00, Recall: 1.00\n",
      "Validation Loss: 6.4240, Accuracy: 3.12%, F1 Score: 0.02, Recall: 0.03\n",
      "Epoch [54/100], Loss: 0.0884, Accuracy: 100.00%, F1 Score: 1.00, Recall: 1.00\n",
      "Validation Loss: 6.4389, Accuracy: 3.12%, F1 Score: 0.02, Recall: 0.03\n",
      "Epoch [55/100], Loss: 0.0847, Accuracy: 100.00%, F1 Score: 1.00, Recall: 1.00\n",
      "Validation Loss: 6.4545, Accuracy: 3.12%, F1 Score: 0.02, Recall: 0.03\n",
      "Epoch [56/100], Loss: 0.0812, Accuracy: 100.00%, F1 Score: 1.00, Recall: 1.00\n",
      "Validation Loss: 6.4708, Accuracy: 3.12%, F1 Score: 0.02, Recall: 0.03\n",
      "Epoch [57/100], Loss: 0.0779, Accuracy: 100.00%, F1 Score: 1.00, Recall: 1.00\n",
      "Validation Loss: 6.4877, Accuracy: 3.12%, F1 Score: 0.02, Recall: 0.03\n",
      "Epoch [58/100], Loss: 0.0748, Accuracy: 100.00%, F1 Score: 1.00, Recall: 1.00\n",
      "Validation Loss: 6.5050, Accuracy: 3.12%, F1 Score: 0.02, Recall: 0.03\n",
      "Epoch [59/100], Loss: 0.0719, Accuracy: 100.00%, F1 Score: 1.00, Recall: 1.00\n",
      "Validation Loss: 6.5224, Accuracy: 3.12%, F1 Score: 0.02, Recall: 0.03\n",
      "Epoch [60/100], Loss: 0.0692, Accuracy: 100.00%, F1 Score: 1.00, Recall: 1.00\n",
      "Validation Loss: 6.5394, Accuracy: 3.12%, F1 Score: 0.02, Recall: 0.03\n",
      "Epoch [61/100], Loss: 0.0667, Accuracy: 100.00%, F1 Score: 1.00, Recall: 1.00\n",
      "Validation Loss: 6.5560, Accuracy: 3.12%, F1 Score: 0.02, Recall: 0.03\n",
      "Epoch [62/100], Loss: 0.0643, Accuracy: 100.00%, F1 Score: 1.00, Recall: 1.00\n",
      "Validation Loss: 6.5719, Accuracy: 3.12%, F1 Score: 0.02, Recall: 0.03\n",
      "Epoch [63/100], Loss: 0.0621, Accuracy: 100.00%, F1 Score: 1.00, Recall: 1.00\n",
      "Validation Loss: 6.5869, Accuracy: 3.12%, F1 Score: 0.02, Recall: 0.03\n",
      "Epoch [64/100], Loss: 0.0600, Accuracy: 100.00%, F1 Score: 1.00, Recall: 1.00\n",
      "Validation Loss: 6.6014, Accuracy: 3.12%, F1 Score: 0.02, Recall: 0.03\n",
      "Epoch [65/100], Loss: 0.0580, Accuracy: 100.00%, F1 Score: 1.00, Recall: 1.00\n",
      "Validation Loss: 6.6155, Accuracy: 3.12%, F1 Score: 0.02, Recall: 0.03\n",
      "Epoch [66/100], Loss: 0.0562, Accuracy: 100.00%, F1 Score: 1.00, Recall: 1.00\n",
      "Validation Loss: 6.6291, Accuracy: 3.12%, F1 Score: 0.02, Recall: 0.03\n",
      "Epoch [67/100], Loss: 0.0544, Accuracy: 100.00%, F1 Score: 1.00, Recall: 1.00\n",
      "Validation Loss: 6.6427, Accuracy: 3.12%, F1 Score: 0.02, Recall: 0.03\n",
      "Epoch [68/100], Loss: 0.0527, Accuracy: 100.00%, F1 Score: 1.00, Recall: 1.00\n",
      "Validation Loss: 6.6561, Accuracy: 3.12%, F1 Score: 0.02, Recall: 0.03\n",
      "Epoch [69/100], Loss: 0.0511, Accuracy: 100.00%, F1 Score: 1.00, Recall: 1.00\n",
      "Validation Loss: 6.6691, Accuracy: 3.12%, F1 Score: 0.02, Recall: 0.03\n",
      "Epoch [70/100], Loss: 0.0495, Accuracy: 100.00%, F1 Score: 1.00, Recall: 1.00\n",
      "Validation Loss: 6.6820, Accuracy: 3.12%, F1 Score: 0.02, Recall: 0.03\n",
      "Epoch [71/100], Loss: 0.0481, Accuracy: 100.00%, F1 Score: 1.00, Recall: 1.00\n",
      "Validation Loss: 6.6946, Accuracy: 3.12%, F1 Score: 0.02, Recall: 0.03\n",
      "Epoch [72/100], Loss: 0.0467, Accuracy: 100.00%, F1 Score: 1.00, Recall: 1.00\n",
      "Validation Loss: 6.7071, Accuracy: 3.12%, F1 Score: 0.02, Recall: 0.03\n",
      "Epoch [73/100], Loss: 0.0454, Accuracy: 100.00%, F1 Score: 1.00, Recall: 1.00\n",
      "Validation Loss: 6.7194, Accuracy: 3.12%, F1 Score: 0.02, Recall: 0.03\n",
      "Epoch [74/100], Loss: 0.0441, Accuracy: 100.00%, F1 Score: 1.00, Recall: 1.00\n",
      "Validation Loss: 6.7317, Accuracy: 3.12%, F1 Score: 0.02, Recall: 0.03\n",
      "Epoch [75/100], Loss: 0.0429, Accuracy: 100.00%, F1 Score: 1.00, Recall: 1.00\n",
      "Validation Loss: 6.7438, Accuracy: 3.12%, F1 Score: 0.02, Recall: 0.03\n",
      "Epoch [76/100], Loss: 0.0418, Accuracy: 100.00%, F1 Score: 1.00, Recall: 1.00\n",
      "Validation Loss: 6.7558, Accuracy: 3.12%, F1 Score: 0.02, Recall: 0.03\n",
      "Epoch [77/100], Loss: 0.0406, Accuracy: 100.00%, F1 Score: 1.00, Recall: 1.00\n",
      "Validation Loss: 6.7678, Accuracy: 3.12%, F1 Score: 0.02, Recall: 0.03\n",
      "Epoch [78/100], Loss: 0.0396, Accuracy: 100.00%, F1 Score: 1.00, Recall: 1.00\n",
      "Validation Loss: 6.7795, Accuracy: 3.12%, F1 Score: 0.02, Recall: 0.03\n",
      "Epoch [79/100], Loss: 0.0386, Accuracy: 100.00%, F1 Score: 1.00, Recall: 1.00\n",
      "Validation Loss: 6.7911, Accuracy: 3.12%, F1 Score: 0.02, Recall: 0.03\n",
      "Epoch [80/100], Loss: 0.0376, Accuracy: 100.00%, F1 Score: 1.00, Recall: 1.00\n",
      "Validation Loss: 6.8025, Accuracy: 3.12%, F1 Score: 0.02, Recall: 0.03\n",
      "Epoch [81/100], Loss: 0.0366, Accuracy: 100.00%, F1 Score: 1.00, Recall: 1.00\n",
      "Validation Loss: 6.8137, Accuracy: 3.12%, F1 Score: 0.02, Recall: 0.03\n",
      "Epoch [82/100], Loss: 0.0357, Accuracy: 100.00%, F1 Score: 1.00, Recall: 1.00\n",
      "Validation Loss: 6.8247, Accuracy: 3.12%, F1 Score: 0.02, Recall: 0.03\n",
      "Epoch [83/100], Loss: 0.0349, Accuracy: 100.00%, F1 Score: 1.00, Recall: 1.00\n",
      "Validation Loss: 6.8356, Accuracy: 3.12%, F1 Score: 0.02, Recall: 0.03\n",
      "Epoch [84/100], Loss: 0.0340, Accuracy: 100.00%, F1 Score: 1.00, Recall: 1.00\n",
      "Validation Loss: 6.8462, Accuracy: 3.12%, F1 Score: 0.02, Recall: 0.03\n",
      "Epoch [85/100], Loss: 0.0332, Accuracy: 100.00%, F1 Score: 1.00, Recall: 1.00\n",
      "Validation Loss: 6.8567, Accuracy: 3.12%, F1 Score: 0.02, Recall: 0.03\n",
      "Epoch [86/100], Loss: 0.0325, Accuracy: 100.00%, F1 Score: 1.00, Recall: 1.00\n",
      "Validation Loss: 6.8670, Accuracy: 3.12%, F1 Score: 0.02, Recall: 0.03\n",
      "Epoch [87/100], Loss: 0.0317, Accuracy: 100.00%, F1 Score: 1.00, Recall: 1.00\n",
      "Validation Loss: 6.8771, Accuracy: 3.12%, F1 Score: 0.02, Recall: 0.03\n",
      "Epoch [88/100], Loss: 0.0310, Accuracy: 100.00%, F1 Score: 1.00, Recall: 1.00\n",
      "Validation Loss: 6.8871, Accuracy: 3.12%, F1 Score: 0.02, Recall: 0.03\n",
      "Epoch [89/100], Loss: 0.0303, Accuracy: 100.00%, F1 Score: 1.00, Recall: 1.00\n",
      "Validation Loss: 6.8969, Accuracy: 3.12%, F1 Score: 0.02, Recall: 0.03\n",
      "Epoch [90/100], Loss: 0.0296, Accuracy: 100.00%, F1 Score: 1.00, Recall: 1.00\n",
      "Validation Loss: 6.9065, Accuracy: 3.12%, F1 Score: 0.02, Recall: 0.03\n",
      "Epoch [91/100], Loss: 0.0290, Accuracy: 100.00%, F1 Score: 1.00, Recall: 1.00\n",
      "Validation Loss: 6.9159, Accuracy: 3.12%, F1 Score: 0.02, Recall: 0.03\n",
      "Epoch [92/100], Loss: 0.0284, Accuracy: 100.00%, F1 Score: 1.00, Recall: 1.00\n",
      "Validation Loss: 6.9252, Accuracy: 3.12%, F1 Score: 0.02, Recall: 0.03\n",
      "Epoch [93/100], Loss: 0.0278, Accuracy: 100.00%, F1 Score: 1.00, Recall: 1.00\n",
      "Validation Loss: 6.9342, Accuracy: 3.12%, F1 Score: 0.02, Recall: 0.03\n",
      "Epoch [94/100], Loss: 0.0272, Accuracy: 100.00%, F1 Score: 1.00, Recall: 1.00\n",
      "Validation Loss: 6.9430, Accuracy: 3.12%, F1 Score: 0.02, Recall: 0.03\n",
      "Epoch [95/100], Loss: 0.0266, Accuracy: 100.00%, F1 Score: 1.00, Recall: 1.00\n",
      "Validation Loss: 6.9517, Accuracy: 3.12%, F1 Score: 0.02, Recall: 0.03\n",
      "Epoch [96/100], Loss: 0.0261, Accuracy: 100.00%, F1 Score: 1.00, Recall: 1.00\n",
      "Validation Loss: 6.9603, Accuracy: 3.12%, F1 Score: 0.02, Recall: 0.03\n",
      "Epoch [97/100], Loss: 0.0256, Accuracy: 100.00%, F1 Score: 1.00, Recall: 1.00\n",
      "Validation Loss: 6.9686, Accuracy: 3.12%, F1 Score: 0.02, Recall: 0.03\n",
      "Epoch [98/100], Loss: 0.0251, Accuracy: 100.00%, F1 Score: 1.00, Recall: 1.00\n",
      "Validation Loss: 6.9769, Accuracy: 3.12%, F1 Score: 0.02, Recall: 0.03\n",
      "Epoch [99/100], Loss: 0.0246, Accuracy: 100.00%, F1 Score: 1.00, Recall: 1.00\n",
      "Validation Loss: 6.9850, Accuracy: 3.12%, F1 Score: 0.02, Recall: 0.03\n",
      "Epoch [100/100], Loss: 0.0241, Accuracy: 100.00%, F1 Score: 1.00, Recall: 1.00\n",
      "Validation Loss: 6.9929, Accuracy: 3.12%, F1 Score: 0.02, Recall: 0.03\n",
      "Test Accuracy: 3.12%, F1 Score: 0.02, Recall: 0.03\n"
     ]
    }
   ],
   "source": [
    "from sklearn.metrics import f1_score, recall_score\n",
    "\n",
    "num_epochs = 100\n",
    "loss_logger = []\n",
    "accuracy_logger = []\n",
    "f1_logger = []\n",
    "recall_logger = []\n",
    "running_loss = 0.0 \n",
    "val_loss = []\n",
    "\n",
    "all_preds = []\n",
    "all_labels = []\n",
    "for epoch in range(num_epochs):\n",
    "    model.train()\n",
    "    total_correct = 0\n",
    "    total_samples = 0\n",
    "\n",
    "    # h = torch.zeros(num_layers, batch_size, hidden_size).to(device)\n",
    "    # c = torch.zeros(num_layers, batch_size, hidden_size).to(device)\n",
    "    \n",
    "    all_preds = []\n",
    "    all_labels = []\n",
    "\n",
    "    for i, (sequences, labels) in enumerate(train_loader):\n",
    "        sequences = sequences.to(device)\n",
    "        labels = labels.to(device)\n",
    "\n",
    "        # h = h.detach()\n",
    "        # c = c.detach()\n",
    "        \n",
    "        # Forward pass\n",
    "        outputs = model(sequences)\n",
    "        _, predicted = torch.max(outputs, 1)\n",
    "        # outputs = outputs.sum(dim=0)\n",
    "        loss = criterion(outputs, labels)\n",
    "\n",
    "        total_correct += (predicted == labels).sum().item()\n",
    "        total_samples += labels.size(0)\n",
    "\n",
    "        all_preds.extend(predicted.cpu().numpy())  # Store predictions\n",
    "        all_labels.extend(labels.cpu().numpy())    # Store true labels\n",
    "        \n",
    "        # Backward pass and optimization\n",
    "        optimizer.zero_grad()\n",
    "        loss.backward()\n",
    "        optimizer.step()\n",
    "\n",
    "    # Log training loss and accuracy\n",
    "    loss_logger.append(loss.item())\n",
    "    accuracy = 100 * total_correct / total_samples\n",
    "    accuracy_logger.append(accuracy)\n",
    "\n",
    "    # Calculate F1 score and recall for training set\n",
    "    f1 = f1_score(all_labels, all_preds, average='weighted', zero_division=1)\n",
    "    recall = recall_score(all_labels, all_preds, average='weighted', zero_division=1)\n",
    "    f1_logger.append(f1)\n",
    "    recall_logger.append(recall)\n",
    "\n",
    "    print(f'Epoch [{epoch+1}/{num_epochs}], Loss: {loss.item():.4f}, Accuracy: {accuracy:.2f}%, F1 Score: {f1:.2f}, Recall: {recall:.2f}')\n",
    "\n",
    "    # --- Validation Loop ---\n",
    "    model.eval()  # Set the model to evaluation mode\n",
    "    val_correct = 0\n",
    "    val_samples = 0\n",
    "    val_preds = []\n",
    "    val_labels = []\n",
    "    running_val_loss = 0.0  # Reset running loss for validation\n",
    "\n",
    "    with torch.no_grad():  # Disable gradient calculation for validation\n",
    "        # h_val = torch.zeros(num_layers, 5, hidden_size).to(device)\n",
    "        # c_val = torch.zeros(num_layers, 5, hidden_size).to(device)\n",
    "\n",
    "        for sequences, labels in val_loader:\n",
    "            sequences = sequences.to(device)\n",
    "            labels = labels.to(device)\n",
    "\n",
    "            # Forward pass\n",
    "            outputs = model(sequences)\n",
    "            loss = criterion(outputs, labels) \n",
    "            running_val_loss += loss.item() \n",
    "\n",
    "            _, predicted = torch.max(outputs, 1)\n",
    "            val_correct += (predicted == labels).sum().item()\n",
    "            val_samples += labels.size(0)\n",
    "\n",
    "            val_preds.extend(predicted.cpu().numpy())\n",
    "            val_labels.extend(labels.cpu().numpy())\n",
    "\n",
    "        avg_val_loss = running_val_loss / len(val_loader)  # Average validation loss\n",
    "        val_loss.append(avg_val_loss)  # Log validation loss\n",
    "\n",
    "        val_accuracy = 100 * val_correct / val_samples\n",
    "        val_f1 = f1_score(val_labels, val_preds, average='weighted', zero_division=1 )\n",
    "        val_recall = recall_score(val_labels, val_preds, average='weighted', zero_division=1)\n",
    "\n",
    "        print(f'Validation Loss: {avg_val_loss:.4f}, Accuracy: {val_accuracy:.2f}%, F1 Score: {val_f1:.2f}, Recall: {val_recall:.2f}')\n",
    "\n",
    "# --- Test Loop (after all epochs) ---\n",
    "model.eval()  # Set model to evaluation mode for testing\n",
    "test_correct = 0\n",
    "test_samples = 0\n",
    "test_preds = []\n",
    "test_labels = []\n",
    "\n",
    "with torch.no_grad():  # Disable gradient calculation for testing\n",
    "    # h_test = torch.zeros(num_layers, 7, hidden_size).to(device)\n",
    "    # c_test = torch.zeros(num_layers, 7, hidden_size).to(device)\n",
    "\n",
    "    for sequences, labels in test_loader:\n",
    "        sequences = sequences.to(device)\n",
    "        labels = labels.to(device)\n",
    "\n",
    "        # Forward pass\n",
    "        outputs = model(sequences)\n",
    "        _, predicted = torch.max(outputs, 1)\n",
    "\n",
    "        test_correct += (predicted == labels).sum().item()\n",
    "        test_samples += labels.size(0)\n",
    "\n",
    "        test_preds.extend(predicted.cpu().numpy())\n",
    "        test_labels.extend(labels.cpu().numpy())\n",
    "\n",
    "    test_accuracy = 100 * test_correct / test_samples\n",
    "    test_f1 = f1_score(test_labels, test_preds, average='weighted', zero_division=1 )\n",
    "    test_recall = recall_score(test_labels, test_preds, average='weighted', zero_division=1)\n",
    "\n",
    "    print(f'Test Accuracy: {test_accuracy:.2f}%, F1 Score: {test_f1:.2f}, Recall: {test_recall:.2f}')\n"
   ]
  },
  {
   "cell_type": "code",
   "execution_count": 128,
   "metadata": {},
   "outputs": [
    {
     "data": {
      "image/png": "[encoded data removed]",
      "text/plain": [
       "<Figure size 800x800 with 1 Axes>"
      ]
     },
     "metadata": {},
     "output_type": "display_data"
    }
   ],
   "source": [
    "from matplotlib import pyplot as plt\n",
    "plt.figure(figsize=(8,8))\n",
    "plt.title(\"Loss Curve\")\n",
    "plt.plot(loss_logger, label='train_loss')\n",
    "# plt.plot(val_loss, label='val_loss')\n",
    "# plt.plot(accuracy_logger,label='accuracy')\n",
    "plt.xlabel(\"Epoch\")\n",
    "plt.legend()\n",
    "plt.show()"
   ]
  },
  {
   "cell_type": "code",
   "execution_count": 129,
   "metadata": {},
   "outputs": [
    {
     "data": {
      "image/png": "[encoded data removed]",
      "text/plain": [
       "<Figure size 800x800 with 1 Axes>"
      ]
     },
     "metadata": {},
     "output_type": "display_data"
    }
   ],
   "source": [
    "from matplotlib import pyplot as plt\n",
    "plt.figure(figsize=(8,8))\n",
    "plt.title(\"Loss Curve\")\n",
    "plt.plot(loss_logger, label='train_loss')\n",
    "plt.plot(val_loss, label='val_loss')\n",
    "# plt.plot(accuracy_logger,label='accuracy')\n",
    "plt.xlabel(\"Epoch\")\n",
    "plt.legend()\n",
    "plt.show()"
   ]
  },
  {
   "cell_type": "code",
   "execution_count": null,
   "metadata": {},
   "outputs": [],
   "source": [
    "def check_accuracy(loader, model):\n",
    "    if loader == train_loader:\n",
    "        print(\"Checking accuracy on training data\")\n",
    "    else:\n",
    "        print(\"Checking accuracy on test data\")  \n",
    "          \n",
    "    num_correct = 0\n",
    "    num_samples = 0\n",
    "    model.eval()\n",
    "    \n",
    "    with torch.no_grad():\n",
    "        for x, y in loader:\n",
    "            x = x.to(device=device)\n",
    "            y = y.to(device=device)\n",
    "            # x = x.reshape(x.shape[0], -1)\n",
    "            \n",
    "            scores = model(x)\n",
    "            _, predictions = scores.max(1)\n",
    "            num_correct += (predictions == y).sum()\n",
    "            num_samples += predictions.size(0)\n",
    "            \n",
    "        print(f\"Got {num_correct} / {num_samples} with accuracy {float(num_correct)/float(num_samples)*100:.2f}\")\n",
    "        \n",
    "    model.train()"
   ]
  },
  {
   "cell_type": "code",
   "execution_count": null,
   "metadata": {},
   "outputs": [],
   "source": [
    "check_accuracy(train_loader, model)\n",
    "# h = torch.zeros(num_layers, 7, hidden_size).to(device)\n",
    "# c = torch.zeros(num_layers, 7, hidden_size).to(device)\n",
    "check_accuracy(test_loader, model)"
   ]
  },
  {
   "cell_type": "code",
   "execution_count": null,
   "metadata": {},
   "outputs": [],
   "source": []
  }
 ],
 "metadata": {
  "kernelspec": {
   "display_name": "Python 3",
   "language": "python",
   "name": "python3"
  },
  "language_info": {
   "codemirror_mode": {
    "name": "ipython",
    "version": 3
   },
   "file_extension": ".py",
   "mimetype": "text/x-python",
   "name": "python",
   "nbconvert_exporter": "python",
   "pygments_lexer": "ipython3",
   "version": "3.12.4"
  }
 },
 "nbformat": 4,
 "nbformat_minor": 2
}
