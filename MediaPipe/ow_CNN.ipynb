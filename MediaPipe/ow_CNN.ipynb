{
 "cells": [
  {
   "cell_type": "markdown",
   "metadata": {},
   "source": [
    "### Prepare DataLoader for Video Sequence"
   ]
  },
  {
   "cell_type": "markdown",
   "metadata": {},
   "source": [
    "### Import"
   ]
  },
  {
   "cell_type": "code",
   "execution_count": 532,
   "metadata": {},
   "outputs": [],
   "source": [
    "import torch \n",
    "import torch.nn as nn \n",
    "import torch.nn.functional as F \n",
    "import torch.optim as optim \n",
    "import datasets \n",
    "import numpy as np \n",
    "import matplotlib.pyplot as plt"
   ]
  },
  {
   "cell_type": "code",
   "execution_count": 533,
   "metadata": {},
   "outputs": [],
   "source": [
    "import torchvision \n",
    "from torchvision import datasets, transforms \n",
    "from torch.utils.data import DataLoader"
   ]
  },
  {
   "cell_type": "code",
   "execution_count": 534,
   "metadata": {},
   "outputs": [],
   "source": [
    "import torch\n",
    "from torch.utils.data import Dataset, DataLoader\n",
    "from torchvision import transforms\n",
    "from PIL import Image\n",
    "import os"
   ]
  },
  {
   "cell_type": "markdown",
   "metadata": {},
   "source": [
    "### Create a Custom Dataset Class"
   ]
  },
  {
   "cell_type": "code",
   "execution_count": 535,
   "metadata": {},
   "outputs": [],
   "source": [
    "import re\n",
    "\n",
    "class VideoSequenceDataset(Dataset):\n",
    "    def __init__(self, root_dir, transform=None):\n",
    "        self.root_dir = root_dir\n",
    "        self.transform = transform\n",
    "        self.classes = os.listdir(root_dir)\n",
    "        self.data = self.load_sequences()\n",
    "\n",
    "    def load_sequences(self):\n",
    "        data = []\n",
    "        for class_idx, class_folder in enumerate(self.classes):\n",
    "            class_path = os.path.join(self.root_dir, class_folder)\n",
    "\n",
    "            # List and sort frames numerically\n",
    "            image_sequences = sorted(os.listdir(class_path), key=self.natural_sort_key)\n",
    "            frames = [os.path.join(class_path, img) for img in image_sequences]\n",
    "\n",
    "            data.append((frames, class_idx))\n",
    "        return data\n",
    "\n",
    "    def natural_sort_key(self, string):\n",
    "        # Extract numbers from the filename to ensure numeric sorting\n",
    "        return [int(text) if text.isdigit() else text for text in re.split(r'(\\d+)', string)]\n",
    "\n",
    "    def __len__(self):\n",
    "        return len(self.data)\n",
    "\n",
    "    def __getitem__(self, idx):\n",
    "        image_paths, label = self.data[idx]\n",
    "        images = [Image.open(img_path).convert('RGB') for img_path in image_paths]\n",
    "\n",
    "        if self.transform:\n",
    "            images = [self.transform(img) for img in images]\n",
    "\n",
    "        images = torch.stack(images, dim=0)  # Stack into a tensor\n",
    "\n",
    "        return images, label\n"
   ]
  },
  {
   "cell_type": "markdown",
   "metadata": {},
   "source": [
    "### Define Transformations"
   ]
  },
  {
   "cell_type": "code",
   "execution_count": 536,
   "metadata": {},
   "outputs": [],
   "source": [
    "transform = transforms.Compose([\n",
    "    transforms.Resize((128, 128)),  # Resize all images to the same size\n",
    "    transforms.ToTensor(),  # Convert images to PyTorch tensors\n",
    "    transforms.Normalize(mean=[0.485, 0.456, 0.406], std=[0.229, 0.224, 0.225])  # Normalize with ImageNet stats\n",
    "])"
   ]
  },
  {
   "cell_type": "markdown",
   "metadata": {},
   "source": [
    "### Initialize Dataset and DataLoader"
   ]
  },
  {
   "cell_type": "code",
   "execution_count": 537,
   "metadata": {},
   "outputs": [],
   "source": [
    "from torch.nn.utils.rnn import pad_sequence\n",
    "\n",
    "# Collate function for padding\n",
    "def collate_fn(batch):\n",
    "    sequences, labels = zip(*batch)\n",
    "    \n",
    "    # Find the max length of sequences in the batch\n",
    "    max_len = max([seq.size(0) for seq in sequences])\n",
    "    \n",
    "    # Pad each sequence to the max length along the time dimension (0th dimension)\n",
    "    padded_sequences = []\n",
    "    for seq in sequences:\n",
    "        # Padding to (max_len, 3, 128, 128)\n",
    "        padding = (0, 0, 0, 0, 0, max_len - seq.size(0))  # Pad only the time dimension\n",
    "        padded_seq = F.pad(seq, padding, \"constant\", 0)  # Use zero padding\n",
    "        padded_sequences.append(padded_seq)\n",
    "    \n",
    "    padded_sequences = torch.stack(padded_sequences, dim=0)  # Stack them into a batch\n",
    "    labels = torch.tensor(labels)\n",
    "    \n",
    "    return padded_sequences, labels"
   ]
  },
  {
   "cell_type": "code",
   "execution_count": 538,
   "metadata": {},
   "outputs": [],
   "source": [
    "train_dir = 'C:/Users/araya/Desktop/frame/train'  # Your directory path\n",
    "\n",
    "dataset = VideoSequenceDataset(root_dir=train_dir, transform=transform)\n",
    "\n",
    "list_dataset = []\n",
    "\n",
    "list_dataset.append([dataset[i][0] for i in range(len(dataset))])\n",
    "\n",
    "# print(len(list_dataset[0][i]))\n",
    "# dataset = pad_sequence(list_dataset).size()\n",
    "\n",
    "# dataloader = DataLoader(dataset, batch_size=4, shuffle=True, collate_fn=collate_fn)"
   ]
  },
  {
   "cell_type": "code",
   "execution_count": null,
   "metadata": {},
   "outputs": [],
   "source": [
    "dataset[9][0]"
   ]
  },
  {
   "cell_type": "code",
   "execution_count": null,
   "metadata": {},
   "outputs": [],
   "source": [
    "len(list_dataset[0][0])"
   ]
  },
  {
   "cell_type": "code",
   "execution_count": null,
   "metadata": {},
   "outputs": [],
   "source": [
    "\n",
    "for j in range(len(dataset)):\n",
    "    dataset[j][0] = pad_sequence(list_dataset[0][i] for i in range(len(list_dataset))).size()\n",
    "    # print(x)"
   ]
  },
  {
   "cell_type": "code",
   "execution_count": null,
   "metadata": {},
   "outputs": [],
   "source": [
    "len(list_dataset[0][1])"
   ]
  },
  {
   "cell_type": "code",
   "execution_count": null,
   "metadata": {},
   "outputs": [],
   "source": [
    "dataloader.dataset[0][0].shape"
   ]
  },
  {
   "cell_type": "code",
   "execution_count": null,
   "metadata": {},
   "outputs": [],
   "source": [
    "pad_sequence(dataset[i][0] for i in range(len(dataloader.dataset))).size()"
   ]
  },
  {
   "cell_type": "code",
   "execution_count": null,
   "metadata": {},
   "outputs": [],
   "source": [
    "dataloader.dataset[0]"
   ]
  },
  {
   "cell_type": "code",
   "execution_count": null,
   "metadata": {},
   "outputs": [],
   "source": [
    "dataset.data"
   ]
  },
  {
   "cell_type": "code",
   "execution_count": null,
   "metadata": {},
   "outputs": [],
   "source": [
    "dataloader.dataset[0][0]"
   ]
  },
  {
   "cell_type": "code",
   "execution_count": null,
   "metadata": {},
   "outputs": [],
   "source": [
    "dataloader.dataset[1][0].shape"
   ]
  },
  {
   "cell_type": "code",
   "execution_count": null,
   "metadata": {},
   "outputs": [],
   "source": [
    "print(len(dataloader.dataset[0][0]))\n",
    "print(f\"This video has {len(dataloader.dataset[0][0])} frames\")"
   ]
  },
  {
   "cell_type": "markdown",
   "metadata": {},
   "source": [
    "### Iterate Through DataLoader"
   ]
  },
  {
   "cell_type": "code",
   "execution_count": 28,
   "metadata": {},
   "outputs": [],
   "source": [
    "# Define device (use GPU if available)\n",
    "device = torch.device(\"cuda\" if torch.cuda.is_available() else \"cpu\")"
   ]
  },
  {
   "cell_type": "code",
   "execution_count": 29,
   "metadata": {},
   "outputs": [],
   "source": [
    "class CNNModel(nn.Module):\n",
    "    def __init__(self, in_channel=3, num_classes=9):\n",
    "        super(CNNModel, self).__init__()\n",
    "        self.conv1 = nn.Conv2d(in_channels=in_channel, out_channels=32, kernel_size=(3,3), stride=(1,1), padding=(1,1))\n",
    "        self.pool = nn.MaxPool2d(kernel_size=(3,3), stride=(1,1))\n",
    "        self.conv2 = nn.Conv2d(in_channels=32, out_channels=64, kernel_size=(3,3), stride=(1,1), padding=(1,1))\n",
    "        self.fc1 = nn.Linear(64*15376, num_classes)  # 128/2 = 64 -> 64/2 = 32        15376\n",
    "        \n",
    "    def forward(self, x):\n",
    "        x = F.relu(self.conv1(x))\n",
    "        x = self.pool(x)\n",
    "        x = F.relu(self.conv2(x))\n",
    "        x = self.pool(x)\n",
    "        x = x.reshape(x.shape[0], -1)\n",
    "        x = self.fc1(x)\n",
    "        \n",
    "        return x"
   ]
  },
  {
   "cell_type": "code",
   "execution_count": 30,
   "metadata": {},
   "outputs": [],
   "source": [
    "model = CNNModel().to(device)"
   ]
  },
  {
   "cell_type": "code",
   "execution_count": 31,
   "metadata": {},
   "outputs": [],
   "source": [
    "# spatial = model(dataloader.dataset[0][0])\n",
    "# spatial = spatial.detach().numpy() \n",
    "# spatial.shape"
   ]
  },
  {
   "cell_type": "code",
   "execution_count": null,
   "metadata": {},
   "outputs": [],
   "source": [
    "plt.imshow(dataloader.dataset[0][0][50][0])"
   ]
  },
  {
   "cell_type": "markdown",
   "metadata": {},
   "source": [
    "### ----------------------------------------------------------------------------------------------------------------------------"
   ]
  },
  {
   "cell_type": "code",
   "execution_count": 33,
   "metadata": {},
   "outputs": [],
   "source": [
    "# Loss function (CrossEntropyLoss for classification tasks)\n",
    "criterion = nn.CrossEntropyLoss()\n",
    "\n",
    "# Optimizer (Adam optimizer)\n",
    "optimizer = optim.Adam(model.parameters(), lr=0.001)\n",
    "\n",
    "# Number of epochs\n",
    "num_epochs = 10"
   ]
  },
  {
   "cell_type": "code",
   "execution_count": null,
   "metadata": {},
   "outputs": [],
   "source": [
    "for epoch in range(num_epochs):\n",
    "    print(\"Epoch\", epoch)\n",
    "    for batch_idx, (data, targets) in enumerate(dataloader.dataset):\n",
    "        # Get data to CUDA if possible\n",
    "        data = data.to(device)\n",
    "        targets = torch.tensor(targets, dtype=torch.int8)\n",
    "        \n",
    "        print(data.shape)\n",
    "        print(targets)\n",
    "\n",
    "        # # Score\n",
    "        # scores = model(data)\n",
    "        # loss = criterion(scores, targets.to(device))\n",
    "        \n",
    "        # # Backward\n",
    "        # optimizer.zero_grad()\n",
    "        # loss.backward()\n",
    "        \n",
    "        # # Gradient Descent or Adam Step\n",
    "        # optimizer.step() # Update Weight\n",
    "        \n",
    "        # print(f\"Loss : {loss}\")"
   ]
  },
  {
   "cell_type": "code",
   "execution_count": 36,
   "metadata": {},
   "outputs": [],
   "source": [
    "import torch\n",
    "torch.cuda.empty_cache()"
   ]
  },
  {
   "cell_type": "code",
   "execution_count": null,
   "metadata": {},
   "outputs": [],
   "source": []
  }
 ],
 "metadata": {
  "kernelspec": {
   "display_name": "Python 3",
   "language": "python",
   "name": "python3"
  },
  "language_info": {
   "codemirror_mode": {
    "name": "ipython",
    "version": 3
   },
   "file_extension": ".py",
   "mimetype": "text/x-python",
   "name": "python",
   "nbconvert_exporter": "python",
   "pygments_lexer": "ipython3",
   "version": "3.12.4"
  }
 },
 "nbformat": 4,
 "nbformat_minor": 2
}
