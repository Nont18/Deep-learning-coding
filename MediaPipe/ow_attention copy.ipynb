{
 "cells": [
  {
   "cell_type": "markdown",
   "metadata": {},
   "source": [
    "### Video Classification using LSTM + Attention layer"
   ]
  },
  {
   "cell_type": "code",
   "execution_count": 47,
   "metadata": {},
   "outputs": [],
   "source": [
    "import cv2\n",
    "import numpy as np\n",
    "import os\n",
    "from matplotlib import pyplot as plt\n",
    "import time\n",
    "import mediapipe as mp \n",
    "\n",
    "import torch \n",
    "import torch.nn as nn\n",
    "import torch.nn.functional as F"
   ]
  },
  {
   "cell_type": "code",
   "execution_count": 48,
   "metadata": {},
   "outputs": [],
   "source": [
    "mp_holist = mp.solutions.holistic \n",
    "mp_draw = mp.solutions.drawing_utils"
   ]
  },
  {
   "cell_type": "code",
   "execution_count": 49,
   "metadata": {},
   "outputs": [],
   "source": [
    "def mediapipe_detection(img, model):\n",
    "    img = cv2.cvtColor(img, cv2.COLOR_BGR2RGB)\n",
    "    img.flags.writeable = False                 \n",
    "    result = model.process(img)                 # Make prediction\n",
    "    img.flags.writeable = True                   \n",
    "    img = cv2.cvtColor(img, cv2.COLOR_RGB2BGR) \n",
    "    return img, result"
   ]
  },
  {
   "cell_type": "code",
   "execution_count": 50,
   "metadata": {},
   "outputs": [],
   "source": [
    "def draw_landmarks(img, result):\n",
    "    mp_draw.draw_landmarks(img, result.face_landmarks, mp_holist.FACEMESH_CONTOURS) # Draw face connections\n",
    "    mp_draw.draw_landmarks(img, result.pose_landmarks, mp_holist.POSE_CONNECTIONS) # Draw pose connections\n",
    "    mp_draw.draw_landmarks(img, result.left_hand_landmarks, mp_holist.HAND_CONNECTIONS) # Draw left hand connections\n",
    "    mp_draw.draw_landmarks(img, result.right_hand_landmarks, mp_holist.HAND_CONNECTIONS) # Draw right hand connections"
   ]
  },
  {
   "cell_type": "code",
   "execution_count": 51,
   "metadata": {},
   "outputs": [],
   "source": [
    "def draw_styled_landmarks(img, result):\n",
    "    mp_draw.draw_landmarks(img, result.face_landmarks, mp_holist.FACEMESH_CONTOURS, \n",
    "                             mp_draw.DrawingSpec(color=(80,110,10), thickness=1, circle_radius=1), # color the joint \n",
    "                             mp_draw.DrawingSpec(color=(80,256,121), thickness=1, circle_radius=1) #color the connection\n",
    "                             ) \n",
    "    # mp_draw.draw_landmarks(img, result.face_landmarks, mp_holist.FACEMESH_CONTOURS, \n",
    "    #                          mp_draw.DrawingSpec(color=(80,110,10), thickness=1, circle_radius=1), # color the joint \n",
    "    #                          mp_draw.DrawingSpec(color=(80,256,121), thickness=1, circle_radius=1) #color the connection\n",
    "    #                          ) \n",
    "    \n",
    "    mp_draw.draw_landmarks(img, result.pose_landmarks, mp_holist.POSE_CONNECTIONS,\n",
    "                             mp_draw.DrawingSpec(color=(80,22,10), thickness=2, circle_radius=4), \n",
    "                             mp_draw.DrawingSpec(color=(80,44,121), thickness=2, circle_radius=2)\n",
    "                             ) \n",
    "    mp_draw.draw_landmarks(img, result.left_hand_landmarks, mp_holist.HAND_CONNECTIONS, \n",
    "                             mp_draw.DrawingSpec(color=(121,22,76), thickness=2, circle_radius=4), \n",
    "                             mp_draw.DrawingSpec(color=(121,44,250), thickness=2, circle_radius=2)\n",
    "                             ) \n",
    "    mp_draw.draw_landmarks(img, result.right_hand_landmarks, mp_holist.HAND_CONNECTIONS, \n",
    "                             mp_draw.DrawingSpec(color=(245,117,66), thickness=2, circle_radius=4), \n",
    "                             mp_draw.DrawingSpec(color=(245,66,230), thickness=2, circle_radius=2)\n",
    "                             ) "
   ]
  },
  {
   "cell_type": "code",
   "execution_count": 52,
   "metadata": {},
   "outputs": [],
   "source": [
    "def extract_keypoints(results):\n",
    "    pose=np.array([[res.x,res.y] for res in results.pose_landmarks.landmark]).flatten() if results.pose_landmarks else np.zeros(33*2)\n",
    "    left_hnd=np.array([[res.x,res.y] for res in results.left_hand_landmarks.landmark]).flatten() if results.left_hand_landmarks else np.zeros(21*2)\n",
    "    right_hnd=np.array([[res.x,res.y] for res in results.right_hand_landmarks.landmark]).flatten() if results.right_hand_landmarks else np.zeros(21*2)\n",
    "    face=np.array([[res.x,res.y] for res in results.face_landmarks.landmark]).flatten() if results.face_landmarks else np.zeros(468*2)\n",
    "    return np.concatenate([pose,left_hnd,right_hnd,face])\n",
    "# concatenating for the model to detect the sign language"
   ]
  },
  {
   "cell_type": "code",
   "execution_count": null,
   "metadata": {},
   "outputs": [],
   "source": [
    "import os \n",
    "video_dir = \"C:/Users/araya/Desktop/keypoints/video_extract\"\n",
    "video_list = []\n",
    "video_list = os.listdir(video_dir)\n",
    "\n",
    "len(video_list)"
   ]
  },
  {
   "cell_type": "code",
   "execution_count": 54,
   "metadata": {},
   "outputs": [],
   "source": [
    "# # For Training Only\n",
    "# import os \n",
    "# video_dir = \"C:/Users/araya/Desktop/vscode/Deep-learning-coding/MediaPipe/Data for different actions\"\n",
    "# video_list = []\n",
    "# video_list = os.listdir(video_dir)\n",
    "\n",
    "# len(video_list)"
   ]
  },
  {
   "cell_type": "code",
   "execution_count": null,
   "metadata": {},
   "outputs": [],
   "source": [
    "video_list"
   ]
  },
  {
   "cell_type": "code",
   "execution_count": 56,
   "metadata": {},
   "outputs": [],
   "source": [
    "# Path for exported data, numpy arrays\n",
    "Model_Data=os.path.join('Data for different actions')\n",
    "\n",
    "actions = np.array(video_list)\n",
    "\n",
    "no_of_seqs = 1\n",
    "\n",
    "# 30 frames in length\n",
    "seq_length = 160"
   ]
  },
  {
   "cell_type": "code",
   "execution_count": null,
   "metadata": {},
   "outputs": [],
   "source": [
    "actions"
   ]
  },
  {
   "cell_type": "markdown",
   "metadata": {},
   "source": [
    "Collecting keypoint values for Training nd Testing"
   ]
  },
  {
   "cell_type": "code",
   "execution_count": 58,
   "metadata": {},
   "outputs": [],
   "source": [
    "# Define the directory where your videos are stored\n",
    "directory = \"C:/Users/araya/Desktop/keypoints/video_extract\""
   ]
  },
  {
   "cell_type": "code",
   "execution_count": 59,
   "metadata": {},
   "outputs": [],
   "source": [
    "# # For Training Only\n",
    "# directory = \"C:/Users/araya/Desktop/vscode/Deep-learning-coding/MediaPipe/Data for different actions\""
   ]
  },
  {
   "cell_type": "code",
   "execution_count": null,
   "metadata": {},
   "outputs": [],
   "source": [
    "directory"
   ]
  },
  {
   "cell_type": "code",
   "execution_count": null,
   "metadata": {},
   "outputs": [],
   "source": [
    "for filename in actions:\n",
    "    print(directory + '/' + filename)"
   ]
  },
  {
   "cell_type": "code",
   "execution_count": null,
   "metadata": {},
   "outputs": [],
   "source": [
    "file_paths = []\n",
    "for action in actions:\n",
    "    video_path = os.path.join('Data for different actions/', action)\n",
    "    # print(video_path)\n",
    "    # print(action)\n",
    "    file_paths.append(video_path + '/' + action.split(\".\")[0] + \".npy\")\n",
    "print(file_paths)"
   ]
  },
  {
   "cell_type": "code",
   "execution_count": 63,
   "metadata": {},
   "outputs": [],
   "source": [
    "def load_keypoint_sequences(file_paths):\n",
    "    keypoint_sequences = []\n",
    "    for file_path in file_paths:\n",
    "        keypoints = np.load(file_path)\n",
    "        keypoint_sequences.append(torch.tensor(keypoints, dtype=torch.float32))\n",
    "    return keypoint_sequences"
   ]
  },
  {
   "cell_type": "code",
   "execution_count": null,
   "metadata": {},
   "outputs": [],
   "source": [
    "# Load the sequences\n",
    "import torch\n",
    "sequences = load_keypoint_sequences(file_paths)\n",
    "sequences"
   ]
  },
  {
   "cell_type": "code",
   "execution_count": null,
   "metadata": {},
   "outputs": [],
   "source": [
    "# Pad the sequences to the same length\n",
    "from torch.nn.utils.rnn import pad_sequence\n",
    "padded_sequences = pad_sequence(sequences, batch_first=True)\n",
    "pad_sequence\n",
    "print(padded_sequences.shape) # (batch_size, max_sequence_length, num_keypoints)"
   ]
  },
  {
   "cell_type": "code",
   "execution_count": null,
   "metadata": {},
   "outputs": [],
   "source": [
    "labels = [action.split(\".\")[0] for action in actions]\n",
    "labels"
   ]
  },
  {
   "cell_type": "markdown",
   "metadata": {},
   "source": [
    "### Label"
   ]
  },
  {
   "cell_type": "code",
   "execution_count": null,
   "metadata": {},
   "outputs": [],
   "source": [
    "from sklearn.preprocessing import LabelEncoder\n",
    "le = LabelEncoder()\n",
    "\n",
    "labels = le.fit_transform(labels)\n",
    "labels"
   ]
  },
  {
   "cell_type": "markdown",
   "metadata": {},
   "source": [
    "### For Traning only"
   ]
  },
  {
   "cell_type": "code",
   "execution_count": 68,
   "metadata": {},
   "outputs": [],
   "source": [
    "# import pandas as pd\n",
    "# df = pd.read_csv(\"script1.csv\")"
   ]
  },
  {
   "cell_type": "code",
   "execution_count": 69,
   "metadata": {},
   "outputs": [],
   "source": [
    "# labels = []\n",
    "\n",
    "# for i in range(len(df.label)):\n",
    "#     labels.append(df.label[i])"
   ]
  },
  {
   "cell_type": "code",
   "execution_count": 70,
   "metadata": {},
   "outputs": [],
   "source": [
    "# labels"
   ]
  },
  {
   "cell_type": "code",
   "execution_count": 71,
   "metadata": {},
   "outputs": [],
   "source": [
    "import torch\n",
    "from torch.utils.data import DataLoader, Dataset\n",
    "from torch.nn.utils.rnn import pad_sequence\n",
    "\n",
    "# Create a custom dataset\n",
    "class KeypointDataset(Dataset):\n",
    "    def __init__(self, file_paths, labels):\n",
    "        self.file_paths = file_paths\n",
    "        self.labels = labels\n",
    "    \n",
    "    def __len__(self):\n",
    "        return len(self.file_paths)\n",
    "    \n",
    "    def __getitem__(self, idx):\n",
    "        keypoints = np.load(self.file_paths[idx])\n",
    "        label = self.labels[idx]\n",
    "        return torch.tensor(keypoints, dtype=torch.float32), label"
   ]
  },
  {
   "cell_type": "code",
   "execution_count": 72,
   "metadata": {},
   "outputs": [],
   "source": [
    "# Create the dataset\n",
    "dataset = KeypointDataset(file_paths, labels)"
   ]
  },
  {
   "cell_type": "code",
   "execution_count": null,
   "metadata": {},
   "outputs": [],
   "source": [
    "print(dataset.file_paths)\n",
    "print(dataset.labels)"
   ]
  },
  {
   "cell_type": "code",
   "execution_count": 74,
   "metadata": {},
   "outputs": [],
   "source": [
    "# Collate function for padding\n",
    "def collate_fn(batch):\n",
    "    sequences, labels = zip(*batch)\n",
    "    padded_sequences = pad_sequence(sequences, batch_first=True)\n",
    "    return padded_sequences, torch.tensor(labels)"
   ]
  },
  {
   "cell_type": "code",
   "execution_count": null,
   "metadata": {},
   "outputs": [],
   "source": [
    "# Create the DataLoader\n",
    "batch_size = 16\n",
    "data_loader = DataLoader(dataset, batch_size=batch_size, shuffle=False, collate_fn=collate_fn)\n",
    "data_loader"
   ]
  },
  {
   "cell_type": "code",
   "execution_count": null,
   "metadata": {},
   "outputs": [],
   "source": [
    "for i, (data, label) in enumerate(data_loader):\n",
    "    print(data.shape)\n",
    "    print(label.shape)"
   ]
  },
  {
   "cell_type": "code",
   "execution_count": null,
   "metadata": {},
   "outputs": [],
   "source": [
    "# Set device (use GPU if available)\n",
    "device = torch.device('cuda' if torch.cuda.is_available() else 'cpu')\n",
    "device"
   ]
  },
  {
   "cell_type": "markdown",
   "metadata": {},
   "source": [
    "### LSTM"
   ]
  },
  {
   "cell_type": "code",
   "execution_count": 78,
   "metadata": {},
   "outputs": [],
   "source": [
    "import torch\n",
    "import torch.nn as nn\n",
    "import torch.optim as optim\n",
    "from sklearn.metrics import f1_score\n",
    "\n",
    "class AttentionLayer(nn.Module):\n",
    "    def __init__(self, hidden_size):\n",
    "        super(AttentionLayer, self).__init__()\n",
    "        self.attention_weights = nn.Linear(hidden_size, 1, bias=False)\n",
    "\n",
    "    def forward(self, lstm_output):\n",
    "        # lstm_output: (batch_size, sequence_length, hidden_size)\n",
    "        attention_scores = self.attention_weights(lstm_output)  # (batch_size, sequence_length, 1)\n",
    "        attention_weights = torch.softmax(attention_scores, dim=1)  # (batch_size, sequence_length, 1)\n",
    "        weighted_output = torch.sum(lstm_output * attention_weights, dim=1)  # (batch_size, hidden_size)\n",
    "        return weighted_output, attention_weights"
   ]
  },
  {
   "cell_type": "code",
   "execution_count": 79,
   "metadata": {},
   "outputs": [],
   "source": [
    "import torch\n",
    "import torch.nn as nn\n",
    "import torch.optim as optim\n",
    "from sklearn.metrics import f1_score\n",
    "\n",
    "class LSTMModel(nn.Module):\n",
    "    def __init__(self, input_size, hidden_size, num_layers, num_classes,dropout):\n",
    "        super(LSTMModel, self).__init__()\n",
    "        self.hidden_size = hidden_size\n",
    "        self.num_layers = num_layers\n",
    "        # self.pool = nn.MaxPool2d(kernel_size=(2,1), stride=1)\n",
    "        self.lstm = nn.LSTM(input_size, hidden_size, num_layers, batch_first=True)\n",
    "        self.attention = AttentionLayer(hidden_size)\n",
    "        self.fc1 = nn.Linear(hidden_size, 256)\n",
    "        self.fc2 = nn.Linear(256, num_classes)\n",
    "        self.dropout = nn.Dropout(dropout)\n",
    "    \n",
    "    def forward(self, x, h, c):\n",
    "        # h0 = torch.zeros(self.num_layers, x.size(0), self.hidden_size).to(x.device)\n",
    "        # c0 = torch.zeros(self.num_layers, x.size(0), self.hidden_size).to(x.device)\n",
    "        \n",
    "        # Apply pooling before LSTM\n",
    "        # x = self.pool(x)\n",
    "\n",
    "        # Forward propagate the LSTM\n",
    "        lstm_output, (h,c) = self.lstm(x, (h,c))\n",
    "\n",
    "        # Apply attention to the LSTM output\n",
    "        attention_output, attention_weights = self.attention(lstm_output)\n",
    "\n",
    "        # Classification based on attention output\n",
    "        out = self.fc1(attention_output)\n",
    "        # out = self.dropout(out)\n",
    "        out = self.fc2(out)\n",
    "        return out, h, c"
   ]
  },
  {
   "cell_type": "code",
   "execution_count": 80,
   "metadata": {},
   "outputs": [],
   "source": [
    "input_size = 1086\n",
    "hidden_size = 256 \n",
    "num_layers = 2\n",
    "num_classes = 40"
   ]
  },
  {
   "cell_type": "code",
   "execution_count": 81,
   "metadata": {},
   "outputs": [],
   "source": [
    "# Initialize the model, loss function, and optimizer\n",
    "model = LSTMModel(input_size=1086, hidden_size=256, num_layers=2, num_classes=40, dropout=0.3).to(device)"
   ]
  },
  {
   "cell_type": "code",
   "execution_count": null,
   "metadata": {},
   "outputs": [],
   "source": [
    "model"
   ]
  },
  {
   "cell_type": "code",
   "execution_count": 83,
   "metadata": {},
   "outputs": [],
   "source": [
    "criterion = nn.CrossEntropyLoss()  # For multi-class classification \n",
    "optimizer = optim.Adam(model.parameters(), lr=0.0001)"
   ]
  },
  {
   "cell_type": "code",
   "execution_count": 84,
   "metadata": {},
   "outputs": [],
   "source": [
    "# #Load model\n",
    "# model.load_state_dict(torch.load('saved_data/attention_lstm.pt'))\n",
    "# optimizer.load_state_dict(torch.load('saved_data/optimizer.pt'))"
   ]
  },
  {
   "cell_type": "code",
   "execution_count": 85,
   "metadata": {},
   "outputs": [],
   "source": [
    "# #Load model\n",
    "# model.load_state_dict(torch.load('saved_data/fixed_attention_lstm.pt'))\n",
    "# optimizer.load_state_dict(torch.load('saved_data/fixed_attention_lstm_optimizer.pt'))"
   ]
  },
  {
   "cell_type": "code",
   "execution_count": null,
   "metadata": {},
   "outputs": [],
   "source": [
    "# Training loop\n",
    "# References : https://saturncloud.io/blog/calculating-the-accuracy-of-pytorch-models-every-epoch/#:~:text=In%20order%20to%20calculate%20the,tensor%20along%20a%20specified%20dimension\n",
    "\n",
    "from sklearn.metrics import f1_score, recall_score\n",
    "\n",
    "num_epochs = 300\n",
    "loss_logger = []\n",
    "accuracy_logger = []\n",
    "f1_logger = []\n",
    "recall_logger = []\n",
    "\n",
    "all_preds = []\n",
    "all_labels = []\n",
    "# n_epochs = []\n",
    "for epoch in range(num_epochs):\n",
    "    total_correct = 0\n",
    "    total_samples = 0\n",
    "    model.train()\n",
    "\n",
    "    h = torch.zeros(num_layers, batch_size, hidden_size).to(device)\n",
    "    c = torch.zeros(num_layers, batch_size, hidden_size).to(device)\n",
    "\n",
    "    for i, (sequences, labels) in enumerate(data_loader):\n",
    "        # Move data to the device\n",
    "        # labels = labels.type(torch.LongTensor)   # casting to long\n",
    "        sequences = sequences.to(device)\n",
    "        labels = labels.to(device)\n",
    "\n",
    "        h = h.detach()\n",
    "        c = c.detach()\n",
    "        \n",
    "        # Forward pass\n",
    "        outputs, h, c = model(sequences, h, c)\n",
    "        _, predicted = torch.max(outputs, 1)\n",
    "        loss = criterion(outputs, labels)\n",
    "\n",
    "        total_correct += (predicted == labels).sum().item()\n",
    "        total_samples += labels.size(0)\n",
    "\n",
    "        # Store predictions and labels for calculating metrics\n",
    "        all_preds.extend(predicted.cpu().numpy())  # Store predictions\n",
    "        all_labels.extend(labels.cpu().numpy())    # Store true labels\n",
    "        \n",
    "        # Backward pass and optimization\n",
    "        optimizer.zero_grad()\n",
    "        loss.backward()\n",
    "        optimizer.step()\n",
    "\n",
    "        # loss_logger.append(loss.item())\n",
    "    loss_logger.append(loss.item())\n",
    "    accuracy = 100 * total_correct /total_samples\n",
    "\n",
    "    # Calculate F1 score and recall\n",
    "    f1 = f1_score(all_labels, all_preds, average='weighted')  # Weighted average for multi-class\n",
    "    recall = recall_score(all_labels, all_preds, average='weighted')\n",
    "\n",
    "    f1_logger.append(f1)\n",
    "    recall_logger.append(recall)\n",
    "\n",
    "    print(f'Epoch [{epoch+1}/{num_epochs}], Loss: {loss.item():.4f} , Accuracy : {accuracy:.2f}%, F1 Score: {f1:.2f}, Recall: {recall:.2f}')\n",
    "    accuracy_logger.append(accuracy)\n",
    "    # n_epochs.append(epoch)"
   ]
  },
  {
   "cell_type": "code",
   "execution_count": 108,
   "metadata": {},
   "outputs": [
    {
     "data": {
      "text/plain": [
       "[3.7468531131744385,\n",
       " 3.7433433532714844,\n",
       " 3.7379350662231445,\n",
       " 3.7317440509796143,\n",
       " 3.7245774269104004,\n",
       " 3.7163968086242676,\n",
       " 3.7063961029052734,\n",
       " 3.6975574493408203,\n",
       " 3.6698546409606934,\n",
       " 3.646960973739624,\n",
       " 3.611898183822632,\n",
       " 3.573371648788452,\n",
       " 3.54199481010437,\n",
       " 3.5188024044036865,\n",
       " 3.4374966621398926,\n",
       " 3.4295730590820312,\n",
       " 3.3859500885009766,\n",
       " 3.4112179279327393,\n",
       " 3.333994150161743,\n",
       " 3.2811033725738525,\n",
       " 3.2301278114318848,\n",
       " 3.2260141372680664,\n",
       " 3.1488687992095947,\n",
       " 3.23184871673584,\n",
       " 3.3031394481658936,\n",
       " 3.0875933170318604,\n",
       " 3.216387987136841,\n",
       " 3.0945942401885986,\n",
       " 3.0562427043914795,\n",
       " 3.064333915710449,\n",
       " 3.0105607509613037,\n",
       " 2.9203803539276123,\n",
       " 2.939545154571533,\n",
       " 2.9410364627838135,\n",
       " 2.808842182159424,\n",
       " 2.817873239517212,\n",
       " 2.7620091438293457,\n",
       " 2.796067953109741,\n",
       " 2.683180093765259,\n",
       " 2.6258015632629395,\n",
       " 2.6291754245758057,\n",
       " 2.7485876083374023,\n",
       " 2.5610477924346924,\n",
       " 2.7427473068237305,\n",
       " 2.64457631111145,\n",
       " 2.5088775157928467,\n",
       " 2.492525577545166,\n",
       " 2.381911039352417,\n",
       " 2.330399990081787,\n",
       " 2.34086275100708,\n",
       " 2.557814598083496,\n",
       " 2.3121328353881836,\n",
       " 2.3932044506073,\n",
       " 2.248469591140747,\n",
       " 2.186652183532715,\n",
       " 2.1701314449310303,\n",
       " 2.097352981567383,\n",
       " 2.096334218978882,\n",
       " 2.009329080581665,\n",
       " 2.1204400062561035,\n",
       " 1.9946473836898804,\n",
       " 1.9393985271453857,\n",
       " 1.8989453315734863,\n",
       " 1.8862202167510986,\n",
       " 1.9577966928482056,\n",
       " 1.9430203437805176,\n",
       " 2.148916244506836,\n",
       " 1.7830145359039307,\n",
       " 1.7818565368652344,\n",
       " 1.6905903816223145,\n",
       " 1.733731985092163,\n",
       " 1.6534152030944824,\n",
       " 1.6283459663391113,\n",
       " 1.6031407117843628,\n",
       " 1.6678446531295776,\n",
       " 1.6422535181045532,\n",
       " 1.475223422050476,\n",
       " 1.4238405227661133,\n",
       " 1.3825247287750244,\n",
       " 1.5701435804367065,\n",
       " 1.3565261363983154,\n",
       " 1.3724110126495361,\n",
       " 1.3079571723937988,\n",
       " 1.304290533065796,\n",
       " 1.3284722566604614,\n",
       " 1.2245737314224243,\n",
       " 1.1602802276611328,\n",
       " 1.3330594301223755,\n",
       " 1.158413052558899,\n",
       " 1.2037203311920166,\n",
       " 1.0902953147888184,\n",
       " 1.103034496307373,\n",
       " 1.0609612464904785,\n",
       " 1.0222939252853394,\n",
       " 0.93264240026474,\n",
       " 0.8817623853683472,\n",
       " 0.8896622657775879,\n",
       " 0.841296911239624,\n",
       " 0.792296290397644,\n",
       " 0.8469581604003906,\n",
       " 0.8851651549339294,\n",
       " 0.9156219959259033,\n",
       " 0.8020032644271851,\n",
       " 0.8778175115585327,\n",
       " 1.2508199214935303,\n",
       " 0.9125123023986816,\n",
       " 0.9314053058624268,\n",
       " 1.011220097541809,\n",
       " 1.164228916168213,\n",
       " 0.8438501954078674,\n",
       " 1.1300556659698486,\n",
       " 0.9799519777297974,\n",
       " 0.9209305047988892,\n",
       " 0.8730329871177673,\n",
       " 0.9136316180229187,\n",
       " 0.7699421644210815,\n",
       " 0.7058454155921936,\n",
       " 0.800162136554718,\n",
       " 0.7048499584197998,\n",
       " 0.6364273428916931,\n",
       " 0.5934238433837891,\n",
       " 0.5640161037445068,\n",
       " 0.544580340385437,\n",
       " 0.5549417734146118,\n",
       " 0.5183885097503662,\n",
       " 0.46110302209854126,\n",
       " 0.44712239503860474,\n",
       " 0.4338793158531189,\n",
       " 0.4109818935394287,\n",
       " 0.3975861668586731,\n",
       " 0.3788321912288666,\n",
       " 0.3690781891345978,\n",
       " 0.36156925559043884,\n",
       " 0.34770867228507996,\n",
       " 0.3331054747104645,\n",
       " 0.32352960109710693,\n",
       " 0.3130854070186615,\n",
       " 0.2999475598335266,\n",
       " 0.2980191111564636,\n",
       " 0.2862243354320526,\n",
       " 0.2700912654399872,\n",
       " 0.26539504528045654,\n",
       " 0.2588195204734802,\n",
       " 0.24586164951324463,\n",
       " 0.23707467317581177,\n",
       " 0.23162811994552612,\n",
       " 0.22496725618839264,\n",
       " 0.24199067056179047,\n",
       " 0.7190093398094177,\n",
       " 1.1402606964111328,\n",
       " 0.7704455256462097,\n",
       " 0.47594061493873596,\n",
       " 0.6642702221870422,\n",
       " 0.5287571549415588,\n",
       " 0.46703413128852844,\n",
       " 0.4223897159099579,\n",
       " 0.3441373109817505,\n",
       " 0.3367283046245575,\n",
       " 0.29069140553474426,\n",
       " 0.2782590985298157,\n",
       " 0.25863349437713623,\n",
       " 0.24901272356510162,\n",
       " 0.23527632653713226,\n",
       " 0.22633783519268036,\n",
       " 0.22233423590660095,\n",
       " 0.22606046497821808,\n",
       " 0.20085808634757996,\n",
       " 0.18984025716781616,\n",
       " 0.1853717416524887,\n",
       " 0.17766374349594116,\n",
       " 0.17133328318595886,\n",
       " 0.16594353318214417,\n",
       " 0.16101500391960144,\n",
       " 0.15526975691318512,\n",
       " 0.15246683359146118,\n",
       " 0.14855071902275085,\n",
       " 0.14412066340446472,\n",
       " 0.14156155288219452,\n",
       " 0.1344296783208847,\n",
       " 0.13266341388225555,\n",
       " 0.12856726348400116,\n",
       " 0.12415169179439545,\n",
       " 0.12063427269458771,\n",
       " 0.11814385652542114,\n",
       " 0.11521458625793457,\n",
       " 0.11328388005495071,\n",
       " 0.10988551378250122,\n",
       " 0.10723667591810226,\n",
       " 0.10435695946216583,\n",
       " 0.10230755805969238,\n",
       " 0.09950348734855652,\n",
       " 0.09745614975690842,\n",
       " 0.09508410841226578,\n",
       " 0.09286133944988251,\n",
       " 0.09092485904693604,\n",
       " 0.08901325613260269,\n",
       " 0.08753889054059982,\n",
       " 0.08560429513454437,\n",
       " 0.0840960443019867,\n",
       " 0.08244557678699493,\n",
       " 0.08089698106050491,\n",
       " 0.07919584959745407,\n",
       " 0.07779538631439209,\n",
       " 0.07622697204351425,\n",
       " 0.07497603446245193,\n",
       " 0.07358462363481522,\n",
       " 0.07309266179800034,\n",
       " 0.07161348313093185,\n",
       " 0.0702972263097763,\n",
       " 0.06886901706457138,\n",
       " 0.06769712269306183,\n",
       " 0.06652496755123138,\n",
       " 0.06541875749826431,\n",
       " 0.06426598131656647,\n",
       " 0.06311307847499847,\n",
       " 0.0621265284717083,\n",
       " 0.06101306527853012,\n",
       " 0.06005258858203888,\n",
       " 0.058978594839572906,\n",
       " 0.058111511170864105,\n",
       " 0.05724141374230385,\n",
       " 0.056399356573820114,\n",
       " 0.055305033922195435,\n",
       " 0.05469806492328644,\n",
       " 0.05359850451350212,\n",
       " 0.052766766399145126,\n",
       " 0.0521356463432312,\n",
       " 0.05232846364378929,\n",
       " 0.05122356489300728,\n",
       " 0.05086018145084381,\n",
       " 0.049648724496364594,\n",
       " 0.04883114993572235,\n",
       " 0.04822961241006851,\n",
       " 0.04736284911632538,\n",
       " 0.04675803333520889,\n",
       " 0.04649720340967178,\n",
       " 0.04565029963850975,\n",
       " 0.04477420076727867,\n",
       " 0.04413875564932823,\n",
       " 0.04340874031186104,\n",
       " 0.0427214577794075,\n",
       " 0.04207586124539375,\n",
       " 0.04144597798585892,\n",
       " 0.04079337790608406,\n",
       " 0.04020637273788452,\n",
       " 0.03960665687918663,\n",
       " 0.03903889283537865,\n",
       " 0.03847574070096016,\n",
       " 0.03797241300344467,\n",
       " 0.037414949387311935,\n",
       " 0.03694521635770798,\n",
       " 0.03642407804727554,\n",
       " 0.03597645461559296,\n",
       " 0.03548562899231911,\n",
       " 0.03504123166203499,\n",
       " 0.03456364944577217,\n",
       " 0.034154754132032394,\n",
       " 0.03371744975447655,\n",
       " 0.033327676355838776,\n",
       " 0.03288367763161659,\n",
       " 0.032545022666454315,\n",
       " 0.03208920359611511,\n",
       " 0.03182736784219742,\n",
       " 0.031328052282333374,\n",
       " 0.031119322404265404,\n",
       " 0.03057919256389141,\n",
       " 0.03037171997129917,\n",
       " 0.029960419982671738,\n",
       " 0.029637133702635765,\n",
       " 0.02913973107933998,\n",
       " 0.028785858303308487,\n",
       " 0.028400951996445656,\n",
       " 0.0280538871884346,\n",
       " 0.027731604874134064,\n",
       " 0.02740517631173134,\n",
       " 0.027084194123744965,\n",
       " 0.026771390810608864,\n",
       " 0.026470018550753593,\n",
       " 0.02616528794169426,\n",
       " 0.02586265653371811,\n",
       " 0.025566283613443375,\n",
       " 0.02527640014886856,\n",
       " 0.024985600262880325,\n",
       " 0.024697445333003998,\n",
       " 0.024427074939012527,\n",
       " 0.024140866473317146,\n",
       " 0.023879067972302437,\n",
       " 0.02361106686294079,\n",
       " 0.023349875584244728,\n",
       " 0.02309410646557808,\n",
       " 0.022837597876787186,\n",
       " 0.02259320206940174,\n",
       " 0.022351281717419624,\n",
       " 0.022106101736426353,\n",
       " 0.021878987550735474,\n",
       " 0.02163001522421837,\n",
       " 0.021424051374197006,\n",
       " 0.02116928994655609,\n",
       " 0.020962554961442947,\n",
       " 0.02071654051542282]"
      ]
     },
     "execution_count": 108,
     "metadata": {},
     "output_type": "execute_result"
    }
   ],
   "source": [
    "loss_logger"
   ]
  },
  {
   "cell_type": "code",
   "execution_count": 109,
   "metadata": {},
   "outputs": [
    {
     "data": {
      "image/png": "[encoded data removed]",
      "text/plain": [
       "<Figure size 800x800 with 1 Axes>"
      ]
     },
     "metadata": {},
     "output_type": "display_data"
    }
   ],
   "source": [
    "from matplotlib import pyplot as plt\n",
    "plt.figure(figsize=(8,8))\n",
    "plt.title(\"Loss Curve\")\n",
    "plt.plot(loss_logger, label='train_loss')\n",
    "# plt.plot(accuracy_logger,label='accuracy')\n",
    "plt.xlabel(\"Epoch\")\n",
    "plt.legend()\n",
    "plt.show()"
   ]
  },
  {
   "cell_type": "code",
   "execution_count": 110,
   "metadata": {},
   "outputs": [
    {
     "data": {
      "image/png": "[encoded data removed]",
      "text/plain": [
       "<Figure size 800x800 with 1 Axes>"
      ]
     },
     "metadata": {},
     "output_type": "display_data"
    }
   ],
   "source": [
    "from matplotlib import pyplot as plt\n",
    "plt.figure(figsize=(8,8))\n",
    "plt.title(\"Accuracy Curve\")\n",
    "# plt.plot(loss_logger, label='train_loss')\n",
    "plt.plot(accuracy_logger,label='accuracy')\n",
    "plt.xlabel(\"Epoch\")\n",
    "plt.legend()\n",
    "plt.show()"
   ]
  },
  {
   "cell_type": "code",
   "execution_count": 90,
   "metadata": {},
   "outputs": [],
   "source": [
    "def check_accuracy(loader, model, h, c):\n",
    "    if data_loader:\n",
    "        print(\"Checking accuracy on training data\")\n",
    "    else:\n",
    "        print(\"Checking accuracy on test data\")  \n",
    "          \n",
    "    num_correct = 0\n",
    "    num_samples = 0\n",
    "    model.eval()\n",
    "    \n",
    "    with torch.no_grad():\n",
    "        for x, y in loader:\n",
    "            x = x.to(device=device)\n",
    "            y = y.to(device=device)\n",
    "            # x = x.reshape(x.shape[0], -1)\n",
    "            \n",
    "            scores,h,c = model(x,h,c)\n",
    "            _, predictions = scores.max(1)\n",
    "            num_correct += (predictions == y).sum()\n",
    "            num_samples += predictions.size(0)\n",
    "            \n",
    "        print(f\"Got {num_correct} / {num_samples} with accuracy {float(num_correct)/float(num_samples)*100:.2f}\")\n",
    "        \n",
    "    model.train()"
   ]
  },
  {
   "cell_type": "code",
   "execution_count": 91,
   "metadata": {},
   "outputs": [],
   "source": [
    "# h = torch.zeros(num_layers, 8, hidden_size).to(device)\n",
    "# c = torch.zeros(num_layers, 8, hidden_size).to(device)"
   ]
  },
  {
   "cell_type": "code",
   "execution_count": null,
   "metadata": {},
   "outputs": [],
   "source": [
    "check_accuracy(data_loader, model,h,c)\n",
    "# check_accuracy(test_loader, model)"
   ]
  },
  {
   "cell_type": "markdown",
   "metadata": {},
   "source": [
    "### Save and Load Model"
   ]
  },
  {
   "cell_type": "code",
   "execution_count": null,
   "metadata": {},
   "outputs": [],
   "source": [
    "pad_sequence(sequences, batch_first=True)"
   ]
  },
  {
   "cell_type": "code",
   "execution_count": null,
   "metadata": {},
   "outputs": [],
   "source": [
    "# Put the model in evaluation mode\n",
    "model.eval()\n",
    "\n",
    "# No need to track gradients during inference\n",
    "with torch.no_grad():\n",
    "    # Get the model's output (logits)\n",
    "    outputs = model(padded_sequences.to(device),h,c)\n",
    "\n",
    "# outputs = torch.softmax(outputs, dim=1)\n",
    "# outputs = torch.max(outputs,1)\n",
    "\n",
    "outputs\n"
   ]
  },
  {
   "cell_type": "code",
   "execution_count": null,
   "metadata": {},
   "outputs": [],
   "source": [
    "padded_sequences"
   ]
  },
  {
   "cell_type": "code",
   "execution_count": 96,
   "metadata": {},
   "outputs": [],
   "source": [
    "file_paths = [\"Data for different actions/เขิน.mp4/เขิน.npy\"]"
   ]
  },
  {
   "cell_type": "code",
   "execution_count": null,
   "metadata": {},
   "outputs": [],
   "source": [
    "# Load the sequences\n",
    "import torch\n",
    "sequences = load_keypoint_sequences(file_paths)\n",
    "# Change list to numpy array \n",
    "sequences = np.array(sequences)\n",
    "# Change numpy array to tensor\n",
    "sequences = torch.FloatTensor(sequences)\n",
    "sequences = pad_sequence(sequences, batch_first=True)\n",
    "sequences"
   ]
  },
  {
   "cell_type": "code",
   "execution_count": null,
   "metadata": {},
   "outputs": [],
   "source": [
    "outputs = model(sequences.to(device))\n",
    "outputs"
   ]
  },
  {
   "cell_type": "code",
   "execution_count": null,
   "metadata": {},
   "outputs": [],
   "source": [
    "labels = [action.split(\".\")[0] for action in actions]\n",
    "labels"
   ]
  },
  {
   "cell_type": "code",
   "execution_count": 100,
   "metadata": {},
   "outputs": [],
   "source": [
    "# Change from tensor to numpy arrat\n",
    "outputs = outputs.cpu().detach().numpy()"
   ]
  },
  {
   "cell_type": "code",
   "execution_count": null,
   "metadata": {},
   "outputs": [],
   "source": [
    "outputs"
   ]
  },
  {
   "cell_type": "code",
   "execution_count": null,
   "metadata": {},
   "outputs": [],
   "source": [
    "for idx, word in enumerate(outputs):\n",
    "    # max_value = torch.max(outputs)\n",
    "    list_outputs = max(outputs)\n",
    "    print(list_outputs)\n",
    "    # print(max_value)\n",
    "    # print(max_value.detach().numpy())"
   ]
  },
  {
   "cell_type": "code",
   "execution_count": null,
   "metadata": {},
   "outputs": [],
   "source": [
    "index_max = max(range(len(list_outputs)), key=list_outputs.__getitem__)\n",
    "index_max"
   ]
  },
  {
   "cell_type": "code",
   "execution_count": null,
   "metadata": {},
   "outputs": [],
   "source": [
    "print(labels[index_max])"
   ]
  },
  {
   "cell_type": "code",
   "execution_count": 105,
   "metadata": {},
   "outputs": [],
   "source": [
    "# Test accuracy on training dataset\n",
    "import os \n",
    "video_dir = \"C:/Users/araya/Desktop/vscode/Deep-learning-coding/MediaPipe/Data for different actions\"\n",
    "video_list = []\n",
    "video_list = os.listdir(video_dir)\n",
    "\n",
    "len(video_list)\n",
    "\n",
    "Model_Data=os.path.join('Data for different actions')\n",
    "\n",
    "actions = np.array(video_list)"
   ]
  },
  {
   "cell_type": "code",
   "execution_count": null,
   "metadata": {},
   "outputs": [],
   "source": [
    "train_name = [action.split(\".\")[0] for action in actions]\n",
    "train_name"
   ]
  },
  {
   "cell_type": "code",
   "execution_count": null,
   "metadata": {},
   "outputs": [],
   "source": [
    "correct = 0\n",
    "num_clip = 0\n",
    "for clip in train_name:\n",
    "    # print(clip)\n",
    "    file_paths = [f\"Data for different actions/{clip}.mp4/{clip}.npy\"]\n",
    "    # print(file_paths)\n",
    "\n",
    "    sequences = load_keypoint_sequences(file_paths)\n",
    "    # Change list to numpy array \n",
    "    sequences = np.array(sequences)\n",
    "    # Change numpy array to tensor\n",
    "    sequences = torch.FloatTensor(sequences)\n",
    "    sequences = pad_sequence(sequences, batch_first=True)\n",
    "\n",
    "    outputs = model(sequences.to(device),h,c)\n",
    "\n",
    "    for idx, word in enumerate(outputs):\n",
    "        # max_value = torch.max(outputs)\n",
    "        list_outputs = max(outputs)\n",
    "\n",
    "    index_max = max(range(len(list_outputs)), key=list_outputs.__getitem__)\n",
    "\n",
    "    print(f\"Input : {clip} Predicted : {labels[index_max]}\")\n",
    "\n",
    "    clip = clip.split(\"_\")[0]\n",
    "\n",
    "    if clip == labels[index_max]:\n",
    "        correct = correct+1\n",
    "    \n",
    "    num_clip = num_clip + 1 \n",
    "\n",
    "print(f\"Correct Predicted on Training set : {correct} Corrct percentage : {correct*100/num_clip}%\")"
   ]
  },
  {
   "cell_type": "code",
   "execution_count": null,
   "metadata": {},
   "outputs": [],
   "source": [
    "print(labels)"
   ]
  },
  {
   "cell_type": "code",
   "execution_count": 362,
   "metadata": {},
   "outputs": [],
   "source": [
    "# import os \n",
    "# video_dir = \"C:/Users/araya/Desktop/augments\"\n",
    "# video_list = []\n",
    "# video_list = os.listdir(video_dir)\n",
    "\n",
    "# len(video_list)"
   ]
  },
  {
   "cell_type": "code",
   "execution_count": null,
   "metadata": {},
   "outputs": [],
   "source": [
    "import os \n",
    "video_dir = \"C:/Users/araya/Desktop/vscode/Deep-learning-coding/MediaPipe/Test\"\n",
    "video_list = []\n",
    "video_list = os.listdir(video_dir)\n",
    "\n",
    "len(video_list)"
   ]
  },
  {
   "cell_type": "code",
   "execution_count": 103,
   "metadata": {},
   "outputs": [],
   "source": [
    "# Path for exported data, numpy arrays\n",
    "Model_Data=os.path.join('../MediaPipe/Test')\n",
    "\n",
    "actions_test = np.array(video_list)\n",
    "\n",
    "no_of_seqs = 1\n",
    "\n",
    "# 30 frames in length\n",
    "seq_length = 160"
   ]
  },
  {
   "cell_type": "code",
   "execution_count": null,
   "metadata": {},
   "outputs": [],
   "source": [
    "labels_test = [action.split(\".\")[0] for action in actions_test]\n",
    "labels_test"
   ]
  },
  {
   "cell_type": "code",
   "execution_count": null,
   "metadata": {},
   "outputs": [],
   "source": [
    "file_paths = []\n",
    "for action in actions_test:\n",
    "    video_path = os.path.join('Test/', action)\n",
    "    # print(video_path)\n",
    "    # print(action)\n",
    "    file_paths.append(video_path + '/' + action.split(\".\")[0] + \".npy\")\n",
    "print(file_paths)"
   ]
  },
  {
   "cell_type": "code",
   "execution_count": null,
   "metadata": {},
   "outputs": [],
   "source": [
    "file_paths"
   ]
  },
  {
   "cell_type": "code",
   "execution_count": null,
   "metadata": {},
   "outputs": [],
   "source": [
    "correct = 0\n",
    "num_clip = 0\n",
    "for clip in labels_test:\n",
    "    # print(clip)\n",
    "    file_paths = [f\"Test/{clip}.mp4/{clip}.npy\"]\n",
    "    # print(file_paths)\n",
    "\n",
    "    sequences = load_keypoint_sequences(file_paths)\n",
    "    # Change list to numpy array \n",
    "    sequences = np.array(sequences)\n",
    "    # Change numpy array to tensor\n",
    "    sequences = torch.FloatTensor(sequences)\n",
    "    sequences = pad_sequence(sequences, batch_first=True)\n",
    "\n",
    "    outputs = model(sequences.to(device))\n",
    "\n",
    "    for idx, word in enumerate(outputs):\n",
    "        # max_value = torch.max(outputs)\n",
    "        list_outputs = max(outputs)\n",
    "\n",
    "    index_max = max(range(len(list_outputs)), key=list_outputs.__getitem__)\n",
    "\n",
    "    print(f\"Input : {clip} Predicted : {labels[index_max]}\")\n",
    "\n",
    "    clip = clip.split(\"_\")[0]\n",
    "\n",
    "    if clip == labels[index_max]:\n",
    "        correct = correct+1\n",
    "    \n",
    "    num_clip = num_clip + 1 \n",
    "\n",
    "print(f\"Correct Predicted on Training set : {correct} Corrct percentage : {correct*100/num_clip}%\")"
   ]
  },
  {
   "cell_type": "markdown",
   "metadata": {},
   "source": [
    "### Save Model"
   ]
  },
  {
   "cell_type": "code",
   "execution_count": 46,
   "metadata": {},
   "outputs": [],
   "source": [
    "# torch.save(model.state_dict(), 'saved_data/attention_lstm.pt')\n",
    "# torch.save(optimizer.state_dict(), 'saved_data/optimizer.pt')\n",
    "# # torch.save(scheduler.state_dict(), 'saved_data/scheduler.pt')"
   ]
  },
  {
   "cell_type": "markdown",
   "metadata": {},
   "source": [
    "### Real-Time Prediction"
   ]
  },
  {
   "cell_type": "code",
   "execution_count": 683,
   "metadata": {},
   "outputs": [],
   "source": [
    "import cv2\n",
    "import numpy as np\n",
    "import os\n",
    "from matplotlib import pyplot as plt\n",
    "import time\n",
    "import mediapipe as mp "
   ]
  },
  {
   "cell_type": "code",
   "execution_count": 684,
   "metadata": {},
   "outputs": [],
   "source": [
    "mp_holist = mp.solutions.holistic \n",
    "mp_draw = mp.solutions.drawing_utils"
   ]
  },
  {
   "cell_type": "code",
   "execution_count": 685,
   "metadata": {},
   "outputs": [],
   "source": [
    "def mediapipe_detection(img, model):\n",
    "    img = cv2.cvtColor(img, cv2.COLOR_BGR2RGB)\n",
    "    img.flags.writeable = False                 \n",
    "    result = model.process(img)                 # Make prediction\n",
    "    img.flags.writeable = True                   \n",
    "    img = cv2.cvtColor(img, cv2.COLOR_RGB2BGR) \n",
    "    return img, result"
   ]
  },
  {
   "cell_type": "code",
   "execution_count": 686,
   "metadata": {},
   "outputs": [],
   "source": [
    "def draw_landmarks(img, result):\n",
    "    mp_draw.draw_landmarks(img, result.face_landmarks, mp_holist.FACEMESH_CONTOURS) # Draw face connections\n",
    "    mp_draw.draw_landmarks(img, result.pose_landmarks, mp_holist.POSE_CONNECTIONS) # Draw pose connections\n",
    "    mp_draw.draw_landmarks(img, result.left_hand_landmarks, mp_holist.HAND_CONNECTIONS) # Draw left hand connections\n",
    "    mp_draw.draw_landmarks(img, result.right_hand_landmarks, mp_holist.HAND_CONNECTIONS) # Draw right hand connections"
   ]
  },
  {
   "cell_type": "code",
   "execution_count": 687,
   "metadata": {},
   "outputs": [],
   "source": [
    "def draw_styled_landmarks(img, result):\n",
    "    mp_draw.draw_landmarks(img, result.face_landmarks, mp_holist.FACEMESH_CONTOURS, \n",
    "                             mp_draw.DrawingSpec(color=(80,110,10), thickness=1, circle_radius=1), # color the joint \n",
    "                             mp_draw.DrawingSpec(color=(80,256,121), thickness=1, circle_radius=1) #color the connection\n",
    "                             ) \n",
    "    # mp_draw.draw_landmarks(img, result.face_landmarks, mp_holist.FACEMESH_CONTOURS, \n",
    "    #                          mp_draw.DrawingSpec(color=(80,110,10), thickness=1, circle_radius=1), # color the joint \n",
    "    #                          mp_draw.DrawingSpec(color=(80,256,121), thickness=1, circle_radius=1) #color the connection\n",
    "    #                          ) \n",
    "    \n",
    "    mp_draw.draw_landmarks(img, result.pose_landmarks, mp_holist.POSE_CONNECTIONS,\n",
    "                             mp_draw.DrawingSpec(color=(80,22,10), thickness=2, circle_radius=4), \n",
    "                             mp_draw.DrawingSpec(color=(80,44,121), thickness=2, circle_radius=2)\n",
    "                             ) \n",
    "    mp_draw.draw_landmarks(img, result.left_hand_landmarks, mp_holist.HAND_CONNECTIONS, \n",
    "                             mp_draw.DrawingSpec(color=(121,22,76), thickness=2, circle_radius=4), \n",
    "                             mp_draw.DrawingSpec(color=(121,44,250), thickness=2, circle_radius=2)\n",
    "                             ) \n",
    "    mp_draw.draw_landmarks(img, result.right_hand_landmarks, mp_holist.HAND_CONNECTIONS, \n",
    "                             mp_draw.DrawingSpec(color=(245,117,66), thickness=2, circle_radius=4), \n",
    "                             mp_draw.DrawingSpec(color=(245,66,230), thickness=2, circle_radius=2)\n",
    "                             ) "
   ]
  },
  {
   "cell_type": "code",
   "execution_count": 688,
   "metadata": {},
   "outputs": [],
   "source": [
    "def extract_keypoints(results):\n",
    "    pose=np.array([[res.x,res.y] for res in results.pose_landmarks.landmark]).flatten() if results.pose_landmarks else np.zeros(33*2)\n",
    "    left_hnd=np.array([[res.x,res.y] for res in results.left_hand_landmarks.landmark]).flatten() if results.left_hand_landmarks else np.zeros(21*2)\n",
    "    right_hnd=np.array([[res.x,res.y] for res in results.right_hand_landmarks.landmark]).flatten() if results.right_hand_landmarks else np.zeros(21*2)\n",
    "    face=np.array([[res.x,res.y] for res in results.face_landmarks.landmark]).flatten() if results.face_landmarks else np.zeros(468*2)\n",
    "    return np.concatenate([pose,left_hnd,right_hnd,face])\n",
    "# concatenating for the model to detect the sign language"
   ]
  },
  {
   "cell_type": "code",
   "execution_count": 656,
   "metadata": {},
   "outputs": [],
   "source": [
    "# # Initialize MediaPipe holistic model\n",
    "# mp_holistic = mp.solutions.holistic\n",
    "# holistic = mp_holistic.Holistic()\n",
    "\n",
    "# # Initialize OpenCV video capture\n",
    "# cap = cv2.VideoCapture(0)\n",
    "\n",
    "# sequence = []\n",
    "# sequence_length = 160\n",
    "\n",
    "# while cap.isOpened():\n",
    "#     ret, frame = cap.read()\n",
    "#     if not ret:\n",
    "#         break\n",
    "    \n",
    "#     # Convert the image to RGB (MediaPipe expects RGB images)\n",
    "#     image_rgb = cv2.cvtColor(frame, cv2.COLOR_BGR2RGB)\n",
    "    \n",
    "#     # Process the frame with MediaPipe\n",
    "#     results = holistic.process(image_rgb)\n",
    "    \n",
    "#     # Extract keypoints (face, hands, and pose landmarks)\n",
    "#     # Assume extract_keypoints function converts keypoints into a flattened vector of size 1662\n",
    "#     keypoints = extract_keypoints(results) \n",
    "    \n",
    "#     # Append keypoints to the sequence buffer\n",
    "#     sequence.append(keypoints)\n",
    "    \n",
    "#     # Ensure the sequence only keeps the last 160 frames\n",
    "#     if len(sequence) > sequence_length:\n",
    "#         sequence.pop(0)\n",
    "    \n",
    "#     if len(sequence) == sequence_length:\n",
    "#         # Convert sequence to tensor\n",
    "#         input_tensor = torch.tensor([sequence], dtype=torch.float32)\n",
    "        \n",
    "#         # Make predictions\n",
    "#         with torch.no_grad():\n",
    "#             prediction = model(input_tensor.to(device))\n",
    "        \n",
    "#         # Decode and display the prediction\n",
    "#         predicted_class = torch.argmax(prediction, dim=1).item()\n",
    "#         print(f\"Predicted Class: {predicted_class}\")\n",
    "    \n",
    "#     # Display the video frame\n",
    "#     cv2.imshow('Real-time Sign Language Recognition', frame)\n",
    "    \n",
    "#     if cv2.waitKey(10) & 0xFF == ord('q'):\n",
    "#         break\n",
    "\n",
    "# cap.release()\n",
    "# cv2.destroyAllWindows()"
   ]
  },
  {
   "cell_type": "code",
   "execution_count": 657,
   "metadata": {},
   "outputs": [],
   "source": [
    "# # Function to apply CLAHE for light normalization\n",
    "# def apply_clahe(frame):\n",
    "#     # Convert to grayscale\n",
    "#     gray = cv2.cvtColor(frame, cv2.COLOR_BGR2GRAY)\n",
    "    \n",
    "#     # Apply CLAHE (Contrast Limited Adaptive Histogram Equalization)\n",
    "#     clahe = cv2.createCLAHE(clipLimit=2.0, tileGridSize=(8, 8))\n",
    "#     equalized = clahe.apply(gray)\n",
    "    \n",
    "#     # Convert back to BGR after CLAHE\n",
    "#     frame_clahe = cv2.cvtColor(equalized, cv2.COLOR_GRAY2BGR)\n",
    "    \n",
    "#     return frame_clahe"
   ]
  },
  {
   "cell_type": "code",
   "execution_count": 658,
   "metadata": {},
   "outputs": [],
   "source": [
    "from rembg import remove"
   ]
  },
  {
   "cell_type": "code",
   "execution_count": null,
   "metadata": {},
   "outputs": [],
   "source": [
    "threshold = 0.5  # Confidence threshold for prediction\n",
    "\n",
    "cap = cv2.VideoCapture(0)\n",
    "sequence = []\n",
    "sequence_length = 60\n",
    "# Set mediapipe model \n",
    "with mp_holist.Holistic(min_detection_confidence=0.5, min_tracking_confidence=0.01,static_image_mode=False, \n",
    "    model_complexity=1,) as holistic:\n",
    "    while cap.isOpened():\n",
    "\n",
    "        ret, frame = cap.read()\n",
    "\n",
    "        # frame = apply_clahe(frame)\n",
    "\n",
    "        image, results = mediapipe_detection(frame, holistic)\n",
    "        # print(results)\n",
    "        \n",
    "        keypoints = extract_keypoints(results)\n",
    "\n",
    "        if keypoints.any():\n",
    "            sequence.append(keypoints)\n",
    "\n",
    "            if len(sequence) > sequence_length:\n",
    "                sequence = []\n",
    "        \n",
    "            if len(sequence) == sequence_length:\n",
    "                # Convert sequence to tensor\n",
    "                input_tensor = torch.tensor([sequence], dtype=torch.float32)\n",
    "                sequence = []\n",
    "            \n",
    "                # Make predictions\n",
    "                with torch.no_grad():\n",
    "                    prediction = model(input_tensor.to(device))\n",
    "            \n",
    "                # Get predicted class\n",
    "                predicted_class_idx = torch.argmax(prediction, dim=1).item()\n",
    "                predicted_class_label = labels[predicted_class_idx]\n",
    "                confidence = torch.softmax(prediction, dim=1)[0][predicted_class_idx].item()\n",
    "\n",
    "                # Display prediction result\n",
    "                if confidence > threshold:\n",
    "                    cv2.putText(image, f'{predicted_class_label} ({confidence:.2f})', (50, 50),\n",
    "                                cv2.FONT_HERSHEY_SIMPLEX, 1, (0, 255, 0), 2, cv2.LINE_AA)\n",
    "                    print(predicted_class_label)\n",
    "        \n",
    "        draw_styled_landmarks(image, results)\n",
    "\n",
    "        cv2.imshow('OpenCV Feed', image)\n",
    "\n",
    "        if cv2.waitKey(10) & 0xFF == ord('q'):\n",
    "            break\n",
    "    cap.release()\n",
    "    cv2.destroyAllWindows()"
   ]
  },
  {
   "cell_type": "code",
   "execution_count": 681,
   "metadata": {},
   "outputs": [],
   "source": [
    "cap.release()\n",
    "cv2.destroyAllWindows()"
   ]
  },
  {
   "cell_type": "markdown",
   "metadata": {},
   "source": [
    "### Save & Load Model Command"
   ]
  },
  {
   "cell_type": "code",
   "execution_count": 1061,
   "metadata": {},
   "outputs": [],
   "source": [
    "# torch.save(model.state_dict(), 'saved_data/attention_lstm.pt')\n",
    "# torch.save(optimizer.state_dict(), 'saved_data/optimizer.pt')\n",
    "# # torch.save(scheduler.state_dict(), 'saved_data/scheduler.pt')"
   ]
  },
  {
   "cell_type": "code",
   "execution_count": null,
   "metadata": {},
   "outputs": [],
   "source": [
    "# #Load model\n",
    "# model.load_state_dict(torch.load('saved_data/model_name.pt'))\n",
    "# optimizer.load_state_dict(torch.load('saved_data/optimizer_namae.pt'))"
   ]
  }
 ],
 "metadata": {
  "kernelspec": {
   "display_name": "Python 3",
   "language": "python",
   "name": "python3"
  },
  "language_info": {
   "codemirror_mode": {
    "name": "ipython",
    "version": 3
   },
   "file_extension": ".py",
   "mimetype": "text/x-python",
   "name": "python",
   "nbconvert_exporter": "python",
   "pygments_lexer": "ipython3",
   "version": "3.12.4"
  }
 },
 "nbformat": 4,
 "nbformat_minor": 4
}
