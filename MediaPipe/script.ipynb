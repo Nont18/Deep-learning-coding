{
 "cells": [
  {
   "cell_type": "markdown",
   "metadata": {},
   "source": [
    "### Prepare Script for Label classification"
   ]
  },
  {
   "cell_type": "code",
   "execution_count": 98,
   "metadata": {},
   "outputs": [],
   "source": [
    "import numpy as np\n",
    "import pandas as pd"
   ]
  },
  {
   "cell_type": "code",
   "execution_count": 99,
   "metadata": {},
   "outputs": [
    {
     "name": "stdout",
     "output_type": "stream",
     "text": [
      "['กฎกระทรวง.mp4', 'กฎกระทรวง_0.mp4', 'กฎกระทรวง_1.mp4', 'กฎกระทรวง_2.mp4', 'กฎหมายรัฐธรรมนูญ.mp4', 'กฎหมายรัฐธรรมนูญ_0.mp4', 'กฎหมายรัฐธรรมนูญ_1.mp4', 'กฎหมายรัฐธรรมนูญ_2.mp4', 'กรมอนามัย.mp4', 'กรมอนามัย_0.mp4', 'กรมอนามัย_1.mp4', 'กรมอนามัย_2.mp4', 'กรรม.mp4', 'กรรม_0.mp4', 'กรรม_1.mp4', 'กรรม_2.mp4', 'กรรมสิทธิ์.mp4', 'กรรมสิทธิ์_0.mp4', 'กรรมสิทธิ์_1.mp4', 'กรรมสิทธิ์_2.mp4', 'กระโดด.mp4', 'กระโดด_0.mp4', 'กระโดด_1.mp4', 'กระโดด_2.mp4', 'กล้วยบวชชี.mp4', 'กล้วยบวชชี_0.mp4', 'กล้วยบวชชี_1.mp4', 'กล้วยบวชชี_2.mp4', 'กล้วยเชื่อม.mp4', 'กล้วยเชื่อม_0.mp4', 'กล้วยเชื่อม_1.mp4', 'กล้วยเชื่อม_2.mp4', 'กังวล.mp4', 'กังวล_0.mp4', 'กังวล_1.mp4', 'กังวล_2.mp4', 'กีฬา.mp4', 'กีฬา_0.mp4', 'กีฬา_1.mp4', 'กีฬา_2.mp4', 'น้อง.mp4', 'น้อง_0.mp4', 'น้อง_1.mp4', 'น้อง_2.mp4', 'เขิน.mp4', 'เขิน_0.mp4', 'เขิน_1.mp4', 'เขิน_2.mp4', 'เขื่อนดิน.mp4', 'เขื่อนดิน_0.mp4', 'เขื่อนดิน_1.mp4', 'เขื่อนดิน_2.mp4', 'เขื่อนสิริกิติ์.mp4', 'เขื่อนสิริกิติ์_0.mp4', 'เขื่อนสิริกิติ์_1.mp4', 'เขื่อนสิริกิติ์_2.mp4', 'เข้าใจผิด.mp4', 'เข้าใจผิด_0.mp4', 'เข้าใจผิด_1.mp4', 'เข้าใจผิด_2.mp4', 'เคย.mp4', 'เคย_0.mp4', 'เคย_1.mp4', 'เคย_2.mp4', 'เครียด.mp4', 'เครียด_0.mp4', 'เครียด_1.mp4', 'เครียด_2.mp4', 'เครื่องปั่นดิน.mp4', 'เครื่องปั่นดิน_0.mp4', 'เครื่องปั่นดิน_1.mp4', 'เครื่องปั่นดิน_2.mp4', 'เครื่องหมายการค้า.mp4', 'เครื่องหมายการค้า_0.mp4', 'เครื่องหมายการค้า_1.mp4', 'เครื่องหมายการค้า_2.mp4', 'เจอ.mp4', 'เจอ_0.mp4', 'เจอ_1.mp4', 'เจอ_2.mp4', 'เจ้าหนี้.mp4', 'เจ้าหนี้_0.mp4', 'เจ้าหนี้_1.mp4', 'เจ้าหนี้_2.mp4', 'เช่าซื้อ.mp4', 'เช่าซื้อ_0.mp4', 'เช่าซื้อ_1.mp4', 'เช่าซื้อ_2.mp4', 'เช่าทรัพย์.mp4', 'เช่าทรัพย์_0.mp4', 'เช่าทรัพย์_1.mp4', 'เช่าทรัพย์_2.mp4', 'เซอร์เบีย.mp4', 'เซอร์เบีย_0.mp4', 'เซอร์เบีย_1.mp4', 'เซอร์เบีย_2.mp4', 'เซเนกัล.mp4', 'เซเนกัล_0.mp4', 'เซเนกัล_1.mp4', 'เซเนกัล_2.mp4', 'เซ็ง.mp4', 'เซ็ง_0.mp4', 'เซ็ง_1.mp4', 'เซ็ง_2.mp4', 'เดิน.mp4', 'เดิน_0.mp4', 'เดิน_1.mp4', 'เดิน_2.mp4', 'เดิมพัน.mp4', 'เดิมพัน_0.mp4', 'เดิมพัน_1.mp4', 'เดิมพัน_2.mp4', 'เพลีย.mp4', 'เพลีย_0.mp4', 'เพลีย_1.mp4', 'เพลีย_2.mp4', 'เมื่อย.mp4', 'เมื่อย_0.mp4', 'เมื่อย_1.mp4', 'เมื่อย_2.mp4', 'เม็กซิโก.mp4', 'เม็กซิโก_0.mp4', 'เม็กซิโก_1.mp4', 'เม็กซิโก_2.mp4', 'เฮโรอีน.mp4', 'เฮโรอีน_0.mp4', 'เฮโรอีน_1.mp4', 'เฮโรอีน_2.mp4', 'แกมเบีย.mp4', 'แกมเบีย_0.mp4', 'แกมเบีย_1.mp4', 'แกมเบีย_2.mp4', 'แซมเบีย.mp4', 'แซมเบีย_0.mp4', 'แซมเบีย_1.mp4', 'แซมเบีย_2.mp4', 'โกหก.mp4', 'โกหก_0.mp4', 'โกหก_1.mp4', 'โกหก_2.mp4', 'โจทก์.mp4', 'โจทก์_0.mp4', 'โจทก์_1.mp4', 'โจทก์_2.mp4', 'โชจู.mp4', 'โชจู_0.mp4', 'โชจู_1.mp4', 'โชจู_2.mp4', 'ใกล้.mp4', 'ใกล้_0.mp4', 'ใกล้_1.mp4', 'ใกล้_2.mp4', 'ไดโนเสาร์.mp4', 'ไดโนเสาร์_0.mp4', 'ไดโนเสาร์_1.mp4', 'ไดโนเสาร์_2.mp4', 'ไอซ์.mp4', 'ไอซ์_0.mp4', 'ไอซ์_1.mp4', 'ไอซ์_2.mp4']\n"
     ]
    }
   ],
   "source": [
    "import os \n",
    "video_dir = \"C:/Users/araya/Desktop/keypoints/video_extract\"\n",
    "video_list = []\n",
    "video_list = os.listdir(video_dir)\n",
    "\n",
    "len(video_list)\n",
    "print(video_list)"
   ]
  },
  {
   "cell_type": "code",
   "execution_count": 100,
   "metadata": {},
   "outputs": [],
   "source": [
    "# Path for exported data, numpy arrays\n",
    "Model_Data=os.path.join('Data for different actions')\n",
    "\n",
    "actions = np.array(video_list)\n",
    "\n",
    "no_of_seqs = 1\n",
    "\n",
    "# 30 frames in length\n",
    "seq_length = 160"
   ]
  },
  {
   "cell_type": "code",
   "execution_count": 101,
   "metadata": {},
   "outputs": [
    {
     "data": {
      "text/plain": [
       "array(['กฎกระทรวง.mp4', 'กฎกระทรวง_0.mp4', 'กฎกระทรวง_1.mp4',\n",
       "       'กฎกระทรวง_2.mp4', 'กฎหมายรัฐธรรมนูญ.mp4',\n",
       "       'กฎหมายรัฐธรรมนูญ_0.mp4', 'กฎหมายรัฐธรรมนูญ_1.mp4',\n",
       "       'กฎหมายรัฐธรรมนูญ_2.mp4', 'กรมอนามัย.mp4', 'กรมอนามัย_0.mp4',\n",
       "       'กรมอนามัย_1.mp4', 'กรมอนามัย_2.mp4', 'กรรม.mp4', 'กรรม_0.mp4',\n",
       "       'กรรม_1.mp4', 'กรรม_2.mp4', 'กรรมสิทธิ์.mp4', 'กรรมสิทธิ์_0.mp4',\n",
       "       'กรรมสิทธิ์_1.mp4', 'กรรมสิทธิ์_2.mp4', 'กระโดด.mp4',\n",
       "       'กระโดด_0.mp4', 'กระโดด_1.mp4', 'กระโดด_2.mp4', 'กล้วยบวชชี.mp4',\n",
       "       'กล้วยบวชชี_0.mp4', 'กล้วยบวชชี_1.mp4', 'กล้วยบวชชี_2.mp4',\n",
       "       'กล้วยเชื่อม.mp4', 'กล้วยเชื่อม_0.mp4', 'กล้วยเชื่อม_1.mp4',\n",
       "       'กล้วยเชื่อม_2.mp4', 'กังวล.mp4', 'กังวล_0.mp4', 'กังวล_1.mp4',\n",
       "       'กังวล_2.mp4', 'กีฬา.mp4', 'กีฬา_0.mp4', 'กีฬา_1.mp4',\n",
       "       'กีฬา_2.mp4', 'น้อง.mp4', 'น้อง_0.mp4', 'น้อง_1.mp4', 'น้อง_2.mp4',\n",
       "       'เขิน.mp4', 'เขิน_0.mp4', 'เขิน_1.mp4', 'เขิน_2.mp4',\n",
       "       'เขื่อนดิน.mp4', 'เขื่อนดิน_0.mp4', 'เขื่อนดิน_1.mp4',\n",
       "       'เขื่อนดิน_2.mp4', 'เขื่อนสิริกิติ์.mp4', 'เขื่อนสิริกิติ์_0.mp4',\n",
       "       'เขื่อนสิริกิติ์_1.mp4', 'เขื่อนสิริกิติ์_2.mp4', 'เข้าใจผิด.mp4',\n",
       "       'เข้าใจผิด_0.mp4', 'เข้าใจผิด_1.mp4', 'เข้าใจผิด_2.mp4', 'เคย.mp4',\n",
       "       'เคย_0.mp4', 'เคย_1.mp4', 'เคย_2.mp4', 'เครียด.mp4',\n",
       "       'เครียด_0.mp4', 'เครียด_1.mp4', 'เครียด_2.mp4',\n",
       "       'เครื่องปั่นดิน.mp4', 'เครื่องปั่นดิน_0.mp4',\n",
       "       'เครื่องปั่นดิน_1.mp4', 'เครื่องปั่นดิน_2.mp4',\n",
       "       'เครื่องหมายการค้า.mp4', 'เครื่องหมายการค้า_0.mp4',\n",
       "       'เครื่องหมายการค้า_1.mp4', 'เครื่องหมายการค้า_2.mp4', 'เจอ.mp4',\n",
       "       'เจอ_0.mp4', 'เจอ_1.mp4', 'เจอ_2.mp4', 'เจ้าหนี้.mp4',\n",
       "       'เจ้าหนี้_0.mp4', 'เจ้าหนี้_1.mp4', 'เจ้าหนี้_2.mp4',\n",
       "       'เช่าซื้อ.mp4', 'เช่าซื้อ_0.mp4', 'เช่าซื้อ_1.mp4',\n",
       "       'เช่าซื้อ_2.mp4', 'เช่าทรัพย์.mp4', 'เช่าทรัพย์_0.mp4',\n",
       "       'เช่าทรัพย์_1.mp4', 'เช่าทรัพย์_2.mp4', 'เซอร์เบีย.mp4',\n",
       "       'เซอร์เบีย_0.mp4', 'เซอร์เบีย_1.mp4', 'เซอร์เบีย_2.mp4',\n",
       "       'เซเนกัล.mp4', 'เซเนกัล_0.mp4', 'เซเนกัล_1.mp4', 'เซเนกัล_2.mp4',\n",
       "       'เซ็ง.mp4', 'เซ็ง_0.mp4', 'เซ็ง_1.mp4', 'เซ็ง_2.mp4', 'เดิน.mp4',\n",
       "       'เดิน_0.mp4', 'เดิน_1.mp4', 'เดิน_2.mp4', 'เดิมพัน.mp4',\n",
       "       'เดิมพัน_0.mp4', 'เดิมพัน_1.mp4', 'เดิมพัน_2.mp4', 'เพลีย.mp4',\n",
       "       'เพลีย_0.mp4', 'เพลีย_1.mp4', 'เพลีย_2.mp4', 'เมื่อย.mp4',\n",
       "       'เมื่อย_0.mp4', 'เมื่อย_1.mp4', 'เมื่อย_2.mp4', 'เม็กซิโก.mp4',\n",
       "       'เม็กซิโก_0.mp4', 'เม็กซิโก_1.mp4', 'เม็กซิโก_2.mp4',\n",
       "       'เฮโรอีน.mp4', 'เฮโรอีน_0.mp4', 'เฮโรอีน_1.mp4', 'เฮโรอีน_2.mp4',\n",
       "       'แกมเบีย.mp4', 'แกมเบีย_0.mp4', 'แกมเบีย_1.mp4', 'แกมเบีย_2.mp4',\n",
       "       'แซมเบีย.mp4', 'แซมเบีย_0.mp4', 'แซมเบีย_1.mp4', 'แซมเบีย_2.mp4',\n",
       "       'โกหก.mp4', 'โกหก_0.mp4', 'โกหก_1.mp4', 'โกหก_2.mp4', 'โจทก์.mp4',\n",
       "       'โจทก์_0.mp4', 'โจทก์_1.mp4', 'โจทก์_2.mp4', 'โชจู.mp4',\n",
       "       'โชจู_0.mp4', 'โชจู_1.mp4', 'โชจู_2.mp4', 'ใกล้.mp4', 'ใกล้_0.mp4',\n",
       "       'ใกล้_1.mp4', 'ใกล้_2.mp4', 'ไดโนเสาร์.mp4', 'ไดโนเสาร์_0.mp4',\n",
       "       'ไดโนเสาร์_1.mp4', 'ไดโนเสาร์_2.mp4', 'ไอซ์.mp4', 'ไอซ์_0.mp4',\n",
       "       'ไอซ์_1.mp4', 'ไอซ์_2.mp4'], dtype='<U23')"
      ]
     },
     "execution_count": 101,
     "metadata": {},
     "output_type": "execute_result"
    }
   ],
   "source": [
    "actions"
   ]
  },
  {
   "cell_type": "code",
   "execution_count": 102,
   "metadata": {},
   "outputs": [
    {
     "data": {
      "text/plain": [
       "'C:/Users/araya/Desktop/keypoints/video_extract'"
      ]
     },
     "execution_count": 102,
     "metadata": {},
     "output_type": "execute_result"
    }
   ],
   "source": [
    "# Define the directory where your videos are stored\n",
    "directory = \"C:/Users/araya/Desktop/keypoints/video_extract\"\n",
    "directory"
   ]
  },
  {
   "cell_type": "code",
   "execution_count": 103,
   "metadata": {},
   "outputs": [
    {
     "name": "stdout",
     "output_type": "stream",
     "text": [
      "C:/Users/araya/Desktop/keypoints/video_extract/กฎกระทรวง.mp4\n",
      "C:/Users/araya/Desktop/keypoints/video_extract/กฎกระทรวง_0.mp4\n",
      "C:/Users/araya/Desktop/keypoints/video_extract/กฎกระทรวง_1.mp4\n",
      "C:/Users/araya/Desktop/keypoints/video_extract/กฎกระทรวง_2.mp4\n",
      "C:/Users/araya/Desktop/keypoints/video_extract/กฎหมายรัฐธรรมนูญ.mp4\n",
      "C:/Users/araya/Desktop/keypoints/video_extract/กฎหมายรัฐธรรมนูญ_0.mp4\n",
      "C:/Users/araya/Desktop/keypoints/video_extract/กฎหมายรัฐธรรมนูญ_1.mp4\n",
      "C:/Users/araya/Desktop/keypoints/video_extract/กฎหมายรัฐธรรมนูญ_2.mp4\n",
      "C:/Users/araya/Desktop/keypoints/video_extract/กรมอนามัย.mp4\n",
      "C:/Users/araya/Desktop/keypoints/video_extract/กรมอนามัย_0.mp4\n",
      "C:/Users/araya/Desktop/keypoints/video_extract/กรมอนามัย_1.mp4\n",
      "C:/Users/araya/Desktop/keypoints/video_extract/กรมอนามัย_2.mp4\n",
      "C:/Users/araya/Desktop/keypoints/video_extract/กรรม.mp4\n",
      "C:/Users/araya/Desktop/keypoints/video_extract/กรรม_0.mp4\n",
      "C:/Users/araya/Desktop/keypoints/video_extract/กรรม_1.mp4\n",
      "C:/Users/araya/Desktop/keypoints/video_extract/กรรม_2.mp4\n",
      "C:/Users/araya/Desktop/keypoints/video_extract/กรรมสิทธิ์.mp4\n",
      "C:/Users/araya/Desktop/keypoints/video_extract/กรรมสิทธิ์_0.mp4\n",
      "C:/Users/araya/Desktop/keypoints/video_extract/กรรมสิทธิ์_1.mp4\n",
      "C:/Users/araya/Desktop/keypoints/video_extract/กรรมสิทธิ์_2.mp4\n",
      "C:/Users/araya/Desktop/keypoints/video_extract/กระโดด.mp4\n",
      "C:/Users/araya/Desktop/keypoints/video_extract/กระโดด_0.mp4\n",
      "C:/Users/araya/Desktop/keypoints/video_extract/กระโดด_1.mp4\n",
      "C:/Users/araya/Desktop/keypoints/video_extract/กระโดด_2.mp4\n",
      "C:/Users/araya/Desktop/keypoints/video_extract/กล้วยบวชชี.mp4\n",
      "C:/Users/araya/Desktop/keypoints/video_extract/กล้วยบวชชี_0.mp4\n",
      "C:/Users/araya/Desktop/keypoints/video_extract/กล้วยบวชชี_1.mp4\n",
      "C:/Users/araya/Desktop/keypoints/video_extract/กล้วยบวชชี_2.mp4\n",
      "C:/Users/araya/Desktop/keypoints/video_extract/กล้วยเชื่อม.mp4\n",
      "C:/Users/araya/Desktop/keypoints/video_extract/กล้วยเชื่อม_0.mp4\n",
      "C:/Users/araya/Desktop/keypoints/video_extract/กล้วยเชื่อม_1.mp4\n",
      "C:/Users/araya/Desktop/keypoints/video_extract/กล้วยเชื่อม_2.mp4\n",
      "C:/Users/araya/Desktop/keypoints/video_extract/กังวล.mp4\n",
      "C:/Users/araya/Desktop/keypoints/video_extract/กังวล_0.mp4\n",
      "C:/Users/araya/Desktop/keypoints/video_extract/กังวล_1.mp4\n",
      "C:/Users/araya/Desktop/keypoints/video_extract/กังวล_2.mp4\n",
      "C:/Users/araya/Desktop/keypoints/video_extract/กีฬา.mp4\n",
      "C:/Users/araya/Desktop/keypoints/video_extract/กีฬา_0.mp4\n",
      "C:/Users/araya/Desktop/keypoints/video_extract/กีฬา_1.mp4\n",
      "C:/Users/araya/Desktop/keypoints/video_extract/กีฬา_2.mp4\n",
      "C:/Users/araya/Desktop/keypoints/video_extract/น้อง.mp4\n",
      "C:/Users/araya/Desktop/keypoints/video_extract/น้อง_0.mp4\n",
      "C:/Users/araya/Desktop/keypoints/video_extract/น้อง_1.mp4\n",
      "C:/Users/araya/Desktop/keypoints/video_extract/น้อง_2.mp4\n",
      "C:/Users/araya/Desktop/keypoints/video_extract/เขิน.mp4\n",
      "C:/Users/araya/Desktop/keypoints/video_extract/เขิน_0.mp4\n",
      "C:/Users/araya/Desktop/keypoints/video_extract/เขิน_1.mp4\n",
      "C:/Users/araya/Desktop/keypoints/video_extract/เขิน_2.mp4\n",
      "C:/Users/araya/Desktop/keypoints/video_extract/เขื่อนดิน.mp4\n",
      "C:/Users/araya/Desktop/keypoints/video_extract/เขื่อนดิน_0.mp4\n",
      "C:/Users/araya/Desktop/keypoints/video_extract/เขื่อนดิน_1.mp4\n",
      "C:/Users/araya/Desktop/keypoints/video_extract/เขื่อนดิน_2.mp4\n",
      "C:/Users/araya/Desktop/keypoints/video_extract/เขื่อนสิริกิติ์.mp4\n",
      "C:/Users/araya/Desktop/keypoints/video_extract/เขื่อนสิริกิติ์_0.mp4\n",
      "C:/Users/araya/Desktop/keypoints/video_extract/เขื่อนสิริกิติ์_1.mp4\n",
      "C:/Users/araya/Desktop/keypoints/video_extract/เขื่อนสิริกิติ์_2.mp4\n",
      "C:/Users/araya/Desktop/keypoints/video_extract/เข้าใจผิด.mp4\n",
      "C:/Users/araya/Desktop/keypoints/video_extract/เข้าใจผิด_0.mp4\n",
      "C:/Users/araya/Desktop/keypoints/video_extract/เข้าใจผิด_1.mp4\n",
      "C:/Users/araya/Desktop/keypoints/video_extract/เข้าใจผิด_2.mp4\n",
      "C:/Users/araya/Desktop/keypoints/video_extract/เคย.mp4\n",
      "C:/Users/araya/Desktop/keypoints/video_extract/เคย_0.mp4\n",
      "C:/Users/araya/Desktop/keypoints/video_extract/เคย_1.mp4\n",
      "C:/Users/araya/Desktop/keypoints/video_extract/เคย_2.mp4\n",
      "C:/Users/araya/Desktop/keypoints/video_extract/เครียด.mp4\n",
      "C:/Users/araya/Desktop/keypoints/video_extract/เครียด_0.mp4\n",
      "C:/Users/araya/Desktop/keypoints/video_extract/เครียด_1.mp4\n",
      "C:/Users/araya/Desktop/keypoints/video_extract/เครียด_2.mp4\n",
      "C:/Users/araya/Desktop/keypoints/video_extract/เครื่องปั่นดิน.mp4\n",
      "C:/Users/araya/Desktop/keypoints/video_extract/เครื่องปั่นดิน_0.mp4\n",
      "C:/Users/araya/Desktop/keypoints/video_extract/เครื่องปั่นดิน_1.mp4\n",
      "C:/Users/araya/Desktop/keypoints/video_extract/เครื่องปั่นดิน_2.mp4\n",
      "C:/Users/araya/Desktop/keypoints/video_extract/เครื่องหมายการค้า.mp4\n",
      "C:/Users/araya/Desktop/keypoints/video_extract/เครื่องหมายการค้า_0.mp4\n",
      "C:/Users/araya/Desktop/keypoints/video_extract/เครื่องหมายการค้า_1.mp4\n",
      "C:/Users/araya/Desktop/keypoints/video_extract/เครื่องหมายการค้า_2.mp4\n",
      "C:/Users/araya/Desktop/keypoints/video_extract/เจอ.mp4\n",
      "C:/Users/araya/Desktop/keypoints/video_extract/เจอ_0.mp4\n",
      "C:/Users/araya/Desktop/keypoints/video_extract/เจอ_1.mp4\n",
      "C:/Users/araya/Desktop/keypoints/video_extract/เจอ_2.mp4\n",
      "C:/Users/araya/Desktop/keypoints/video_extract/เจ้าหนี้.mp4\n",
      "C:/Users/araya/Desktop/keypoints/video_extract/เจ้าหนี้_0.mp4\n",
      "C:/Users/araya/Desktop/keypoints/video_extract/เจ้าหนี้_1.mp4\n",
      "C:/Users/araya/Desktop/keypoints/video_extract/เจ้าหนี้_2.mp4\n",
      "C:/Users/araya/Desktop/keypoints/video_extract/เช่าซื้อ.mp4\n",
      "C:/Users/araya/Desktop/keypoints/video_extract/เช่าซื้อ_0.mp4\n",
      "C:/Users/araya/Desktop/keypoints/video_extract/เช่าซื้อ_1.mp4\n",
      "C:/Users/araya/Desktop/keypoints/video_extract/เช่าซื้อ_2.mp4\n",
      "C:/Users/araya/Desktop/keypoints/video_extract/เช่าทรัพย์.mp4\n",
      "C:/Users/araya/Desktop/keypoints/video_extract/เช่าทรัพย์_0.mp4\n",
      "C:/Users/araya/Desktop/keypoints/video_extract/เช่าทรัพย์_1.mp4\n",
      "C:/Users/araya/Desktop/keypoints/video_extract/เช่าทรัพย์_2.mp4\n",
      "C:/Users/araya/Desktop/keypoints/video_extract/เซอร์เบีย.mp4\n",
      "C:/Users/araya/Desktop/keypoints/video_extract/เซอร์เบีย_0.mp4\n",
      "C:/Users/araya/Desktop/keypoints/video_extract/เซอร์เบีย_1.mp4\n",
      "C:/Users/araya/Desktop/keypoints/video_extract/เซอร์เบีย_2.mp4\n",
      "C:/Users/araya/Desktop/keypoints/video_extract/เซเนกัล.mp4\n",
      "C:/Users/araya/Desktop/keypoints/video_extract/เซเนกัล_0.mp4\n",
      "C:/Users/araya/Desktop/keypoints/video_extract/เซเนกัล_1.mp4\n",
      "C:/Users/araya/Desktop/keypoints/video_extract/เซเนกัล_2.mp4\n",
      "C:/Users/araya/Desktop/keypoints/video_extract/เซ็ง.mp4\n",
      "C:/Users/araya/Desktop/keypoints/video_extract/เซ็ง_0.mp4\n",
      "C:/Users/araya/Desktop/keypoints/video_extract/เซ็ง_1.mp4\n",
      "C:/Users/araya/Desktop/keypoints/video_extract/เซ็ง_2.mp4\n",
      "C:/Users/araya/Desktop/keypoints/video_extract/เดิน.mp4\n",
      "C:/Users/araya/Desktop/keypoints/video_extract/เดิน_0.mp4\n",
      "C:/Users/araya/Desktop/keypoints/video_extract/เดิน_1.mp4\n",
      "C:/Users/araya/Desktop/keypoints/video_extract/เดิน_2.mp4\n",
      "C:/Users/araya/Desktop/keypoints/video_extract/เดิมพัน.mp4\n",
      "C:/Users/araya/Desktop/keypoints/video_extract/เดิมพัน_0.mp4\n",
      "C:/Users/araya/Desktop/keypoints/video_extract/เดิมพัน_1.mp4\n",
      "C:/Users/araya/Desktop/keypoints/video_extract/เดิมพัน_2.mp4\n",
      "C:/Users/araya/Desktop/keypoints/video_extract/เพลีย.mp4\n",
      "C:/Users/araya/Desktop/keypoints/video_extract/เพลีย_0.mp4\n",
      "C:/Users/araya/Desktop/keypoints/video_extract/เพลีย_1.mp4\n",
      "C:/Users/araya/Desktop/keypoints/video_extract/เพลีย_2.mp4\n",
      "C:/Users/araya/Desktop/keypoints/video_extract/เมื่อย.mp4\n",
      "C:/Users/araya/Desktop/keypoints/video_extract/เมื่อย_0.mp4\n",
      "C:/Users/araya/Desktop/keypoints/video_extract/เมื่อย_1.mp4\n",
      "C:/Users/araya/Desktop/keypoints/video_extract/เมื่อย_2.mp4\n",
      "C:/Users/araya/Desktop/keypoints/video_extract/เม็กซิโก.mp4\n",
      "C:/Users/araya/Desktop/keypoints/video_extract/เม็กซิโก_0.mp4\n",
      "C:/Users/araya/Desktop/keypoints/video_extract/เม็กซิโก_1.mp4\n",
      "C:/Users/araya/Desktop/keypoints/video_extract/เม็กซิโก_2.mp4\n",
      "C:/Users/araya/Desktop/keypoints/video_extract/เฮโรอีน.mp4\n",
      "C:/Users/araya/Desktop/keypoints/video_extract/เฮโรอีน_0.mp4\n",
      "C:/Users/araya/Desktop/keypoints/video_extract/เฮโรอีน_1.mp4\n",
      "C:/Users/araya/Desktop/keypoints/video_extract/เฮโรอีน_2.mp4\n",
      "C:/Users/araya/Desktop/keypoints/video_extract/แกมเบีย.mp4\n",
      "C:/Users/araya/Desktop/keypoints/video_extract/แกมเบีย_0.mp4\n",
      "C:/Users/araya/Desktop/keypoints/video_extract/แกมเบีย_1.mp4\n",
      "C:/Users/araya/Desktop/keypoints/video_extract/แกมเบีย_2.mp4\n",
      "C:/Users/araya/Desktop/keypoints/video_extract/แซมเบีย.mp4\n",
      "C:/Users/araya/Desktop/keypoints/video_extract/แซมเบีย_0.mp4\n",
      "C:/Users/araya/Desktop/keypoints/video_extract/แซมเบีย_1.mp4\n",
      "C:/Users/araya/Desktop/keypoints/video_extract/แซมเบีย_2.mp4\n",
      "C:/Users/araya/Desktop/keypoints/video_extract/โกหก.mp4\n",
      "C:/Users/araya/Desktop/keypoints/video_extract/โกหก_0.mp4\n",
      "C:/Users/araya/Desktop/keypoints/video_extract/โกหก_1.mp4\n",
      "C:/Users/araya/Desktop/keypoints/video_extract/โกหก_2.mp4\n",
      "C:/Users/araya/Desktop/keypoints/video_extract/โจทก์.mp4\n",
      "C:/Users/araya/Desktop/keypoints/video_extract/โจทก์_0.mp4\n",
      "C:/Users/araya/Desktop/keypoints/video_extract/โจทก์_1.mp4\n",
      "C:/Users/araya/Desktop/keypoints/video_extract/โจทก์_2.mp4\n",
      "C:/Users/araya/Desktop/keypoints/video_extract/โชจู.mp4\n",
      "C:/Users/araya/Desktop/keypoints/video_extract/โชจู_0.mp4\n",
      "C:/Users/araya/Desktop/keypoints/video_extract/โชจู_1.mp4\n",
      "C:/Users/araya/Desktop/keypoints/video_extract/โชจู_2.mp4\n",
      "C:/Users/araya/Desktop/keypoints/video_extract/ใกล้.mp4\n",
      "C:/Users/araya/Desktop/keypoints/video_extract/ใกล้_0.mp4\n",
      "C:/Users/araya/Desktop/keypoints/video_extract/ใกล้_1.mp4\n",
      "C:/Users/araya/Desktop/keypoints/video_extract/ใกล้_2.mp4\n",
      "C:/Users/araya/Desktop/keypoints/video_extract/ไดโนเสาร์.mp4\n",
      "C:/Users/araya/Desktop/keypoints/video_extract/ไดโนเสาร์_0.mp4\n",
      "C:/Users/araya/Desktop/keypoints/video_extract/ไดโนเสาร์_1.mp4\n",
      "C:/Users/araya/Desktop/keypoints/video_extract/ไดโนเสาร์_2.mp4\n",
      "C:/Users/araya/Desktop/keypoints/video_extract/ไอซ์.mp4\n",
      "C:/Users/araya/Desktop/keypoints/video_extract/ไอซ์_0.mp4\n",
      "C:/Users/araya/Desktop/keypoints/video_extract/ไอซ์_1.mp4\n",
      "C:/Users/araya/Desktop/keypoints/video_extract/ไอซ์_2.mp4\n"
     ]
    }
   ],
   "source": [
    "for filename in actions:\n",
    "    print(directory + '/' + filename)"
   ]
  },
  {
   "cell_type": "code",
   "execution_count": 104,
   "metadata": {},
   "outputs": [
    {
     "name": "stdout",
     "output_type": "stream",
     "text": [
      "['Data for different actions/กฎกระทรวง.mp4/กฎกระทรวง.npy', 'Data for different actions/กฎกระทรวง_0.mp4/กฎกระทรวง_0.npy', 'Data for different actions/กฎกระทรวง_1.mp4/กฎกระทรวง_1.npy', 'Data for different actions/กฎกระทรวง_2.mp4/กฎกระทรวง_2.npy', 'Data for different actions/กฎหมายรัฐธรรมนูญ.mp4/กฎหมายรัฐธรรมนูญ.npy', 'Data for different actions/กฎหมายรัฐธรรมนูญ_0.mp4/กฎหมายรัฐธรรมนูญ_0.npy', 'Data for different actions/กฎหมายรัฐธรรมนูญ_1.mp4/กฎหมายรัฐธรรมนูญ_1.npy', 'Data for different actions/กฎหมายรัฐธรรมนูญ_2.mp4/กฎหมายรัฐธรรมนูญ_2.npy', 'Data for different actions/กรมอนามัย.mp4/กรมอนามัย.npy', 'Data for different actions/กรมอนามัย_0.mp4/กรมอนามัย_0.npy', 'Data for different actions/กรมอนามัย_1.mp4/กรมอนามัย_1.npy', 'Data for different actions/กรมอนามัย_2.mp4/กรมอนามัย_2.npy', 'Data for different actions/กรรม.mp4/กรรม.npy', 'Data for different actions/กรรม_0.mp4/กรรม_0.npy', 'Data for different actions/กรรม_1.mp4/กรรม_1.npy', 'Data for different actions/กรรม_2.mp4/กรรม_2.npy', 'Data for different actions/กรรมสิทธิ์.mp4/กรรมสิทธิ์.npy', 'Data for different actions/กรรมสิทธิ์_0.mp4/กรรมสิทธิ์_0.npy', 'Data for different actions/กรรมสิทธิ์_1.mp4/กรรมสิทธิ์_1.npy', 'Data for different actions/กรรมสิทธิ์_2.mp4/กรรมสิทธิ์_2.npy', 'Data for different actions/กระโดด.mp4/กระโดด.npy', 'Data for different actions/กระโดด_0.mp4/กระโดด_0.npy', 'Data for different actions/กระโดด_1.mp4/กระโดด_1.npy', 'Data for different actions/กระโดด_2.mp4/กระโดด_2.npy', 'Data for different actions/กล้วยบวชชี.mp4/กล้วยบวชชี.npy', 'Data for different actions/กล้วยบวชชี_0.mp4/กล้วยบวชชี_0.npy', 'Data for different actions/กล้วยบวชชี_1.mp4/กล้วยบวชชี_1.npy', 'Data for different actions/กล้วยบวชชี_2.mp4/กล้วยบวชชี_2.npy', 'Data for different actions/กล้วยเชื่อม.mp4/กล้วยเชื่อม.npy', 'Data for different actions/กล้วยเชื่อม_0.mp4/กล้วยเชื่อม_0.npy', 'Data for different actions/กล้วยเชื่อม_1.mp4/กล้วยเชื่อม_1.npy', 'Data for different actions/กล้วยเชื่อม_2.mp4/กล้วยเชื่อม_2.npy', 'Data for different actions/กังวล.mp4/กังวล.npy', 'Data for different actions/กังวล_0.mp4/กังวล_0.npy', 'Data for different actions/กังวล_1.mp4/กังวล_1.npy', 'Data for different actions/กังวล_2.mp4/กังวล_2.npy', 'Data for different actions/กีฬา.mp4/กีฬา.npy', 'Data for different actions/กีฬา_0.mp4/กีฬา_0.npy', 'Data for different actions/กีฬา_1.mp4/กีฬา_1.npy', 'Data for different actions/กีฬา_2.mp4/กีฬา_2.npy', 'Data for different actions/น้อง.mp4/น้อง.npy', 'Data for different actions/น้อง_0.mp4/น้อง_0.npy', 'Data for different actions/น้อง_1.mp4/น้อง_1.npy', 'Data for different actions/น้อง_2.mp4/น้อง_2.npy', 'Data for different actions/เขิน.mp4/เขิน.npy', 'Data for different actions/เขิน_0.mp4/เขิน_0.npy', 'Data for different actions/เขิน_1.mp4/เขิน_1.npy', 'Data for different actions/เขิน_2.mp4/เขิน_2.npy', 'Data for different actions/เขื่อนดิน.mp4/เขื่อนดิน.npy', 'Data for different actions/เขื่อนดิน_0.mp4/เขื่อนดิน_0.npy', 'Data for different actions/เขื่อนดิน_1.mp4/เขื่อนดิน_1.npy', 'Data for different actions/เขื่อนดิน_2.mp4/เขื่อนดิน_2.npy', 'Data for different actions/เขื่อนสิริกิติ์.mp4/เขื่อนสิริกิติ์.npy', 'Data for different actions/เขื่อนสิริกิติ์_0.mp4/เขื่อนสิริกิติ์_0.npy', 'Data for different actions/เขื่อนสิริกิติ์_1.mp4/เขื่อนสิริกิติ์_1.npy', 'Data for different actions/เขื่อนสิริกิติ์_2.mp4/เขื่อนสิริกิติ์_2.npy', 'Data for different actions/เข้าใจผิด.mp4/เข้าใจผิด.npy', 'Data for different actions/เข้าใจผิด_0.mp4/เข้าใจผิด_0.npy', 'Data for different actions/เข้าใจผิด_1.mp4/เข้าใจผิด_1.npy', 'Data for different actions/เข้าใจผิด_2.mp4/เข้าใจผิด_2.npy', 'Data for different actions/เคย.mp4/เคย.npy', 'Data for different actions/เคย_0.mp4/เคย_0.npy', 'Data for different actions/เคย_1.mp4/เคย_1.npy', 'Data for different actions/เคย_2.mp4/เคย_2.npy', 'Data for different actions/เครียด.mp4/เครียด.npy', 'Data for different actions/เครียด_0.mp4/เครียด_0.npy', 'Data for different actions/เครียด_1.mp4/เครียด_1.npy', 'Data for different actions/เครียด_2.mp4/เครียด_2.npy', 'Data for different actions/เครื่องปั่นดิน.mp4/เครื่องปั่นดิน.npy', 'Data for different actions/เครื่องปั่นดิน_0.mp4/เครื่องปั่นดิน_0.npy', 'Data for different actions/เครื่องปั่นดิน_1.mp4/เครื่องปั่นดิน_1.npy', 'Data for different actions/เครื่องปั่นดิน_2.mp4/เครื่องปั่นดิน_2.npy', 'Data for different actions/เครื่องหมายการค้า.mp4/เครื่องหมายการค้า.npy', 'Data for different actions/เครื่องหมายการค้า_0.mp4/เครื่องหมายการค้า_0.npy', 'Data for different actions/เครื่องหมายการค้า_1.mp4/เครื่องหมายการค้า_1.npy', 'Data for different actions/เครื่องหมายการค้า_2.mp4/เครื่องหมายการค้า_2.npy', 'Data for different actions/เจอ.mp4/เจอ.npy', 'Data for different actions/เจอ_0.mp4/เจอ_0.npy', 'Data for different actions/เจอ_1.mp4/เจอ_1.npy', 'Data for different actions/เจอ_2.mp4/เจอ_2.npy', 'Data for different actions/เจ้าหนี้.mp4/เจ้าหนี้.npy', 'Data for different actions/เจ้าหนี้_0.mp4/เจ้าหนี้_0.npy', 'Data for different actions/เจ้าหนี้_1.mp4/เจ้าหนี้_1.npy', 'Data for different actions/เจ้าหนี้_2.mp4/เจ้าหนี้_2.npy', 'Data for different actions/เช่าซื้อ.mp4/เช่าซื้อ.npy', 'Data for different actions/เช่าซื้อ_0.mp4/เช่าซื้อ_0.npy', 'Data for different actions/เช่าซื้อ_1.mp4/เช่าซื้อ_1.npy', 'Data for different actions/เช่าซื้อ_2.mp4/เช่าซื้อ_2.npy', 'Data for different actions/เช่าทรัพย์.mp4/เช่าทรัพย์.npy', 'Data for different actions/เช่าทรัพย์_0.mp4/เช่าทรัพย์_0.npy', 'Data for different actions/เช่าทรัพย์_1.mp4/เช่าทรัพย์_1.npy', 'Data for different actions/เช่าทรัพย์_2.mp4/เช่าทรัพย์_2.npy', 'Data for different actions/เซอร์เบีย.mp4/เซอร์เบีย.npy', 'Data for different actions/เซอร์เบีย_0.mp4/เซอร์เบีย_0.npy', 'Data for different actions/เซอร์เบีย_1.mp4/เซอร์เบีย_1.npy', 'Data for different actions/เซอร์เบีย_2.mp4/เซอร์เบีย_2.npy', 'Data for different actions/เซเนกัล.mp4/เซเนกัล.npy', 'Data for different actions/เซเนกัล_0.mp4/เซเนกัล_0.npy', 'Data for different actions/เซเนกัล_1.mp4/เซเนกัล_1.npy', 'Data for different actions/เซเนกัล_2.mp4/เซเนกัล_2.npy', 'Data for different actions/เซ็ง.mp4/เซ็ง.npy', 'Data for different actions/เซ็ง_0.mp4/เซ็ง_0.npy', 'Data for different actions/เซ็ง_1.mp4/เซ็ง_1.npy', 'Data for different actions/เซ็ง_2.mp4/เซ็ง_2.npy', 'Data for different actions/เดิน.mp4/เดิน.npy', 'Data for different actions/เดิน_0.mp4/เดิน_0.npy', 'Data for different actions/เดิน_1.mp4/เดิน_1.npy', 'Data for different actions/เดิน_2.mp4/เดิน_2.npy', 'Data for different actions/เดิมพัน.mp4/เดิมพัน.npy', 'Data for different actions/เดิมพัน_0.mp4/เดิมพัน_0.npy', 'Data for different actions/เดิมพัน_1.mp4/เดิมพัน_1.npy', 'Data for different actions/เดิมพัน_2.mp4/เดิมพัน_2.npy', 'Data for different actions/เพลีย.mp4/เพลีย.npy', 'Data for different actions/เพลีย_0.mp4/เพลีย_0.npy', 'Data for different actions/เพลีย_1.mp4/เพลีย_1.npy', 'Data for different actions/เพลีย_2.mp4/เพลีย_2.npy', 'Data for different actions/เมื่อย.mp4/เมื่อย.npy', 'Data for different actions/เมื่อย_0.mp4/เมื่อย_0.npy', 'Data for different actions/เมื่อย_1.mp4/เมื่อย_1.npy', 'Data for different actions/เมื่อย_2.mp4/เมื่อย_2.npy', 'Data for different actions/เม็กซิโก.mp4/เม็กซิโก.npy', 'Data for different actions/เม็กซิโก_0.mp4/เม็กซิโก_0.npy', 'Data for different actions/เม็กซิโก_1.mp4/เม็กซิโก_1.npy', 'Data for different actions/เม็กซิโก_2.mp4/เม็กซิโก_2.npy', 'Data for different actions/เฮโรอีน.mp4/เฮโรอีน.npy', 'Data for different actions/เฮโรอีน_0.mp4/เฮโรอีน_0.npy', 'Data for different actions/เฮโรอีน_1.mp4/เฮโรอีน_1.npy', 'Data for different actions/เฮโรอีน_2.mp4/เฮโรอีน_2.npy', 'Data for different actions/แกมเบีย.mp4/แกมเบีย.npy', 'Data for different actions/แกมเบีย_0.mp4/แกมเบีย_0.npy', 'Data for different actions/แกมเบีย_1.mp4/แกมเบีย_1.npy', 'Data for different actions/แกมเบีย_2.mp4/แกมเบีย_2.npy', 'Data for different actions/แซมเบีย.mp4/แซมเบีย.npy', 'Data for different actions/แซมเบีย_0.mp4/แซมเบีย_0.npy', 'Data for different actions/แซมเบีย_1.mp4/แซมเบีย_1.npy', 'Data for different actions/แซมเบีย_2.mp4/แซมเบีย_2.npy', 'Data for different actions/โกหก.mp4/โกหก.npy', 'Data for different actions/โกหก_0.mp4/โกหก_0.npy', 'Data for different actions/โกหก_1.mp4/โกหก_1.npy', 'Data for different actions/โกหก_2.mp4/โกหก_2.npy', 'Data for different actions/โจทก์.mp4/โจทก์.npy', 'Data for different actions/โจทก์_0.mp4/โจทก์_0.npy', 'Data for different actions/โจทก์_1.mp4/โจทก์_1.npy', 'Data for different actions/โจทก์_2.mp4/โจทก์_2.npy', 'Data for different actions/โชจู.mp4/โชจู.npy', 'Data for different actions/โชจู_0.mp4/โชจู_0.npy', 'Data for different actions/โชจู_1.mp4/โชจู_1.npy', 'Data for different actions/โชจู_2.mp4/โชจู_2.npy', 'Data for different actions/ใกล้.mp4/ใกล้.npy', 'Data for different actions/ใกล้_0.mp4/ใกล้_0.npy', 'Data for different actions/ใกล้_1.mp4/ใกล้_1.npy', 'Data for different actions/ใกล้_2.mp4/ใกล้_2.npy', 'Data for different actions/ไดโนเสาร์.mp4/ไดโนเสาร์.npy', 'Data for different actions/ไดโนเสาร์_0.mp4/ไดโนเสาร์_0.npy', 'Data for different actions/ไดโนเสาร์_1.mp4/ไดโนเสาร์_1.npy', 'Data for different actions/ไดโนเสาร์_2.mp4/ไดโนเสาร์_2.npy', 'Data for different actions/ไอซ์.mp4/ไอซ์.npy', 'Data for different actions/ไอซ์_0.mp4/ไอซ์_0.npy', 'Data for different actions/ไอซ์_1.mp4/ไอซ์_1.npy', 'Data for different actions/ไอซ์_2.mp4/ไอซ์_2.npy']\n"
     ]
    }
   ],
   "source": [
    "file_paths = []\n",
    "for action in actions:\n",
    "    video_path = os.path.join('Data for different actions/', action)\n",
    "    # print(video_path)\n",
    "    # print(action)\n",
    "    file_paths.append(video_path + '/' + action.split(\".\")[0] + \".npy\")\n",
    "print(file_paths)"
   ]
  },
  {
   "cell_type": "code",
   "execution_count": 105,
   "metadata": {},
   "outputs": [
    {
     "name": "stdout",
     "output_type": "stream",
     "text": [
      "['กฎกระทรวง', 'กฎกระทรวง_0', 'กฎกระทรวง_1', 'กฎกระทรวง_2', 'กฎหมายรัฐธรรมนูญ', 'กฎหมายรัฐธรรมนูญ_0', 'กฎหมายรัฐธรรมนูญ_1', 'กฎหมายรัฐธรรมนูญ_2', 'กรมอนามัย', 'กรมอนามัย_0', 'กรมอนามัย_1', 'กรมอนามัย_2', 'กรรม', 'กรรม_0', 'กรรม_1', 'กรรม_2', 'กรรมสิทธิ์', 'กรรมสิทธิ์_0', 'กรรมสิทธิ์_1', 'กรรมสิทธิ์_2', 'กระโดด', 'กระโดด_0', 'กระโดด_1', 'กระโดด_2', 'กล้วยบวชชี', 'กล้วยบวชชี_0', 'กล้วยบวชชี_1', 'กล้วยบวชชี_2', 'กล้วยเชื่อม', 'กล้วยเชื่อม_0', 'กล้วยเชื่อม_1', 'กล้วยเชื่อม_2', 'กังวล', 'กังวล_0', 'กังวล_1', 'กังวล_2', 'กีฬา', 'กีฬา_0', 'กีฬา_1', 'กีฬา_2', 'น้อง', 'น้อง_0', 'น้อง_1', 'น้อง_2', 'เขิน', 'เขิน_0', 'เขิน_1', 'เขิน_2', 'เขื่อนดิน', 'เขื่อนดิน_0', 'เขื่อนดิน_1', 'เขื่อนดิน_2', 'เขื่อนสิริกิติ์', 'เขื่อนสิริกิติ์_0', 'เขื่อนสิริกิติ์_1', 'เขื่อนสิริกิติ์_2', 'เข้าใจผิด', 'เข้าใจผิด_0', 'เข้าใจผิด_1', 'เข้าใจผิด_2', 'เคย', 'เคย_0', 'เคย_1', 'เคย_2', 'เครียด', 'เครียด_0', 'เครียด_1', 'เครียด_2', 'เครื่องปั่นดิน', 'เครื่องปั่นดิน_0', 'เครื่องปั่นดิน_1', 'เครื่องปั่นดิน_2', 'เครื่องหมายการค้า', 'เครื่องหมายการค้า_0', 'เครื่องหมายการค้า_1', 'เครื่องหมายการค้า_2', 'เจอ', 'เจอ_0', 'เจอ_1', 'เจอ_2', 'เจ้าหนี้', 'เจ้าหนี้_0', 'เจ้าหนี้_1', 'เจ้าหนี้_2', 'เช่าซื้อ', 'เช่าซื้อ_0', 'เช่าซื้อ_1', 'เช่าซื้อ_2', 'เช่าทรัพย์', 'เช่าทรัพย์_0', 'เช่าทรัพย์_1', 'เช่าทรัพย์_2', 'เซอร์เบีย', 'เซอร์เบีย_0', 'เซอร์เบีย_1', 'เซอร์เบีย_2', 'เซเนกัล', 'เซเนกัล_0', 'เซเนกัล_1', 'เซเนกัล_2', 'เซ็ง', 'เซ็ง_0', 'เซ็ง_1', 'เซ็ง_2', 'เดิน', 'เดิน_0', 'เดิน_1', 'เดิน_2', 'เดิมพัน', 'เดิมพัน_0', 'เดิมพัน_1', 'เดิมพัน_2', 'เพลีย', 'เพลีย_0', 'เพลีย_1', 'เพลีย_2', 'เมื่อย', 'เมื่อย_0', 'เมื่อย_1', 'เมื่อย_2', 'เม็กซิโก', 'เม็กซิโก_0', 'เม็กซิโก_1', 'เม็กซิโก_2', 'เฮโรอีน', 'เฮโรอีน_0', 'เฮโรอีน_1', 'เฮโรอีน_2', 'แกมเบีย', 'แกมเบีย_0', 'แกมเบีย_1', 'แกมเบีย_2', 'แซมเบีย', 'แซมเบีย_0', 'แซมเบีย_1', 'แซมเบีย_2', 'โกหก', 'โกหก_0', 'โกหก_1', 'โกหก_2', 'โจทก์', 'โจทก์_0', 'โจทก์_1', 'โจทก์_2', 'โชจู', 'โชจู_0', 'โชจู_1', 'โชจู_2', 'ใกล้', 'ใกล้_0', 'ใกล้_1', 'ใกล้_2', 'ไดโนเสาร์', 'ไดโนเสาร์_0', 'ไดโนเสาร์_1', 'ไดโนเสาร์_2', 'ไอซ์', 'ไอซ์_0', 'ไอซ์_1', 'ไอซ์_2']\n"
     ]
    }
   ],
   "source": [
    "labels = [action.split(\".\")[0] for action in actions]\n",
    "print(labels)"
   ]
  },
  {
   "cell_type": "code",
   "execution_count": 106,
   "metadata": {},
   "outputs": [],
   "source": [
    "columns = [\"word\"]"
   ]
  },
  {
   "cell_type": "code",
   "execution_count": 107,
   "metadata": {},
   "outputs": [
    {
     "data": {
      "text/html": [
       "<div>\n",
       "<style scoped>\n",
       "    .dataframe tbody tr th:only-of-type {\n",
       "        vertical-align: middle;\n",
       "    }\n",
       "\n",
       "    .dataframe tbody tr th {\n",
       "        vertical-align: top;\n",
       "    }\n",
       "\n",
       "    .dataframe thead th {\n",
       "        text-align: right;\n",
       "    }\n",
       "</style>\n",
       "<table border=\"1\" class=\"dataframe\">\n",
       "  <thead>\n",
       "    <tr style=\"text-align: right;\">\n",
       "      <th></th>\n",
       "      <th>word</th>\n",
       "    </tr>\n",
       "  </thead>\n",
       "  <tbody>\n",
       "    <tr>\n",
       "      <th>0</th>\n",
       "      <td>กฎกระทรวง.mp4</td>\n",
       "    </tr>\n",
       "    <tr>\n",
       "      <th>1</th>\n",
       "      <td>กฎกระทรวง_0.mp4</td>\n",
       "    </tr>\n",
       "    <tr>\n",
       "      <th>2</th>\n",
       "      <td>กฎกระทรวง_1.mp4</td>\n",
       "    </tr>\n",
       "    <tr>\n",
       "      <th>3</th>\n",
       "      <td>กฎกระทรวง_2.mp4</td>\n",
       "    </tr>\n",
       "    <tr>\n",
       "      <th>4</th>\n",
       "      <td>กฎหมายรัฐธรรมนูญ.mp4</td>\n",
       "    </tr>\n",
       "    <tr>\n",
       "      <th>...</th>\n",
       "      <td>...</td>\n",
       "    </tr>\n",
       "    <tr>\n",
       "      <th>155</th>\n",
       "      <td>ไดโนเสาร์_2.mp4</td>\n",
       "    </tr>\n",
       "    <tr>\n",
       "      <th>156</th>\n",
       "      <td>ไอซ์.mp4</td>\n",
       "    </tr>\n",
       "    <tr>\n",
       "      <th>157</th>\n",
       "      <td>ไอซ์_0.mp4</td>\n",
       "    </tr>\n",
       "    <tr>\n",
       "      <th>158</th>\n",
       "      <td>ไอซ์_1.mp4</td>\n",
       "    </tr>\n",
       "    <tr>\n",
       "      <th>159</th>\n",
       "      <td>ไอซ์_2.mp4</td>\n",
       "    </tr>\n",
       "  </tbody>\n",
       "</table>\n",
       "<p>160 rows × 1 columns</p>\n",
       "</div>"
      ],
      "text/plain": [
       "                     word\n",
       "0           กฎกระทรวง.mp4\n",
       "1         กฎกระทรวง_0.mp4\n",
       "2         กฎกระทรวง_1.mp4\n",
       "3         กฎกระทรวง_2.mp4\n",
       "4    กฎหมายรัฐธรรมนูญ.mp4\n",
       "..                    ...\n",
       "155       ไดโนเสาร์_2.mp4\n",
       "156              ไอซ์.mp4\n",
       "157            ไอซ์_0.mp4\n",
       "158            ไอซ์_1.mp4\n",
       "159            ไอซ์_2.mp4\n",
       "\n",
       "[160 rows x 1 columns]"
      ]
     },
     "execution_count": 107,
     "metadata": {},
     "output_type": "execute_result"
    }
   ],
   "source": [
    "df = pd.DataFrame(video_list, columns=columns)\n",
    "df"
   ]
  },
  {
   "cell_type": "code",
   "execution_count": 108,
   "metadata": {},
   "outputs": [],
   "source": [
    "from os import listdir\n",
    "from os.path import isfile, join\n",
    "onlyfiles = [f for f in listdir(\"Data for different actions\")]"
   ]
  },
  {
   "cell_type": "code",
   "execution_count": 109,
   "metadata": {},
   "outputs": [
    {
     "name": "stdout",
     "output_type": "stream",
     "text": [
      "['กฎกระทรวง.mp4', 'กฎกระทรวง_0.mp4', 'กฎกระทรวง_1.mp4', 'กฎกระทรวง_2.mp4', 'กฎหมายรัฐธรรมนูญ.mp4', 'กฎหมายรัฐธรรมนูญ_0.mp4', 'กฎหมายรัฐธรรมนูญ_1.mp4', 'กฎหมายรัฐธรรมนูญ_2.mp4', 'กรมอนามัย.mp4', 'กรมอนามัย_0.mp4', 'กรมอนามัย_1.mp4', 'กรมอนามัย_2.mp4', 'กรรม.mp4', 'กรรม_0.mp4', 'กรรม_1.mp4', 'กรรม_2.mp4', 'กรรมสิทธิ์.mp4', 'กรรมสิทธิ์_0.mp4', 'กรรมสิทธิ์_1.mp4', 'กรรมสิทธิ์_2.mp4', 'กระโดด.mp4', 'กระโดด_0.mp4', 'กระโดด_1.mp4', 'กระโดด_2.mp4', 'กล้วยบวชชี.mp4', 'กล้วยบวชชี_0.mp4', 'กล้วยบวชชี_1.mp4', 'กล้วยบวชชี_2.mp4', 'กล้วยเชื่อม.mp4', 'กล้วยเชื่อม_0.mp4', 'กล้วยเชื่อม_1.mp4', 'กล้วยเชื่อม_2.mp4', 'กังวล.mp4', 'กังวล_0.mp4', 'กังวล_1.mp4', 'กังวล_2.mp4', 'กีฬา.mp4', 'กีฬา_0.mp4', 'กีฬา_1.mp4', 'กีฬา_2.mp4', 'น้อง.mp4', 'น้อง_0.mp4', 'น้อง_1.mp4', 'น้อง_2.mp4', 'เขิน.mp4', 'เขิน_0.mp4', 'เขิน_1.mp4', 'เขิน_2.mp4', 'เขื่อนดิน.mp4', 'เขื่อนดิน_0.mp4', 'เขื่อนดิน_1.mp4', 'เขื่อนดิน_2.mp4', 'เขื่อนสิริกิติ์.mp4', 'เขื่อนสิริกิติ์_0.mp4', 'เขื่อนสิริกิติ์_1.mp4', 'เขื่อนสิริกิติ์_2.mp4', 'เข้าใจผิด.mp4', 'เข้าใจผิด_0.mp4', 'เข้าใจผิด_1.mp4', 'เข้าใจผิด_2.mp4', 'เคย.mp4', 'เคย_0.mp4', 'เคย_1.mp4', 'เคย_2.mp4', 'เครียด.mp4', 'เครียด_0.mp4', 'เครียด_1.mp4', 'เครียด_2.mp4', 'เครื่องปั่นดิน.mp4', 'เครื่องปั่นดิน_0.mp4', 'เครื่องปั่นดิน_1.mp4', 'เครื่องปั่นดิน_2.mp4', 'เครื่องหมายการค้า.mp4', 'เครื่องหมายการค้า_0.mp4', 'เครื่องหมายการค้า_1.mp4', 'เครื่องหมายการค้า_2.mp4', 'เจอ.mp4', 'เจอ_0.mp4', 'เจอ_1.mp4', 'เจอ_2.mp4', 'เจ้าหนี้.mp4', 'เจ้าหนี้_0.mp4', 'เจ้าหนี้_1.mp4', 'เจ้าหนี้_2.mp4', 'เช่าซื้อ.mp4', 'เช่าซื้อ_0.mp4', 'เช่าซื้อ_1.mp4', 'เช่าซื้อ_2.mp4', 'เช่าทรัพย์.mp4', 'เช่าทรัพย์_0.mp4', 'เช่าทรัพย์_1.mp4', 'เช่าทรัพย์_2.mp4', 'เซอร์เบีย.mp4', 'เซอร์เบีย_0.mp4', 'เซอร์เบีย_1.mp4', 'เซอร์เบีย_2.mp4', 'เซเนกัล.mp4', 'เซเนกัล_0.mp4', 'เซเนกัล_1.mp4', 'เซเนกัล_2.mp4', 'เซ็ง.mp4', 'เซ็ง_0.mp4', 'เซ็ง_1.mp4', 'เซ็ง_2.mp4', 'เดิน.mp4', 'เดิน_0.mp4', 'เดิน_1.mp4', 'เดิน_2.mp4', 'เดิมพัน.mp4', 'เดิมพัน_0.mp4', 'เดิมพัน_1.mp4', 'เดิมพัน_2.mp4', 'เพลีย.mp4', 'เพลีย_0.mp4', 'เพลีย_1.mp4', 'เพลีย_2.mp4', 'เมื่อย.mp4', 'เมื่อย_0.mp4', 'เมื่อย_1.mp4', 'เมื่อย_2.mp4', 'เม็กซิโก.mp4', 'เม็กซิโก_0.mp4', 'เม็กซิโก_1.mp4', 'เม็กซิโก_2.mp4', 'เฮโรอีน.mp4', 'เฮโรอีน_0.mp4', 'เฮโรอีน_1.mp4', 'เฮโรอีน_2.mp4', 'แกมเบีย.mp4', 'แกมเบีย_0.mp4', 'แกมเบีย_1.mp4', 'แกมเบีย_2.mp4', 'แซมเบีย.mp4', 'แซมเบีย_0.mp4', 'แซมเบีย_1.mp4', 'แซมเบีย_2.mp4', 'โกหก.mp4', 'โกหก_0.mp4', 'โกหก_1.mp4', 'โกหก_2.mp4', 'โจทก์.mp4', 'โจทก์_0.mp4', 'โจทก์_1.mp4', 'โจทก์_2.mp4', 'โชจู.mp4', 'โชจู_0.mp4', 'โชจู_1.mp4', 'โชจู_2.mp4', 'ใกล้.mp4', 'ใกล้_0.mp4', 'ใกล้_1.mp4', 'ใกล้_2.mp4', 'ไดโนเสาร์.mp4', 'ไดโนเสาร์_0.mp4', 'ไดโนเสาร์_1.mp4', 'ไดโนเสาร์_2.mp4', 'ไอซ์.mp4', 'ไอซ์_0.mp4', 'ไอซ์_1.mp4', 'ไอซ์_2.mp4']\n"
     ]
    }
   ],
   "source": [
    "print(onlyfiles)"
   ]
  },
  {
   "cell_type": "markdown",
   "metadata": {},
   "source": [
    "### -------------------------------------------------------------------------"
   ]
  },
  {
   "cell_type": "code",
   "execution_count": 110,
   "metadata": {},
   "outputs": [],
   "source": [
    "# df.to_csv('script1.csv', index=False)"
   ]
  },
  {
   "cell_type": "code",
   "execution_count": null,
   "metadata": {},
   "outputs": [],
   "source": []
  },
  {
   "cell_type": "code",
   "execution_count": 125,
   "metadata": {},
   "outputs": [
    {
     "data": {
      "text/plain": [
       "0       0\n",
       "1       0\n",
       "2       0\n",
       "3       0\n",
       "4       1\n",
       "       ..\n",
       "155    38\n",
       "156    39\n",
       "157    39\n",
       "158    39\n",
       "159    39\n",
       "Name: label, Length: 160, dtype: int64"
      ]
     },
     "execution_count": 125,
     "metadata": {},
     "output_type": "execute_result"
    }
   ],
   "source": [
    "df = pd.read_csv(\"script1.csv\")\n",
    "df.label"
   ]
  },
  {
   "cell_type": "code",
   "execution_count": 126,
   "metadata": {},
   "outputs": [
    {
     "data": {
      "text/plain": [
       "0"
      ]
     },
     "execution_count": 126,
     "metadata": {},
     "output_type": "execute_result"
    }
   ],
   "source": [
    "df.label[1]"
   ]
  },
  {
   "cell_type": "code",
   "execution_count": 127,
   "metadata": {},
   "outputs": [],
   "source": [
    "labels = []\n",
    "\n",
    "for i in range(len(df.label)):\n",
    "    labels.append(df.label[i])"
   ]
  },
  {
   "cell_type": "code",
   "execution_count": 128,
   "metadata": {},
   "outputs": [
    {
     "data": {
      "text/plain": [
       "[0,\n",
       " 0,\n",
       " 0,\n",
       " 0,\n",
       " 1,\n",
       " 1,\n",
       " 1,\n",
       " 1,\n",
       " 2,\n",
       " 2,\n",
       " 2,\n",
       " 2,\n",
       " 3,\n",
       " 3,\n",
       " 3,\n",
       " 3,\n",
       " 4,\n",
       " 4,\n",
       " 4,\n",
       " 4,\n",
       " 5,\n",
       " 5,\n",
       " 5,\n",
       " 5,\n",
       " 6,\n",
       " 6,\n",
       " 6,\n",
       " 6,\n",
       " 7,\n",
       " 7,\n",
       " 7,\n",
       " 7,\n",
       " 8,\n",
       " 8,\n",
       " 8,\n",
       " 8,\n",
       " 9,\n",
       " 9,\n",
       " 9,\n",
       " 9,\n",
       " 10,\n",
       " 10,\n",
       " 10,\n",
       " 10,\n",
       " 11,\n",
       " 11,\n",
       " 11,\n",
       " 11,\n",
       " 12,\n",
       " 12,\n",
       " 12,\n",
       " 12,\n",
       " 13,\n",
       " 13,\n",
       " 13,\n",
       " 13,\n",
       " 14,\n",
       " 14,\n",
       " 14,\n",
       " 14,\n",
       " 15,\n",
       " 15,\n",
       " 15,\n",
       " 15,\n",
       " 16,\n",
       " 16,\n",
       " 16,\n",
       " 16,\n",
       " 17,\n",
       " 17,\n",
       " 17,\n",
       " 17,\n",
       " 18,\n",
       " 18,\n",
       " 18,\n",
       " 18,\n",
       " 19,\n",
       " 19,\n",
       " 19,\n",
       " 19,\n",
       " 20,\n",
       " 20,\n",
       " 20,\n",
       " 20,\n",
       " 21,\n",
       " 21,\n",
       " 21,\n",
       " 21,\n",
       " 22,\n",
       " 22,\n",
       " 22,\n",
       " 22,\n",
       " 23,\n",
       " 23,\n",
       " 23,\n",
       " 23,\n",
       " 24,\n",
       " 24,\n",
       " 24,\n",
       " 24,\n",
       " 25,\n",
       " 25,\n",
       " 25,\n",
       " 25,\n",
       " 26,\n",
       " 26,\n",
       " 26,\n",
       " 26,\n",
       " 27,\n",
       " 27,\n",
       " 27,\n",
       " 27,\n",
       " 28,\n",
       " 28,\n",
       " 28,\n",
       " 28,\n",
       " 29,\n",
       " 29,\n",
       " 29,\n",
       " 29,\n",
       " 30,\n",
       " 30,\n",
       " 30,\n",
       " 30,\n",
       " 31,\n",
       " 31,\n",
       " 31,\n",
       " 31,\n",
       " 32,\n",
       " 32,\n",
       " 32,\n",
       " 32,\n",
       " 33,\n",
       " 33,\n",
       " 33,\n",
       " 33,\n",
       " 34,\n",
       " 34,\n",
       " 34,\n",
       " 34,\n",
       " 35,\n",
       " 35,\n",
       " 35,\n",
       " 35,\n",
       " 36,\n",
       " 36,\n",
       " 36,\n",
       " 36,\n",
       " 37,\n",
       " 37,\n",
       " 37,\n",
       " 37,\n",
       " 38,\n",
       " 38,\n",
       " 38,\n",
       " 38,\n",
       " 39,\n",
       " 39,\n",
       " 39,\n",
       " 39]"
      ]
     },
     "execution_count": 128,
     "metadata": {},
     "output_type": "execute_result"
    }
   ],
   "source": [
    "labels"
   ]
  },
  {
   "cell_type": "code",
   "execution_count": null,
   "metadata": {},
   "outputs": [],
   "source": []
  }
 ],
 "metadata": {
  "kernelspec": {
   "display_name": "Python 3",
   "language": "python",
   "name": "python3"
  },
  "language_info": {
   "codemirror_mode": {
    "name": "ipython",
    "version": 3
   },
   "file_extension": ".py",
   "mimetype": "text/x-python",
   "name": "python",
   "nbconvert_exporter": "python",
   "pygments_lexer": "ipython3",
   "version": "3.12.4"
  }
 },
 "nbformat": 4,
 "nbformat_minor": 2
}
