{
 "cells": [
  {
   "cell_type": "markdown",
   "metadata": {},
   "source": [
    "### Pytorch\n",
    "\n",
    "is one of the popular deep learning frame work."
   ]
  },
  {
   "cell_type": "code",
   "execution_count": 1,
   "metadata": {},
   "outputs": [],
   "source": [
    "import torch \n",
    "import torch.nn as nn # For neural network, optimizer, loss function, layers\n",
    "import torchvision # Computer vision algorithm\n",
    "import torch.nn.functional as F\n",
    "import numpy as np \n",
    "import matplotlib.pyplot as plt"
   ]
  },
  {
   "cell_type": "markdown",
   "metadata": {},
   "source": [
    "### Pytorch Tensor"
   ]
  },
  {
   "cell_type": "code",
   "execution_count": 2,
   "metadata": {},
   "outputs": [],
   "source": [
    "W = [[1, 1, 1],\n",
    "    [1.5, 1.5, 1.5],\n",
    "    [2, 2, 2]]\n",
    "\n",
    "x = [[6], [7], [8]]\n",
    "\n",
    "b = [[1], [1], [1]]\n",
    "\n",
    "y = [[0], [0], [0]]"
   ]
  },
  {
   "cell_type": "code",
   "execution_count": 4,
   "metadata": {},
   "outputs": [
    {
     "data": {
      "text/plain": [
       "array([[1. , 1. , 1. ],\n",
       "       [1.5, 1.5, 1.5],\n",
       "       [2. , 2. , 2. ]])"
      ]
     },
     "execution_count": 4,
     "metadata": {},
     "output_type": "execute_result"
    }
   ],
   "source": [
    "W_np = np.array(W)\n",
    "W_np"
   ]
  },
  {
   "cell_type": "code",
   "execution_count": 5,
   "metadata": {},
   "outputs": [
    {
     "data": {
      "text/plain": [
       "array([[6],\n",
       "       [7],\n",
       "       [8]])"
      ]
     },
     "execution_count": 5,
     "metadata": {},
     "output_type": "execute_result"
    }
   ],
   "source": [
    "x_np = np.array(x)\n",
    "x_np"
   ]
  },
  {
   "cell_type": "code",
   "execution_count": 6,
   "metadata": {},
   "outputs": [
    {
     "data": {
      "text/plain": [
       "array([[1.],\n",
       "       [1.],\n",
       "       [1.]])"
      ]
     },
     "execution_count": 6,
     "metadata": {},
     "output_type": "execute_result"
    }
   ],
   "source": [
    "b_np = np.ones((3, 1))\n",
    "b_np"
   ]
  },
  {
   "cell_type": "code",
   "execution_count": 11,
   "metadata": {},
   "outputs": [
    {
     "name": "stdout",
     "output_type": "stream",
     "text": [
      "Output : \n",
      " [[22. ]\n",
      " [32.5]\n",
      " [43. ]]\n",
      "Shape :  (3, 1)\n"
     ]
    }
   ],
   "source": [
    "output = np.matmul(W_np, x_np) + b_np\n",
    "print(\"Output : \\n\", output)\n",
    "print(\"Shape : \", output.shape)"
   ]
  },
  {
   "cell_type": "markdown",
   "metadata": {},
   "source": [
    "### Let's Try Pytorch"
   ]
  },
  {
   "cell_type": "code",
   "execution_count": 12,
   "metadata": {},
   "outputs": [],
   "source": [
    "W_torch = torch.FloatTensor(W)\n",
    "\n",
    "x_torch = torch.FloatTensor(x)\n",
    "\n",
    "b_torch = torch.ones(3,1)\n"
   ]
  },
  {
   "cell_type": "code",
   "execution_count": 13,
   "metadata": {},
   "outputs": [
    {
     "data": {
      "text/plain": [
       "tensor([[1.0000, 1.0000, 1.0000],\n",
       "        [1.5000, 1.5000, 1.5000],\n",
       "        [2.0000, 2.0000, 2.0000]])"
      ]
     },
     "execution_count": 13,
     "metadata": {},
     "output_type": "execute_result"
    }
   ],
   "source": [
    "W_torch"
   ]
  },
  {
   "cell_type": "code",
   "execution_count": 14,
   "metadata": {},
   "outputs": [
    {
     "data": {
      "text/plain": [
       "tensor([[6.],\n",
       "        [7.],\n",
       "        [8.]])"
      ]
     },
     "execution_count": 14,
     "metadata": {},
     "output_type": "execute_result"
    }
   ],
   "source": [
    "x_torch"
   ]
  },
  {
   "cell_type": "code",
   "execution_count": 15,
   "metadata": {},
   "outputs": [
    {
     "data": {
      "text/plain": [
       "tensor([[1.],\n",
       "        [1.],\n",
       "        [1.]])"
      ]
     },
     "execution_count": 15,
     "metadata": {},
     "output_type": "execute_result"
    }
   ],
   "source": [
    "b_torch"
   ]
  },
  {
   "cell_type": "markdown",
   "metadata": {},
   "source": [
    "แปลงจาก numpy -> torch : ใช้ฟังก์ชัน torch.FloatTensor()\n",
    "แปลงจาก torch -> numpy : ใช้ฟังก์ชัน .numpy()"
   ]
  },
  {
   "cell_type": "code",
   "execution_count": 16,
   "metadata": {},
   "outputs": [
    {
     "data": {
      "text/plain": [
       "array([[0.77929447, 0.70250953, 0.2290331 , 0.09632512],\n",
       "       [0.92809607, 0.20517816, 0.51297797, 0.58676423],\n",
       "       [0.81849775, 0.16919138, 0.01731616, 0.72209264]])"
      ]
     },
     "execution_count": 16,
     "metadata": {},
     "output_type": "execute_result"
    }
   ],
   "source": [
    "np_array = np.random.random((3,4))\n",
    "np_array"
   ]
  },
  {
   "cell_type": "code",
   "execution_count": 18,
   "metadata": {},
   "outputs": [
    {
     "data": {
      "text/plain": [
       "tensor([[0.7793, 0.7025, 0.2290, 0.0963],\n",
       "        [0.9281, 0.2052, 0.5130, 0.5868],\n",
       "        [0.8185, 0.1692, 0.0173, 0.7221]])"
      ]
     },
     "execution_count": 18,
     "metadata": {},
     "output_type": "execute_result"
    }
   ],
   "source": [
    "torch_tensor = torch.FloatTensor(np_array)\n",
    "torch_tensor"
   ]
  },
  {
   "cell_type": "code",
   "execution_count": 21,
   "metadata": {},
   "outputs": [
    {
     "data": {
      "text/plain": [
       "array([[0.7792945 , 0.7025095 , 0.2290331 , 0.09632512],\n",
       "       [0.92809606, 0.20517816, 0.51297796, 0.5867642 ],\n",
       "       [0.8184977 , 0.16919138, 0.01731616, 0.7220926 ]], dtype=float32)"
      ]
     },
     "execution_count": 21,
     "metadata": {},
     "output_type": "execute_result"
    }
   ],
   "source": [
    "np_array2 = torch_tensor.numpy()\n",
    "np_array2"
   ]
  },
  {
   "cell_type": "markdown",
   "metadata": {},
   "source": [
    "### On Pytorch"
   ]
  },
  {
   "cell_type": "code",
   "execution_count": 22,
   "metadata": {},
   "outputs": [
    {
     "data": {
      "text/plain": [
       "tensor([[0.9243, 0.9607, 0.2351, 0.6565, 0.6753],\n",
       "        [0.0011, 0.6203, 0.4836, 0.9913, 0.3678],\n",
       "        [0.2462, 0.1082, 0.6233, 0.3738, 0.3785],\n",
       "        [0.3078, 0.2727, 0.0454, 0.7942, 0.8330]])"
      ]
     },
     "execution_count": 22,
     "metadata": {},
     "output_type": "execute_result"
    }
   ],
   "source": [
    "y = torch.rand(4, 5)\n",
    "y"
   ]
  },
  {
   "cell_type": "code",
   "execution_count": 23,
   "metadata": {},
   "outputs": [
    {
     "data": {
      "text/plain": [
       "<function Tensor.dim>"
      ]
     },
     "execution_count": 23,
     "metadata": {},
     "output_type": "execute_result"
    }
   ],
   "source": [
    "y.dim"
   ]
  },
  {
   "cell_type": "markdown",
   "metadata": {},
   "source": [
    "### Tensor Operations"
   ]
  },
  {
   "cell_type": "code",
   "execution_count": 48,
   "metadata": {},
   "outputs": [
    {
     "name": "stdout",
     "output_type": "stream",
     "text": [
      "Addition : \n",
      " tensor([[[0.8059, 0.2810, 1.6030],\n",
      "         [0.6498, 0.3469, 0.3994],\n",
      "         [0.8637, 0.8918, 0.5332]],\n",
      "\n",
      "        [[0.6792, 0.9913, 0.5532],\n",
      "         [0.5213, 1.4844, 0.9091],\n",
      "         [0.4740, 0.3805, 1.4839]],\n",
      "\n",
      "        [[0.9983, 1.8003, 1.1445],\n",
      "         [1.4798, 1.1546, 0.8958],\n",
      "         [1.2132, 1.2790, 1.5790]]])\n",
      "Batch Multiplication : \n",
      " tensor([[[0.0903, 0.0153, 0.6423],\n",
      "         [0.0779, 0.0298, 0.0397],\n",
      "         [0.1177, 0.0335, 0.0692]],\n",
      "\n",
      "        [[0.0862, 0.1492, 0.0730],\n",
      "         [0.0629, 0.5477, 0.0596],\n",
      "         [0.0366, 0.0362, 0.5068]],\n",
      "\n",
      "        [[0.1794, 0.8083, 0.2235],\n",
      "         [0.4890, 0.2896, 0.1628],\n",
      "         [0.2708, 0.4024, 0.5907]]])\n"
     ]
    }
   ],
   "source": [
    "tensor_1 = torch.rand(3,3,3) # first 3 calls batch dimension\n",
    "tensor_2 = torch.rand(3,3,3)\n",
    "\n",
    "add_result = tensor_1 + tensor_2\n",
    "mul_result = tensor_1 * tensor_2\n",
    "\n",
    "print(\"Addition : \\n\", add_result)\n",
    "print(\"Batch Multiplication : \\n\", mul_result)"
   ]
  },
  {
   "cell_type": "code",
   "execution_count": 51,
   "metadata": {},
   "outputs": [
    {
     "data": {
      "text/plain": [
       "tensor([[[0.7782, 0.4336, 0.2253, 0.5167, 0.0746],\n",
       "         [0.0390, 0.3217, 0.6172, 0.1016, 0.9457],\n",
       "         [0.7511, 0.5452, 0.5155, 0.4269, 0.0526],\n",
       "         [0.4060, 0.1780, 0.0690, 0.8863, 0.5847]],\n",
       "\n",
       "        [[0.9092, 0.4546, 0.7235, 0.9074, 0.0297],\n",
       "         [0.8863, 0.1430, 0.6906, 0.2099, 0.3664],\n",
       "         [0.6866, 0.0023, 0.8448, 0.2105, 0.7837],\n",
       "         [0.3773, 0.1390, 0.4256, 0.1201, 0.1772]]])"
      ]
     },
     "execution_count": 51,
     "metadata": {},
     "output_type": "execute_result"
    }
   ],
   "source": [
    "tensor_3 = torch.rand(2,4,5) # batch dimension = 2\n",
    "tensor_3"
   ]
  },
  {
   "cell_type": "code",
   "execution_count": 52,
   "metadata": {},
   "outputs": [
    {
     "data": {
      "text/plain": [
       "torch.Size([2, 4, 5])"
      ]
     },
     "execution_count": 52,
     "metadata": {},
     "output_type": "execute_result"
    }
   ],
   "source": [
    "tensor_3.shape"
   ]
  },
  {
   "cell_type": "code",
   "execution_count": 54,
   "metadata": {},
   "outputs": [
    {
     "data": {
      "text/plain": [
       "tensor([[[0.7782, 0.9092],\n",
       "         [0.0390, 0.8863],\n",
       "         [0.7511, 0.6866],\n",
       "         [0.4060, 0.3773]],\n",
       "\n",
       "        [[0.4336, 0.4546],\n",
       "         [0.3217, 0.1430],\n",
       "         [0.5452, 0.0023],\n",
       "         [0.1780, 0.1390]],\n",
       "\n",
       "        [[0.2253, 0.7235],\n",
       "         [0.6172, 0.6906],\n",
       "         [0.5155, 0.8448],\n",
       "         [0.0690, 0.4256]],\n",
       "\n",
       "        [[0.5167, 0.9074],\n",
       "         [0.1016, 0.2099],\n",
       "         [0.4269, 0.2105],\n",
       "         [0.8863, 0.1201]],\n",
       "\n",
       "        [[0.0746, 0.0297],\n",
       "         [0.9457, 0.3664],\n",
       "         [0.0526, 0.7837],\n",
       "         [0.5847, 0.1772]]])"
      ]
     },
     "execution_count": 54,
     "metadata": {},
     "output_type": "execute_result"
    }
   ],
   "source": [
    "tensor_3.transpose(0,2)"
   ]
  },
  {
   "cell_type": "markdown",
   "metadata": {},
   "source": [
    "### Indexing"
   ]
  },
  {
   "cell_type": "code",
   "execution_count": 62,
   "metadata": {},
   "outputs": [
    {
     "data": {
      "text/plain": [
       "tensor([[[[0.5264, 0.8398, 0.5724, 0.2063]],\n",
       "\n",
       "         [[0.7707, 0.8172, 0.3887, 0.9285]],\n",
       "\n",
       "         [[0.9636, 0.0340, 0.2442, 0.8884]]],\n",
       "\n",
       "\n",
       "        [[[0.8564, 0.0429, 0.9501, 0.9965]],\n",
       "\n",
       "         [[0.6016, 0.5219, 0.0561, 0.0189]],\n",
       "\n",
       "         [[0.0909, 0.9129, 0.5564, 0.5731]]]])"
      ]
     },
     "execution_count": 62,
     "metadata": {},
     "output_type": "execute_result"
    }
   ],
   "source": [
    "tensor = torch.rand(2,3,1,4)\n",
    "tensor"
   ]
  },
  {
   "cell_type": "code",
   "execution_count": 69,
   "metadata": {},
   "outputs": [
    {
     "data": {
      "text/plain": [
       "tensor([[[0.8564, 0.0429, 0.9501, 0.9965]],\n",
       "\n",
       "        [[0.6016, 0.5219, 0.0561, 0.0189]],\n",
       "\n",
       "        [[0.0909, 0.9129, 0.5564, 0.5731]]])"
      ]
     },
     "execution_count": 69,
     "metadata": {},
     "output_type": "execute_result"
    }
   ],
   "source": [
    "tensor[-1]"
   ]
  },
  {
   "cell_type": "code",
   "execution_count": 70,
   "metadata": {},
   "outputs": [
    {
     "data": {
      "text/plain": [
       "tensor([[0.7707, 0.8172, 0.3887, 0.9285]])"
      ]
     },
     "execution_count": 70,
     "metadata": {},
     "output_type": "execute_result"
    }
   ],
   "source": [
    "tensor[0,1]"
   ]
  },
  {
   "cell_type": "code",
   "execution_count": 71,
   "metadata": {},
   "outputs": [
    {
     "data": {
      "text/plain": [
       "tensor([0.3887, 0.0561])"
      ]
     },
     "execution_count": 71,
     "metadata": {},
     "output_type": "execute_result"
    }
   ],
   "source": [
    "tensor[:, 1, 0, 2]"
   ]
  },
  {
   "cell_type": "markdown",
   "metadata": {},
   "source": [
    "### Describing Tensors"
   ]
  },
  {
   "cell_type": "code",
   "execution_count": 75,
   "metadata": {},
   "outputs": [
    {
     "data": {
      "text/plain": [
       "tensor([[[[6.8034e-01, 8.0504e-01],\n",
       "          [4.1067e-01, 4.9003e-01],\n",
       "          [1.6434e-01, 8.5645e-02]],\n",
       "\n",
       "         [[6.0689e-01, 2.5349e-01],\n",
       "          [7.0088e-01, 5.1453e-01],\n",
       "          [7.8659e-01, 5.8687e-01]],\n",
       "\n",
       "         [[2.8936e-02, 2.5426e-01],\n",
       "          [5.7865e-01, 6.8984e-01],\n",
       "          [4.6971e-01, 2.4007e-01]],\n",
       "\n",
       "         [[4.4746e-02, 1.8237e-01],\n",
       "          [9.0218e-01, 7.1670e-01],\n",
       "          [4.6807e-01, 4.0642e-01]],\n",
       "\n",
       "         [[3.0626e-01, 2.9710e-01],\n",
       "          [2.2302e-01, 8.7868e-01],\n",
       "          [3.4767e-01, 3.6956e-02]]],\n",
       "\n",
       "\n",
       "        [[[6.7776e-01, 3.5132e-03],\n",
       "          [6.0318e-01, 8.2254e-01],\n",
       "          [5.6668e-01, 1.9262e-01]],\n",
       "\n",
       "         [[5.0710e-01, 5.4635e-01],\n",
       "          [5.1635e-01, 1.5775e-01],\n",
       "          [7.9722e-01, 3.3314e-01]],\n",
       "\n",
       "         [[8.2579e-01, 4.7877e-01],\n",
       "          [2.7959e-01, 8.7229e-01],\n",
       "          [9.7527e-01, 5.9596e-01]],\n",
       "\n",
       "         [[6.9201e-01, 7.3530e-01],\n",
       "          [1.5530e-01, 4.3205e-01],\n",
       "          [4.8045e-01, 1.9472e-01]],\n",
       "\n",
       "         [[1.5349e-01, 3.1850e-01],\n",
       "          [7.8572e-01, 9.3548e-01],\n",
       "          [8.8346e-01, 3.1527e-01]]],\n",
       "\n",
       "\n",
       "        [[[5.9100e-01, 1.2381e-01],\n",
       "          [1.4044e-01, 9.8020e-01],\n",
       "          [9.9702e-02, 8.4090e-01]],\n",
       "\n",
       "         [[8.2833e-01, 6.7481e-01],\n",
       "          [1.1790e-04, 7.4206e-01],\n",
       "          [6.7786e-01, 7.5066e-01]],\n",
       "\n",
       "         [[4.8932e-01, 3.7523e-01],\n",
       "          [3.2430e-01, 5.3613e-01],\n",
       "          [7.1738e-01, 4.9572e-01]],\n",
       "\n",
       "         [[5.6715e-01, 9.9538e-02],\n",
       "          [4.2127e-01, 4.3301e-01],\n",
       "          [7.2140e-01, 5.1805e-01]],\n",
       "\n",
       "         [[8.7659e-01, 4.2344e-01],\n",
       "          [6.0275e-02, 8.5310e-03],\n",
       "          [5.7935e-01, 6.9518e-01]]]])"
      ]
     },
     "execution_count": 75,
     "metadata": {},
     "output_type": "execute_result"
    }
   ],
   "source": [
    "tensor = torch.rand(3,5,3,2)\n",
    "tensor"
   ]
  },
  {
   "cell_type": "code",
   "execution_count": 76,
   "metadata": {},
   "outputs": [
    {
     "data": {
      "text/plain": [
       "torch.Size([3, 5, 3, 2])"
      ]
     },
     "execution_count": 76,
     "metadata": {},
     "output_type": "execute_result"
    }
   ],
   "source": [
    "tensor.shape"
   ]
  },
  {
   "cell_type": "code",
   "execution_count": 79,
   "metadata": {},
   "outputs": [
    {
     "data": {
      "text/plain": [
       "torch.Size([3, 5, 3, 2])"
      ]
     },
     "execution_count": 79,
     "metadata": {},
     "output_type": "execute_result"
    }
   ],
   "source": [
    "tensor.size()"
   ]
  },
  {
   "cell_type": "code",
   "execution_count": 80,
   "metadata": {},
   "outputs": [
    {
     "data": {
      "text/plain": [
       "4"
      ]
     },
     "execution_count": 80,
     "metadata": {},
     "output_type": "execute_result"
    }
   ],
   "source": [
    "tensor.ndim"
   ]
  },
  {
   "cell_type": "markdown",
   "metadata": {},
   "source": [
    "### Reshape"
   ]
  },
  {
   "cell_type": "code",
   "execution_count": 81,
   "metadata": {},
   "outputs": [
    {
     "data": {
      "text/plain": [
       "tensor([[6.8034e-01, 8.0504e-01, 4.1067e-01, 4.9003e-01, 1.6434e-01, 8.5645e-02,\n",
       "         6.0689e-01, 2.5349e-01, 7.0088e-01, 5.1453e-01, 7.8659e-01, 5.8687e-01,\n",
       "         2.8936e-02, 2.5426e-01, 5.7865e-01, 6.8984e-01, 4.6971e-01, 2.4007e-01,\n",
       "         4.4746e-02, 1.8237e-01, 9.0218e-01, 7.1670e-01, 4.6807e-01, 4.0642e-01,\n",
       "         3.0626e-01, 2.9710e-01, 2.2302e-01, 8.7868e-01, 3.4767e-01, 3.6956e-02],\n",
       "        [6.7776e-01, 3.5132e-03, 6.0318e-01, 8.2254e-01, 5.6668e-01, 1.9262e-01,\n",
       "         5.0710e-01, 5.4635e-01, 5.1635e-01, 1.5775e-01, 7.9722e-01, 3.3314e-01,\n",
       "         8.2579e-01, 4.7877e-01, 2.7959e-01, 8.7229e-01, 9.7527e-01, 5.9596e-01,\n",
       "         6.9201e-01, 7.3530e-01, 1.5530e-01, 4.3205e-01, 4.8045e-01, 1.9472e-01,\n",
       "         1.5349e-01, 3.1850e-01, 7.8572e-01, 9.3548e-01, 8.8346e-01, 3.1527e-01],\n",
       "        [5.9100e-01, 1.2381e-01, 1.4044e-01, 9.8020e-01, 9.9702e-02, 8.4090e-01,\n",
       "         8.2833e-01, 6.7481e-01, 1.1790e-04, 7.4206e-01, 6.7786e-01, 7.5066e-01,\n",
       "         4.8932e-01, 3.7523e-01, 3.2430e-01, 5.3613e-01, 7.1738e-01, 4.9572e-01,\n",
       "         5.6715e-01, 9.9538e-02, 4.2127e-01, 4.3301e-01, 7.2140e-01, 5.1805e-01,\n",
       "         8.7659e-01, 4.2344e-01, 6.0275e-02, 8.5310e-03, 5.7935e-01, 6.9518e-01]])"
      ]
     },
     "execution_count": 81,
     "metadata": {},
     "output_type": "execute_result"
    }
   ],
   "source": [
    "tensor.reshape(3,30)"
   ]
  },
  {
   "cell_type": "code",
   "execution_count": 84,
   "metadata": {},
   "outputs": [
    {
     "data": {
      "text/plain": [
       "tensor([6.8034e-01, 8.0504e-01, 4.1067e-01, 4.9003e-01, 1.6434e-01, 8.5645e-02,\n",
       "        6.0689e-01, 2.5349e-01, 7.0088e-01, 5.1453e-01, 7.8659e-01, 5.8687e-01,\n",
       "        2.8936e-02, 2.5426e-01, 5.7865e-01, 6.8984e-01, 4.6971e-01, 2.4007e-01,\n",
       "        4.4746e-02, 1.8237e-01, 9.0218e-01, 7.1670e-01, 4.6807e-01, 4.0642e-01,\n",
       "        3.0626e-01, 2.9710e-01, 2.2302e-01, 8.7868e-01, 3.4767e-01, 3.6956e-02,\n",
       "        6.7776e-01, 3.5132e-03, 6.0318e-01, 8.2254e-01, 5.6668e-01, 1.9262e-01,\n",
       "        5.0710e-01, 5.4635e-01, 5.1635e-01, 1.5775e-01, 7.9722e-01, 3.3314e-01,\n",
       "        8.2579e-01, 4.7877e-01, 2.7959e-01, 8.7229e-01, 9.7527e-01, 5.9596e-01,\n",
       "        6.9201e-01, 7.3530e-01, 1.5530e-01, 4.3205e-01, 4.8045e-01, 1.9472e-01,\n",
       "        1.5349e-01, 3.1850e-01, 7.8572e-01, 9.3548e-01, 8.8346e-01, 3.1527e-01,\n",
       "        5.9100e-01, 1.2381e-01, 1.4044e-01, 9.8020e-01, 9.9702e-02, 8.4090e-01,\n",
       "        8.2833e-01, 6.7481e-01, 1.1790e-04, 7.4206e-01, 6.7786e-01, 7.5066e-01,\n",
       "        4.8932e-01, 3.7523e-01, 3.2430e-01, 5.3613e-01, 7.1738e-01, 4.9572e-01,\n",
       "        5.6715e-01, 9.9538e-02, 4.2127e-01, 4.3301e-01, 7.2140e-01, 5.1805e-01,\n",
       "        8.7659e-01, 4.2344e-01, 6.0275e-02, 8.5310e-03, 5.7935e-01, 6.9518e-01])"
      ]
     },
     "execution_count": 84,
     "metadata": {},
     "output_type": "execute_result"
    }
   ],
   "source": [
    "tensor.flatten() # We can also use the Flatten method to convert to a 1D Tensor"
   ]
  },
  {
   "cell_type": "code",
   "execution_count": 85,
   "metadata": {},
   "outputs": [
    {
     "data": {
      "text/plain": [
       "90"
      ]
     },
     "execution_count": 85,
     "metadata": {},
     "output_type": "execute_result"
    }
   ],
   "source": [
    "tensor.numel() # View the number of elements in total"
   ]
  },
  {
   "cell_type": "code",
   "execution_count": 86,
   "metadata": {},
   "outputs": [
    {
     "data": {
      "text/plain": [
       "4"
      ]
     },
     "execution_count": 86,
     "metadata": {},
     "output_type": "execute_result"
    }
   ],
   "source": [
    "tensor.ndim"
   ]
  },
  {
   "cell_type": "markdown",
   "metadata": {},
   "source": [
    "### Squeezing and Unsqueezing"
   ]
  },
  {
   "cell_type": "code",
   "execution_count": 87,
   "metadata": {},
   "outputs": [
    {
     "data": {
      "text/plain": [
       "torch.Size([3, 2])"
      ]
     },
     "execution_count": 87,
     "metadata": {},
     "output_type": "execute_result"
    }
   ],
   "source": [
    "tensor = torch.rand(3, 2)\n",
    "\n",
    "tensor.shape"
   ]
  },
  {
   "cell_type": "code",
   "execution_count": 89,
   "metadata": {},
   "outputs": [
    {
     "data": {
      "text/plain": [
       "<function Tensor.unsqueeze>"
      ]
     },
     "execution_count": 89,
     "metadata": {},
     "output_type": "execute_result"
    }
   ],
   "source": [
    "tensor.unsqueeze # Unsqueeze adds an \"empty\" dimension to our Tensor"
   ]
  },
  {
   "cell_type": "code",
   "execution_count": 91,
   "metadata": {},
   "outputs": [
    {
     "data": {
      "text/plain": [
       "torch.Size([3, 1, 2])"
      ]
     },
     "execution_count": 91,
     "metadata": {},
     "output_type": "execute_result"
    }
   ],
   "source": [
    "tensor.unsqueeze(1).shape # Unsqueeze adds an \"empty\" dimension to pur Tensor"
   ]
  },
  {
   "cell_type": "code",
   "execution_count": 98,
   "metadata": {},
   "outputs": [
    {
     "data": {
      "text/plain": [
       "tensor([[0.0026, 0.5746],\n",
       "        [0.6956, 0.9142],\n",
       "        [0.3225, 0.3260]])"
      ]
     },
     "execution_count": 98,
     "metadata": {},
     "output_type": "execute_result"
    }
   ],
   "source": [
    "### Lets create a 2D Tensor\n",
    "tensor = torch.rand(3,2)\n",
    "tensor"
   ]
  },
  {
   "cell_type": "code",
   "execution_count": 99,
   "metadata": {},
   "outputs": [
    {
     "data": {
      "text/plain": [
       "torch.Size([3, 2])"
      ]
     },
     "execution_count": 99,
     "metadata": {},
     "output_type": "execute_result"
    }
   ],
   "source": [
    "tensor.shape"
   ]
  },
  {
   "cell_type": "code",
   "execution_count": 100,
   "metadata": {},
   "outputs": [
    {
     "data": {
      "text/plain": [
       "torch.Size([3, 2, 1])"
      ]
     },
     "execution_count": 100,
     "metadata": {},
     "output_type": "execute_result"
    }
   ],
   "source": [
    "tensor.unsqueeze(2).shape"
   ]
  },
  {
   "cell_type": "code",
   "execution_count": 101,
   "metadata": {},
   "outputs": [
    {
     "data": {
      "text/plain": [
       "torch.Size([3, 1, 2])"
      ]
     },
     "execution_count": 101,
     "metadata": {},
     "output_type": "execute_result"
    }
   ],
   "source": [
    "tensor.unsqueeze(1).shape"
   ]
  },
  {
   "cell_type": "code",
   "execution_count": 125,
   "metadata": {},
   "outputs": [
    {
     "data": {
      "text/plain": [
       "tensor([[[[0.6362, 0.1437]],\n",
       "\n",
       "         [[0.1600, 0.0260]],\n",
       "\n",
       "         [[0.1854, 0.5706]]]])"
      ]
     },
     "execution_count": 125,
     "metadata": {},
     "output_type": "execute_result"
    }
   ],
   "source": [
    "# Lets create a 4D Tensor with a few \"empty\" dimensions\n",
    "tensor = torch.rand(1,3,1,2)\n",
    "tensor"
   ]
  },
  {
   "cell_type": "code",
   "execution_count": 126,
   "metadata": {},
   "outputs": [
    {
     "data": {
      "text/plain": [
       "torch.Size([1, 3, 2])"
      ]
     },
     "execution_count": 126,
     "metadata": {},
     "output_type": "execute_result"
    }
   ],
   "source": [
    "tensor.squeeze(2).shape # squeeze removes an \"empty\" dimension from our Tensor"
   ]
  },
  {
   "cell_type": "code",
   "execution_count": 127,
   "metadata": {},
   "outputs": [
    {
     "data": {
      "text/plain": [
       "torch.Size([3, 1, 2])"
      ]
     },
     "execution_count": 127,
     "metadata": {},
     "output_type": "execute_result"
    }
   ],
   "source": [
    "tensor.squeeze(0).shape # squeeze removes an \"empty\" dimension from our Tensor"
   ]
  },
  {
   "cell_type": "code",
   "execution_count": 128,
   "metadata": {},
   "outputs": [
    {
     "data": {
      "text/plain": [
       "torch.Size([3, 2])"
      ]
     },
     "execution_count": 128,
     "metadata": {},
     "output_type": "execute_result"
    }
   ],
   "source": [
    "tensor.squeeze().shape # If we don't specify a dimension, squeeze will remove ALL empty dimensions"
   ]
  },
  {
   "cell_type": "markdown",
   "metadata": {},
   "source": [
    "### Boardcasting"
   ]
  },
  {
   "cell_type": "code",
   "execution_count": 129,
   "metadata": {},
   "outputs": [],
   "source": [
    "tensor1 = torch.rand(1,4,3,1)\n",
    "tensor2 = torch.rand(3,4,1,4)\n",
    "\n",
    "tensor3 = tensor1 + tensor2"
   ]
  },
  {
   "cell_type": "code",
   "execution_count": 130,
   "metadata": {},
   "outputs": [
    {
     "data": {
      "text/plain": [
       "torch.Size([1, 4, 3, 1])"
      ]
     },
     "execution_count": 130,
     "metadata": {},
     "output_type": "execute_result"
    }
   ],
   "source": [
    "tensor1.shape"
   ]
  },
  {
   "cell_type": "code",
   "execution_count": 131,
   "metadata": {},
   "outputs": [
    {
     "data": {
      "text/plain": [
       "torch.Size([3, 4, 1, 4])"
      ]
     },
     "execution_count": 131,
     "metadata": {},
     "output_type": "execute_result"
    }
   ],
   "source": [
    "tensor2.shape"
   ]
  },
  {
   "cell_type": "code",
   "execution_count": 132,
   "metadata": {},
   "outputs": [
    {
     "data": {
      "text/plain": [
       "torch.Size([3, 4, 3, 4])"
      ]
     },
     "execution_count": 132,
     "metadata": {},
     "output_type": "execute_result"
    }
   ],
   "source": [
    "tensor3.shape"
   ]
  },
  {
   "cell_type": "markdown",
   "metadata": {},
   "source": [
    "### Pytorch Autograd"
   ]
  },
  {
   "cell_type": "code",
   "execution_count": null,
   "metadata": {},
   "outputs": [],
   "source": []
  }
 ],
 "metadata": {
  "kernelspec": {
   "display_name": "Python 3",
   "language": "python",
   "name": "python3"
  },
  "language_info": {
   "codemirror_mode": {
    "name": "ipython",
    "version": 3
   },
   "file_extension": ".py",
   "mimetype": "text/x-python",
   "name": "python",
   "nbconvert_exporter": "python",
   "pygments_lexer": "ipython3",
   "version": "3.12.4"
  }
 },
 "nbformat": 4,
 "nbformat_minor": 2
}
