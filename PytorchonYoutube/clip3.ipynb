{
 "cells": [
  {
   "cell_type": "markdown",
   "metadata": {},
   "source": [
    "### Models and optimizers"
   ]
  },
  {
   "cell_type": "markdown",
   "metadata": {},
   "source": [
    "### Pytorch nn.Module\n",
    "\n",
    "The two main function we need to create are the __init__ and forward functions. We've already seen __init__ so lets looks at forward\n",
    "\n",
    "The forward function is the only function that we MUST create when we build our class, Pytorch uses this function as the \"entry point\" to our model and is what is called when we do a forward pass of our model."
   ]
  },
  {
   "cell_type": "code",
   "execution_count": 38,
   "metadata": {},
   "outputs": [],
   "source": [
    "import torch \n",
    "import torch.nn as nn \n",
    "import torch.nn.functional as F \n",
    "import numpy as np \n",
    "import matplotlib.pyplot as plt"
   ]
  },
  {
   "cell_type": "code",
   "execution_count": 39,
   "metadata": {},
   "outputs": [],
   "source": [
    "class SimpleFunction(nn.Module):\n",
    "    \"\"\"Simple implementation of an nn.Module subclass\n",
    "    Takes the input (x) and returns x * 4 + 2\"\"\"\n",
    "    def __init__(self): # ใช้ในการ Define layers\n",
    "        # Pass our class and self to superclass and call the superclass's init function\n",
    "        super(SimpleFunction, self).__init__()\n",
    "\n",
    "    def forward(self, x):\n",
    "        return x * 4 + 2"
   ]
  },
  {
   "cell_type": "code",
   "execution_count": 40,
   "metadata": {},
   "outputs": [],
   "source": [
    "simple_function = SimpleFunction()"
   ]
  },
  {
   "cell_type": "code",
   "execution_count": 41,
   "metadata": {},
   "outputs": [
    {
     "data": {
      "text/plain": [
       "42"
      ]
     },
     "execution_count": 41,
     "metadata": {},
     "output_type": "execute_result"
    }
   ],
   "source": [
    "output = simple_function(10)\n",
    "output"
   ]
  },
  {
   "cell_type": "markdown",
   "metadata": {},
   "source": [
    "### A more complicated model"
   ]
  },
  {
   "cell_type": "code",
   "execution_count": 42,
   "metadata": {},
   "outputs": [],
   "source": [
    "class LinearModel(nn.Module):\n",
    "    \"\"\"\n",
    "    Takes the input (x) and returns x * w^t + b\n",
    "    \"\"\"\n",
    "    def __init__(self, input_size, output_size):\n",
    "        # Pass our class and self to superclass and call the superclass's init function\n",
    "        super(LinearModel, self).__init__()\n",
    "        ## nn.Parameter wraps our normal tensors and \"tells\" Pytorch\n",
    "        # that they are our nn.Module's model parameters to be optimized\n",
    "        self.w = nn.Parameter(torch.randn(output_size, input_size))\n",
    "        self.b = nn.Parameter(torch.randn(1, output_size))\n",
    "\n",
    "    def forward(self, x):\n",
    "        return torch.matmul(x, self.w.t() + self.b)"
   ]
  },
  {
   "cell_type": "code",
   "execution_count": 43,
   "metadata": {},
   "outputs": [
    {
     "data": {
      "text/plain": [
       "tensor([[-1.2097,  0.5196, -0.2378, -0.0517,  1.5973],\n",
       "        [-0.1118, -1.8659, -0.1027,  0.2325,  0.6108],\n",
       "        [-0.7056, -1.5669, -0.1596, -0.9038,  0.9256],\n",
       "        [ 0.8715, -1.8872,  0.4085,  0.9269,  1.2883],\n",
       "        [ 0.4057,  0.8390,  1.2053, -0.1476,  1.4147],\n",
       "        [ 0.9070, -0.5667, -0.8086, -2.1386,  0.4340],\n",
       "        [ 0.1657,  1.1418,  1.5661,  0.0840, -0.5568],\n",
       "        [ 1.0899,  0.2311,  0.7202,  0.6685,  0.7154],\n",
       "        [-2.3890, -3.2819, -0.1884, -0.7350,  0.0994],\n",
       "        [ 1.6804, -0.0073,  0.2522, -1.1785,  0.4862]])"
      ]
     },
     "execution_count": 43,
     "metadata": {},
     "output_type": "execute_result"
    }
   ],
   "source": [
    "input_data = torch.randn(10,5)\n",
    "input_data"
   ]
  },
  {
   "cell_type": "code",
   "execution_count": 44,
   "metadata": {},
   "outputs": [
    {
     "name": "stdout",
     "output_type": "stream",
     "text": [
      "torch.Size([10, 1])\n",
      "tensor([[-1.5852],\n",
      "        [-3.0473],\n",
      "        [-5.2995],\n",
      "        [-2.2840],\n",
      "        [-0.9956],\n",
      "        [-4.1923],\n",
      "        [ 1.6478],\n",
      "        [ 0.9948],\n",
      "        [-7.6395],\n",
      "        [-1.8449]])\n"
     ]
    }
   ],
   "source": [
    "linear_model = LinearModel(5, 1) # init w กับ b\n",
    "\n",
    "output = linear_model(input_data)\n",
    "print(output.shape)\n",
    "print(output.detach())"
   ]
  },
  {
   "cell_type": "code",
   "execution_count": 45,
   "metadata": {},
   "outputs": [
    {
     "data": {
      "text/plain": [
       "tensor([[0.0329, 0.8312],\n",
       "        [0.4092, 0.3591],\n",
       "        [0.2531, 0.2742]])"
      ]
     },
     "execution_count": 45,
     "metadata": {},
     "output_type": "execute_result"
    }
   ],
   "source": [
    "x = torch.rand(3,2)\n",
    "x"
   ]
  },
  {
   "cell_type": "markdown",
   "metadata": {},
   "source": [
    "### Pytorch inbuilt Neural Network Layers"
   ]
  },
  {
   "cell_type": "code",
   "execution_count": 46,
   "metadata": {},
   "outputs": [
    {
     "name": "stdout",
     "output_type": "stream",
     "text": [
      "w:\n",
      " tensor([[-0.5242,  0.0480, -0.5371]])\n",
      "b:\n",
      " tensor([0.0911])\n",
      "w shape:\n",
      " torch.Size([1, 3])\n",
      "b shape:\n",
      " torch.Size([1])\n"
     ]
    }
   ],
   "source": [
    "linear = nn.Linear(3, 1)\n",
    "\n",
    "print('w:\\n', linear.weight.data)\n",
    "\n",
    "print('b:\\n', linear.bias.data)\n",
    "\n",
    "print('w shape:\\n', linear.weight.data.shape)\n",
    "print('b shape:\\n', linear.bias.data.shape)"
   ]
  },
  {
   "cell_type": "code",
   "execution_count": 47,
   "metadata": {},
   "outputs": [
    {
     "name": "stdout",
     "output_type": "stream",
     "text": [
      "w shape:\n",
      " None\n",
      "b shape:\n",
      " None\n"
     ]
    }
   ],
   "source": [
    "print('w shape:\\n', linear.weight.grad)\n",
    "print('b shape:\\n', linear.bias.grad)"
   ]
  },
  {
   "cell_type": "code",
   "execution_count": 48,
   "metadata": {},
   "outputs": [
    {
     "name": "stdout",
     "output_type": "stream",
     "text": [
      "Input data:\n",
      " tensor([[-0.8275, -0.1003, -0.5424],\n",
      "        [-0.0916, -1.5265, -0.7799],\n",
      "        [-0.7216,  0.1163, -0.2867],\n",
      "        [ 0.0982, -0.6951,  0.6080],\n",
      "        [ 0.6381, -1.0706, -0.1409],\n",
      "        [-0.7841, -1.4903, -1.2061],\n",
      "        [-0.8609, -0.6140, -0.3200],\n",
      "        [-0.3484, -0.3280,  0.2387],\n",
      "        [-2.7435, -0.8617, -0.1064],\n",
      "        [ 0.8914, -0.7229,  0.5269]])\n",
      "output data:\n",
      " tensor([[-1.4687e+00],\n",
      "        [-2.3976e+00],\n",
      "        [-8.7434e-01],\n",
      "        [ 1.7758e-03],\n",
      "        [-5.7198e-01],\n",
      "        [-3.4732e+00],\n",
      "        [-1.7920e+00],\n",
      "        [-4.4652e-01],\n",
      "        [-3.7317e+00],\n",
      "        [ 7.1254e-01]])\n"
     ]
    }
   ],
   "source": [
    "data = torch.randn(100,3)\n",
    "target = data.sum(1, keepdims=True) + 0.01*torch.randn(data.shape[0],1)\n",
    "print(\"Input data:\\n\", data[:10])\n",
    "print(\"output data:\\n\", target[:10])"
   ]
  },
  {
   "cell_type": "code",
   "execution_count": 49,
   "metadata": {},
   "outputs": [
    {
     "name": "stdout",
     "output_type": "stream",
     "text": [
      "Network output:\n",
      " tensor([[ 0.8114],\n",
      "        [ 0.4847],\n",
      "        [ 0.6289],\n",
      "        [-0.3203],\n",
      "        [-0.2191],\n",
      "        [ 1.0784],\n",
      "        [ 0.6848],\n",
      "        [ 0.1297],\n",
      "        [ 1.5451],\n",
      "        [-0.6939]])\n",
      "Network output shape: torch.Size([100, 1])\n"
     ]
    }
   ],
   "source": [
    "target_pred = linear(data)\n",
    "print(\"Network output:\\n\", target_pred.data[:10])\n",
    "print(\"Network output shape:\", target_pred.shape)"
   ]
  },
  {
   "cell_type": "markdown",
   "metadata": {},
   "source": [
    "### Loss Function and Optimizers\n",
    "\n",
    "Loss functions\n",
    "we've already seen loss function's before and define our own, but using Pytorch we can pick from some pre-defined functions (we can also just create our own.)\n",
    "\n",
    "Optimizers       \n",
    "This is the object that will be doing the parameter updates for us! Pytorch has a number of different optimizers, some of which we will explore in future labs. For now we will just use our well known Gradient Descent (GD) optimizer.     \n",
    "Note : Most optimizers are just some varient of GD"
   ]
  },
  {
   "cell_type": "code",
   "execution_count": 50,
   "metadata": {},
   "outputs": [],
   "source": [
    "# Lets perform a regression with a mean squere error loss\n",
    "loss_function = nn.MSELoss()\n",
    "\n",
    "# Lets create a stochastic gradient descent optimizer with a learning rate of 0.01 \n",
    "# (the way we will be using it, it is just normal GD)\n",
    "# When we create the optimizer we need to tell it WHAT it needs to optimize, so the first thing\n",
    "# We pass it are the linear layer's \"parameters\"\n",
    "optimizer = torch.optim.SGD(linear.parameters(), lr=0.01)"
   ]
  },
  {
   "cell_type": "code",
   "execution_count": 51,
   "metadata": {},
   "outputs": [
    {
     "data": {
      "text/plain": [
       "Text(0, 0.5, 'Outputs')"
      ]
     },
     "execution_count": 51,
     "metadata": {},
     "output_type": "execute_result"
    },
    {
     "data": {
      "image/png": "[encoded data removed]",
      "text/plain": [
       "<Figure size 640x480 with 1 Axes>"
      ]
     },
     "metadata": {},
     "output_type": "display_data"
    }
   ],
   "source": [
    "# Plotting the first dimension of the input vs the output\n",
    "\n",
    "# Use the outputs of the model from a few cells ago\n",
    "plt.scatter(data[:, 0], target_pred.detach())\n",
    "# Use the Ground Truth data\n",
    "plt.scatter(data[:, 0], target, marker='x')\n",
    "plt.legend([\"Predictions\", \"ground Truth Data\"])\n",
    "plt.xlabel(\"Inputs\")\n",
    "plt.ylabel(\"Outputs\")"
   ]
  },
  {
   "cell_type": "code",
   "execution_count": 52,
   "metadata": {},
   "outputs": [
    {
     "name": "stdout",
     "output_type": "stream",
     "text": [
      "loss: 5.6202545166015625\n"
     ]
    }
   ],
   "source": [
    "loss = loss_function(target_pred, target)\n",
    "print('loss:', loss.item())"
   ]
  },
  {
   "cell_type": "code",
   "execution_count": 53,
   "metadata": {},
   "outputs": [
    {
     "name": "stdout",
     "output_type": "stream",
     "text": [
      "dL/dw:  tensor([[-3.4869, -1.8803, -2.6386]])\n",
      "dL/db:  tensor([0.8836])\n"
     ]
    }
   ],
   "source": [
    "# Backward pass\n",
    "loss.backward()\n",
    "\n",
    "print(\"dL/dw: \", linear.weight.grad)\n",
    "print('dL/db: ', linear.bias.grad)"
   ]
  },
  {
   "cell_type": "code",
   "execution_count": 54,
   "metadata": {},
   "outputs": [
    {
     "name": "stdout",
     "output_type": "stream",
     "text": [
      "loss after 1 step optimization:  5.3884172439575195\n"
     ]
    }
   ],
   "source": [
    "# he critical step to update the parameter which reduce the loss\n",
    "optimizer.step()\n",
    "\n",
    "# Perform another forward pass of the model to check the new loss\n",
    "target_pred = linear(data)\n",
    "loss = loss_function(target_pred, target)\n",
    "print('loss after 1 step optimization: ', loss.item())"
   ]
  },
  {
   "cell_type": "markdown",
   "metadata": {},
   "source": [
    "### The Training Loop"
   ]
  },
  {
   "cell_type": "code",
   "execution_count": 55,
   "metadata": {},
   "outputs": [
    {
     "name": "stdout",
     "output_type": "stream",
     "text": [
      "loss: 5.3884172439575195\n"
     ]
    }
   ],
   "source": [
    "loss_logger = []\n",
    "\n",
    "for i in range(1000):\n",
    "    # Perform a forward pass of our data\n",
    "    target_pred = linear(data)\n",
    "\n",
    "    # Calculate the loss\n",
    "    loss = loss_function(target_pred, target)\n",
    "\n",
    "    # .zero_grad sets the stored gradients to 0\n",
    "    # If we didn't do this they would be added to the\n",
    "    # Gradients from the previous step!\n",
    "    optimizer.zero_grad()\n",
    "\n",
    "    # Perform an optimization step!\n",
    "    optimizer.step()\n",
    "\n",
    "    loss_logger.append(loss.item())\n",
    "\n",
    "print(\"loss:\", loss.item())"
   ]
  },
  {
   "cell_type": "code",
   "execution_count": null,
   "metadata": {},
   "outputs": [],
   "source": []
  },
  {
   "cell_type": "code",
   "execution_count": null,
   "metadata": {},
   "outputs": [],
   "source": []
  },
  {
   "cell_type": "code",
   "execution_count": null,
   "metadata": {},
   "outputs": [],
   "source": []
  },
  {
   "cell_type": "code",
   "execution_count": null,
   "metadata": {},
   "outputs": [],
   "source": []
  },
  {
   "cell_type": "code",
   "execution_count": null,
   "metadata": {},
   "outputs": [],
   "source": []
  },
  {
   "cell_type": "code",
   "execution_count": null,
   "metadata": {},
   "outputs": [],
   "source": []
  }
 ],
 "metadata": {
  "kernelspec": {
   "display_name": "Python 3",
   "language": "python",
   "name": "python3"
  },
  "language_info": {
   "codemirror_mode": {
    "name": "ipython",
    "version": 3
   },
   "file_extension": ".py",
   "mimetype": "text/x-python",
   "name": "python",
   "nbconvert_exporter": "python",
   "pygments_lexer": "ipython3",
   "version": "3.12.4"
  }
 },
 "nbformat": 4,
 "nbformat_minor": 2
}
