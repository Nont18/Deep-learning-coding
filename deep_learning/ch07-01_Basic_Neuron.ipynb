{
 "cells": [
  {
   "cell_type": "markdown",
   "metadata": {},
   "source": [
    "### Neuron (Perceptron)"
   ]
  },
  {
   "cell_type": "code",
   "execution_count": 1,
   "metadata": {},
   "outputs": [],
   "source": [
    "import numpy as np"
   ]
  },
  {
   "cell_type": "markdown",
   "metadata": {},
   "source": [
    "### Workshop 1 : Neuron (Perceptron)"
   ]
  },
  {
   "cell_type": "code",
   "execution_count": 2,
   "metadata": {},
   "outputs": [
    {
     "name": "stdout",
     "output_type": "stream",
     "text": [
      "0.5\n"
     ]
    }
   ],
   "source": [
    "w0 = -0.5\n",
    "\n",
    "x = [1,1]\n",
    "w = [0.5,0.5]\n",
    "\n",
    "w = np.array(w)\n",
    "x = np.array(x)\n",
    "\n",
    "s = w0 + np.dot(w,x)\n",
    "print(s)"
   ]
  },
  {
   "cell_type": "code",
   "execution_count": 3,
   "metadata": {},
   "outputs": [
    {
     "data": {
      "text/plain": [
       "np.float64(-0.5)"
      ]
     },
     "execution_count": 3,
     "metadata": {},
     "output_type": "execute_result"
    }
   ],
   "source": [
    "w0 = -0.5\n",
    "\n",
    "x = [0,0]\n",
    "w = [0.5,0.5]\n",
    "\n",
    "w = np.array(w)\n",
    "x = np.array(x)\n",
    "\n",
    "s = w0 + np.dot(w,x)\n",
    "s"
   ]
  },
  {
   "cell_type": "markdown",
   "metadata": {},
   "source": [
    "### Workshop 3 : AND Gate ด้วย Neuron"
   ]
  },
  {
   "cell_type": "code",
   "execution_count": 4,
   "metadata": {},
   "outputs": [
    {
     "name": "stdout",
     "output_type": "stream",
     "text": [
      "output y=0 [s=-0.50]\n",
      "output y=1 [s=0.00]\n",
      "output y=1 [s=0.00]\n",
      "output y=1 [s=0.50]\n"
     ]
    }
   ],
   "source": [
    "def and_gate(x1, x2):\n",
    "    w0 = -0.5\n",
    "    w1 = 0.5\n",
    "    w2 = 0.5\n",
    "\n",
    "    threshold = 0.0\n",
    "\n",
    "    s = w0 + (w1 * x1) + (w2 * x2)\n",
    "\n",
    "    if s >= threshold:\n",
    "        result = 1\n",
    "    else:\n",
    "        result = 0\n",
    "\n",
    "    print('output y={} [s={:.2f}]'. format(result, s))\n",
    "\n",
    "and_gate(0,0)\n",
    "and_gate(0,1)\n",
    "and_gate(1,0)\n",
    "and_gate(1,1) "
   ]
  },
  {
   "cell_type": "code",
   "execution_count": 5,
   "metadata": {},
   "outputs": [
    {
     "name": "stdout",
     "output_type": "stream",
     "text": [
      "output y=0 [s=-0.50]\n",
      "output y=0 [s=-0.30]\n",
      "output y=0 [s=-0.30]\n",
      "output y=0 [s=-0.10]\n"
     ]
    }
   ],
   "source": [
    "def and_gate(x1, x2):\n",
    "    w0 = -0.5\n",
    "    w1 = 0.2\n",
    "    w2 = 0.2\n",
    "\n",
    "    threshold = 0.0\n",
    "\n",
    "    s = w0 + (w1 * x1) + (w2 * x2)\n",
    "\n",
    "    if s >= threshold:\n",
    "        result = 1\n",
    "    else:\n",
    "        result = 0\n",
    "\n",
    "    print('output y={} [s={:.2f}]'. format(result, s))\n",
    "\n",
    "and_gate(0,0)\n",
    "and_gate(0,1)\n",
    "and_gate(1,0)\n",
    "and_gate(1,1) "
   ]
  },
  {
   "cell_type": "code",
   "execution_count": 6,
   "metadata": {},
   "outputs": [
    {
     "name": "stdout",
     "output_type": "stream",
     "text": [
      "output y=0 [s=-0.50]\n",
      "output y=0 [s=-0.10]\n",
      "output y=0 [s=-0.10]\n",
      "output y=1 [s=0.30]\n"
     ]
    }
   ],
   "source": [
    "def and_gate(x1, x2):\n",
    "    w0 = -0.5\n",
    "    w1 = 0.4\n",
    "    w2 = 0.4\n",
    "\n",
    "    threshold = 0.0\n",
    "\n",
    "    s = w0 + (w1 * x1) + (w2 * x2)\n",
    "\n",
    "    if s >= threshold:\n",
    "        result = 1\n",
    "    else:\n",
    "        result = 0\n",
    "\n",
    "    print('output y={} [s={:.2f}]'. format(result, s))\n",
    "\n",
    "and_gate(0,0)\n",
    "and_gate(0,1)\n",
    "and_gate(1,0)\n",
    "and_gate(1,1) "
   ]
  },
  {
   "cell_type": "code",
   "execution_count": null,
   "metadata": {},
   "outputs": [],
   "source": []
  }
 ],
 "metadata": {
  "kernelspec": {
   "display_name": "Python 3",
   "language": "python",
   "name": "python3"
  },
  "language_info": {
   "codemirror_mode": {
    "name": "ipython",
    "version": 3
   },
   "file_extension": ".py",
   "mimetype": "text/x-python",
   "name": "python",
   "nbconvert_exporter": "python",
   "pygments_lexer": "ipython3",
   "version": "3.12.4"
  }
 },
 "nbformat": 4,
 "nbformat_minor": 2
}
