{
 "cells": [
  {
   "cell_type": "markdown",
   "metadata": {},
   "source": [
    "### Myworkshop Fruit 3 class"
   ]
  },
  {
   "cell_type": "code",
   "execution_count": 56,
   "metadata": {},
   "outputs": [],
   "source": [
    "import numpy as np \n",
    "import pandas as pd\n",
    "import matplotlib.pyplot as plt\n",
    "import seaborn as sns"
   ]
  },
  {
   "cell_type": "markdown",
   "metadata": {},
   "source": [
    "### Dataset"
   ]
  },
  {
   "cell_type": "code",
   "execution_count": 57,
   "metadata": {},
   "outputs": [
    {
     "data": {
      "text/html": [
       "<div>\n",
       "<style scoped>\n",
       "    .dataframe tbody tr th:only-of-type {\n",
       "        vertical-align: middle;\n",
       "    }\n",
       "\n",
       "    .dataframe tbody tr th {\n",
       "        vertical-align: top;\n",
       "    }\n",
       "\n",
       "    .dataframe thead th {\n",
       "        text-align: right;\n",
       "    }\n",
       "</style>\n",
       "<table border=\"1\" class=\"dataframe\">\n",
       "  <thead>\n",
       "    <tr style=\"text-align: right;\">\n",
       "      <th></th>\n",
       "      <th>m</th>\n",
       "      <th>d</th>\n",
       "      <th>target</th>\n",
       "    </tr>\n",
       "  </thead>\n",
       "  <tbody>\n",
       "    <tr>\n",
       "      <th>0</th>\n",
       "      <td>6.0</td>\n",
       "      <td>4.2</td>\n",
       "      <td>0</td>\n",
       "    </tr>\n",
       "    <tr>\n",
       "      <th>1</th>\n",
       "      <td>5.7</td>\n",
       "      <td>3.6</td>\n",
       "      <td>0</td>\n",
       "    </tr>\n",
       "    <tr>\n",
       "      <th>2</th>\n",
       "      <td>6.5</td>\n",
       "      <td>5.5</td>\n",
       "      <td>0</td>\n",
       "    </tr>\n",
       "    <tr>\n",
       "      <th>3</th>\n",
       "      <td>6.6</td>\n",
       "      <td>3.2</td>\n",
       "      <td>0</td>\n",
       "    </tr>\n",
       "    <tr>\n",
       "      <th>4</th>\n",
       "      <td>6.9</td>\n",
       "      <td>5.9</td>\n",
       "      <td>0</td>\n",
       "    </tr>\n",
       "    <tr>\n",
       "      <th>5</th>\n",
       "      <td>8.0</td>\n",
       "      <td>3.1</td>\n",
       "      <td>0</td>\n",
       "    </tr>\n",
       "    <tr>\n",
       "      <th>6</th>\n",
       "      <td>8.2</td>\n",
       "      <td>4.4</td>\n",
       "      <td>1</td>\n",
       "    </tr>\n",
       "    <tr>\n",
       "      <th>7</th>\n",
       "      <td>7.0</td>\n",
       "      <td>4.8</td>\n",
       "      <td>1</td>\n",
       "    </tr>\n",
       "    <tr>\n",
       "      <th>8</th>\n",
       "      <td>7.5</td>\n",
       "      <td>3.8</td>\n",
       "      <td>1</td>\n",
       "    </tr>\n",
       "    <tr>\n",
       "      <th>9</th>\n",
       "      <td>7.4</td>\n",
       "      <td>5.1</td>\n",
       "      <td>1</td>\n",
       "    </tr>\n",
       "    <tr>\n",
       "      <th>10</th>\n",
       "      <td>8.9</td>\n",
       "      <td>5.2</td>\n",
       "      <td>2</td>\n",
       "    </tr>\n",
       "    <tr>\n",
       "      <th>11</th>\n",
       "      <td>8.0</td>\n",
       "      <td>6.0</td>\n",
       "      <td>2</td>\n",
       "    </tr>\n",
       "    <tr>\n",
       "      <th>12</th>\n",
       "      <td>9.0</td>\n",
       "      <td>4.0</td>\n",
       "      <td>0</td>\n",
       "    </tr>\n",
       "    <tr>\n",
       "      <th>13</th>\n",
       "      <td>6.1</td>\n",
       "      <td>5.0</td>\n",
       "      <td>0</td>\n",
       "    </tr>\n",
       "    <tr>\n",
       "      <th>14</th>\n",
       "      <td>8.7</td>\n",
       "      <td>3.5</td>\n",
       "      <td>0</td>\n",
       "    </tr>\n",
       "  </tbody>\n",
       "</table>\n",
       "</div>"
      ],
      "text/plain": [
       "      m    d  target\n",
       "0   6.0  4.2       0\n",
       "1   5.7  3.6       0\n",
       "2   6.5  5.5       0\n",
       "3   6.6  3.2       0\n",
       "4   6.9  5.9       0\n",
       "5   8.0  3.1       0\n",
       "6   8.2  4.4       1\n",
       "7   7.0  4.8       1\n",
       "8   7.5  3.8       1\n",
       "9   7.4  5.1       1\n",
       "10  8.9  5.2       2\n",
       "11  8.0  6.0       2\n",
       "12  9.0  4.0       0\n",
       "13  6.1  5.0       0\n",
       "14  8.7  3.5       0"
      ]
     },
     "execution_count": 57,
     "metadata": {},
     "output_type": "execute_result"
    }
   ],
   "source": [
    "df = pd.read_csv('data/fruit3class.csv')\n",
    "df"
   ]
  },
  {
   "cell_type": "markdown",
   "metadata": {},
   "source": [
    "### Data Visualization"
   ]
  },
  {
   "cell_type": "code",
   "execution_count": 58,
   "metadata": {},
   "outputs": [
    {
     "data": {
      "image/png": "[encoded data removed]",
      "text/plain": [
       "<Figure size 640x480 with 1 Axes>"
      ]
     },
     "metadata": {},
     "output_type": "display_data"
    }
   ],
   "source": [
    "sns.scatterplot(x='m', y='d', data=df ,hue='target' , palette='winter', s=80)\n",
    "plt.show()"
   ]
  },
  {
   "cell_type": "code",
   "execution_count": 59,
   "metadata": {},
   "outputs": [
    {
     "data": {
      "text/html": [
       "<div>\n",
       "<style scoped>\n",
       "    .dataframe tbody tr th:only-of-type {\n",
       "        vertical-align: middle;\n",
       "    }\n",
       "\n",
       "    .dataframe tbody tr th {\n",
       "        vertical-align: top;\n",
       "    }\n",
       "\n",
       "    .dataframe thead th {\n",
       "        text-align: right;\n",
       "    }\n",
       "</style>\n",
       "<table border=\"1\" class=\"dataframe\">\n",
       "  <thead>\n",
       "    <tr style=\"text-align: right;\">\n",
       "      <th></th>\n",
       "      <th>m</th>\n",
       "      <th>d</th>\n",
       "    </tr>\n",
       "  </thead>\n",
       "  <tbody>\n",
       "    <tr>\n",
       "      <th>0</th>\n",
       "      <td>6.0</td>\n",
       "      <td>4.2</td>\n",
       "    </tr>\n",
       "    <tr>\n",
       "      <th>1</th>\n",
       "      <td>5.7</td>\n",
       "      <td>3.6</td>\n",
       "    </tr>\n",
       "    <tr>\n",
       "      <th>2</th>\n",
       "      <td>6.5</td>\n",
       "      <td>5.5</td>\n",
       "    </tr>\n",
       "    <tr>\n",
       "      <th>3</th>\n",
       "      <td>6.6</td>\n",
       "      <td>3.2</td>\n",
       "    </tr>\n",
       "    <tr>\n",
       "      <th>4</th>\n",
       "      <td>6.9</td>\n",
       "      <td>5.9</td>\n",
       "    </tr>\n",
       "    <tr>\n",
       "      <th>5</th>\n",
       "      <td>8.0</td>\n",
       "      <td>3.1</td>\n",
       "    </tr>\n",
       "    <tr>\n",
       "      <th>6</th>\n",
       "      <td>8.2</td>\n",
       "      <td>4.4</td>\n",
       "    </tr>\n",
       "    <tr>\n",
       "      <th>7</th>\n",
       "      <td>7.0</td>\n",
       "      <td>4.8</td>\n",
       "    </tr>\n",
       "    <tr>\n",
       "      <th>8</th>\n",
       "      <td>7.5</td>\n",
       "      <td>3.8</td>\n",
       "    </tr>\n",
       "    <tr>\n",
       "      <th>9</th>\n",
       "      <td>7.4</td>\n",
       "      <td>5.1</td>\n",
       "    </tr>\n",
       "    <tr>\n",
       "      <th>10</th>\n",
       "      <td>8.9</td>\n",
       "      <td>5.2</td>\n",
       "    </tr>\n",
       "    <tr>\n",
       "      <th>11</th>\n",
       "      <td>8.0</td>\n",
       "      <td>6.0</td>\n",
       "    </tr>\n",
       "    <tr>\n",
       "      <th>12</th>\n",
       "      <td>9.0</td>\n",
       "      <td>4.0</td>\n",
       "    </tr>\n",
       "    <tr>\n",
       "      <th>13</th>\n",
       "      <td>6.1</td>\n",
       "      <td>5.0</td>\n",
       "    </tr>\n",
       "    <tr>\n",
       "      <th>14</th>\n",
       "      <td>8.7</td>\n",
       "      <td>3.5</td>\n",
       "    </tr>\n",
       "  </tbody>\n",
       "</table>\n",
       "</div>"
      ],
      "text/plain": [
       "      m    d\n",
       "0   6.0  4.2\n",
       "1   5.7  3.6\n",
       "2   6.5  5.5\n",
       "3   6.6  3.2\n",
       "4   6.9  5.9\n",
       "5   8.0  3.1\n",
       "6   8.2  4.4\n",
       "7   7.0  4.8\n",
       "8   7.5  3.8\n",
       "9   7.4  5.1\n",
       "10  8.9  5.2\n",
       "11  8.0  6.0\n",
       "12  9.0  4.0\n",
       "13  6.1  5.0\n",
       "14  8.7  3.5"
      ]
     },
     "execution_count": 59,
     "metadata": {},
     "output_type": "execute_result"
    }
   ],
   "source": [
    "#เตรียม X และ y\n",
    "X = df.drop(['target'], axis=1)\n",
    "X"
   ]
  },
  {
   "cell_type": "code",
   "execution_count": 60,
   "metadata": {},
   "outputs": [
    {
     "data": {
      "text/plain": [
       "0     0\n",
       "1     0\n",
       "2     0\n",
       "3     0\n",
       "4     0\n",
       "5     0\n",
       "6     1\n",
       "7     1\n",
       "8     1\n",
       "9     1\n",
       "10    2\n",
       "11    2\n",
       "12    0\n",
       "13    0\n",
       "14    0\n",
       "Name: target, dtype: int64"
      ]
     },
     "execution_count": 60,
     "metadata": {},
     "output_type": "execute_result"
    }
   ],
   "source": [
    "y = df.target\n",
    "y"
   ]
  },
  {
   "cell_type": "markdown",
   "metadata": {},
   "source": [
    "### Feature Scaling"
   ]
  },
  {
   "cell_type": "code",
   "execution_count": 61,
   "metadata": {},
   "outputs": [
    {
     "data": {
      "text/plain": [
       "array([[-1.31291621, -0.31157784],\n",
       "       [-1.60111733, -0.96371751],\n",
       "       [-0.83258101,  1.10139144],\n",
       "       [-0.73651397, -1.39847729],\n",
       "       [-0.44831285,  1.53615122]])"
      ]
     },
     "execution_count": 61,
     "metadata": {},
     "output_type": "execute_result"
    }
   ],
   "source": [
    "from sklearn.preprocessing import StandardScaler\n",
    "sc = StandardScaler()\n",
    "\n",
    "X_sc = sc.fit_transform(X)\n",
    "X_sc[:5]"
   ]
  },
  {
   "cell_type": "code",
   "execution_count": 62,
   "metadata": {},
   "outputs": [],
   "source": [
    "X_train = X_sc\n",
    "y_train = y"
   ]
  },
  {
   "cell_type": "markdown",
   "metadata": {},
   "source": [
    "### Model"
   ]
  },
  {
   "cell_type": "code",
   "execution_count": 63,
   "metadata": {},
   "outputs": [],
   "source": [
    "from sklearn.neural_network import MLPClassifier\n",
    "\n",
    "hidden = 200\n",
    "iter = 200\n",
    "model = MLPClassifier(hidden_layer_sizes=(hidden), max_iter=iter, verbose=True, random_state=1 )"
   ]
  },
  {
   "cell_type": "code",
   "execution_count": 64,
   "metadata": {},
   "outputs": [
    {
     "name": "stdout",
     "output_type": "stream",
     "text": [
      "Iteration 1, loss = 1.08208837\n",
      "Iteration 2, loss = 1.06548237\n",
      "Iteration 3, loss = 1.04929065\n",
      "Iteration 4, loss = 1.03355054\n",
      "Iteration 5, loss = 1.01824018\n",
      "Iteration 6, loss = 1.00337316\n",
      "Iteration 7, loss = 0.98890853\n",
      "Iteration 8, loss = 0.97486354\n",
      "Iteration 9, loss = 0.96122568\n",
      "Iteration 10, loss = 0.94794918\n",
      "Iteration 11, loss = 0.93502334\n",
      "Iteration 12, loss = 0.92248168\n",
      "Iteration 13, loss = 0.91029138\n",
      "Iteration 14, loss = 0.89840088\n",
      "Iteration 15, loss = 0.88681357\n",
      "Iteration 16, loss = 0.87553710\n",
      "Iteration 17, loss = 0.86460509\n",
      "Iteration 18, loss = 0.85393049\n",
      "Iteration 19, loss = 0.84353140\n",
      "Iteration 20, loss = 0.83339430\n",
      "Iteration 21, loss = 0.82350501\n",
      "Iteration 22, loss = 0.81383382\n",
      "Iteration 23, loss = 0.80439336\n",
      "Iteration 24, loss = 0.79516685\n",
      "Iteration 25, loss = 0.78616241\n",
      "Iteration 26, loss = 0.77734104\n",
      "Iteration 27, loss = 0.76871193\n",
      "Iteration 28, loss = 0.76027051\n",
      "Iteration 29, loss = 0.75199880\n",
      "Iteration 30, loss = 0.74387749\n",
      "Iteration 31, loss = 0.73591436\n",
      "Iteration 32, loss = 0.72809225\n",
      "Iteration 33, loss = 0.72041250\n",
      "Iteration 34, loss = 0.71286281\n",
      "Iteration 35, loss = 0.70544483\n",
      "Iteration 36, loss = 0.69815753\n",
      "Iteration 37, loss = 0.69098195\n",
      "Iteration 38, loss = 0.68394073\n",
      "Iteration 39, loss = 0.67704062\n",
      "Iteration 40, loss = 0.67025720\n",
      "Iteration 41, loss = 0.66356952\n",
      "Iteration 42, loss = 0.65698329\n",
      "Iteration 43, loss = 0.65049946\n",
      "Iteration 44, loss = 0.64409952\n",
      "Iteration 45, loss = 0.63776505\n",
      "Iteration 46, loss = 0.63150468\n",
      "Iteration 47, loss = 0.62534742\n",
      "Iteration 48, loss = 0.61927482\n",
      "Iteration 49, loss = 0.61330926\n",
      "Iteration 50, loss = 0.60743918\n",
      "Iteration 51, loss = 0.60162662\n",
      "Iteration 52, loss = 0.59588774\n",
      "Iteration 53, loss = 0.59023595\n",
      "Iteration 54, loss = 0.58465450\n",
      "Iteration 55, loss = 0.57915368\n",
      "Iteration 56, loss = 0.57372169\n",
      "Iteration 57, loss = 0.56835537\n",
      "Iteration 58, loss = 0.56304250\n",
      "Iteration 59, loss = 0.55778431\n",
      "Iteration 60, loss = 0.55258163\n",
      "Iteration 61, loss = 0.54745911\n",
      "Iteration 62, loss = 0.54240261\n",
      "Iteration 63, loss = 0.53739418\n",
      "Iteration 64, loss = 0.53243936\n",
      "Iteration 65, loss = 0.52753411\n",
      "Iteration 66, loss = 0.52268029\n",
      "Iteration 67, loss = 0.51788114\n",
      "Iteration 68, loss = 0.51316207\n",
      "Iteration 69, loss = 0.50850838\n",
      "Iteration 70, loss = 0.50390229\n",
      "Iteration 71, loss = 0.49935204\n",
      "Iteration 72, loss = 0.49484688\n",
      "Iteration 73, loss = 0.49037493\n",
      "Iteration 74, loss = 0.48593972\n",
      "Iteration 75, loss = 0.48155496\n",
      "Iteration 76, loss = 0.47721846\n",
      "Iteration 77, loss = 0.47292227\n",
      "Iteration 78, loss = 0.46864864\n",
      "Iteration 79, loss = 0.46441055\n",
      "Iteration 80, loss = 0.46022946\n",
      "Iteration 81, loss = 0.45608466\n",
      "Iteration 82, loss = 0.45196499\n",
      "Iteration 83, loss = 0.44786795\n",
      "Iteration 84, loss = 0.44380255\n",
      "Iteration 85, loss = 0.43976686\n",
      "Iteration 86, loss = 0.43576098\n",
      "Iteration 87, loss = 0.43179501\n",
      "Iteration 88, loss = 0.42785514\n",
      "Iteration 89, loss = 0.42395398\n",
      "Iteration 90, loss = 0.42006519\n",
      "Iteration 91, loss = 0.41619354\n",
      "Iteration 92, loss = 0.41235957\n",
      "Iteration 93, loss = 0.40855005\n",
      "Iteration 94, loss = 0.40477591\n",
      "Iteration 95, loss = 0.40103873\n",
      "Iteration 96, loss = 0.39732950\n",
      "Iteration 97, loss = 0.39363291\n",
      "Iteration 98, loss = 0.38995492\n",
      "Iteration 99, loss = 0.38630760\n",
      "Iteration 100, loss = 0.38267588\n",
      "Iteration 101, loss = 0.37909084\n",
      "Iteration 102, loss = 0.37552962\n",
      "Iteration 103, loss = 0.37198616\n",
      "Iteration 104, loss = 0.36846711\n",
      "Iteration 105, loss = 0.36497068\n",
      "Iteration 106, loss = 0.36150108\n",
      "Iteration 107, loss = 0.35804775\n",
      "Iteration 108, loss = 0.35461972\n",
      "Iteration 109, loss = 0.35122930\n",
      "Iteration 110, loss = 0.34786490\n",
      "Iteration 111, loss = 0.34452098\n",
      "Iteration 112, loss = 0.34120154\n",
      "Iteration 113, loss = 0.33790092\n",
      "Iteration 114, loss = 0.33462325\n",
      "Iteration 115, loss = 0.33137059\n",
      "Iteration 116, loss = 0.32813567\n",
      "Iteration 117, loss = 0.32492207\n",
      "Iteration 118, loss = 0.32173891\n",
      "Iteration 119, loss = 0.31857845\n",
      "Iteration 120, loss = 0.31543914\n",
      "Iteration 121, loss = 0.31231957\n",
      "Iteration 122, loss = 0.30921801\n",
      "Iteration 123, loss = 0.30612836\n",
      "Iteration 124, loss = 0.30305519\n",
      "Iteration 125, loss = 0.30000329\n",
      "Iteration 126, loss = 0.29696627\n",
      "Iteration 127, loss = 0.29394620\n",
      "Iteration 128, loss = 0.29095347\n",
      "Iteration 129, loss = 0.28799573\n",
      "Iteration 130, loss = 0.28506651\n",
      "Iteration 131, loss = 0.28214695\n",
      "Iteration 132, loss = 0.27924503\n",
      "Iteration 133, loss = 0.27636765\n",
      "Iteration 134, loss = 0.27350141\n",
      "Iteration 135, loss = 0.27065050\n",
      "Iteration 136, loss = 0.26782069\n",
      "Iteration 137, loss = 0.26502125\n",
      "Iteration 138, loss = 0.26224035\n",
      "Iteration 139, loss = 0.25948135\n",
      "Iteration 140, loss = 0.25674878\n",
      "Iteration 141, loss = 0.25403942\n",
      "Iteration 142, loss = 0.25135387\n",
      "Iteration 143, loss = 0.24868590\n",
      "Iteration 144, loss = 0.24604872\n",
      "Iteration 145, loss = 0.24342907\n",
      "Iteration 146, loss = 0.24083471\n",
      "Iteration 147, loss = 0.23826049\n",
      "Iteration 148, loss = 0.23570230\n",
      "Iteration 149, loss = 0.23316887\n",
      "Iteration 150, loss = 0.23065428\n",
      "Iteration 151, loss = 0.22816198\n",
      "Iteration 152, loss = 0.22568389\n",
      "Iteration 153, loss = 0.22322441\n",
      "Iteration 154, loss = 0.22078412\n",
      "Iteration 155, loss = 0.21836700\n",
      "Iteration 156, loss = 0.21596227\n",
      "Iteration 157, loss = 0.21357485\n",
      "Iteration 158, loss = 0.21121056\n",
      "Iteration 159, loss = 0.20886577\n",
      "Iteration 160, loss = 0.20654611\n",
      "Iteration 161, loss = 0.20424473\n",
      "Iteration 162, loss = 0.20195999\n",
      "Iteration 163, loss = 0.19969633\n",
      "Iteration 164, loss = 0.19745507\n",
      "Iteration 165, loss = 0.19523964\n",
      "Iteration 166, loss = 0.19304163\n",
      "Iteration 167, loss = 0.19086634\n",
      "Iteration 168, loss = 0.18871138\n",
      "Iteration 169, loss = 0.18657607\n",
      "Iteration 170, loss = 0.18447815\n",
      "Iteration 171, loss = 0.18240295\n",
      "Iteration 172, loss = 0.18034140\n",
      "Iteration 173, loss = 0.17830271\n",
      "Iteration 174, loss = 0.17628923\n",
      "Iteration 175, loss = 0.17428862\n",
      "Iteration 176, loss = 0.17230013\n",
      "Iteration 177, loss = 0.17033569\n",
      "Iteration 178, loss = 0.16839952\n",
      "Iteration 179, loss = 0.16648098\n",
      "Iteration 180, loss = 0.16458415\n",
      "Iteration 181, loss = 0.16270828\n",
      "Iteration 182, loss = 0.16085287\n",
      "Iteration 183, loss = 0.15902480\n",
      "Iteration 184, loss = 0.15721683\n",
      "Iteration 185, loss = 0.15542766\n",
      "Iteration 186, loss = 0.15365766\n",
      "Iteration 187, loss = 0.15190451\n",
      "Iteration 188, loss = 0.15017062\n",
      "Iteration 189, loss = 0.14845811\n",
      "Iteration 190, loss = 0.14676552\n",
      "Iteration 191, loss = 0.14508875\n",
      "Iteration 192, loss = 0.14343240\n",
      "Iteration 193, loss = 0.14179930\n",
      "Iteration 194, loss = 0.14018606\n",
      "Iteration 195, loss = 0.13858381\n",
      "Iteration 196, loss = 0.13699908\n",
      "Iteration 197, loss = 0.13543348\n",
      "Iteration 198, loss = 0.13388528\n",
      "Iteration 199, loss = 0.13235691\n",
      "Iteration 200, loss = 0.13084840\n"
     ]
    },
    {
     "name": "stderr",
     "output_type": "stream",
     "text": [
      "c:\\Users\\Windows 10\\AppData\\Local\\Programs\\Python\\Python311\\Lib\\site-packages\\sklearn\\neural_network\\_multilayer_perceptron.py:691: ConvergenceWarning: Stochastic Optimizer: Maximum iterations (200) reached and the optimization hasn't converged yet.\n",
      "  warnings.warn(\n"
     ]
    },
    {
     "data": {
      "text/html": [
       "<style>#sk-container-id-3 {color: black;}#sk-container-id-3 pre{padding: 0;}#sk-container-id-3 div.sk-toggleable {background-color: white;}#sk-container-id-3 label.sk-toggleable__label {cursor: pointer;display: block;width: 100%;margin-bottom: 0;padding: 0.3em;box-sizing: border-box;text-align: center;}#sk-container-id-3 label.sk-toggleable__label-arrow:before {content: \"▸\";float: left;margin-right: 0.25em;color: #696969;}#sk-container-id-3 label.sk-toggleable__label-arrow:hover:before {color: black;}#sk-container-id-3 div.sk-estimator:hover label.sk-toggleable__label-arrow:before {color: black;}#sk-container-id-3 div.sk-toggleable__content {max-height: 0;max-width: 0;overflow: hidden;text-align: left;background-color: #f0f8ff;}#sk-container-id-3 div.sk-toggleable__content pre {margin: 0.2em;color: black;border-radius: 0.25em;background-color: #f0f8ff;}#sk-container-id-3 input.sk-toggleable__control:checked~div.sk-toggleable__content {max-height: 200px;max-width: 100%;overflow: auto;}#sk-container-id-3 input.sk-toggleable__control:checked~label.sk-toggleable__label-arrow:before {content: \"▾\";}#sk-container-id-3 div.sk-estimator input.sk-toggleable__control:checked~label.sk-toggleable__label {background-color: #d4ebff;}#sk-container-id-3 div.sk-label input.sk-toggleable__control:checked~label.sk-toggleable__label {background-color: #d4ebff;}#sk-container-id-3 input.sk-hidden--visually {border: 0;clip: rect(1px 1px 1px 1px);clip: rect(1px, 1px, 1px, 1px);height: 1px;margin: -1px;overflow: hidden;padding: 0;position: absolute;width: 1px;}#sk-container-id-3 div.sk-estimator {font-family: monospace;background-color: #f0f8ff;border: 1px dotted black;border-radius: 0.25em;box-sizing: border-box;margin-bottom: 0.5em;}#sk-container-id-3 div.sk-estimator:hover {background-color: #d4ebff;}#sk-container-id-3 div.sk-parallel-item::after {content: \"\";width: 100%;border-bottom: 1px solid gray;flex-grow: 1;}#sk-container-id-3 div.sk-label:hover label.sk-toggleable__label {background-color: #d4ebff;}#sk-container-id-3 div.sk-serial::before {content: \"\";position: absolute;border-left: 1px solid gray;box-sizing: border-box;top: 0;bottom: 0;left: 50%;z-index: 0;}#sk-container-id-3 div.sk-serial {display: flex;flex-direction: column;align-items: center;background-color: white;padding-right: 0.2em;padding-left: 0.2em;position: relative;}#sk-container-id-3 div.sk-item {position: relative;z-index: 1;}#sk-container-id-3 div.sk-parallel {display: flex;align-items: stretch;justify-content: center;background-color: white;position: relative;}#sk-container-id-3 div.sk-item::before, #sk-container-id-3 div.sk-parallel-item::before {content: \"\";position: absolute;border-left: 1px solid gray;box-sizing: border-box;top: 0;bottom: 0;left: 50%;z-index: -1;}#sk-container-id-3 div.sk-parallel-item {display: flex;flex-direction: column;z-index: 1;position: relative;background-color: white;}#sk-container-id-3 div.sk-parallel-item:first-child::after {align-self: flex-end;width: 50%;}#sk-container-id-3 div.sk-parallel-item:last-child::after {align-self: flex-start;width: 50%;}#sk-container-id-3 div.sk-parallel-item:only-child::after {width: 0;}#sk-container-id-3 div.sk-dashed-wrapped {border: 1px dashed gray;margin: 0 0.4em 0.5em 0.4em;box-sizing: border-box;padding-bottom: 0.4em;background-color: white;}#sk-container-id-3 div.sk-label label {font-family: monospace;font-weight: bold;display: inline-block;line-height: 1.2em;}#sk-container-id-3 div.sk-label-container {text-align: center;}#sk-container-id-3 div.sk-container {/* jupyter's `normalize.less` sets `[hidden] { display: none; }` but bootstrap.min.css set `[hidden] { display: none !important; }` so we also need the `!important` here to be able to override the default hidden behavior on the sphinx rendered scikit-learn.org. See: https://github.com/scikit-learn/scikit-learn/issues/21755 */display: inline-block !important;position: relative;}#sk-container-id-3 div.sk-text-repr-fallback {display: none;}</style><div id=\"sk-container-id-3\" class=\"sk-top-container\"><div class=\"sk-text-repr-fallback\"><pre>MLPClassifier(hidden_layer_sizes=200, random_state=1, verbose=True)</pre><b>In a Jupyter environment, please rerun this cell to show the HTML representation or trust the notebook. <br />On GitHub, the HTML representation is unable to render, please try loading this page with nbviewer.org.</b></div><div class=\"sk-container\" hidden><div class=\"sk-item\"><div class=\"sk-estimator sk-toggleable\"><input class=\"sk-toggleable__control sk-hidden--visually\" id=\"sk-estimator-id-3\" type=\"checkbox\" checked><label for=\"sk-estimator-id-3\" class=\"sk-toggleable__label sk-toggleable__label-arrow\">MLPClassifier</label><div class=\"sk-toggleable__content\"><pre>MLPClassifier(hidden_layer_sizes=200, random_state=1, verbose=True)</pre></div></div></div></div></div>"
      ],
      "text/plain": [
       "MLPClassifier(hidden_layer_sizes=200, random_state=1, verbose=True)"
      ]
     },
     "execution_count": 64,
     "metadata": {},
     "output_type": "execute_result"
    }
   ],
   "source": [
    "model.fit(X_train, y)"
   ]
  },
  {
   "cell_type": "code",
   "execution_count": 65,
   "metadata": {},
   "outputs": [
    {
     "name": "stdout",
     "output_type": "stream",
     "text": [
      "score :  1.0\n",
      "actual :  [0 0 0 0 0 0 1 1 1 1 2 2 0 0 0]\n",
      "predict :  [0 0 0 0 0 0 1 1 1 1 2 2 0 0 0]\n"
     ]
    }
   ],
   "source": [
    "print(f\"score : \", model.score(X_train, y_train))\n",
    "print(f\"actual : \", np.array(y))\n",
    "print(f\"predict : \", model.predict(X_train))"
   ]
  },
  {
   "cell_type": "code",
   "execution_count": 66,
   "metadata": {},
   "outputs": [],
   "source": [
    "class_name = ['Grape', 'Orange', 'Lemon']"
   ]
  },
  {
   "cell_type": "code",
   "execution_count": 67,
   "metadata": {},
   "outputs": [
    {
     "data": {
      "text/plain": [
       "array([0, 0, 0, 0, 0, 0, 1, 1, 1, 1, 2, 2, 0, 0, 0], dtype=int64)"
      ]
     },
     "execution_count": 67,
     "metadata": {},
     "output_type": "execute_result"
    }
   ],
   "source": [
    "y_predict = model.predict(X_train)\n",
    "y_predict"
   ]
  },
  {
   "cell_type": "code",
   "execution_count": 68,
   "metadata": {},
   "outputs": [
    {
     "name": "stdout",
     "output_type": "stream",
     "text": [
      "Result0 :  Grape\n",
      "Result1 :  Grape\n",
      "Result2 :  Grape\n",
      "Result3 :  Grape\n",
      "Result4 :  Grape\n",
      "Result5 :  Grape\n",
      "Result6 :  Orange\n",
      "Result7 :  Orange\n",
      "Result8 :  Orange\n",
      "Result9 :  Orange\n",
      "Result10 :  Lemon\n",
      "Result11 :  Lemon\n",
      "Result12 :  Grape\n",
      "Result13 :  Grape\n",
      "Result14 :  Grape\n"
     ]
    }
   ],
   "source": [
    "for i, y in enumerate(y_predict):\n",
    "    print(f\"Result{i} : \", class_name[y])"
   ]
  },
  {
   "cell_type": "markdown",
   "metadata": {},
   "source": [
    "### ลองใส่ค่า Input ใหม่ลงไป\n",
    "    -ต้องมีการใช้ scaler ก่อนหน้าในการปรับ input เข้า model ก่อน"
   ]
  },
  {
   "cell_type": "code",
   "execution_count": 75,
   "metadata": {},
   "outputs": [
    {
     "data": {
      "text/plain": [
       "array([[6.4, 5.5],\n",
       "       [8. , 4.9]])"
      ]
     },
     "execution_count": 75,
     "metadata": {},
     "output_type": "execute_result"
    }
   ],
   "source": [
    "X_input = [[6.4, 5.5],\n",
    "           [8, 4.9]]\n",
    "X_input = np.array(X_input)\n",
    "X_input"
   ]
  },
  {
   "cell_type": "code",
   "execution_count": 76,
   "metadata": {},
   "outputs": [
    {
     "name": "stderr",
     "output_type": "stream",
     "text": [
      "c:\\Users\\Windows 10\\AppData\\Local\\Programs\\Python\\Python311\\Lib\\site-packages\\sklearn\\base.py:465: UserWarning: X does not have valid feature names, but StandardScaler was fitted with feature names\n",
      "  warnings.warn(\n"
     ]
    },
    {
     "data": {
      "text/plain": [
       "array([[-0.92864805,  1.10139144],\n",
       "       [ 0.60842459,  0.44925177]])"
      ]
     },
     "execution_count": 76,
     "metadata": {},
     "output_type": "execute_result"
    }
   ],
   "source": [
    "X_input_sc = sc.transform(X_input)\n",
    "X_input_sc"
   ]
  },
  {
   "cell_type": "code",
   "execution_count": 77,
   "metadata": {},
   "outputs": [
    {
     "name": "stdout",
     "output_type": "stream",
     "text": [
      "Predict :  [0 1]\n"
     ]
    }
   ],
   "source": [
    "print(f\"Predict : \", model.predict(X_input_sc))"
   ]
  },
  {
   "cell_type": "markdown",
   "metadata": {},
   "source": [
    "### Evaluation"
   ]
  },
  {
   "cell_type": "code",
   "execution_count": 83,
   "metadata": {},
   "outputs": [
    {
     "name": "stdout",
     "output_type": "stream",
     "text": [
      "              precision    recall  f1-score   support\n",
      "\n",
      "       Grape       1.00      1.00      1.00         9\n",
      "      Orange       1.00      1.00      1.00         4\n",
      "       Lemon       1.00      1.00      1.00         2\n",
      "\n",
      "    accuracy                           1.00        15\n",
      "   macro avg       1.00      1.00      1.00        15\n",
      "weighted avg       1.00      1.00      1.00        15\n",
      "\n",
      "[[9 0 0]\n",
      " [0 4 0]\n",
      " [0 0 2]]\n"
     ]
    }
   ],
   "source": [
    "from sklearn.metrics import classification_report, confusion_matrix\n",
    "\n",
    "y_predict = model.predict(X_train)\n",
    "class_name = ['Grape', 'Orange', 'Lemon']\n",
    "\n",
    "print(classification_report(y_train, y_predict, target_names=class_name))\n",
    "print(confusion_matrix(y_train, y_predict))"
   ]
  },
  {
   "cell_type": "code",
   "execution_count": 84,
   "metadata": {},
   "outputs": [
    {
     "data": {
      "image/png": "[encoded data removed]",
      "text/plain": [
       "<Figure size 640x480 with 2 Axes>"
      ]
     },
     "metadata": {},
     "output_type": "display_data"
    }
   ],
   "source": [
    "from sklearn.metrics import confusion_matrix, ConfusionMatrixDisplay\n",
    "\n",
    "cm = confusion_matrix(y_train, y_predict)\n",
    "ConfusionMatrixDisplay(cm, display_labels=class_name).plot()\n",
    "plt.title('Confusion Matrix')\n",
    "plt.show()"
   ]
  },
  {
   "cell_type": "markdown",
   "metadata": {},
   "source": [
    "### Decision Region"
   ]
  },
  {
   "cell_type": "code",
   "execution_count": 91,
   "metadata": {},
   "outputs": [
    {
     "data": {
      "image/png": "[encoded data removed]",
      "text/plain": [
       "<Figure size 550x450 with 1 Axes>"
      ]
     },
     "metadata": {},
     "output_type": "display_data"
    }
   ],
   "source": [
    "from mlxtend.plotting import plot_decision_regions\n",
    "\n",
    "plt.figure(figsize=(5.5,4.5))\n",
    "plot_decision_regions(X_train, np.array(y_train), clf=model, legend=2)\n",
    "\n",
    "plt.title('MLP : 2 Classes (hidden layer) : {}, iter : {} '.format(hidden,iter))\n",
    "plt.xticks([])\n",
    "plt.yticks([])\n",
    "plt.xlabel('m (gram)')\n",
    "plt.ylabel('d (diameter)')\n",
    "plt.show()"
   ]
  },
  {
   "cell_type": "markdown",
   "metadata": {},
   "source": [
    "### Loss Curve"
   ]
  },
  {
   "cell_type": "code",
   "execution_count": 95,
   "metadata": {},
   "outputs": [
    {
     "data": {
      "image/png": "[encoded data removed]",
      "text/plain": [
       "<Figure size 550x450 with 1 Axes>"
      ]
     },
     "metadata": {},
     "output_type": "display_data"
    }
   ],
   "source": [
    "plt.figure(figsize=(5.5,4.5))\n",
    "plt.title('Loss Curve')\n",
    "plt.plot(model.loss_curve_)\n",
    "plt.tight_layout()\n",
    "plt.show()"
   ]
  },
  {
   "cell_type": "code",
   "execution_count": null,
   "metadata": {},
   "outputs": [],
   "source": []
  }
 ],
 "metadata": {
  "kernelspec": {
   "display_name": "Python 3",
   "language": "python",
   "name": "python3"
  },
  "language_info": {
   "codemirror_mode": {
    "name": "ipython",
    "version": 3
   },
   "file_extension": ".py",
   "mimetype": "text/x-python",
   "name": "python",
   "nbconvert_exporter": "python",
   "pygments_lexer": "ipython3",
   "version": "3.11.4"
  }
 },
 "nbformat": 4,
 "nbformat_minor": 2
}
