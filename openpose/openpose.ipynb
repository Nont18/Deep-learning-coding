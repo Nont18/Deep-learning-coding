{
 "cells": [
  {
   "cell_type": "code",
   "execution_count": 1,
   "metadata": {},
   "outputs": [
    {
     "ename": "ModuleNotFoundError",
     "evalue": "No module named 'openpose'",
     "output_type": "error",
     "traceback": [
      "\u001b[1;31m---------------------------------------------------------------------------\u001b[0m",
      "\u001b[1;31mModuleNotFoundError\u001b[0m                       Traceback (most recent call last)",
      "Cell \u001b[1;32mIn[1], line 2\u001b[0m\n\u001b[0;32m      1\u001b[0m \u001b[38;5;28;01mimport\u001b[39;00m \u001b[38;5;21;01mcv2\u001b[39;00m\n\u001b[1;32m----> 2\u001b[0m \u001b[38;5;28;01mfrom\u001b[39;00m \u001b[38;5;21;01mopenpose\u001b[39;00m \u001b[38;5;28;01mimport\u001b[39;00m pyopenpose \u001b[38;5;28;01mas\u001b[39;00m op\n\u001b[0;32m      4\u001b[0m params \u001b[38;5;241m=\u001b[39m \u001b[38;5;28mdict\u001b[39m()\n\u001b[0;32m      5\u001b[0m params[\u001b[38;5;124m\"\u001b[39m\u001b[38;5;124mmodel_folder\u001b[39m\u001b[38;5;124m\"\u001b[39m] \u001b[38;5;241m=\u001b[39m \u001b[38;5;124m\"\u001b[39m\u001b[38;5;124m/usr/local/src/openpose-1.7.0/models/\u001b[39m\u001b[38;5;124m\"\u001b[39m\n",
      "\u001b[1;31mModuleNotFoundError\u001b[0m: No module named 'openpose'"
     ]
    }
   ],
   "source": [
    "import cv2\n",
    "from openpose import pyopenpose as op\n",
    "\n",
    "params = dict()\n",
    "params[\"model_folder\"] = \"/usr/local/src/openpose-1.7.0/models/\"\n",
    "params[\"net_resolution\"] = \"320x256\"  #inference resolution\n",
    "\n",
    "opWrapper = op.WrapperPython()\n",
    "opWrapper.configure(params)\n",
    "opWrapper.start()\n",
    "\n",
    "\n",
    "datum = op.Datum()\n",
    "imageToProcess = cv2.imread('/usr/local/src/image/blackpink/blackpink.png')\n",
    "datum.cvInputData = imageToProcess\n",
    "opWrapper.emplaceAndPop(op.VectorDatum([datum]))\n",
    "newImage = datum.cvOutputData[:, :, :]\n",
    "cv2.imwrite(\"/tmp/result.jpg\", newImage)"
   ]
  }
 ],
 "metadata": {
  "kernelspec": {
   "display_name": "Python 3",
   "language": "python",
   "name": "python3"
  },
  "language_info": {
   "codemirror_mode": {
    "name": "ipython",
    "version": 3
   },
   "file_extension": ".py",
   "mimetype": "text/x-python",
   "name": "python",
   "nbconvert_exporter": "python",
   "pygments_lexer": "ipython3",
   "version": "3.12.4"
  }
 },
 "nbformat": 4,
 "nbformat_minor": 2
}
