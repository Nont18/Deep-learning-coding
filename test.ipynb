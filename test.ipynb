{
 "cells": [
  {
   "cell_type": "code",
   "execution_count": 368,
   "metadata": {},
   "outputs": [],
   "source": [
    "import requests\n",
    "from bs4 import BeautifulSoup \n",
    "import os"
   ]
  },
  {
   "cell_type": "code",
   "execution_count": 369,
   "metadata": {},
   "outputs": [],
   "source": [
    "# url = 'https://www.th-sl.com/?p=54449'\n",
    "url = 'https://www.th-sl.com/?p='\n",
    "index = 54459"
   ]
  },
  {
   "cell_type": "code",
   "execution_count": 370,
   "metadata": {},
   "outputs": [],
   "source": [
    "r = requests.get(url)"
   ]
  },
  {
   "cell_type": "code",
   "execution_count": 371,
   "metadata": {},
   "outputs": [
    {
     "data": {
      "text/plain": [
       "<Response [200]>"
      ]
     },
     "execution_count": 371,
     "metadata": {},
     "output_type": "execute_result"
    }
   ],
   "source": [
    "r"
   ]
  },
  {
   "cell_type": "code",
   "execution_count": 372,
   "metadata": {},
   "outputs": [],
   "source": [
    "soup = BeautifulSoup(r.text, 'html.parser')"
   ]
  },
  {
   "cell_type": "code",
   "execution_count": 373,
   "metadata": {},
   "outputs": [
    {
     "name": "stdout",
     "output_type": "stream",
     "text": [
      "หน้าแรก - ฐานข้อมูลภาษามือไทย | Thai Sign Language Database\n"
     ]
    }
   ],
   "source": [
    "print(soup.title.text)"
   ]
  },
  {
   "cell_type": "code",
   "execution_count": 374,
   "metadata": {},
   "outputs": [],
   "source": [
    "# for image in images:\n",
    "#     print(image['src'])"
   ]
  },
  {
   "cell_type": "code",
   "execution_count": 375,
   "metadata": {},
   "outputs": [
    {
     "name": "stdout",
     "output_type": "stream",
     "text": [
      "https://www.th-sl.com/?p=54458\n",
      "None\n",
      "https://www.th-sl.com/?p=54457\n",
      "None\n",
      "https://www.th-sl.com/?p=54456\n",
      "None\n",
      "https://www.th-sl.com/?p=54455\n",
      "None\n",
      "https://www.th-sl.com/?p=54454\n",
      "None\n",
      "https://www.th-sl.com/?p=54453\n",
      "None\n",
      "https://www.th-sl.com/?p=54452\n",
      "None\n",
      "https://www.th-sl.com/?p=54451\n",
      "None\n",
      "https://www.th-sl.com/?p=54450\n",
      "None\n",
      "https://www.th-sl.com/?p=54449\n",
      "None\n"
     ]
    }
   ],
   "source": [
    "for i in range(10):\n",
    "    index = index - 1\n",
    "    # print(index)\n",
    "    print(url + str(index))\n",
    "    url = 'https://www.th-sl.com/?p='\n",
    "    r = requests.get(url + str(index))\n",
    "    soup = BeautifulSoup(r.text, 'html.parser')\n",
    "    print(soup.title)\n",
    "    if soup.title == True:\n",
    "        # download videos\n",
    "        with open(soup.title, 'wb') as file:\n",
    "            file.write(r.content)"
   ]
  },
  {
   "cell_type": "code",
   "execution_count": null,
   "metadata": {},
   "outputs": [],
   "source": []
  }
 ],
 "metadata": {
  "kernelspec": {
   "display_name": "Python 3",
   "language": "python",
   "name": "python3"
  },
  "language_info": {
   "codemirror_mode": {
    "name": "ipython",
    "version": 3
   },
   "file_extension": ".py",
   "mimetype": "text/x-python",
   "name": "python",
   "nbconvert_exporter": "python",
   "pygments_lexer": "ipython3",
   "version": "3.11.4"
  }
 },
 "nbformat": 4,
 "nbformat_minor": 2
}
