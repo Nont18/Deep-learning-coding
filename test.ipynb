{
 "cells": [
  {
   "cell_type": "code",
   "execution_count": 28,
   "metadata": {},
   "outputs": [],
   "source": [
    "import requests\n",
    "from bs4 import BeautifulSoup \n",
    "import os"
   ]
  },
  {
   "cell_type": "code",
   "execution_count": 29,
   "metadata": {},
   "outputs": [],
   "source": [
    "# url = 'https://www.th-sl.com/?p=54449'\n",
    "url = 'https://www.th-sl.com/?p='\n",
    "index = 54459"
   ]
  },
  {
   "cell_type": "code",
   "execution_count": 30,
   "metadata": {},
   "outputs": [],
   "source": [
    "r = requests.get(url)"
   ]
  },
  {
   "cell_type": "code",
   "execution_count": 31,
   "metadata": {},
   "outputs": [
    {
     "data": {
      "text/plain": [
       "<Response [403]>"
      ]
     },
     "execution_count": 31,
     "metadata": {},
     "output_type": "execute_result"
    }
   ],
   "source": [
    "r"
   ]
  },
  {
   "cell_type": "code",
   "execution_count": 32,
   "metadata": {},
   "outputs": [],
   "source": [
    "soup = BeautifulSoup(r.text, 'html.parser')"
   ]
  },
  {
   "cell_type": "code",
   "execution_count": 33,
   "metadata": {},
   "outputs": [
    {
     "name": "stdout",
     "output_type": "stream",
     "text": [
      "None\n"
     ]
    }
   ],
   "source": [
    "print(soup.title)"
   ]
  },
  {
   "cell_type": "code",
   "execution_count": 34,
   "metadata": {},
   "outputs": [],
   "source": [
    "# for image in images:\n",
    "#     print(image['src'])"
   ]
  },
  {
   "cell_type": "code",
   "execution_count": 35,
   "metadata": {},
   "outputs": [
    {
     "name": "stdout",
     "output_type": "stream",
     "text": [
      "https://www.th-sl.com/?p=54458\n",
      "None\n",
      "https://www.th-sl.com/?p=54457\n",
      "None\n",
      "https://www.th-sl.com/?p=54456\n",
      "None\n",
      "https://www.th-sl.com/?p=54455\n",
      "None\n",
      "https://www.th-sl.com/?p=54454\n",
      "None\n",
      "https://www.th-sl.com/?p=54453\n",
      "None\n",
      "https://www.th-sl.com/?p=54452\n",
      "None\n",
      "https://www.th-sl.com/?p=54451\n",
      "None\n",
      "https://www.th-sl.com/?p=54450\n",
      "None\n",
      "https://www.th-sl.com/?p=54449\n",
      "None\n"
     ]
    }
   ],
   "source": [
    "for i in range(10):\n",
    "    index = index - 1\n",
    "    # print(index)\n",
    "    print(url + str(index))\n",
    "    url = 'https://www.th-sl.com/?p='\n",
    "    r = requests.get(url + str(index))\n",
    "    soup = BeautifulSoup(r.text, 'html.parser')\n",
    "    print(soup.title)\n",
    "    if soup.title:\n",
    "        # download videos\n",
    "        with open(soup.title, 'wb') as file:\n",
    "            file.write(r.content)"
   ]
  },
  {
   "cell_type": "code",
   "execution_count": 36,
   "metadata": {},
   "outputs": [
    {
     "name": "stdout",
     "output_type": "stream",
     "text": [
      "https://www.th-sl.com/?p=9\n",
      "Request failed: 403 Client Error: Forbidden for url: https://www.th-sl.com/?p=9\n",
      "https://www.th-sl.com/?p=8\n",
      "Request failed: 403 Client Error: Forbidden for url: https://www.th-sl.com/?p=8\n",
      "https://www.th-sl.com/?p=7\n",
      "Request failed: 403 Client Error: Forbidden for url: https://www.th-sl.com/?p=7\n",
      "https://www.th-sl.com/?p=6\n",
      "Request failed: 403 Client Error: Forbidden for url: https://www.th-sl.com/?p=6\n",
      "https://www.th-sl.com/?p=5\n",
      "Request failed: 403 Client Error: Forbidden for url: https://www.th-sl.com/?p=5\n",
      "https://www.th-sl.com/?p=4\n",
      "Request failed: 403 Client Error: Forbidden for url: https://www.th-sl.com/?p=4\n",
      "https://www.th-sl.com/?p=3\n",
      "Request failed: 403 Client Error: Forbidden for url: https://www.th-sl.com/?p=3\n",
      "https://www.th-sl.com/?p=2\n",
      "Request failed: 403 Client Error: Forbidden for url: https://www.th-sl.com/?p=2\n",
      "https://www.th-sl.com/?p=1\n",
      "Request failed: 403 Client Error: Forbidden for url: https://www.th-sl.com/?p=1\n",
      "https://www.th-sl.com/?p=0\n",
      "Request failed: 403 Client Error: Forbidden for url: https://www.th-sl.com/?p=0\n"
     ]
    }
   ],
   "source": [
    "# import requests\n",
    "# from bs4 import BeautifulSoup\n",
    "\n",
    "# url = 'https://www.th-sl.com/?p='\n",
    "# index = 10  # Starting index\n",
    "\n",
    "# for i in range(10):\n",
    "#     index = index - 1\n",
    "#     full_url = url + str(index)\n",
    "#     print(full_url)\n",
    "    \n",
    "#     try:\n",
    "#         r = requests.get(full_url)\n",
    "#         r.raise_for_status()  # Raise an HTTPError for bad responses\n",
    "#     except requests.exceptions.RequestException as e:\n",
    "#         print(f\"Request failed: {e}\")\n",
    "#         continue\n",
    "    \n",
    "#     soup = BeautifulSoup(r.text, 'html.parser')\n",
    "#     title_tag = soup.title\n",
    "#     print(title_tag)\n",
    "    \n",
    "#     if title_tag:\n",
    "#         # Replace special characters in the title to create a valid filename\n",
    "#         filename = title_tag.string.replace(' ', '_').replace('/', '_') + '.html'\n",
    "        \n",
    "#         try:\n",
    "#             with open(filename, 'wb') as file:\n",
    "#                 file.write(r.content)\n",
    "#             print(f\"Content saved to {filename}\")\n",
    "#         except IOError as e:\n",
    "#             print(f\"File operation failed: {e}\")\n"
   ]
  }
 ],
 "metadata": {
  "kernelspec": {
   "display_name": "Python 3",
   "language": "python",
   "name": "python3"
  },
  "language_info": {
   "codemirror_mode": {
    "name": "ipython",
    "version": 3
   },
   "file_extension": ".py",
   "mimetype": "text/x-python",
   "name": "python",
   "nbconvert_exporter": "python",
   "pygments_lexer": "ipython3",
   "version": "3.11.4"
  }
 },
 "nbformat": 4,
 "nbformat_minor": 2
}
