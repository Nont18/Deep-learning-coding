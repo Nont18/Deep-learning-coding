{
 "cells": [
  {
   "cell_type": "code",
   "execution_count": null,
   "metadata": {},
   "outputs": [],
   "source": [
    "import requests\n",
    "from bs4 import BeautifulSoup \n",
    "import os"
   ]
  },
  {
   "cell_type": "code",
   "execution_count": null,
   "metadata": {},
   "outputs": [],
   "source": [
    "# url = 'https://www.th-sl.com/?p=54449'\n",
    "url = 'https://www.th-sl.com/?p='\n",
    "index = 54460"
   ]
  },
  {
   "cell_type": "code",
   "execution_count": null,
   "metadata": {},
   "outputs": [],
   "source": [
    "r = requests.get(url)"
   ]
  },
  {
   "cell_type": "code",
   "execution_count": null,
   "metadata": {},
   "outputs": [],
   "source": [
    "r"
   ]
  },
  {
   "cell_type": "code",
   "execution_count": null,
   "metadata": {},
   "outputs": [],
   "source": [
    "soup = BeautifulSoup(r.text, 'html.parser')"
   ]
  },
  {
   "cell_type": "code",
   "execution_count": null,
   "metadata": {},
   "outputs": [],
   "source": [
    "print(soup.title)"
   ]
  },
  {
   "cell_type": "code",
   "execution_count": null,
   "metadata": {},
   "outputs": [],
   "source": [
    "# for image in images:\n",
    "#     print(image['src'])"
   ]
  },
  {
   "cell_type": "code",
   "execution_count": 29,
   "metadata": {},
   "outputs": [
    {
     "name": "stdout",
     "output_type": "stream",
     "text": [
      "Processing URL: https://www.th-sl.com/hand/1-90-308\n",
      "Found MP4 link: https://www.th-sl.com//wp-content/uploads/2021/08/1.90.308.mp4\n",
      "บริการ - ฐานข้อมูลภา\n",
      "Processing URL: https://www.th-sl.com/hand/1-90-307\n",
      "Found MP4 link: https://www.th-sl.com//wp-content/uploads/2021/08/1.90.307.mp4\n",
      "ยัง - ฐานข้อมูลภาษาม\n",
      "Processing URL: https://www.th-sl.com/hand/1-90-306\n",
      "No MP4 links found on this page.\n",
      "Processing URL: https://www.th-sl.com/hand/1-90-305\n",
      "No MP4 links found on this page.\n",
      "Processing URL: https://www.th-sl.com/hand/1-90-304\n",
      "No MP4 links found on this page.\n",
      "Processing URL: https://www.th-sl.com/hand/1-90-303\n",
      "No MP4 links found on this page.\n",
      "Processing URL: https://www.th-sl.com/hand/1-90-302\n",
      "No MP4 links found on this page.\n",
      "Processing URL: https://www.th-sl.com/hand/1-90-301\n",
      "No MP4 links found on this page.\n",
      "Processing URL: https://www.th-sl.com/hand/1-90-300\n",
      "No MP4 links found on this page.\n",
      "Processing URL: https://www.th-sl.com/hand/1-90-299\n",
      "Found MP4 link: https://www.th-sl.com//wp-content/uploads/2021/08/1.90.299.mp4\n",
      "ไม่รู้ - ฐานข้อมูลภา\n",
      "Processing URL: https://www.th-sl.com/hand/1-90-298\n",
      "No MP4 links found on this page.\n",
      "Processing URL: https://www.th-sl.com/hand/1-90-297\n",
      "No MP4 links found on this page.\n",
      "Processing URL: https://www.th-sl.com/hand/1-90-296\n",
      "Found MP4 link: https://www.th-sl.com//wp-content/uploads/2021/08/1.90.296.mp4\n",
      "ไม่กิน - ฐานข้อมูลภา\n",
      "Processing URL: https://www.th-sl.com/hand/1-90-295\n",
      "No MP4 links found on this page.\n",
      "Processing URL: https://www.th-sl.com/hand/1-90-294\n",
      "No MP4 links found on this page.\n",
      "Processing URL: https://www.th-sl.com/hand/1-90-293\n",
      "Found MP4 link: https://www.th-sl.com//wp-content/uploads/2021/08/1.90.293.mp4\n",
      "ไม่เคย - ฐานข้อมูลภา\n",
      "Processing URL: https://www.th-sl.com/hand/1-90-292\n",
      "Found MP4 link: https://www.th-sl.com//wp-content/uploads/2021/08/1.90.292.mp4\n",
      "ฮอตเมล (Hot mail) (ท\n",
      "Processing URL: https://www.th-sl.com/hand/1-90-291\n",
      "Found MP4 link: https://www.th-sl.com//wp-content/uploads/2021/08/1.90.291.mp4\n",
      "ยาฮูเมล (Yahoo mail)\n",
      "Processing URL: https://www.th-sl.com/hand/1-90-290\n",
      "No MP4 links found on this page.\n",
      "Processing URL: https://www.th-sl.com/hand/1-90-289\n",
      "Found MP4 link: https://www.th-sl.com//wp-content/uploads/2021/08/1.90.289.mp4\n",
      "ฮอตเมล (Hot mail) (ท\n",
      "Processing URL: https://www.th-sl.com/hand/1-90-288\n",
      "No MP4 links found on this page.\n",
      "Processing URL: https://www.th-sl.com/hand/1-90-287\n",
      "No MP4 links found on this page.\n",
      "Processing URL: https://www.th-sl.com/hand/1-90-286\n",
      "No MP4 links found on this page.\n",
      "Processing URL: https://www.th-sl.com/hand/1-90-285\n",
      "No MP4 links found on this page.\n",
      "Processing URL: https://www.th-sl.com/hand/1-90-284\n",
      "No MP4 links found on this page.\n",
      "Processing URL: https://www.th-sl.com/hand/1-90-283\n",
      "No MP4 links found on this page.\n",
      "Processing URL: https://www.th-sl.com/hand/1-90-282\n",
      "No MP4 links found on this page.\n",
      "Processing URL: https://www.th-sl.com/hand/1-90-281\n",
      "No MP4 links found on this page.\n",
      "Processing URL: https://www.th-sl.com/hand/1-90-280\n",
      "No MP4 links found on this page.\n",
      "Processing URL: https://www.th-sl.com/hand/1-90-279\n",
      "No MP4 links found on this page.\n"
     ]
    }
   ],
   "source": [
    "# Code สำหรับ Check ว่า videos ครบหรือไม่\n",
    "import requests\n",
    "from bs4 import BeautifulSoup\n",
    "import os\n",
    "\n",
    "url = 'https://www.th-sl.com/hand/1-90-'\n",
    "index = 309\n",
    "\n",
    "for i in range(30):\n",
    "    index -= 1\n",
    "    full_url = url + str(index)\n",
    "    print(f\"Processing URL: {full_url}\")\n",
    "    \n",
    "    r = requests.get(full_url)\n",
    "    soup = BeautifulSoup(r.text, 'html.parser')\n",
    "    \n",
    "    # Find all MP4 links\n",
    "    mp4_links = soup.find_all('a', href=True)\n",
    "    mp4_links = [link['href'] for link in mp4_links if link['href'].endswith('.mp4')]\n",
    "    \n",
    "    if mp4_links:\n",
    "        # print(soup.title.string[0:8])\n",
    "        for mp4_link in mp4_links:\n",
    "            print(f\"Found MP4 link: {mp4_link}\")\n",
    "            print(soup.title.string[0:20])\n",
    "            # print('Lastest index ', index)\n",
    "    else:\n",
    "        print(\"No MP4 links found on this page.\")\n",
    "        \n",
    "# print('Lastest index ', index)"
   ]
  },
  {
   "cell_type": "code",
   "execution_count": 32,
   "metadata": {},
   "outputs": [
    {
     "name": "stdout",
     "output_type": "stream",
     "text": [
      "Processing URL: https://www.th-sl.com/hand/2-100-70\n",
      "Found MP4 link: https://www.th-sl.com//wp-content/uploads/2021/07/2.100.70.mp4\n",
      "Downloaded: 2.100.70.mp4\n",
      "Lastest index  70\n",
      "Processing URL: https://www.th-sl.com/hand/2-100-69\n",
      "Found MP4 link: https://www.th-sl.com//wp-content/uploads/2021/07/2.100.69.mp4\n",
      "Downloaded: 2.100.69.mp4\n",
      "Lastest index  69\n",
      "Processing URL: https://www.th-sl.com/hand/2-100-68\n",
      "Found MP4 link: https://www.th-sl.com//wp-content/uploads/2021/07/2.100.68.mp4\n",
      "Downloaded: 2.100.68.mp4\n",
      "Lastest index  68\n",
      "Processing URL: https://www.th-sl.com/hand/2-100-67\n",
      "Found MP4 link: https://www.th-sl.com//wp-content/uploads/2022/12/2.100.67.mp4\n",
      "Downloaded: 2.100.67.mp4\n",
      "Lastest index  67\n"
     ]
    }
   ],
   "source": [
    "# Code สำหรับ Download videos\n",
    "import requests\n",
    "from bs4 import BeautifulSoup\n",
    "import os\n",
    "\n",
    "# url = 'https://www.th-sl.com//wp-content/uploads/2024/07/2567-'\n",
    "# url = 'https://www.th-sl.com//wp-content/uploads/2024/06/2567-'\n",
    "# url = 'https://www.th-sl.com//wp-content/uploads/2024/05/2567-'\n",
    "# url = 'https://www.th-sl.com//wp-content/uploads/2024/04/2567-'\n",
    "# url = 'https://www.th-sl.com//wp-content/uploads/2024/03/2567-'\n",
    "# url = 'https://www.th-sl.com//wp-content/uploads/2024/01/2567-0'\n",
    "url = 'https://www.th-sl.com/word/2566-0'\n",
    "url = 'https://www.th-sl.com/word/2565-0'\n",
    "url = 'https://www.th-sl.com/word/2565-00'\n",
    "url = 'https://www.th-sl.com/word/2565-000'\n",
    "url = 'https://www.th-sl.com/hand/9-0'\n",
    "url = 'https://www.th-sl.com/hand/1-90-'\n",
    "url = 'https://www.th-sl.com/hand/2-100-'\n",
    "# index = 1300\n",
    "# index = 1240 \n",
    "# index = 1180 \n",
    "# index = 1120 \n",
    "# index = 957\n",
    "index = 307\n",
    "index = 100\n",
    "index = 23\n",
    "index = 74 #110\n",
    "index = 309\n",
    "index = 71\n",
    "\n",
    "for i in range(4):\n",
    "    index -= 1\n",
    "    full_url = url + str(index)\n",
    "    print(f\"Processing URL: {full_url}\")\n",
    "    \n",
    "    r = requests.get(full_url)\n",
    "    soup = BeautifulSoup(r.text, 'html.parser')\n",
    "    \n",
    "    # Find all MP4 links\n",
    "    mp4_links = soup.find_all('a', href=True)\n",
    "    mp4_links = [link['href'] for link in mp4_links if link['href'].endswith('.mp4')]\n",
    "    \n",
    "    if mp4_links:\n",
    "        # print(soup.title.string[0:8])\n",
    "        for mp4_link in mp4_links:\n",
    "            print(f\"Found MP4 link: {mp4_link}\")\n",
    "            mp4_filename = os.path.basename(mp4_link)\n",
    "            \n",
    "            # Download the MP4 file\n",
    "            mp4_response = requests.get(mp4_link)\n",
    "            with open(soup.title.string[0:20], 'wb') as file:\n",
    "                file.write(mp4_response.content)\n",
    "            print(f\"Downloaded: {mp4_filename}\")\n",
    "            print('Lastest index ', index)\n",
    "    else:\n",
    "        print(\"No MP4 links found on this page.\")\n",
    "        \n",
    "# print('Lastest index ', index)"
   ]
  },
  {
   "cell_type": "code",
   "execution_count": null,
   "metadata": {},
   "outputs": [],
   "source": [
    "import requests\n",
    "from bs4 import BeautifulSoup\n",
    "import os\n",
    "\n",
    "url = 'https://www.th-sl.com/?p='\n",
    "\n",
    "for i in range(100):\n",
    "    index -= 1\n",
    "    full_url = url + str(index)\n",
    "    print(f\"Processing URL: {full_url}\")\n",
    "    \n",
    "    r = requests.get(full_url)\n",
    "    soup = BeautifulSoup(r.text, 'html.parser')\n",
    "    \n",
    "    # Find all MP4 links\n",
    "    mp4_links = soup.find_all('a', href=True)\n",
    "    mp4_links = [link['href'] for link in mp4_links if link['href'].endswith('.mp4')]\n",
    "    \n",
    "    if mp4_links:\n",
    "        # print(soup.title.string[0:8])\n",
    "        for mp4_link in mp4_links:\n",
    "            print(f\"Found MP4 link: {mp4_link}\")\n",
    "            mp4_filename = os.path.basename(mp4_link)\n",
    "            \n",
    "            # Download the MP4 file\n",
    "            mp4_response = requests.get(mp4_link)\n",
    "            with open(soup.title.string[0:8], 'wb') as file:\n",
    "                file.write(mp4_response.content)\n",
    "            print(f\"Downloaded: {mp4_filename}\")\n",
    "    else:\n",
    "        print(\"No MP4 links found on this page.\")"
   ]
  },
  {
   "cell_type": "markdown",
   "metadata": {},
   "source": [
    "https://www.th-sl.com/?p="
   ]
  },
  {
   "cell_type": "code",
   "execution_count": null,
   "metadata": {},
   "outputs": [],
   "source": [
    "# for i in range(10):\n",
    "#     index = index - 1\n",
    "#     # print(index)\n",
    "#     print(url + str(index))\n",
    "#     url = 'https://www.th-sl.com/?p='\n",
    "#     r = requests.get(url + str(index))\n",
    "#     soup = BeautifulSoup(r.text, 'html.parser')\n",
    "    \n",
    "#     if soup.title != \"หน้าแรก\":\n",
    "#         # download videos\n",
    "#         title = soup.title.string\n",
    "#         print(title[0:8])\n",
    "        \n",
    "#         filename = title[0:8]\n",
    "        \n",
    "#         with open(filename+'.mp4', 'wb') as file:\n",
    "#             file.write(r.content)"
   ]
  },
  {
   "cell_type": "code",
   "execution_count": null,
   "metadata": {},
   "outputs": [],
   "source": [
    "# import requests\n",
    "# from bs4 import BeautifulSoup\n",
    "\n",
    "# url = 'https://www.th-sl.com/?p='\n",
    "# index = 10  # Starting index\n",
    "\n",
    "# for i in range(10):\n",
    "#     index = index - 1\n",
    "#     full_url = url + str(index)\n",
    "#     print(full_url)\n",
    "    \n",
    "#     try:\n",
    "#         r = requests.get(full_url)\n",
    "#         r.raise_for_status()  # Raise an HTTPError for bad responses\n",
    "#     except requests.exceptions.RequestException as e:\n",
    "#         print(f\"Request failed: {e}\")\n",
    "#         continue\n",
    "    \n",
    "#     soup = BeautifulSoup(r.text, 'html.parser')\n",
    "#     title_tag = soup.title\n",
    "#     print(title_tag)\n",
    "    \n",
    "#     if title_tag:\n",
    "#         # Replace special characters in the title to create a valid filename\n",
    "#         filename = title_tag.string.replace(' ', '_').replace('/', '_') + '.html'\n",
    "        \n",
    "#         try:\n",
    "#             with open(filename, 'wb') as file:\n",
    "#                 file.write(r.content)\n",
    "#             print(f\"Content saved to {filename}\")\n",
    "#         except IOError as e:\n",
    "#             print(f\"File operation failed: {e}\")\n"
   ]
  },
  {
   "cell_type": "code",
   "execution_count": 77,
   "metadata": {},
   "outputs": [],
   "source": [
    "class car:\n",
    "    def __init__(self, name, year, transmission, prices):\n",
    "        self.name = name \n",
    "        self.year = year \n",
    "        self.transmission = transmission\n",
    "        self.prices = prices \n",
    "        \n",
    "    def change_prices(self, new_prices):\n",
    "        self.prices = new_prices        \n",
    "    \n",
    "    def show(self):\n",
    "        print(f\"Brand : {self.name} | Year : {self.year} | Transmission : {self.transmission} | Prices : {self.prices}\")\n",
    "        \n",
    "    # def change_price(self, prices, new_prices)"
   ]
  },
  {
   "cell_type": "code",
   "execution_count": 78,
   "metadata": {},
   "outputs": [],
   "source": [
    "x = car(\"Toyota\", 2012, \"Manual\", 300000)"
   ]
  },
  {
   "cell_type": "code",
   "execution_count": 79,
   "metadata": {},
   "outputs": [
    {
     "name": "stdout",
     "output_type": "stream",
     "text": [
      "Brand : Toyota | Year : 2012 | Transmission : Manual | Prices : 300000\n"
     ]
    }
   ],
   "source": [
    "x.show()"
   ]
  },
  {
   "cell_type": "code",
   "execution_count": 81,
   "metadata": {},
   "outputs": [],
   "source": [
    "x.change_prices(\"200000\")"
   ]
  },
  {
   "cell_type": "code",
   "execution_count": 83,
   "metadata": {},
   "outputs": [
    {
     "name": "stdout",
     "output_type": "stream",
     "text": [
      "Brand : Toyota | Year : 2012 | Transmission : Manual | Prices : 200000\n"
     ]
    }
   ],
   "source": [
    "x.show()"
   ]
  },
  {
   "cell_type": "code",
   "execution_count": 91,
   "metadata": {},
   "outputs": [],
   "source": [
    "class character:\n",
    "    def __init__(self, name, hair, eyes, clothes, fav_color):\n",
    "        self.name = name\n",
    "        self.hair = hair \n",
    "        self.eyes = eyes \n",
    "        self.clothes = clothes \n",
    "        self.fav_color = fav_color \n",
    "        \n",
    "    def show(self):\n",
    "        print(f\"Name : {self.name} | hair : {self.hair} | eyes : {self.eyes} | clothes : {self.clothes} | favorite color : {self.fav_color}\")"
   ]
  },
  {
   "cell_type": "code",
   "execution_count": 96,
   "metadata": {},
   "outputs": [],
   "source": [
    "Chr1 = character(\"Sasuke\", \"Black\", \"Sharingan\", \"White\", \"Blue-Ocean\")\n",
    "Chr2 = character(\"Naruto\", \"Yellow\", \"Blue-Sky\", \"Orange\", \"Yellow\")"
   ]
  },
  {
   "cell_type": "code",
   "execution_count": 95,
   "metadata": {},
   "outputs": [
    {
     "name": "stdout",
     "output_type": "stream",
     "text": [
      "Name : Sasuke | hair : Black | eyes : Sharingan | clothes : White | favorite color : Blue-Ocean\n"
     ]
    }
   ],
   "source": [
    "Chr1.show()"
   ]
  },
  {
   "cell_type": "code",
   "execution_count": 99,
   "metadata": {},
   "outputs": [
    {
     "name": "stdout",
     "output_type": "stream",
     "text": [
      "Name : Naruto | hair : Yellow | eyes : Blue-Sky | clothes : Orange | favorite color : Yellow\n"
     ]
    }
   ],
   "source": [
    "Chr2.show()"
   ]
  },
  {
   "cell_type": "code",
   "execution_count": 104,
   "metadata": {},
   "outputs": [
    {
     "name": "stdout",
     "output_type": "stream",
     "text": [
      "Sasuke\n",
      "Black\n",
      "Sharingan\n",
      "Naruto\n"
     ]
    }
   ],
   "source": [
    "print(Chr1.name)\n",
    "print(Chr1.hair)\n",
    "print(Chr1.eyes)\n",
    "print(Chr2.name)"
   ]
  },
  {
   "cell_type": "code",
   "execution_count": null,
   "metadata": {},
   "outputs": [],
   "source": [
    "import requests\n",
    "from bs4 import BeautifulSoup\n",
    "import os\n",
    "\n",
    "# Full url is https://www.th-sl.com//wp-content/uploads/2024/07/2567-1300 but we need to decrease the lastest index to change url\n",
    "url = 'https://www.th-sl.com//wp-content/uploads/2024/07/2567-1300'\n",
    "index = 1300\n",
    "\n",
    "for i in range(4):\n",
    "    # Decrease index by one.\n",
    "    index -= 1\n",
    "    # Concatenate index with url\n",
    "    full_url = url + str(index)\n",
    "    print(f\"Processing URL: {full_url}\")\n",
    "    \n",
    "    # Send requests to server\n",
    "    r = requests.get(full_url)\n",
    "    # Get all html structure\n",
    "    soup = BeautifulSoup(r.text, 'html.parser')\n",
    "    \n",
    "    # Find all MP4 links\n",
    "    mp4_links = soup.find_all('a', href=True)\n",
    "    mp4_links = [link['href'] for link in mp4_links if link['href'].endswith('.mp4')]\n",
    "    \n",
    "    # If MP4 link was found, we will download it.\n",
    "    if mp4_links:\n",
    "        for mp4_link in mp4_links:\n",
    "            print(f\"Found MP4 link: {mp4_link}\")\n",
    "            mp4_filename = os.path.basename(mp4_link)\n",
    "            \n",
    "            # Download the MP4 file\n",
    "            mp4_response = requests.get(mp4_link)\n",
    "            with open(soup.title.string[0:20], 'wb') as file:\n",
    "                file.write(mp4_response.content)\n",
    "            print(f\"Downloaded: {mp4_filename}\")\n",
    "            print('Lastest index ', index)\n",
    "    else:\n",
    "        print(\"No MP4 links found on this page.\")\n",
    "        \n",
    "# print('Lastest index ', index)"
   ]
  }
 ],
 "metadata": {
  "kernelspec": {
   "display_name": "Python 3",
   "language": "python",
   "name": "python3"
  },
  "language_info": {
   "codemirror_mode": {
    "name": "ipython",
    "version": 3
   },
   "file_extension": ".py",
   "mimetype": "text/x-python",
   "name": "python",
   "nbconvert_exporter": "python",
   "pygments_lexer": "ipython3",
   "version": "3.11.4"
  }
 },
 "nbformat": 4,
 "nbformat_minor": 2
}
