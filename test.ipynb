{
 "cells": [
  {
   "cell_type": "code",
   "execution_count": null,
   "metadata": {},
   "outputs": [],
   "source": [
    "import requests\n",
    "from bs4 import BeautifulSoup \n",
    "import os"
   ]
  },
  {
   "cell_type": "code",
   "execution_count": null,
   "metadata": {},
   "outputs": [],
   "source": [
    "# url = 'https://www.th-sl.com/?p=54449'\n",
    "url = 'https://www.th-sl.com/?p='\n",
    "index = 54460"
   ]
  },
  {
   "cell_type": "code",
   "execution_count": null,
   "metadata": {},
   "outputs": [],
   "source": [
    "r = requests.get(url)"
   ]
  },
  {
   "cell_type": "code",
   "execution_count": null,
   "metadata": {},
   "outputs": [],
   "source": [
    "r"
   ]
  },
  {
   "cell_type": "code",
   "execution_count": null,
   "metadata": {},
   "outputs": [],
   "source": [
    "soup = BeautifulSoup(r.text, 'html.parser')"
   ]
  },
  {
   "cell_type": "code",
   "execution_count": null,
   "metadata": {},
   "outputs": [],
   "source": [
    "print(soup.title)"
   ]
  },
  {
   "cell_type": "code",
   "execution_count": null,
   "metadata": {},
   "outputs": [],
   "source": [
    "# for image in images:\n",
    "#     print(image['src'])"
   ]
  },
  {
   "cell_type": "code",
   "execution_count": 27,
   "metadata": {},
   "outputs": [
    {
     "name": "stdout",
     "output_type": "stream",
     "text": [
      "Processing URL: https://www.th-sl.com/word/2566-0306\n",
      "No MP4 links found on this page.\n",
      "Processing URL: https://www.th-sl.com/word/2566-0305\n",
      "No MP4 links found on this page.\n",
      "Processing URL: https://www.th-sl.com/word/2566-0304\n",
      "No MP4 links found on this page.\n",
      "Processing URL: https://www.th-sl.com/word/2566-0303\n",
      "No MP4 links found on this page.\n",
      "Processing URL: https://www.th-sl.com/word/2566-0302\n",
      "No MP4 links found on this page.\n",
      "Processing URL: https://www.th-sl.com/word/2566-0301\n",
      "No MP4 links found on this page.\n",
      "Processing URL: https://www.th-sl.com/word/2566-0300\n",
      "No MP4 links found on this page.\n",
      "Processing URL: https://www.th-sl.com/word/2566-0299\n",
      "No MP4 links found on this page.\n",
      "Processing URL: https://www.th-sl.com/word/2566-0298\n",
      "No MP4 links found on this page.\n",
      "Processing URL: https://www.th-sl.com/word/2566-0297\n",
      "No MP4 links found on this page.\n",
      "Processing URL: https://www.th-sl.com/word/2566-0296\n",
      "No MP4 links found on this page.\n",
      "Processing URL: https://www.th-sl.com/word/2566-0295\n",
      "No MP4 links found on this page.\n",
      "Processing URL: https://www.th-sl.com/word/2566-0294\n",
      "No MP4 links found on this page.\n",
      "Processing URL: https://www.th-sl.com/word/2566-0293\n",
      "No MP4 links found on this page.\n",
      "Processing URL: https://www.th-sl.com/word/2566-0292\n",
      "No MP4 links found on this page.\n",
      "Processing URL: https://www.th-sl.com/word/2566-0291\n",
      "No MP4 links found on this page.\n",
      "Processing URL: https://www.th-sl.com/word/2566-0290\n",
      "No MP4 links found on this page.\n",
      "Processing URL: https://www.th-sl.com/word/2566-0289\n",
      "No MP4 links found on this page.\n",
      "Processing URL: https://www.th-sl.com/word/2566-0288\n",
      "No MP4 links found on this page.\n",
      "Processing URL: https://www.th-sl.com/word/2566-0287\n",
      "No MP4 links found on this page.\n"
     ]
    }
   ],
   "source": [
    "import requests\n",
    "from bs4 import BeautifulSoup\n",
    "import os\n",
    "\n",
    "# url = 'https://www.th-sl.com//wp-content/uploads/2024/07/2567-'\n",
    "# url = 'https://www.th-sl.com//wp-content/uploads/2024/06/2567-'\n",
    "# url = 'https://www.th-sl.com//wp-content/uploads/2024/05/2567-'\n",
    "# url = 'https://www.th-sl.com//wp-content/uploads/2024/04/2567-'\n",
    "# url = 'https://www.th-sl.com//wp-content/uploads/2024/03/2567-'\n",
    "# url = 'https://www.th-sl.com//wp-content/uploads/2024/01/2567-0'\n",
    "url = 'https://www.th-sl.com/word/2566-0'\n",
    "# index = 1300\n",
    "# index = 1240 \n",
    "# index = 1180 \n",
    "# index = 1120 \n",
    "# index = 957\n",
    "index = 307\n",
    "\n",
    "for i in range(20):\n",
    "    index -= 1\n",
    "    full_url = url + str(index)\n",
    "    print(f\"Processing URL: {full_url}\")\n",
    "    \n",
    "    r = requests.get(full_url)\n",
    "    soup = BeautifulSoup(r.text, 'html.parser')\n",
    "    \n",
    "    # Find all MP4 links\n",
    "    mp4_links = soup.find_all('a', href=True)\n",
    "    mp4_links = [link['href'] for link in mp4_links if link['href'].endswith('.mp4')]\n",
    "    \n",
    "    if mp4_links:\n",
    "        # print(soup.title.string[0:8])\n",
    "        for mp4_link in mp4_links:\n",
    "            print(f\"Found MP4 link: {mp4_link}\")\n",
    "            mp4_filename = os.path.basename(mp4_link)\n",
    "            \n",
    "            # Download the MP4 file\n",
    "            mp4_response = requests.get(mp4_link)\n",
    "            with open(soup.title.string[0:20], 'wb') as file:\n",
    "                file.write(mp4_response.content)\n",
    "            print(f\"Downloaded: {mp4_filename}\")\n",
    "            print('Lastest index ', index)\n",
    "    else:\n",
    "        print(\"No MP4 links found on this page.\")\n",
    "        \n",
    "# print('Lastest index ', index)"
   ]
  },
  {
   "cell_type": "code",
   "execution_count": null,
   "metadata": {},
   "outputs": [],
   "source": [
    "import requests\n",
    "from bs4 import BeautifulSoup\n",
    "import os\n",
    "\n",
    "url = 'https://www.th-sl.com/?p='\n",
    "\n",
    "for i in range(100):\n",
    "    index -= 1\n",
    "    full_url = url + str(index)\n",
    "    print(f\"Processing URL: {full_url}\")\n",
    "    \n",
    "    r = requests.get(full_url)\n",
    "    soup = BeautifulSoup(r.text, 'html.parser')\n",
    "    \n",
    "    # Find all MP4 links\n",
    "    mp4_links = soup.find_all('a', href=True)\n",
    "    mp4_links = [link['href'] for link in mp4_links if link['href'].endswith('.mp4')]\n",
    "    \n",
    "    if mp4_links:\n",
    "        # print(soup.title.string[0:8])\n",
    "        for mp4_link in mp4_links:\n",
    "            print(f\"Found MP4 link: {mp4_link}\")\n",
    "            mp4_filename = os.path.basename(mp4_link)\n",
    "            \n",
    "            # Download the MP4 file\n",
    "            mp4_response = requests.get(mp4_link)\n",
    "            with open(soup.title.string[0:8], 'wb') as file:\n",
    "                file.write(mp4_response.content)\n",
    "            print(f\"Downloaded: {mp4_filename}\")\n",
    "    else:\n",
    "        print(\"No MP4 links found on this page.\")"
   ]
  },
  {
   "cell_type": "markdown",
   "metadata": {},
   "source": [
    "https://www.th-sl.com/?p="
   ]
  },
  {
   "cell_type": "code",
   "execution_count": null,
   "metadata": {},
   "outputs": [],
   "source": [
    "# for i in range(10):\n",
    "#     index = index - 1\n",
    "#     # print(index)\n",
    "#     print(url + str(index))\n",
    "#     url = 'https://www.th-sl.com/?p='\n",
    "#     r = requests.get(url + str(index))\n",
    "#     soup = BeautifulSoup(r.text, 'html.parser')\n",
    "    \n",
    "#     if soup.title != \"หน้าแรก\":\n",
    "#         # download videos\n",
    "#         title = soup.title.string\n",
    "#         print(title[0:8])\n",
    "        \n",
    "#         filename = title[0:8]\n",
    "        \n",
    "#         with open(filename+'.mp4', 'wb') as file:\n",
    "#             file.write(r.content)"
   ]
  },
  {
   "cell_type": "code",
   "execution_count": null,
   "metadata": {},
   "outputs": [],
   "source": [
    "# import requests\n",
    "# from bs4 import BeautifulSoup\n",
    "\n",
    "# url = 'https://www.th-sl.com/?p='\n",
    "# index = 10  # Starting index\n",
    "\n",
    "# for i in range(10):\n",
    "#     index = index - 1\n",
    "#     full_url = url + str(index)\n",
    "#     print(full_url)\n",
    "    \n",
    "#     try:\n",
    "#         r = requests.get(full_url)\n",
    "#         r.raise_for_status()  # Raise an HTTPError for bad responses\n",
    "#     except requests.exceptions.RequestException as e:\n",
    "#         print(f\"Request failed: {e}\")\n",
    "#         continue\n",
    "    \n",
    "#     soup = BeautifulSoup(r.text, 'html.parser')\n",
    "#     title_tag = soup.title\n",
    "#     print(title_tag)\n",
    "    \n",
    "#     if title_tag:\n",
    "#         # Replace special characters in the title to create a valid filename\n",
    "#         filename = title_tag.string.replace(' ', '_').replace('/', '_') + '.html'\n",
    "        \n",
    "#         try:\n",
    "#             with open(filename, 'wb') as file:\n",
    "#                 file.write(r.content)\n",
    "#             print(f\"Content saved to {filename}\")\n",
    "#         except IOError as e:\n",
    "#             print(f\"File operation failed: {e}\")\n"
   ]
  },
  {
   "cell_type": "code",
   "execution_count": null,
   "metadata": {},
   "outputs": [],
   "source": []
  }
 ],
 "metadata": {
  "kernelspec": {
   "display_name": "Python 3",
   "language": "python",
   "name": "python3"
  },
  "language_info": {
   "codemirror_mode": {
    "name": "ipython",
    "version": 3
   },
   "file_extension": ".py",
   "mimetype": "text/x-python",
   "name": "python",
   "nbconvert_exporter": "python",
   "pygments_lexer": "ipython3",
   "version": "3.11.4"
  }
 },
 "nbformat": 4,
 "nbformat_minor": 2
}
